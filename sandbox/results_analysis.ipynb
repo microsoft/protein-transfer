{
 "cells": [
  {
   "cell_type": "code",
   "execution_count": 1,
   "metadata": {},
   "outputs": [
    {
     "name": "stdout",
     "output_type": "stream",
     "text": [
      "/home/t-fli/repo/protein-transfer\n"
     ]
    }
   ],
   "source": [
    "%cd ~/repo/protein-transfer"
   ]
  },
  {
   "cell_type": "code",
   "execution_count": 2,
   "metadata": {},
   "outputs": [],
   "source": [
    "%load_ext blackcellmagic"
   ]
  },
  {
   "cell_type": "code",
   "execution_count": 3,
   "metadata": {},
   "outputs": [],
   "source": [
    "from scr.analysis.perlayer import LayerLoss"
   ]
  },
  {
   "cell_type": "code",
   "execution_count": 4,
   "metadata": {},
   "outputs": [
    {
     "ename": "IndexError",
     "evalue": "too many indices for array: array is 1-dimensional, but 2 were indexed",
     "output_type": "error",
     "traceback": [
      "\u001b[0;31m---------------------------------------------------------------------------\u001b[0m",
      "\u001b[0;31mIndexError\u001b[0m                                Traceback (most recent call last)",
      "\u001b[1;32m/home/t-fli/repo/protein-transfer/sandbox/results_analysis.ipynb Cell 4\u001b[0m in \u001b[0;36m<cell line: 1>\u001b[0;34m()\u001b[0m\n\u001b[0;32m----> <a href='vscode-notebook-cell://ssh-remote%2Bgcrazgdl2369/home/t-fli/repo/protein-transfer/sandbox/results_analysis.ipynb#W3sdnNjb2RlLXJlbW90ZQ%3D%3D?line=0'>1</a>\u001b[0m LayerLoss(\n\u001b[1;32m      <a href='vscode-notebook-cell://ssh-remote%2Bgcrazgdl2369/home/t-fli/repo/protein-transfer/sandbox/results_analysis.ipynb#W3sdnNjb2RlLXJlbW90ZQ%3D%3D?line=1'>2</a>\u001b[0m     input_path\u001b[39m=\u001b[39;49m\u001b[39m\"\u001b[39;49m\u001b[39mtest/pytorch_fixembpool\u001b[39;49m\u001b[39m\"\u001b[39;49m,\n\u001b[1;32m      <a href='vscode-notebook-cell://ssh-remote%2Bgcrazgdl2369/home/t-fli/repo/protein-transfer/sandbox/results_analysis.ipynb#W3sdnNjb2RlLXJlbW90ZQ%3D%3D?line=2'>3</a>\u001b[0m     output_path\u001b[39m=\u001b[39;49m\u001b[39m\"\u001b[39;49m\u001b[39mtest/pytorch_fixembpool_layer\u001b[39;49m\u001b[39m\"\u001b[39;49m\n\u001b[1;32m      <a href='vscode-notebook-cell://ssh-remote%2Bgcrazgdl2369/home/t-fli/repo/protein-transfer/sandbox/results_analysis.ipynb#W3sdnNjb2RlLXJlbW90ZQ%3D%3D?line=3'>4</a>\u001b[0m )\n",
      "File \u001b[0;32m~/repo/protein-transfer/scr/analysis/perlayer.py:168\u001b[0m, in \u001b[0;36mLayerLoss.__init__\u001b[0;34m(self, input_path, output_path, metric_dict)\u001b[0m\n\u001b[1;32m    165\u001b[0m \u001b[39mfor\u001b[39;00m m, metric \u001b[39min\u001b[39;00m \u001b[39menumerate\u001b[39m(\u001b[39mself\u001b[39m\u001b[39m.\u001b[39m_metric_dict[collage_name\u001b[39m.\u001b[39msplit(\u001b[39m\"\u001b[39m\u001b[39m_\u001b[39m\u001b[39m\"\u001b[39m)[\u001b[39m0\u001b[39m]]):\n\u001b[1;32m    167\u001b[0m     \u001b[39mfor\u001b[39;00m n, encoder_name \u001b[39min\u001b[39;00m \u001b[39menumerate\u001b[39m(encoder_names):\n\u001b[0;32m--> 168\u001b[0m         axs[m, n]\u001b[39m.\u001b[39mplot(\n\u001b[1;32m    169\u001b[0m             encoder_dict[encoder_name][metric], label\u001b[39m=\u001b[39mencoder_label\n\u001b[1;32m    170\u001b[0m         )\n\u001b[1;32m    172\u001b[0m         \u001b[39m# overlay onehot baseline\u001b[39;00m\n\u001b[1;32m    173\u001b[0m         \u001b[39mif\u001b[39;00m add_onehot:\n",
      "\u001b[0;31mIndexError\u001b[0m: too many indices for array: array is 1-dimensional, but 2 were indexed"
     ]
    },
    {
     "data": {
      "image/png": "[encoded data removed]",
      "text/plain": [
       "<Figure size 1440x720 with 5 Axes>"
      ]
     },
     "metadata": {
      "needs_background": "light"
     },
     "output_type": "display_data"
    }
   ],
   "source": [
    "LayerLoss(\n",
    "    input_path=\"test/pytorch_fixembpool\",\n",
    "    output_path=\"test/pytorch_fixembpool_layer\"\n",
    ")"
   ]
  },
  {
   "cell_type": "code",
   "execution_count": 6,
   "metadata": {},
   "outputs": [
    {
     "data": {
      "text/plain": [
       "<scr.analysis.perlayer.LayerLoss at 0x7f3add409a30>"
      ]
     },
     "execution_count": 6,
     "metadata": {},
     "output_type": "execute_result"
    }
   ],
   "source": [
    "LayerLoss(\n",
    "    input_path=\"test/sklearn-scalex-scaley-noloader-fixembpool\",\n",
    "    output_path=\"test/sklearn-scalex-scaley-noloader-fixembpool_layer\")"
   ]
  },
  {
   "cell_type": "code",
   "execution_count": null,
   "metadata": {},
   "outputs": [],
   "source": [
    "LayerLoss(\n",
    "    input_path=\"test/sklearn\",\n",
    "    output_path=\"test/sklearn_layer\")"
   ]
  },
  {
   "cell_type": "code",
   "execution_count": 5,
   "metadata": {},
   "outputs": [
    {
     "name": "stdout",
     "output_type": "stream",
     "text": [
      "Making test/sklearn-scaley-noloader-fixembpool_layer-onehot ...\n",
      "Making test/sklearn-scaley-noloader-fixembpool_layer-onehot/proeng ...\n",
      "Making test/sklearn-scaley-noloader-fixembpool_layer-onehot/proeng/thermo ...\n",
      "Making test/sklearn-scaley-noloader-fixembpool_layer-onehot/proeng/thermo/mixed_split ...\n",
      "Making test/sklearn-scaley-noloader-fixembpool_layer-onehot/proeng/thermo/mixed_split/onehot ...\n",
      "Making test/sklearn-scaley-noloader-fixembpool_layer-onehot/proeng/thermo/mixed_split/onehot/flatten ...\n"
     ]
    },
    {
     "data": {
      "text/plain": [
       "<scr.analysis.perlayer.LayerLoss at 0x7f858cf2f4f0>"
      ]
     },
     "execution_count": 5,
     "metadata": {},
     "output_type": "execute_result"
    }
   ],
   "source": [
    "LayerLoss(\n",
    "    input_path=\"test/sklearn-scaley-noloader-fixembpool\",\n",
    "    output_path=\"test/sklearn-scaley-noloader-fixembpool_layer\")"
   ]
  },
  {
   "cell_type": "code",
   "execution_count": 8,
   "metadata": {},
   "outputs": [
    {
     "name": "stdout",
     "output_type": "stream",
     "text": [
      "Making results/sklearn-scalex-scaley-noloader-fixembpool_layer/proeng/thermo ...\n",
      "Making results/sklearn-scalex-scaley-noloader-fixembpool_layer/proeng/thermo/mixed_split ...\n",
      "Making results/sklearn-scalex-scaley-noloader-fixembpool_layer/proeng/thermo/mixed_split/esm1_t34_670M_UR50S ...\n",
      "Making results/sklearn-scalex-scaley-noloader-fixembpool_layer/proeng/thermo/mixed_split/esm1_t34_670M_UR50S/mean ...\n",
      "Making results/sklearn-scalex-scaley-noloader-fixembpool_layer-rand/proeng/thermo ...\n",
      "Making results/sklearn-scalex-scaley-noloader-fixembpool_layer-rand/proeng/thermo/mixed_split ...\n",
      "Making results/sklearn-scalex-scaley-noloader-fixembpool_layer-rand/proeng/thermo/mixed_split/esm1_t34_670M_UR50S ...\n",
      "Making results/sklearn-scalex-scaley-noloader-fixembpool_layer-rand/proeng/thermo/mixed_split/esm1_t34_670M_UR50S/mean ...\n",
      "Making results/sklearn-scalex-scaley-noloader-fixembpool_layer-onehot/proeng/thermo ...\n",
      "Making results/sklearn-scalex-scaley-noloader-fixembpool_layer-onehot/proeng/thermo/mixed_split ...\n",
      "Making results/sklearn-scalex-scaley-noloader-fixembpool_layer-onehot/proeng/thermo/mixed_split/onehot ...\n",
      "Making results/sklearn-scalex-scaley-noloader-fixembpool_layer-onehot/proeng/thermo/mixed_split/onehot/flatten ...\n",
      "Making results/sklearn-scalex-scaley-noloader-fixembpool_layer/proeng/thermo/mixed_split/esm1_t12_85M_UR50S ...\n",
      "Making results/sklearn-scalex-scaley-noloader-fixembpool_layer/proeng/thermo/mixed_split/esm1_t12_85M_UR50S/mean ...\n",
      "Making results/sklearn-scalex-scaley-noloader-fixembpool_layer-rand/proeng/thermo/mixed_split/esm1_t12_85M_UR50S ...\n",
      "Making results/sklearn-scalex-scaley-noloader-fixembpool_layer-rand/proeng/thermo/mixed_split/esm1_t12_85M_UR50S/mean ...\n",
      "Making results/sklearn-scalex-scaley-noloader-fixembpool_layer/proeng/thermo/mixed_split/esm1b_t33_650M_UR50S ...\n",
      "Making results/sklearn-scalex-scaley-noloader-fixembpool_layer/proeng/thermo/mixed_split/esm1b_t33_650M_UR50S/mean ...\n",
      "Making results/sklearn-scalex-scaley-noloader-fixembpool_layer-rand/proeng/thermo/mixed_split/esm1b_t33_650M_UR50S ...\n",
      "Making results/sklearn-scalex-scaley-noloader-fixembpool_layer-rand/proeng/thermo/mixed_split/esm1b_t33_650M_UR50S/mean ...\n",
      "Making results/sklearn-scalex-scaley-noloader-fixembpool_layer/proeng/thermo/mixed_split/esm1_t6_43M_UR50S ...\n",
      "Making results/sklearn-scalex-scaley-noloader-fixembpool_layer/proeng/thermo/mixed_split/esm1_t6_43M_UR50S/mean ...\n",
      "Making results/sklearn-scalex-scaley-noloader-fixembpool_layer-rand/proeng/thermo/mixed_split/esm1_t6_43M_UR50S ...\n",
      "Making results/sklearn-scalex-scaley-noloader-fixembpool_layer-rand/proeng/thermo/mixed_split/esm1_t6_43M_UR50S/mean ...\n"
     ]
    },
    {
     "name": "stderr",
     "output_type": "stream",
     "text": [
      "Bad pipe message: %s [b'b\\x8e6{\\xf7\\x06<']\n",
      "Bad pipe message: %s [b\"\\x98\\x1f\\xb3\\x0bW\\xc2\\xb3\\x8b\\x98j\\x93\\x84\\x10s\\xea]\\xa9\\x80\\x00\\x00|\\xc0,\\xc00\\x00\\xa3\\x00\\x9f\\xcc\\xa9\\xcc\\xa8\\xcc\\xaa\\xc0\\xaf\\xc0\\xad\\xc0\\xa3\\xc0\\x9f\\xc0]\\xc0a\\xc0W\\xc0S\\xc0+\\xc0/\\x00\\xa2\\x00\\x9e\\xc0\\xae\\xc0\\xac\\xc0\\xa2\\xc0\\x9e\\xc0\\\\\\xc0`\\xc0V\\xc0R\\xc0$\\xc0(\\x00k\\x00j\\xc0#\\xc0'\\x00g\\x00@\\xc0\\n\\xc0\\x14\\x009\\x008\\xc0\\t\\xc0\\x13\\x003\\x002\\x00\\x9d\\xc0\\xa1\\xc0\\x9d\\xc0Q\\x00\\x9c\\xc0\\xa0\\xc0\\x9c\\xc0P\\x00=\\x00<\\x005\\x00/\\x00\\x9a\\x00\\x99\\xc0\\x07\\xc0\\x11\\x00\\x96\\x00\\x05\\x00\\xff\\x01\\x00\\x00j\\x00\\x00\\x00\\x0e\\x00\\x0c\\x00\\x00\\t\"]\n",
      "Bad pipe message: %s [b'\\x1b\\xed>\\r\\x8e\\xe5xm\\x9d\\xe1g\\x83p\\xff\\xf0:\\xc5b\\x00\\x00\\xa6']\n",
      "Bad pipe message: %s [b'7.0.0.1\\x00\\x0b\\x00\\x04\\x03\\x00\\x01\\x02\\x00\\n\\x00\\x0c\\x00\\n\\x00\\x1d\\x00\\x17\\x00\\x1e\\x00\\x19\\x00\\x18\\x00#\\x00\\x00\\x00\\x16\\x00\\x00\\x00\\x17\\x00\\x00\\x00\\r\\x000\\x00']\n",
      "Bad pipe message: %s [b\"\\xc00\\x00\\xa3\\x00\\x9f\\xcc\\xa9\\xcc\\xa8\\xcc\\xaa\\xc0\\xaf\\xc0\\xad\\xc0\\xa3\\xc0\\x9f\\xc0]\\xc0a\\xc0W\\xc0S\\xc0+\\xc0/\\x00\\xa2\\x00\\x9e\\xc0\\xae\\xc0\\xac\\xc0\\xa2\\xc0\\x9e\\xc0\\\\\\xc0`\\xc0V\\xc0R\\xc0$\\xc0(\\x00k\\x00j\\xc0s\\xc0w\\x00\\xc4\\x00\\xc3\\xc0#\\xc0'\\x00g\\x00@\\xc0r\\xc0v\\x00\\xbe\\x00\\xbd\\xc0\\n\\xc0\\x14\\x009\\x008\\x00\\x88\\x00\\x87\\xc0\\t\\xc0\\x13\\x003\\x002\\x00\\x9a\\x00\\x99\\x00E\\x00D\\xc0\\x07\\xc0\\x11\\xc0\\x08\\xc0\\x12\\x00\\x16\\x00\\x13\\x00\\x9d\\xc0\\xa1\\xc0\\x9d\\xc0Q\\x00\\x9c\\xc0\\xa0\\xc0\\x9c\\xc0P\\x00=\\x00\\xc0\\x00<\\x00\\xba\\x005\\x00\\x84\\x00/\\x00\\x96\\x00A\\x00\\x05\\x00\\n\\x00\\xff\\x01\\x00\\x00j\\x00\\x00\\x00\\x0e\\x00\\x0c\\x00\\x00\\t127.0.0.1\\x00\\x0b\\x00\\x04\\x03\"]\n",
      "Bad pipe message: %s [b'\\x03\\x05\\x03\\x06\\x03\\x08\\x07\\x08\\x08\\x08\\t\\x08\\n\\x08\\x0b\\x08\\x04\\x08\\x05\\x08\\x06\\x04\\x01\\x05\\x01\\x06\\x01\\x03\\x03\\x02\\x03\\x03\\x01\\x02\\x01\\x03\\x02\\x02\\x02\\x04\\x02\\x05\\x02\\x06\\x02']\n",
      "Bad pipe message: %s [b'\\xc1\\xd2n\\x08\\xa8[\\x0c\\x19\\x1f\\xc2\\x9c\\x82j\\xce&,%\\xc2\\x00\\x00>\\xc0\\x14\\xc0\\n\\x009\\x008\\x007\\x006\\xc0\\x0f\\xc0\\x05\\x005\\xc0\\x13\\xc0\\t\\x003\\x002\\x001\\x000\\xc0\\x0e\\xc0\\x04\\x00/\\x00\\x9a\\x00\\x99\\x00\\x98\\x00\\x97\\x00\\x96\\x00\\x07\\xc0\\x11\\xc0\\x07\\xc0\\x0c\\xc0\\x02\\x00\\x05\\x00\\x04\\x00\\xff\\x02\\x01\\x00\\x00C\\x00\\x00\\x00\\x0e\\x00\\x0c']\n",
      "Bad pipe message: %s [b'\\xc8\\x82\\n\\x14\\x9c0\\x19d$eL\\xa6\\x04}\\xc6\\x92*D\\x00\\x00>\\xc0\\x14\\xc0\\n\\x009\\x008\\x007\\x006\\xc0\\x0f\\xc0\\x05\\x005\\xc0\\x13\\xc0\\t\\x003\\x002\\x001\\x000\\xc0\\x0e\\xc0\\x04\\x00/\\x00\\x9a\\x00\\x99\\x00\\x98\\x00\\x97\\x00\\x96\\x00\\x07\\xc0\\x11\\xc0\\x07\\xc0\\x0c\\xc0\\x02\\x00\\x05\\x00\\x04\\x00\\xff\\x02\\x01\\x00\\x00C\\x00\\x00\\x00\\x0e\\x00\\x0c\\x00\\x00\\t127.0.0.1\\x00\\x0b\\x00\\x04\\x03\\x00\\x01\\x02\\x00\\n\\x00\\x1c\\x00\\x1a\\x00\\x17\\x00']\n",
      "Bad pipe message: %s [b'\\xa0d\\x8b\\xae\\xd4\\xad\\xde\\x959O\\xbd\\xe3\\xb0.1\\xe0\\x0bt\\x00\\x00\\xa2\\xc0\\x14\\xc0\\n\\x009\\x008\\x007\\x006\\x00\\x88\\x00\\x87\\x00\\x86\\x00\\x85\\xc0\\x19\\x00:\\x00\\x89\\xc0\\x0f\\xc0\\x05\\x005\\x00\\x84\\xc0\\x13\\xc0\\t\\x003\\x002\\x001\\x000\\x00\\x9a\\x00\\x99\\x00\\x98\\x00\\x97\\x00E\\x00D\\x00C\\x00B\\xc0\\x18\\x004\\x00\\x9b\\x00F\\xc0\\x0e\\xc0\\x04\\x00/\\x00\\x96\\x00A\\x00\\x07\\xc0\\x11\\xc0\\x07\\xc0\\x16\\x00\\x18\\xc0\\x0c\\xc0\\x02\\x00\\x05\\x00\\x04\\xc0\\x12\\xc0\\x08\\x00\\x16\\x00\\x13\\x00\\x10\\x00\\r\\xc0\\x17\\x00\\x1b\\xc0\\r\\xc0\\x03\\x00\\n\\x00\\x15\\x00\\x12\\x00\\x0f\\x00\\x0c\\x00\\x1a\\x00\\t\\x00\\x14\\x00\\x11\\x00\\x19\\x00\\x08']\n",
      "Bad pipe message: %s [b'\\x1c\\x00\\x1b\\x00\\x18\\x00\\x1a\\x00\\x16\\x00\\x0e\\x00\\r\\x00\\x0b\\x00\\x0c\\x00\\t\\x00\\n\\x00#\\x00']\n",
      "Bad pipe message: %s [b'\\xfe\\x9a\\xbe\\xfa!\\x98\\xcc\\xe1a;\\x1e\\xa6_\\xd3\\x83t\\xb0Z\\x00\\x00>\\xc0\\x14\\xc0\\n\\x009\\x008\\x007\\x006\\xc0\\x0f\\xc0\\x05\\x005\\xc0\\x13\\xc0\\t\\x00']\n",
      "Bad pipe message: %s [b\"\\x91\\xff6i\\x7f\\x0f\\xaf\\x17\\xca\\x1d\\xe5h\\x01\\xb7\\x92\\x1a-^\\x00\\x00\\x86\\xc00\\xc0,\\xc0(\\xc0$\\xc0\\x14\\xc0\\n\\x00\\xa5\\x00\\xa3\\x00\\xa1\\x00\\x9f\\x00k\\x00j\\x00i\\x00h\\x009\\x008\\x007\\x006\\xc02\\xc0.\\xc0*\\xc0&\\xc0\\x0f\\xc0\\x05\\x00\\x9d\\x00=\\x005\\xc0/\\xc0+\\xc0'\\xc0\"]\n",
      "Bad pipe message: %s [b'\\x13\\xc0\\t\\x00\\xa4\\x00\\xa2\\x00\\xa0\\x00\\x9e\\x00g\\x00@\\x00?\\x00>\\x003\\x002\\x001\\x000\\xc01\\xc0-\\xc0)\\xc0']\n",
      "Bad pipe message: %s [b'\\x0e\\xc0\\x04\\x00\\x9c\\x00<\\x00/\\x00\\x9a\\x00\\x99\\x00\\x98\\x00\\x97\\x00\\x96\\x00\\x07\\xc0\\x11\\xc0\\x07\\xc0\\x0c\\xc0\\x02\\x00\\x05\\x00\\x04\\x00\\xff\\x02']\n",
      "Bad pipe message: %s [b'']\n",
      "Bad pipe message: %s [b\"l\\xf1\\x97&\\xbc9\\xbd\\xd6\\x86\\x8a\\x0c\\xd7c\\xaeF \\xcd\\xf9\\x00\\x00\\xf4\\xc00\\xc0,\\xc0(\\xc0$\\xc0\\x14\\xc0\\n\\x00\\xa5\\x00\\xa3\\x00\\xa1\\x00\\x9f\\x00k\\x00j\\x00i\\x00h\\x009\\x008\\x007\\x006\\x00\\x88\\x00\\x87\\x00\\x86\\x00\\x85\\xc0\\x19\\x00\\xa7\\x00m\\x00:\\x00\\x89\\xc02\\xc0.\\xc0*\\xc0&\\xc0\\x0f\\xc0\\x05\\x00\\x9d\\x00=\\x005\\x00\\x84\\xc0/\\xc0+\\xc0'\\xc0#\\xc0\\x13\\xc0\\t\\x00\\xa4\\x00\\xa2\\x00\\xa0\\x00\\x9e\\x00g\\x00@\\x00?\\x00>\\x003\\x002\\x001\\x000\\x00\\x9a\\x00\\x99\\x00\\x98\\x00\\x97\\x00E\\x00D\\x00C\\x00B\\xc0\\x18\\x00\\xa6\\x00l\\x004\\x00\\x9b\\x00F\\xc01\\xc0-\\xc0)\\xc0%\\xc0\\x0e\\xc0\\x04\\x00\\x9c\\x00<\"]\n"
     ]
    }
   ],
   "source": [
    "layer_analysis_dict = LayerLoss(\n",
    "    input_path=\"results/sklearn-scalex-scaley-noloader-fixembpool\",\n",
    "    output_path=\"results/sklearn-scalex-scaley-noloader-fixembpool_layer\",\n",
    ").layer_analysis_dict"
   ]
  },
  {
   "cell_type": "code",
   "execution_count": 21,
   "metadata": {},
   "outputs": [],
   "source": [
    "layer_analysis_dict = LayerLoss(\n",
    "    input_path=\"results/sklearn-scaley-noloader-fixembpool\",\n",
    "    output_path=\"results/sklearn-scaley-noloader-fixembpool_layer\",\n",
    ").layer_analysis_dict"
   ]
  },
  {
   "cell_type": "code",
   "execution_count": 7,
   "metadata": {},
   "outputs": [
    {
     "data": {
      "text/plain": [
       "dict_keys(['proeng_gb1_two_vs_rest_mean', 'proeng_gb1_low_vs_high_mean', 'proeng_gb1_sampled_mean', 'proeng_aav_one_vs_many_mean', 'proeng_aav_two_vs_many_mean'])"
      ]
     },
     "execution_count": 7,
     "metadata": {},
     "output_type": "execute_result"
    }
   ],
   "source": [
    "layer_analysis_dict.keys()"
   ]
  },
  {
   "cell_type": "code",
   "execution_count": 8,
   "metadata": {},
   "outputs": [
    {
     "data": {
      "text/plain": [
       "dict_keys(['esm1_t34_670M_UR50S', 'esm1_t12_85M_UR50S', 'esm1b_t33_650M_UR50S', 'esm1_t6_43M_UR50S'])"
      ]
     },
     "execution_count": 8,
     "metadata": {},
     "output_type": "execute_result"
    }
   ],
   "source": [
    "layer_analysis_dict[\"proeng_gb1_sampled_mean\"].keys()"
   ]
  },
  {
   "cell_type": "code",
   "execution_count": 9,
   "metadata": {},
   "outputs": [
    {
     "data": {
      "text/plain": [
       "dict_keys(['train_mse', 'val_mse', 'test_mse', 'test_ndcg', 'test_rho'])"
      ]
     },
     "execution_count": 9,
     "metadata": {},
     "output_type": "execute_result"
    }
   ],
   "source": [
    "layer_analysis_dict[\"proeng_gb1_sampled_mean\"][\"esm1_t6_43M_UR50S\"].keys()"
   ]
  },
  {
   "cell_type": "code",
   "execution_count": 10,
   "metadata": {},
   "outputs": [
    {
     "data": {
      "text/plain": [
       "array([       nan, 0.78954326, 0.82729954, 0.84882642, 0.85467853,\n",
       "       0.84874573, 0.84821129])"
      ]
     },
     "execution_count": 10,
     "metadata": {},
     "output_type": "execute_result"
    }
   ],
   "source": [
    "layer_analysis_dict[\"proeng_gb1_sampled_mean\"][\"esm1_t6_43M_UR50S\"][\"test_rho\"]"
   ]
  },
  {
   "cell_type": "code",
   "execution_count": 11,
   "metadata": {},
   "outputs": [],
   "source": [
    "from scr.utils import pickle_load"
   ]
  },
  {
   "cell_type": "code",
   "execution_count": 15,
   "metadata": {},
   "outputs": [
    {
     "data": {
      "text/plain": [
       "(dict_keys(['train', 'val', 'test']),\n",
       " dict_keys(['mse', 'pred', 'true', 'ndcg', 'rho']))"
      ]
     },
     "execution_count": 15,
     "metadata": {},
     "output_type": "execute_result"
    }
   ],
   "source": [
    "gb1_sample_output_dict = pickle_load(\"results/sklearn-scaley-noloader-fixembpool/proeng/gb1/sampled/esm1_t6_43M_UR50S/mean/esm1_t6_43M_UR50S-mean-layer_0.pkl\")\n",
    "gb1_sample_output_dict.keys(), gb1_sample_output_dict[\"test\"].keys()"
   ]
  },
  {
   "cell_type": "code",
   "execution_count": 16,
   "metadata": {},
   "outputs": [],
   "source": [
    "from scipy.stats import spearmanr"
   ]
  },
  {
   "cell_type": "code",
   "execution_count": 18,
   "metadata": {},
   "outputs": [
    {
     "data": {
      "text/plain": [
       "array([1.69016355e+00, 5.85648854e-01, 3.05454865e+00, ...,\n",
       "       2.25273974e-03, 2.62819636e-02, 4.49316942e-03])"
      ]
     },
     "execution_count": 18,
     "metadata": {},
     "output_type": "execute_result"
    }
   ],
   "source": [
    "gb1_sample_output_dict[\"test\"][\"true\"]"
   ]
  },
  {
   "cell_type": "code",
   "execution_count": 19,
   "metadata": {},
   "outputs": [
    {
     "data": {
      "text/plain": [
       "array([4.51927324e-17, 4.51927324e-17, 4.51927324e-17, ...,\n",
       "       4.51927324e-17, 4.51927324e-17, 4.51927324e-17])"
      ]
     },
     "execution_count": 19,
     "metadata": {},
     "output_type": "execute_result"
    }
   ],
   "source": [
    "gb1_sample_output_dict[\"test\"][\"pred\"]"
   ]
  },
  {
   "cell_type": "code",
   "execution_count": 17,
   "metadata": {},
   "outputs": [
    {
     "name": "stderr",
     "output_type": "stream",
     "text": [
      "/anaconda/envs/protran/lib/python3.9/site-packages/scipy/stats/_stats_py.py:4529: SpearmanRConstantInputWarning: An input array is constant; the correlation coefficient is not defined.\n",
      "  warnings.warn(SpearmanRConstantInputWarning())\n"
     ]
    },
    {
     "data": {
      "text/plain": [
       "SpearmanrResult(correlation=nan, pvalue=nan)"
      ]
     },
     "execution_count": 17,
     "metadata": {},
     "output_type": "execute_result"
    }
   ],
   "source": [
    "spearmanr(gb1_sample_output_dict[\"test\"][\"true\"], gb1_sample_output_dict[\"test\"][\"pred\"])"
   ]
  },
  {
   "cell_type": "code",
   "execution_count": 6,
   "metadata": {},
   "outputs": [],
   "source": [
    "layer_analysis_dict = LayerLoss(\n",
    "    input_path=\"results/train_val_test\",\n",
    "    output_path=\"results/analysis_layer\",\n",
    ").layer_analysis_dict"
   ]
  },
  {
   "cell_type": "code",
   "execution_count": 5,
   "metadata": {},
   "outputs": [],
   "source": [
    "layer_analysis_dict = LayerLoss(\n",
    "    input_path=\"results/sklearn-scalex-scaley-noloader\",\n",
    "    output_path=\"results/sklearn-scalex-scaley-noloader_layer\",\n",
    ").layer_analysis_dict"
   ]
  },
  {
   "cell_type": "code",
   "execution_count": 4,
   "metadata": {},
   "outputs": [],
   "source": [
    "layer_analysis_dict = LayerLoss(\n",
    "    input_path=\"results/sklearn-scaley-noloader\",\n",
    "    output_path=\"results/sklearn-scaley-noloader_layer\",\n",
    ").layer_analysis_dict"
   ]
  },
  {
   "cell_type": "code",
   "execution_count": 10,
   "metadata": {},
   "outputs": [
    {
     "name": "stdout",
     "output_type": "stream",
     "text": [
      "Making results/sklearn-scaley-noloader-rand_layer/proeng/gb1/sampled ...\n",
      "Making results/sklearn-scaley-noloader-rand_layer/proeng/gb1/sampled/esm1b_t33_650M_UR50S ...\n",
      "Making results/sklearn-scaley-noloader-rand_layer/proeng/gb1/sampled/esm1b_t33_650M_UR50S/mean ...\n",
      "Making results/sklearn-scaley-noloader-rand_layer/proeng/gb1/sampled/esm1_t6_43M_UR50S ...\n",
      "Making results/sklearn-scaley-noloader-rand_layer/proeng/gb1/sampled/esm1_t6_43M_UR50S/mean ...\n",
      "Making results/sklearn-scaley-noloader-rand_layer/proeng/gb1/sampled/esm1_t12_85M_UR50S ...\n",
      "Making results/sklearn-scaley-noloader-rand_layer/proeng/gb1/sampled/esm1_t12_85M_UR50S/mean ...\n",
      "Making results/sklearn-scaley-noloader-rand_layer/proeng/gb1/sampled/esm1_t34_670M_UR50S ...\n",
      "Making results/sklearn-scaley-noloader-rand_layer/proeng/gb1/sampled/esm1_t34_670M_UR50S/mean ...\n"
     ]
    }
   ],
   "source": [
    "layer_analysis_dict = LayerLoss(\n",
    "    input_path=\"results/sklearn-scaley-noloader-rand\",\n",
    "    output_path=\"results/sklearn-scaley-noloader-rand_layer\",\n",
    ").layer_analysis_dict"
   ]
  },
  {
   "cell_type": "code",
   "execution_count": 6,
   "metadata": {},
   "outputs": [],
   "source": [
    "from scr.params.emb import TRANSFORMER_INFO"
   ]
  },
  {
   "cell_type": "code",
   "execution_count": 9,
   "metadata": {},
   "outputs": [
    {
     "data": {
      "text/plain": [
       "['',\n",
       " 'esm1_t6_43M_UR50S',\n",
       " 'esm1_t12_85M_UR50S',\n",
       " 'esm1_t34_670M_UR50S',\n",
       " 'esm1b_t33_650M_UR50S']"
      ]
     },
     "execution_count": 9,
     "metadata": {},
     "output_type": "execute_result"
    }
   ],
   "source": [
    "[\"\"] + list(TRANSFORMER_INFO.keys())"
   ]
  },
  {
   "cell_type": "code",
   "execution_count": 8,
   "metadata": {},
   "outputs": [],
   "source": [
    "layer_analysis_dict = LayerLoss(\n",
    "    input_path=\"results/sklearn-scaley-fixa-noloader\",\n",
    "    output_path=\"results/sklearn-scaley-fixa-noloader_layer\",\n",
    ").layer_analysis_dict"
   ]
  },
  {
   "cell_type": "code",
   "execution_count": 6,
   "metadata": {},
   "outputs": [],
   "source": [
    "layer_analysis_dict = LayerLoss(\n",
    "    input_path=\"results/sklearn-scaley-fixa\",\n",
    "    output_path=\"results/sklearn-scaley-fixa_layer\",\n",
    ").layer_analysis_dict"
   ]
  },
  {
   "cell_type": "code",
   "execution_count": 32,
   "metadata": {},
   "outputs": [
    {
     "data": {
      "text/plain": [
       "(dict_keys(['proeng_gb1_two_vs_rest_mean', 'proeng_gb1_low_vs_high_mean', 'proeng_aav_one_vs_many_mean']),\n",
       " dict_keys(['esm1b_t33_650M_UR50S', 'esm1_t6_43M_UR50S', 'esm1_t12_85M_UR50S', 'esm1_t34_670M_UR50S']),\n",
       " dict_keys(['train_mse', 'test_ndcg', 'test_rho']))"
      ]
     },
     "execution_count": 32,
     "metadata": {},
     "output_type": "execute_result"
    }
   ],
   "source": [
    "layer_analysis_dict.keys(), layer_analysis_dict[\"proeng_gb1_low_vs_high_mean\"].keys(), layer_analysis_dict[\"proeng_gb1_low_vs_high_mean\"][\"esm1b_t33_650M_UR50S\"].keys()"
   ]
  },
  {
   "cell_type": "code",
   "execution_count": 26,
   "metadata": {},
   "outputs": [
    {
     "name": "stdout",
     "output_type": "stream",
     "text": [
      "Making results/sklearn-scaley-noloader_layer-onehot ...\n",
      "Making results/sklearn-scaley-noloader_layer-onehot/proeng ...\n",
      "Making results/sklearn-scaley-noloader_layer-onehot/proeng/gb1 ...\n",
      "Making results/sklearn-scaley-noloader_layer-onehot/proeng/gb1/sampled ...\n",
      "Making results/sklearn-scaley-noloader_layer-onehot/proeng/gb1/sampled/onehot ...\n",
      "Making results/sklearn-scaley-noloader_layer-onehot/proeng/gb1/sampled/onehot/flatten ...\n",
      "Making results/sklearn-scaley-noloader_layer-onehot/proeng/gb1/two_vs_rest ...\n",
      "Making results/sklearn-scaley-noloader_layer-onehot/proeng/gb1/two_vs_rest/onehot ...\n",
      "Making results/sklearn-scaley-noloader_layer-onehot/proeng/gb1/two_vs_rest/onehot/flatten ...\n",
      "Making results/sklearn-scaley-noloader_layer-onehot/proeng/gb1/low_vs_high ...\n",
      "Making results/sklearn-scaley-noloader_layer-onehot/proeng/gb1/low_vs_high/onehot ...\n",
      "Making results/sklearn-scaley-noloader_layer-onehot/proeng/gb1/low_vs_high/onehot/flatten ...\n",
      "Making results/sklearn-scaley-noloader_layer-onehot/proeng/aav ...\n",
      "Making results/sklearn-scaley-noloader_layer-onehot/proeng/aav/one_vs_many ...\n",
      "Making results/sklearn-scaley-noloader_layer-onehot/proeng/aav/one_vs_many/onehot ...\n",
      "Making results/sklearn-scaley-noloader_layer-onehot/proeng/aav/one_vs_many/onehot/flatten ...\n",
      "Making results/sklearn-scaley-noloader_layer-onehot/proeng/aav/two_vs_many ...\n",
      "Making results/sklearn-scaley-noloader_layer-onehot/proeng/aav/two_vs_many/onehot ...\n",
      "Making results/sklearn-scaley-noloader_layer-onehot/proeng/aav/two_vs_many/onehot/flatten ...\n"
     ]
    }
   ],
   "source": [
    "layer_analysis_dict = LayerLoss(\n",
    "    input_path=\"results/sklearn-scaley-noloader\",\n",
    "    output_path=\"results/sklearn-scaley-noloader_layer\",\n",
    ").layer_analysis_dict"
   ]
  },
  {
   "cell_type": "code",
   "execution_count": null,
   "metadata": {},
   "outputs": [],
   "source": []
  }
 ],
 "metadata": {
  "kernelspec": {
   "display_name": "Python 3.9.2 ('protran')",
   "language": "python",
   "name": "python3"
  },
  "language_info": {
   "codemirror_mode": {
    "name": "ipython",
    "version": 3
   },
   "file_extension": ".py",
   "mimetype": "text/x-python",
   "name": "python",
   "nbconvert_exporter": "python",
   "pygments_lexer": "ipython3",
   "version": "3.9.10"
  },
  "orig_nbformat": 4,
  "vscode": {
   "interpreter": {
    "hash": "019692f042c79b6731ff84413c6b50d6174007f2b51f86eed1fb032dbd4a337e"
   }
  }
 },
 "nbformat": 4,
 "nbformat_minor": 2
}
