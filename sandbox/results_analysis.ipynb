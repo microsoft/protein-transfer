{
 "cells": [
  {
   "cell_type": "code",
   "execution_count": 1,
   "metadata": {},
   "outputs": [
    {
     "name": "stdout",
     "output_type": "stream",
     "text": [
      "/home/francesca/protein-transfer\n"
     ]
    }
   ],
   "source": [
    "%cd ~/protein-transfer"
   ]
  },
  {
   "cell_type": "code",
   "execution_count": 2,
   "metadata": {},
   "outputs": [],
   "source": [
    "%load_ext blackcellmagic"
   ]
  },
  {
   "cell_type": "code",
   "execution_count": 3,
   "metadata": {},
   "outputs": [],
   "source": [
    "from scr.utils import pickle_load\n",
    "from scr.analysis.perlayer import LayerLoss"
   ]
  },
  {
   "cell_type": "code",
   "execution_count": 4,
   "metadata": {},
   "outputs": [
    {
     "name": "stdout",
     "output_type": "stream",
     "text": [
      "Plotting collage_name structure_secondary_structure_tape_ss3_processed_noflatten...\n",
      "Plotting collage_name annotation_scl_balanced_mean...\n"
     ]
    },
    {
     "data": {
      "text/plain": [
       "<scr.analysis.perlayer.LayerLoss at 0x7fd8d4983160>"
      ]
     },
     "execution_count": 4,
     "metadata": {},
     "output_type": "execute_result"
    }
   ],
   "source": [
    "LayerLoss(\n",
    "    input_path=\"results/pytorch-esm\",\n",
    "    output_path=\"results/pytorch-esm_layer\",\n",
    "    add_checkpoint=False\n",
    ")"
   ]
  },
  {
   "cell_type": "code",
   "execution_count": 5,
   "metadata": {},
   "outputs": [],
   "source": []
  },
  {
   "cell_type": "code",
   "execution_count": 12,
   "metadata": {},
   "outputs": [],
   "source": [
    "carp_layerloss = LayerLoss(\n",
    "    input_path=\"results/sklearn-carp\",\n",
    "    output_path=\"results/sklearn-carp_layer\"\n",
    ")"
   ]
  },
  {
   "cell_type": "code",
   "execution_count": 4,
   "metadata": {},
   "outputs": [
    {
     "name": "stdout",
     "output_type": "stream",
     "text": [
      "Making results/pytorch-carp_layer/annotation/scl/balanced/carp_640M ...\n",
      "Making results/pytorch-carp_layer/annotation/scl/balanced/carp_640M/mean ...\n",
      "Making results/pytorch-carp_layer-rand/annotation/scl/balanced/carp_640M ...\n",
      "Making results/pytorch-carp_layer-rand/annotation/scl/balanced/carp_640M/mean ...\n",
      "Making results/pytorch-carp_layer-stat/annotation/scl/balanced/carp_640M ...\n",
      "Making results/pytorch-carp_layer-stat/annotation/scl/balanced/carp_640M/mean ...\n"
     ]
    },
    {
     "data": {
      "text/plain": [
       "<scr.analysis.perlayer.LayerLoss at 0x7fe7dab623d0>"
      ]
     },
     "execution_count": 4,
     "metadata": {},
     "output_type": "execute_result"
    }
   ],
   "source": [
    "LayerLoss(\n",
    "    input_path=\"results/pytorch-carp\",\n",
    "    output_path=\"results/pytorch-carp_layer\"\n",
    ")"
   ]
  },
  {
   "cell_type": "code",
   "execution_count": 6,
   "metadata": {},
   "outputs": [
    {
     "data": {
      "text/plain": [
       "<scr.analysis.perlayer.LayerLoss at 0x7f3add409a30>"
      ]
     },
     "execution_count": 6,
     "metadata": {},
     "output_type": "execute_result"
    }
   ],
   "source": [
    "LayerLoss(\n",
    "    input_path=\"test/sklearn-scalex-scaley-noloader-fixembpool\",\n",
    "    output_path=\"test/sklearn-scalex-scaley-noloader-fixembpool_layer\")"
   ]
  },
  {
   "cell_type": "code",
   "execution_count": null,
   "metadata": {},
   "outputs": [],
   "source": [
    "LayerLoss(\n",
    "    input_path=\"test/sklearn\",\n",
    "    output_path=\"test/sklearn_layer\")"
   ]
  },
  {
   "cell_type": "code",
   "execution_count": 11,
   "metadata": {},
   "outputs": [],
   "source": [
    "from scr.utils import pickle_load"
   ]
  },
  {
   "cell_type": "code",
   "execution_count": 15,
   "metadata": {},
   "outputs": [
    {
     "data": {
      "text/plain": [
       "(dict_keys(['train', 'val', 'test']),\n",
       " dict_keys(['mse', 'pred', 'true', 'ndcg', 'rho']))"
      ]
     },
     "execution_count": 15,
     "metadata": {},
     "output_type": "execute_result"
    }
   ],
   "source": [
    "gb1_sample_output_dict = pickle_load(\"results/sklearn-scaley-noloader-fixembpool/proeng/gb1/sampled/esm1_t6_43M_UR50S/mean/esm1_t6_43M_UR50S-mean-layer_0.pkl\")\n",
    "gb1_sample_output_dict.keys(), gb1_sample_output_dict[\"test\"].keys()"
   ]
  },
  {
   "cell_type": "code",
   "execution_count": 16,
   "metadata": {},
   "outputs": [],
   "source": [
    "from scipy.stats import spearmanr"
   ]
  },
  {
   "cell_type": "code",
   "execution_count": 18,
   "metadata": {},
   "outputs": [
    {
     "data": {
      "text/plain": [
       "array([1.69016355e+00, 5.85648854e-01, 3.05454865e+00, ...,\n",
       "       2.25273974e-03, 2.62819636e-02, 4.49316942e-03])"
      ]
     },
     "execution_count": 18,
     "metadata": {},
     "output_type": "execute_result"
    }
   ],
   "source": [
    "gb1_sample_output_dict[\"test\"][\"true\"]"
   ]
  },
  {
   "cell_type": "code",
   "execution_count": 19,
   "metadata": {},
   "outputs": [
    {
     "data": {
      "text/plain": [
       "array([4.51927324e-17, 4.51927324e-17, 4.51927324e-17, ...,\n",
       "       4.51927324e-17, 4.51927324e-17, 4.51927324e-17])"
      ]
     },
     "execution_count": 19,
     "metadata": {},
     "output_type": "execute_result"
    }
   ],
   "source": [
    "gb1_sample_output_dict[\"test\"][\"pred\"]"
   ]
  },
  {
   "cell_type": "code",
   "execution_count": 17,
   "metadata": {},
   "outputs": [
    {
     "name": "stderr",
     "output_type": "stream",
     "text": [
      "/anaconda/envs/protran/lib/python3.9/site-packages/scipy/stats/_stats_py.py:4529: SpearmanRConstantInputWarning: An input array is constant; the correlation coefficient is not defined.\n",
      "  warnings.warn(SpearmanRConstantInputWarning())\n"
     ]
    },
    {
     "data": {
      "text/plain": [
       "SpearmanrResult(correlation=nan, pvalue=nan)"
      ]
     },
     "execution_count": 17,
     "metadata": {},
     "output_type": "execute_result"
    }
   ],
   "source": [
    "spearmanr(gb1_sample_output_dict[\"test\"][\"true\"], gb1_sample_output_dict[\"test\"][\"pred\"])"
   ]
  },
  {
   "cell_type": "code",
   "execution_count": 6,
   "metadata": {},
   "outputs": [],
   "source": [
    "from scr.params.emb import TRANSFORMER_INFO"
   ]
  },
  {
   "cell_type": "code",
   "execution_count": 9,
   "metadata": {},
   "outputs": [
    {
     "data": {
      "text/plain": [
       "['',\n",
       " 'esm1_t6_43M_UR50S',\n",
       " 'esm1_t12_85M_UR50S',\n",
       " 'esm1_t34_670M_UR50S',\n",
       " 'esm1b_t33_650M_UR50S']"
      ]
     },
     "execution_count": 9,
     "metadata": {},
     "output_type": "execute_result"
    }
   ],
   "source": [
    "[\"\"] + list(TRANSFORMER_INFO.keys())"
   ]
  }
 ],
 "metadata": {
  "kernelspec": {
   "display_name": "Python 3.9.10 ('protran': conda)",
   "language": "python",
   "name": "python3"
  },
  "language_info": {
   "codemirror_mode": {
    "name": "ipython",
    "version": 3
   },
   "file_extension": ".py",
   "mimetype": "text/x-python",
   "name": "python",
   "nbconvert_exporter": "python",
   "pygments_lexer": "ipython3",
   "version": "3.9.10"
  },
  "orig_nbformat": 4,
  "vscode": {
   "interpreter": {
    "hash": "463b23ca674b6cebd873d35026dbfbdc6c3c46566df13b694aa58a4a30e92e18"
   }
  }
 },
 "nbformat": 4,
 "nbformat_minor": 2
}
