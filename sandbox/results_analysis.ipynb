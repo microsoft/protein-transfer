{
 "cells": [
  {
   "cell_type": "code",
   "execution_count": 1,
   "metadata": {},
   "outputs": [
    {
     "name": "stdout",
     "output_type": "stream",
     "text": [
      "/home/francesca/protein-transfer\n"
     ]
    }
   ],
   "source": [
    "%cd ~/protein-transfer"
   ]
  },
  {
   "cell_type": "code",
   "execution_count": 2,
   "metadata": {},
   "outputs": [],
   "source": [
    "%load_ext blackcellmagic"
   ]
  },
  {
   "cell_type": "code",
   "execution_count": 3,
   "metadata": {},
   "outputs": [],
   "source": [
    "from scr.utils import pickle_load\n",
    "from scr.analysis.perlayer import LayerLoss"
   ]
  },
  {
   "cell_type": "code",
   "execution_count": 4,
   "metadata": {},
   "outputs": [],
   "source": [
    "ss3_600k = pickle_load(\"results/pytorch-carp/structure/ss3/tape_processed/carp_600k/noflatten/carp_600k-noflatten-layer_0.pkl\")"
   ]
  },
  {
   "cell_type": "code",
   "execution_count": 5,
   "metadata": {},
   "outputs": [
    {
     "data": {
      "text/plain": [
       "dict_keys(['losses', 'train', 'val', 'cb513', 'ts115', 'casp12'])"
      ]
     },
     "execution_count": 5,
     "metadata": {},
     "output_type": "execute_result"
    }
   ],
   "source": [
    "ss3_600k.keys()"
   ]
  },
  {
   "cell_type": "code",
   "execution_count": 6,
   "metadata": {},
   "outputs": [
    {
     "data": {
      "text/plain": [
       "dict_keys(['cross-entropy', 'pred', 'true', 'acc', 'rocauc'])"
      ]
     },
     "execution_count": 6,
     "metadata": {},
     "output_type": "execute_result"
    }
   ],
   "source": [
    "ss3_600k[\"cb513\"].keys()"
   ]
  },
  {
   "cell_type": "code",
   "execution_count": 7,
   "metadata": {},
   "outputs": [
    {
     "data": {
      "text/plain": [
       "{'train_losses': array([1.1443473 , 1.10476713, 1.07922456, 1.06345243, 1.05376239,\n",
       "        1.04755349, 1.04387589, 1.04140289, 1.03980243, 1.03831337,\n",
       "        1.03767369, 1.03727496, 1.03678172, 1.03644708, 1.03628088,\n",
       "        1.03627598, 1.03613193, 1.03581906, 1.03580416, 1.03597943,\n",
       "        1.03601426, 1.03577627, 1.03584484, 1.035854  , 1.0358887 ,\n",
       "        1.03591578, 1.03571658, 1.03577221, 1.03579937, 1.03599464,\n",
       "        1.03619963, 1.03569581, 1.03593821, 1.03584803, 1.03593858,\n",
       "        1.03596518, 1.03590855, 1.03592171, 1.03561807, 1.03569005,\n",
       "        1.03589565, 1.03568688, 1.03576312, 1.03591368, 1.03575552,\n",
       "        1.03576336, 1.03594927, 1.03607359, 1.036116  , 1.03588484,\n",
       "        0.        , 0.        , 0.        , 0.        , 0.        ,\n",
       "        0.        , 0.        , 0.        , 0.        , 0.        ,\n",
       "        0.        , 0.        , 0.        , 0.        , 0.        ,\n",
       "        0.        , 0.        , 0.        , 0.        , 0.        ,\n",
       "        0.        , 0.        , 0.        , 0.        , 0.        ,\n",
       "        0.        , 0.        , 0.        , 0.        , 0.        ,\n",
       "        0.        , 0.        , 0.        , 0.        , 0.        ,\n",
       "        0.        , 0.        , 0.        , 0.        , 0.        ,\n",
       "        0.        , 0.        , 0.        , 0.        , 0.        ,\n",
       "        0.        , 0.        , 0.        , 0.        , 0.        ]),\n",
       " 'val_losses': array([1.11870524, 1.08703671, 1.0670025 , 1.05476149, 1.04715906,\n",
       "        1.04242021, 1.03934123, 1.03729091, 1.03589815, 1.03492865,\n",
       "        1.03424656, 1.03378064, 1.03347685, 1.03324189, 1.03295954,\n",
       "        1.03294528, 1.03286547, 1.03268925, 1.03280457, 1.03273249,\n",
       "        1.03270688, 1.03269672, 1.03270194, 1.03262561, 1.0326257 ,\n",
       "        1.03270292, 1.03271256, 1.03264358, 1.03257591, 1.03260755,\n",
       "        1.03259169, 1.03270264, 1.03273803, 1.03253752, 1.03258705,\n",
       "        1.03269001, 1.03262827, 1.03267366, 1.03252599, 1.03251884,\n",
       "        1.03252189, 1.03254867, 1.03255724, 1.0325614 , 1.03257654,\n",
       "        1.03258425, 1.03258605, 1.03259856, 1.03260776, 1.03261823,\n",
       "        0.        , 0.        , 0.        , 0.        , 0.        ,\n",
       "        0.        , 0.        , 0.        , 0.        , 0.        ,\n",
       "        0.        , 0.        , 0.        , 0.        , 0.        ,\n",
       "        0.        , 0.        , 0.        , 0.        , 0.        ,\n",
       "        0.        , 0.        , 0.        , 0.        , 0.        ,\n",
       "        0.        , 0.        , 0.        , 0.        , 0.        ,\n",
       "        0.        , 0.        , 0.        , 0.        , 0.        ,\n",
       "        0.        , 0.        , 0.        , 0.        , 0.        ,\n",
       "        0.        , 0.        , 0.        , 0.        , 0.        ,\n",
       "        0.        , 0.        , 0.        , 0.        , 0.        ])}"
      ]
     },
     "execution_count": 7,
     "metadata": {},
     "output_type": "execute_result"
    }
   ],
   "source": [
    "ss3_600k[\"losses\"]"
   ]
  },
  {
   "cell_type": "code",
   "execution_count": 8,
   "metadata": {},
   "outputs": [
    {
     "data": {
      "text/plain": [
       "{'cross-entropy': 1.0358617109795139,\n",
       " 'pred': array([[ 0.0119253 , -0.5376029 ,  0.5552772 ],\n",
       "        [ 0.00650184, -0.57506335,  0.424899  ],\n",
       "        [-0.03842285, -0.64113843, -0.02232687],\n",
       "        ...,\n",
       "        [-0.09129275, -0.59413517,  0.5702712 ],\n",
       "        [-0.09129275, -0.59413517,  0.5702712 ],\n",
       "        [-0.02041662,  0.03755915, -0.03249501]], dtype=float32),\n",
       " 'true': array([2, 2, 2, ..., 2, 2, 2]),\n",
       " 'acc': 0.4530312080943252,\n",
       " 'rocauc': 0.5967335495015748}"
      ]
     },
     "execution_count": 8,
     "metadata": {},
     "output_type": "execute_result"
    }
   ],
   "source": [
    "ss3_600k[\"train\"]"
   ]
  },
  {
   "cell_type": "code",
   "execution_count": 4,
   "metadata": {},
   "outputs": [
    {
     "name": "stdout",
     "output_type": "stream",
     "text": [
      "Plotting collage_name annotation_scl_balanced_mean...\n",
      "Plotting collage_name structure_secondary_structure_tape_ss3_processed_noflatten...\n"
     ]
    },
    {
     "data": {
      "text/plain": [
       "<scr.analysis.perlayer.LayerLoss at 0x7fc66bd0c130>"
      ]
     },
     "execution_count": 4,
     "metadata": {},
     "output_type": "execute_result"
    }
   ],
   "source": [
    "LayerLoss(\n",
    "    input_path=\"results/pytorch-carp\",\n",
    "    output_path=\"results/pytorch-carp_layer\"\n",
    ")"
   ]
  },
  {
   "cell_type": "code",
   "execution_count": 4,
   "metadata": {},
   "outputs": [
    {
     "name": "stdout",
     "output_type": "stream",
     "text": [
      "Plotting collage_name structure_secondary_structure_tape_ss3_processed_noflatten...\n",
      "Plotting collage_name annotation_scl_balanced_mean...\n"
     ]
    },
    {
     "data": {
      "text/plain": [
       "<scr.analysis.perlayer.LayerLoss at 0x7f4d47be4e20>"
      ]
     },
     "execution_count": 4,
     "metadata": {},
     "output_type": "execute_result"
    }
   ],
   "source": [
    "LayerLoss(\n",
    "    input_path=\"results/pytorch-esm\",\n",
    "    output_path=\"results/pytorch-esm_layer\",\n",
    "    add_checkpoint=False\n",
    ")"
   ]
  },
  {
   "cell_type": "code",
   "execution_count": 5,
   "metadata": {},
   "outputs": [
    {
     "name": "stdout",
     "output_type": "stream",
     "text": [
      "Plotting collage_name proeng_aav_one_vs_many_mean...\n",
      "Plotting collage_name proeng_aav_two_vs_many_mean...\n",
      "Plotting collage_name proeng_gb1_low_vs_high_mean...\n",
      "Plotting collage_name proeng_gb1_two_vs_rest_mean...\n",
      "Plotting collage_name proeng_gb1_sampled_mean...\n",
      "Plotting collage_name proeng_thermo_mixed_split_mean...\n"
     ]
    }
   ],
   "source": [
    "carp_layerloss = LayerLoss(\n",
    "    input_path=\"results/sklearn-carp\",\n",
    "    output_path=\"results/sklearn-carp_layer\"\n",
    ")"
   ]
  },
  {
   "cell_type": "code",
   "execution_count": null,
   "metadata": {},
   "outputs": [],
   "source": [
    "LayerLoss(\n",
    "    input_path=\"test/sklearn\",\n",
    "    output_path=\"test/sklearn_layer\")"
   ]
  },
  {
   "cell_type": "code",
   "execution_count": 11,
   "metadata": {},
   "outputs": [],
   "source": [
    "from scr.utils import pickle_load"
   ]
  },
  {
   "cell_type": "code",
   "execution_count": 15,
   "metadata": {},
   "outputs": [
    {
     "data": {
      "text/plain": [
       "(dict_keys(['train', 'val', 'test']),\n",
       " dict_keys(['mse', 'pred', 'true', 'ndcg', 'rho']))"
      ]
     },
     "execution_count": 15,
     "metadata": {},
     "output_type": "execute_result"
    }
   ],
   "source": [
    "gb1_sample_output_dict = pickle_load(\"results/sklearn-scaley-noloader-fixembpool/proeng/gb1/sampled/esm1_t6_43M_UR50S/mean/esm1_t6_43M_UR50S-mean-layer_0.pkl\")\n",
    "gb1_sample_output_dict.keys(), gb1_sample_output_dict[\"test\"].keys()"
   ]
  },
  {
   "cell_type": "code",
   "execution_count": 16,
   "metadata": {},
   "outputs": [],
   "source": [
    "from scipy.stats import spearmanr"
   ]
  },
  {
   "cell_type": "code",
   "execution_count": 18,
   "metadata": {},
   "outputs": [
    {
     "data": {
      "text/plain": [
       "array([1.69016355e+00, 5.85648854e-01, 3.05454865e+00, ...,\n",
       "       2.25273974e-03, 2.62819636e-02, 4.49316942e-03])"
      ]
     },
     "execution_count": 18,
     "metadata": {},
     "output_type": "execute_result"
    }
   ],
   "source": [
    "gb1_sample_output_dict[\"test\"][\"true\"]"
   ]
  },
  {
   "cell_type": "code",
   "execution_count": 19,
   "metadata": {},
   "outputs": [
    {
     "data": {
      "text/plain": [
       "array([4.51927324e-17, 4.51927324e-17, 4.51927324e-17, ...,\n",
       "       4.51927324e-17, 4.51927324e-17, 4.51927324e-17])"
      ]
     },
     "execution_count": 19,
     "metadata": {},
     "output_type": "execute_result"
    }
   ],
   "source": [
    "gb1_sample_output_dict[\"test\"][\"pred\"]"
   ]
  },
  {
   "cell_type": "code",
   "execution_count": 17,
   "metadata": {},
   "outputs": [
    {
     "name": "stderr",
     "output_type": "stream",
     "text": [
      "/anaconda/envs/protran/lib/python3.9/site-packages/scipy/stats/_stats_py.py:4529: SpearmanRConstantInputWarning: An input array is constant; the correlation coefficient is not defined.\n",
      "  warnings.warn(SpearmanRConstantInputWarning())\n"
     ]
    },
    {
     "data": {
      "text/plain": [
       "SpearmanrResult(correlation=nan, pvalue=nan)"
      ]
     },
     "execution_count": 17,
     "metadata": {},
     "output_type": "execute_result"
    }
   ],
   "source": [
    "spearmanr(gb1_sample_output_dict[\"test\"][\"true\"], gb1_sample_output_dict[\"test\"][\"pred\"])"
   ]
  }
 ],
 "metadata": {
  "kernelspec": {
   "display_name": "Python 3.9.10 ('protran': conda)",
   "language": "python",
   "name": "python3"
  },
  "language_info": {
   "codemirror_mode": {
    "name": "ipython",
    "version": 3
   },
   "file_extension": ".py",
   "mimetype": "text/x-python",
   "name": "python",
   "nbconvert_exporter": "python",
   "pygments_lexer": "ipython3",
   "version": "3.9.10"
  },
  "orig_nbformat": 4,
  "vscode": {
   "interpreter": {
    "hash": "463b23ca674b6cebd873d35026dbfbdc6c3c46566df13b694aa58a4a30e92e18"
   }
  }
 },
 "nbformat": 4,
 "nbformat_minor": 2
}
