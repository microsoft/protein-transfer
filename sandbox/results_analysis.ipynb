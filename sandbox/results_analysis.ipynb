{
 "cells": [
  {
   "cell_type": "code",
   "execution_count": 2,
   "metadata": {},
   "outputs": [
    {
     "name": "stdout",
     "output_type": "stream",
     "text": [
      "/home/t-fli/repo/protein-transfer\n"
     ]
    }
   ],
   "source": [
    "%cd ~/repo/protein-transfer"
   ]
  },
  {
   "cell_type": "code",
   "execution_count": 3,
   "metadata": {},
   "outputs": [],
   "source": [
    "%load_ext blackcellmagic"
   ]
  },
  {
   "cell_type": "code",
   "execution_count": 3,
   "metadata": {},
   "outputs": [],
   "source": [
    "from scr.analysis.perlayer import LayerLoss"
   ]
  },
  {
   "cell_type": "code",
   "execution_count": 4,
   "metadata": {},
   "outputs": [],
   "source": [
    "layer_analysis_dict = LayerLoss(\n",
    "    input_path=\"results/train_val_test\",\n",
    "    output_path=\"results/analysis_layer\",\n",
    ").layer_analysis_dict"
   ]
  },
  {
   "cell_type": "code",
   "execution_count": 10,
   "metadata": {},
   "outputs": [
    {
     "name": "stdout",
     "output_type": "stream",
     "text": [
      "Making results/sklearn-scaley-noloader-rand_layer/proeng/gb1/sampled ...\n",
      "Making results/sklearn-scaley-noloader-rand_layer/proeng/gb1/sampled/esm1b_t33_650M_UR50S ...\n",
      "Making results/sklearn-scaley-noloader-rand_layer/proeng/gb1/sampled/esm1b_t33_650M_UR50S/mean ...\n",
      "Making results/sklearn-scaley-noloader-rand_layer/proeng/gb1/sampled/esm1_t6_43M_UR50S ...\n",
      "Making results/sklearn-scaley-noloader-rand_layer/proeng/gb1/sampled/esm1_t6_43M_UR50S/mean ...\n",
      "Making results/sklearn-scaley-noloader-rand_layer/proeng/gb1/sampled/esm1_t12_85M_UR50S ...\n",
      "Making results/sklearn-scaley-noloader-rand_layer/proeng/gb1/sampled/esm1_t12_85M_UR50S/mean ...\n",
      "Making results/sklearn-scaley-noloader-rand_layer/proeng/gb1/sampled/esm1_t34_670M_UR50S ...\n",
      "Making results/sklearn-scaley-noloader-rand_layer/proeng/gb1/sampled/esm1_t34_670M_UR50S/mean ...\n"
     ]
    }
   ],
   "source": [
    "layer_analysis_dict = LayerLoss(\n",
    "    input_path=\"results/sklearn-scaley-noloader-rand\",\n",
    "    output_path=\"results/sklearn-scaley-noloader-rand_layer\",\n",
    ").layer_analysis_dict"
   ]
  },
  {
   "cell_type": "code",
   "execution_count": 4,
   "metadata": {},
   "outputs": [
    {
     "name": "stdout",
     "output_type": "stream",
     "text": [
      "Making results/sklearn-scaley-noloader_layer/proeng/aav/one_vs_many/esm1b_t33_650M_UR50S ...\n",
      "Making results/sklearn-scaley-noloader_layer/proeng/aav/one_vs_many/esm1b_t33_650M_UR50S/mean ...\n",
      "Making results/sklearn-scaley-noloader_layer/proeng/aav/one_vs_many/esm1_t34_670M_UR50S ...\n",
      "Making results/sklearn-scaley-noloader_layer/proeng/aav/one_vs_many/esm1_t34_670M_UR50S/mean ...\n",
      "Making results/sklearn-scaley-noloader_layer/proeng/aav/two_vs_many/esm1b_t33_650M_UR50S ...\n",
      "Making results/sklearn-scaley-noloader_layer/proeng/aav/two_vs_many/esm1b_t33_650M_UR50S/mean ...\n",
      "Making results/sklearn-scaley-noloader_layer/proeng/aav/two_vs_many/esm1_t34_670M_UR50S ...\n",
      "Making results/sklearn-scaley-noloader_layer/proeng/aav/two_vs_many/esm1_t34_670M_UR50S/mean ...\n"
     ]
    }
   ],
   "source": [
    "layer_analysis_dict = LayerLoss(\n",
    "    input_path=\"results/sklearn-scaley-noloader\",\n",
    "    output_path=\"results/sklearn-scaley-noloader_layer\",\n",
    ").layer_analysis_dict"
   ]
  },
  {
   "cell_type": "code",
   "execution_count": 8,
   "metadata": {},
   "outputs": [],
   "source": [
    "layer_analysis_dict = LayerLoss(\n",
    "    input_path=\"results/sklearn-scaley-fixa-noloader\",\n",
    "    output_path=\"results/sklearn-scaley-fixa-noloader_layer\",\n",
    ").layer_analysis_dict"
   ]
  },
  {
   "cell_type": "code",
   "execution_count": 6,
   "metadata": {},
   "outputs": [],
   "source": [
    "layer_analysis_dict = LayerLoss(\n",
    "    input_path=\"results/sklearn-scaley-fixa\",\n",
    "    output_path=\"results/sklearn-scaley-fixa_layer\",\n",
    ").layer_analysis_dict"
   ]
  },
  {
   "cell_type": "code",
   "execution_count": 32,
   "metadata": {},
   "outputs": [
    {
     "data": {
      "text/plain": [
       "(dict_keys(['proeng_gb1_two_vs_rest_mean', 'proeng_gb1_low_vs_high_mean', 'proeng_aav_one_vs_many_mean']),\n",
       " dict_keys(['esm1b_t33_650M_UR50S', 'esm1_t6_43M_UR50S', 'esm1_t12_85M_UR50S', 'esm1_t34_670M_UR50S']),\n",
       " dict_keys(['train_mse', 'test_ndcg', 'test_rho']))"
      ]
     },
     "execution_count": 32,
     "metadata": {},
     "output_type": "execute_result"
    }
   ],
   "source": [
    "layer_analysis_dict.keys(), layer_analysis_dict[\"proeng_gb1_low_vs_high_mean\"].keys(), layer_analysis_dict[\"proeng_gb1_low_vs_high_mean\"][\"esm1b_t33_650M_UR50S\"].keys()"
   ]
  },
  {
   "cell_type": "code",
   "execution_count": 11,
   "metadata": {},
   "outputs": [],
   "source": [
    "\"\"\"Analyzing per layer output\"\"\"\n",
    "\n",
    "from __future__ import annotations\n",
    "\n",
    "from collections import defaultdict\n",
    "\n",
    "import os\n",
    "from glob import glob\n",
    "import numpy as np\n",
    "\n",
    "import matplotlib.pyplot as plt\n",
    "from matplotlib.ticker import FormatStrFormatter\n",
    "\n",
    "from scr.params.emb import TRANSFORMER_INFO, CARP_INFO\n",
    "from scr.utils import pickle_load, get_filename, checkNgen_folder\n",
    "\n",
    "\n",
    "class LayerLoss:\n",
    "    \"\"\"A class for handling layer analysis\"\"\"\n",
    "\n",
    "    def __init__(\n",
    "        self,\n",
    "        input_path: str = \"results/sklearn\",\n",
    "        output_path: str = \"results/sklearn_layer\",\n",
    "        metric_list: list[str] = [\"train_mse\", \"test_ndcg\", \"test_rho\"],\n",
    "    ):\n",
    "        \"\"\"\n",
    "        Args:\n",
    "        - input_path: str = \"results/sklearn\",\n",
    "        - output_path: str = \"results/sklearn_layer\"\n",
    "        - metric_list: list[str] = [\"train_mse\", \"test_ndcg\", \"test_rho\"]\n",
    "        \"\"\"\n",
    "        # get rid of the last \"/\" if any\n",
    "        self._input_path = os.path.normpath(input_path)\n",
    "        # get the list of subfolders for each dataset\n",
    "        self._dataset_folders = glob(f\"{self._input_path}/*/*/*/*/*\")\n",
    "        # glob(\"results/train_val_test/*/*/*/*/*\")\n",
    "\n",
    "        # get rid of the last \"/\" if any\n",
    "        self._output_path = os.path.normpath(output_path)\n",
    "        self._metric_list = metric_list\n",
    "        self._metric_numb = len(metric_list)\n",
    "\n",
    "        # init a dictionary for recording outputs\n",
    "        self._layer_analysis_dict = defaultdict(dict)\n",
    "        self._rand_layer_analysis_dict = defaultdict(dict)\n",
    "\n",
    "        for dataset_folder in self._dataset_folders:\n",
    "            # dataset_folder = \"results/train_val_test/proeng/gb1/two_vs_rest/esm1b_t33_650M_UR50S/max\"\n",
    "            # get the details for the dataset such as proeng/gb1/two_vs_rest\n",
    "            task_subfolder = dataset_folder.split(self._input_path + \"/\")[-1]\n",
    "            # task_subfolder = \"proeng/gb1/two_vs_rest/esm1b_t33_650M_UR50S/max\"\n",
    "            task, dataset, split, encoder_name, flatten_emb = task_subfolder.split(\"/\")\n",
    "\n",
    "            # parse results for plotting the collage\n",
    "            self._layer_analysis_dict[f\"{task}_{dataset}_{split}_{flatten_emb}\"][\n",
    "                encoder_name\n",
    "            ] = self.parse_result_dicts(\n",
    "                dataset_folder, task, dataset, split, encoder_name, flatten_emb\n",
    "            )\n",
    "\n",
    "            # check if reset param experimental results exist\n",
    "            reset_param_path = f\"{self._input_path}-rand\"\n",
    "            if os.path.exists(reset_param_path):\n",
    "                self._rand_layer_analysis_dict[\n",
    "                    f\"{task}_{dataset}_{split}_{flatten_emb}\"\n",
    "                ][encoder_name] = self.parse_result_dicts(\n",
    "                    dataset_folder.replace(self._input_path, reset_param_path),\n",
    "                    task,\n",
    "                    dataset,\n",
    "                    split,\n",
    "                    encoder_name,\n",
    "                    flatten_emb,\n",
    "                )\n",
    "\n",
    "        collage_folder = os.path.join(self._output_path, \"collage\")\n",
    "        checkNgen_folder(collage_folder)\n",
    "\n",
    "        for collage_name, encoder_dict in self._layer_analysis_dict.items():\n",
    "\n",
    "            if set(list(TRANSFORMER_INFO.keys())) == set(encoder_dict.keys()):\n",
    "                # set the key rankings to default\n",
    "                encoder_names = list(TRANSFORMER_INFO.keys())\n",
    "                encoder_label = \"esm\"\n",
    "            elif set(list(CARP_INFO.keys())) == set(encoder_dict.keys()):\n",
    "                # set the key rankings to default\n",
    "                encoder_names = list(CARP_INFO.keys())\n",
    "                encoder_label = \"carp\"\n",
    "            else:\n",
    "                encoder_names = list(set(encoder_dict.keys()))\n",
    "\n",
    "            fig, axs = plt.subplots(\n",
    "                self._metric_numb,\n",
    "                len(encoder_names),\n",
    "                sharey=\"row\",\n",
    "                sharex=\"col\",\n",
    "                figsize=(20, 10),\n",
    "            )\n",
    "            for m, metric in enumerate(metric_list):\n",
    "                for n, encoder_name in enumerate(encoder_names):\n",
    "                    axs[m, n].plot(\n",
    "                        encoder_dict[encoder_name][metric], label=encoder_label\n",
    "                    )\n",
    "                    axs[m, n].plot(\n",
    "                        self._rand_layer_analysis_dict[collage_name][encoder_name][\n",
    "                            metric\n",
    "                        ],\n",
    "                        label=\"random init\",\n",
    "                        color=\"#7f7f7f\",\n",
    "                        linestyle=\"dotted\",\n",
    "                    )\n",
    "\n",
    "            # add xlabels\n",
    "            for ax in axs[self._metric_numb - 1]:\n",
    "                ax.set_xlabel(\"layers\", fontsize=16)\n",
    "                ax.tick_params(axis=\"x\", labelsize=16)\n",
    "\n",
    "            # add column names\n",
    "            for ax, col in zip(axs[0], encoder_names):\n",
    "                ax.set_title(col, fontsize=16)\n",
    "\n",
    "            # add row names\n",
    "            for ax, row in zip(axs[:, 0], metric_list):\n",
    "                ax.set_ylabel(row.replace(\"_\", \" \"), fontsize=16)\n",
    "                ax.tick_params(axis=\"y\", labelsize=16)\n",
    "\n",
    "            # set the plot yticks\n",
    "            plt.gca().yaxis.set_major_formatter(FormatStrFormatter(\"%.2f\"))\n",
    "\n",
    "            # add legend\n",
    "            handles, labels = axs[0, 0].get_legend_handles_labels()\n",
    "            fig.legend(\n",
    "                handles,\n",
    "                labels,\n",
    "                loc=\"upper left\",\n",
    "                bbox_to_anchor=[0.05, 1.025],\n",
    "                fontsize=16,\n",
    "                frameon=False,\n",
    "            )\n",
    "\n",
    "            # add whole plot level title\n",
    "            fig.suptitle(\n",
    "                collage_name.replace(\"_\", \" \"), y=1.0025, fontsize=24, fontweight=\"bold\"\n",
    "            )\n",
    "            fig.tight_layout()\n",
    "\n",
    "            for plot_ext in [\".svg\", \".png\"]:\n",
    "                plt.savefig(\n",
    "                    os.path.join(collage_folder, collage_name + plot_ext),\n",
    "                    bbox_inches=\"tight\",\n",
    "                )\n",
    "\n",
    "            plt.close()\n",
    "\n",
    "    def parse_result_dicts(\n",
    "        self,\n",
    "        folder_path: str,\n",
    "        task: str,\n",
    "        dataset: str,\n",
    "        split: str,\n",
    "        encoder_name: str,\n",
    "        flatten_emb: bool | str,\n",
    "    ):\n",
    "        \"\"\"\n",
    "        Parse the output result dictionaries for plotting\n",
    "\n",
    "        Args:\n",
    "        - folder_path: str, the folder path for the datasets\n",
    "\n",
    "        Returns:\n",
    "        - dict, encode name as key with a dict as its value\n",
    "            where metric name as keys and the array of losses as values\n",
    "        - str, details for collage plot\n",
    "        \"\"\"\n",
    "\n",
    "        # get the list of output pickle files\n",
    "        pkl_list = glob(f\"{folder_path}/*.pkl\")\n",
    "\n",
    "        # get the max layer number for the array\n",
    "        max_layer_numb = TRANSFORMER_INFO[encoder_name][1] + 1\n",
    "\n",
    "        # init the ouput dict\n",
    "        output_numb_dict = {\n",
    "            metric: np.zeros([max_layer_numb]) for metric in self._metric_list\n",
    "        }\n",
    "\n",
    "        # loop through the list of the pickle files\n",
    "        for pkl_file in pkl_list:\n",
    "            # get the layer number\n",
    "            layer_numb = int(get_filename(pkl_file).split(\"-\")[-1].split(\"_\")[-1])\n",
    "            # load the result dictionary\n",
    "            result_dict = pickle_load(pkl_file)\n",
    "\n",
    "            # populate the processed dictionary\n",
    "            for metric in self._metric_list:\n",
    "                subset, kind = metric.split(\"_\")\n",
    "                if kind == \"rho\":\n",
    "                    output_numb_dict[metric][layer_numb] = result_dict[subset][kind][0]\n",
    "                else:\n",
    "                    output_numb_dict[metric][layer_numb] = result_dict[subset][kind]\n",
    "\n",
    "        # get some details for plotting and saving\n",
    "        output_subfolder = checkNgen_folder(\n",
    "            folder_path.replace(self._input_path, self._output_path)\n",
    "        )\n",
    "\n",
    "        for metric in output_numb_dict.keys():\n",
    "\n",
    "            plot_name = f\"{encoder_name}_{flatten_emb}_{metric}\"\n",
    "            plot_prefix = f\"{task}_{dataset}_{split}\"\n",
    "\n",
    "            plt.figure()\n",
    "            plt.plot(output_numb_dict[metric])\n",
    "            plt.title(f\"{plot_prefix} \\n {plot_name}\")\n",
    "            plt.xlabel(\"layers\")\n",
    "            plt.ylabel(\"loss\")\n",
    "\n",
    "            for plot_ext in [\".svg\", \".png\"]:\n",
    "                plt.savefig(\n",
    "                    os.path.join(output_subfolder, plot_name + plot_ext),\n",
    "                    bbox_inches=\"tight\",\n",
    "                )\n",
    "            plt.close()\n",
    "\n",
    "        return output_numb_dict\n",
    "\n",
    "    @property\n",
    "    def layer_analysis_dict(self) -> dict:\n",
    "        \"\"\"Return a dict with dataset name as the key\"\"\"\n",
    "        return self._layer_analysis_dict"
   ]
  },
  {
   "cell_type": "code",
   "execution_count": 12,
   "metadata": {},
   "outputs": [],
   "source": [
    "layer_analysis_dict = LayerLoss(\n",
    "    input_path=\"results/sklearn-scaley-noloader\",\n",
    "    output_path=\"results/sklearn-scaley-noloader_layer\",\n",
    ").layer_analysis_dict"
   ]
  },
  {
   "cell_type": "code",
   "execution_count": null,
   "metadata": {},
   "outputs": [],
   "source": []
  }
 ],
 "metadata": {
  "kernelspec": {
   "display_name": "Python 3.9.2 ('protran')",
   "language": "python",
   "name": "python3"
  },
  "language_info": {
   "codemirror_mode": {
    "name": "ipython",
    "version": 3
   },
   "file_extension": ".py",
   "mimetype": "text/x-python",
   "name": "python",
   "nbconvert_exporter": "python",
   "pygments_lexer": "ipython3",
   "version": "3.9.2"
  },
  "orig_nbformat": 4,
  "vscode": {
   "interpreter": {
    "hash": "019692f042c79b6731ff84413c6b50d6174007f2b51f86eed1fb032dbd4a337e"
   }
  }
 },
 "nbformat": 4,
 "nbformat_minor": 2
}
