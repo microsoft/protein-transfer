{
 "cells": [
  {
   "cell_type": "code",
   "execution_count": 1,
   "metadata": {},
   "outputs": [
    {
     "name": "stdout",
     "output_type": "stream",
     "text": [
      "/home/francesca/protein-transfer\n"
     ]
    }
   ],
   "source": [
    "%cd ~/protein-transfer"
   ]
  },
  {
   "cell_type": "code",
   "execution_count": 2,
   "metadata": {},
   "outputs": [],
   "source": [
    "%load_ext blackcellmagic"
   ]
  },
  {
   "cell_type": "code",
   "execution_count": 3,
   "metadata": {},
   "outputs": [],
   "source": [
    "import os\n",
    "import numpy as np\n",
    "import pandas as pd"
   ]
  },
  {
   "cell_type": "code",
   "execution_count": 4,
   "metadata": {},
   "outputs": [],
   "source": [
    "from scr.utils import pickle_load"
   ]
  },
  {
   "cell_type": "code",
   "execution_count": 5,
   "metadata": {},
   "outputs": [],
   "source": [
    "opdict = pickle_load(\"results/pytorch-esm-onehot/structure/secondary_structure/tape_ss3_processed/onehot/noflatten/onehot-noflatten-layer_0.pkl\")"
   ]
  },
  {
   "cell_type": "code",
   "execution_count": 15,
   "metadata": {},
   "outputs": [
    {
     "data": {
      "text/plain": [
       "dict_keys(['losses', 'train', 'val', 'cb513', 'ts115', 'casp12'])"
      ]
     },
     "execution_count": 15,
     "metadata": {},
     "output_type": "execute_result"
    }
   ],
   "source": [
    "opdict.keys()"
   ]
  },
  {
   "cell_type": "code",
   "execution_count": 16,
   "metadata": {},
   "outputs": [
    {
     "data": {
      "text/plain": [
       "dict_keys(['cross-entropy', 'pred', 'true', 'acc', 'rocauc'])"
      ]
     },
     "execution_count": 16,
     "metadata": {},
     "output_type": "execute_result"
    }
   ],
   "source": [
    "opdict[\"cb513\"].keys()"
   ]
  },
  {
   "cell_type": "code",
   "execution_count": 6,
   "metadata": {},
   "outputs": [
    {
     "data": {
      "text/plain": [
       "(0.48816846771958994,\n",
       " 0.6405190154371231,\n",
       " 0.5085510368973876,\n",
       " 0.6419719552524553,\n",
       " 0.48194597574421166,\n",
       " 0.6202125329637339)"
      ]
     },
     "execution_count": 6,
     "metadata": {},
     "output_type": "execute_result"
    }
   ],
   "source": [
    "opdict[\"cb513\"][\"acc\"], opdict[\"cb513\"][\"rocauc\"], opdict[\"ts115\"][\"acc\"], opdict[\"ts115\"][\"rocauc\"], opdict[\"casp12\"][\"acc\"], opdict[\"casp12\"][\"rocauc\"]"
   ]
  },
  {
   "cell_type": "code",
   "execution_count": 7,
   "metadata": {},
   "outputs": [
    {
     "data": {
      "text/plain": [
       "(0.49502632308118594,\n",
       " 0.6477117780057853,\n",
       " 0.5146781578238621,\n",
       " 0.6528848195625717,\n",
       " 0.49434950385887544,\n",
       " 0.6290679854668791)"
      ]
     },
     "execution_count": 7,
     "metadata": {},
     "output_type": "execute_result"
    }
   ],
   "source": [
    "rand0 = pickle_load(\"results/pytorch-esm-rand/structure/secondary_structure/tape_ss3_processed/esm1_t6_43M_UR50S/noflatten/esm1_t6_43M_UR50S-noflatten-layer_0.pkl\")\n",
    "rand0[\"cb513\"][\"acc\"], rand0[\"cb513\"][\"rocauc\"], rand0[\"ts115\"][\"acc\"], rand0[\"ts115\"][\"rocauc\"], rand0[\"casp12\"][\"acc\"], rand0[\"casp12\"][\"rocauc\"]"
   ]
  },
  {
   "cell_type": "code",
   "execution_count": 8,
   "metadata": {},
   "outputs": [
    {
     "data": {
      "text/plain": [
       "(0.5192297035189803,\n",
       " 0.6745426123567886,\n",
       " 0.5540331268516024,\n",
       " 0.7032613972497685,\n",
       " 0.5378996692392503,\n",
       " 0.6811779345459282)"
      ]
     },
     "execution_count": 8,
     "metadata": {},
     "output_type": "execute_result"
    }
   ],
   "source": [
    "rand1 = pickle_load(\"results/pytorch-esm-rand/structure/secondary_structure/tape_ss3_processed/esm1_t6_43M_UR50S/noflatten/esm1_t6_43M_UR50S-noflatten-layer_1.pkl\")\n",
    "rand1[\"cb513\"][\"acc\"], rand1[\"cb513\"][\"rocauc\"], rand1[\"ts115\"][\"acc\"], rand1[\"ts115\"][\"rocauc\"], rand1[\"casp12\"][\"acc\"], rand1[\"casp12\"][\"rocauc\"]"
   ]
  },
  {
   "cell_type": "code",
   "execution_count": 10,
   "metadata": {},
   "outputs": [
    {
     "data": {
      "text/plain": [
       "(0.5189318370739817,\n",
       " 0.6780248436823525,\n",
       " 0.5633921357392944,\n",
       " 0.7127126233866258,\n",
       " 0.5465821389195149,\n",
       " 0.694011705648267)"
      ]
     },
     "execution_count": 10,
     "metadata": {},
     "output_type": "execute_result"
    }
   ],
   "source": [
    "rand2 = pickle_load(\"results/pytorch-esm-rand/structure/secondary_structure/tape_ss3_processed/esm1_t6_43M_UR50S/noflatten/esm1_t6_43M_UR50S-noflatten-layer_2.pkl\")\n",
    "rand2[\"cb513\"][\"acc\"], rand2[\"cb513\"][\"rocauc\"], rand2[\"ts115\"][\"acc\"], rand2[\"ts115\"][\"rocauc\"], rand2[\"casp12\"][\"acc\"], rand2[\"casp12\"][\"rocauc\"]"
   ]
  },
  {
   "cell_type": "code",
   "execution_count": 11,
   "metadata": {},
   "outputs": [
    {
     "data": {
      "text/plain": [
       "(0.5187170961485176,\n",
       " 0.6792022712112759,\n",
       " 0.5641327767304066,\n",
       " 0.7156176631336795,\n",
       " 0.5501653803748622,\n",
       " 0.7016838467972928)"
      ]
     },
     "execution_count": 11,
     "metadata": {},
     "output_type": "execute_result"
    }
   ],
   "source": [
    "rand3 = pickle_load(\"results/pytorch-esm-rand/structure/secondary_structure/tape_ss3_processed/esm1_t6_43M_UR50S/noflatten/esm1_t6_43M_UR50S-noflatten-layer_3.pkl\")\n",
    "rand3[\"cb513\"][\"acc\"], rand3[\"cb513\"][\"rocauc\"], rand3[\"ts115\"][\"acc\"], rand3[\"ts115\"][\"rocauc\"], rand3[\"casp12\"][\"acc\"], rand3[\"casp12\"][\"rocauc\"]"
   ]
  },
  {
   "cell_type": "code",
   "execution_count": 12,
   "metadata": {},
   "outputs": [
    {
     "data": {
      "text/plain": [
       "(0.5203311166528124,\n",
       " 0.6804099187911713,\n",
       " 0.5645704282251549,\n",
       " 0.7166195765296242,\n",
       " 0.5497519294377067,\n",
       " 0.7039696738373027)"
      ]
     },
     "execution_count": 12,
     "metadata": {},
     "output_type": "execute_result"
    }
   ],
   "source": [
    "rand4 = pickle_load(\"results/pytorch-esm-rand/structure/secondary_structure/tape_ss3_processed/esm1_t6_43M_UR50S/noflatten/esm1_t6_43M_UR50S-noflatten-layer_4.pkl\")\n",
    "rand4[\"cb513\"][\"acc\"], rand4[\"cb513\"][\"rocauc\"], rand4[\"ts115\"][\"acc\"], rand4[\"ts115\"][\"rocauc\"], rand4[\"casp12\"][\"acc\"], rand4[\"casp12\"][\"rocauc\"]"
   ]
  },
  {
   "cell_type": "code",
   "execution_count": 13,
   "metadata": {},
   "outputs": [
    {
     "data": {
      "text/plain": [
       "(0.5190773067331671,\n",
       " 0.6798017826181083,\n",
       " 0.567330999192028,\n",
       " 0.7183198091144601,\n",
       " 0.5490628445424476,\n",
       " 0.7025275591732285)"
      ]
     },
     "execution_count": 13,
     "metadata": {},
     "output_type": "execute_result"
    }
   ],
   "source": [
    "rand5 = pickle_load(\"results/pytorch-esm-rand/structure/secondary_structure/tape_ss3_processed/esm1_t6_43M_UR50S/noflatten/esm1_t6_43M_UR50S-noflatten-layer_5.pkl\")\n",
    "rand5[\"cb513\"][\"acc\"], rand5[\"cb513\"][\"rocauc\"], rand5[\"ts115\"][\"acc\"], rand5[\"ts115\"][\"rocauc\"], rand5[\"casp12\"][\"acc\"], rand5[\"casp12\"][\"rocauc\"]"
   ]
  },
  {
   "cell_type": "code",
   "execution_count": 14,
   "metadata": {},
   "outputs": [
    {
     "data": {
      "text/plain": [
       "(0.5184123025768911,\n",
       " 0.6789741680936543,\n",
       " 0.5685429571774845,\n",
       " 0.7193889840460939,\n",
       " 0.5525082690187431,\n",
       " 0.7061988648684436)"
      ]
     },
     "execution_count": 14,
     "metadata": {},
     "output_type": "execute_result"
    }
   ],
   "source": [
    "rand6 = pickle_load(\"results/pytorch-esm-rand/structure/secondary_structure/tape_ss3_processed/esm1_t6_43M_UR50S/noflatten/esm1_t6_43M_UR50S-noflatten-layer_6.pkl\")\n",
    "rand6[\"cb513\"][\"acc\"], rand6[\"cb513\"][\"rocauc\"], rand6[\"ts115\"][\"acc\"], rand6[\"ts115\"][\"rocauc\"], rand6[\"casp12\"][\"acc\"], rand6[\"casp12\"][\"rocauc\"]"
   ]
  },
  {
   "cell_type": "code",
   "execution_count": null,
   "metadata": {},
   "outputs": [],
   "source": []
  }
 ],
 "metadata": {
  "kernelspec": {
   "display_name": "protran",
   "language": "python",
   "name": "python3"
  },
  "language_info": {
   "codemirror_mode": {
    "name": "ipython",
    "version": 3
   },
   "file_extension": ".py",
   "mimetype": "text/x-python",
   "name": "python",
   "nbconvert_exporter": "python",
   "pygments_lexer": "ipython3",
   "version": "3.9.10"
  },
  "orig_nbformat": 4,
  "vscode": {
   "interpreter": {
    "hash": "463b23ca674b6cebd873d35026dbfbdc6c3c46566df13b694aa58a4a30e92e18"
   }
  }
 },
 "nbformat": 4,
 "nbformat_minor": 2
}
