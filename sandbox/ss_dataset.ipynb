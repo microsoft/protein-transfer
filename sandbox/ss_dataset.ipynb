{
 "cells": [
  {
   "cell_type": "code",
   "execution_count": 1,
   "metadata": {},
   "outputs": [
    {
     "name": "stdout",
     "output_type": "stream",
     "text": [
      "/home/t-fli/repo/protein-transfer\n"
     ]
    }
   ],
   "source": [
    "%cd ~/repo/protein-transfer"
   ]
  },
  {
   "cell_type": "code",
   "execution_count": 2,
   "metadata": {},
   "outputs": [],
   "source": [
    "%load_ext blackcellmagic"
   ]
  },
  {
   "cell_type": "code",
   "execution_count": 5,
   "metadata": {},
   "outputs": [],
   "source": [
    "import os\n",
    "import numpy as np\n",
    "import pandas as pd"
   ]
  },
  {
   "cell_type": "code",
   "execution_count": 6,
   "metadata": {},
   "outputs": [
    {
     "data": {
      "text/html": [
       "<div>\n",
       "<style scoped>\n",
       "    .dataframe tbody tr th:only-of-type {\n",
       "        vertical-align: middle;\n",
       "    }\n",
       "\n",
       "    .dataframe tbody tr th {\n",
       "        vertical-align: top;\n",
       "    }\n",
       "\n",
       "    .dataframe thead th {\n",
       "        text-align: right;\n",
       "    }\n",
       "</style>\n",
       "<table border=\"1\" class=\"dataframe\">\n",
       "  <thead>\n",
       "    <tr style=\"text-align: right;\">\n",
       "      <th></th>\n",
       "      <th>sequence</th>\n",
       "      <th>ss3</th>\n",
       "      <th>split</th>\n",
       "    </tr>\n",
       "  </thead>\n",
       "  <tbody>\n",
       "    <tr>\n",
       "      <th>0</th>\n",
       "      <td>AETVESCLAKSHTENSFTNVXKDDKTLDRYANYEGCLWNATGVVVC...</td>\n",
       "      <td>[2, 2, 2, 0, 0, 0, 0, 0, 2, 2, 2, 2, 1, 1, 1, ...</td>\n",
       "      <td>train</td>\n",
       "    </tr>\n",
       "    <tr>\n",
       "      <th>1</th>\n",
       "      <td>ASQEISKSIYTCNDNQVXEVIYVNTEAGNAYAIISQVNEXIPXRLX...</td>\n",
       "      <td>[2, 2, 2, 2, 1, 1, 1, 1, 1, 1, 1, 1, 2, 2, 2, ...</td>\n",
       "      <td>train</td>\n",
       "    </tr>\n",
       "    <tr>\n",
       "      <th>2</th>\n",
       "      <td>XGSSHHHHHHSSGRENLYFQGXNISEINGFEVTGFVVRTTNADEXN...</td>\n",
       "      <td>[2, 2, 2, 2, 2, 2, 2, 2, 2, 2, 2, 2, 2, 2, 2, ...</td>\n",
       "      <td>train</td>\n",
       "    </tr>\n",
       "    <tr>\n",
       "      <th>3</th>\n",
       "      <td>SNADYNRLSVPGNVIGKGGNAVVYEDAEDATKVLKMFTTSQSNEEV...</td>\n",
       "      <td>[2, 2, 2, 2, 2, 2, 2, 2, 2, 2, 1, 1, 1, 1, 1, ...</td>\n",
       "      <td>train</td>\n",
       "    </tr>\n",
       "    <tr>\n",
       "      <th>4</th>\n",
       "      <td>DTVGRPLPHLAAAMQASGEAVYCDDIPRYENELFLRLVTSTRAHAK...</td>\n",
       "      <td>[2, 2, 2, 2, 2, 2, 2, 2, 2, 2, 2, 0, 0, 0, 0, ...</td>\n",
       "      <td>train</td>\n",
       "    </tr>\n",
       "  </tbody>\n",
       "</table>\n",
       "</div>"
      ],
      "text/plain": [
       "                                            sequence  \\\n",
       "0  AETVESCLAKSHTENSFTNVXKDDKTLDRYANYEGCLWNATGVVVC...   \n",
       "1  ASQEISKSIYTCNDNQVXEVIYVNTEAGNAYAIISQVNEXIPXRLX...   \n",
       "2  XGSSHHHHHHSSGRENLYFQGXNISEINGFEVTGFVVRTTNADEXN...   \n",
       "3  SNADYNRLSVPGNVIGKGGNAVVYEDAEDATKVLKMFTTSQSNEEV...   \n",
       "4  DTVGRPLPHLAAAMQASGEAVYCDDIPRYENELFLRLVTSTRAHAK...   \n",
       "\n",
       "                                                 ss3  split  \n",
       "0  [2, 2, 2, 0, 0, 0, 0, 0, 2, 2, 2, 2, 1, 1, 1, ...  train  \n",
       "1  [2, 2, 2, 2, 1, 1, 1, 1, 1, 1, 1, 1, 2, 2, 2, ...  train  \n",
       "2  [2, 2, 2, 2, 2, 2, 2, 2, 2, 2, 2, 2, 2, 2, 2, ...  train  \n",
       "3  [2, 2, 2, 2, 2, 2, 2, 2, 2, 2, 1, 1, 1, 1, 1, ...  train  \n",
       "4  [2, 2, 2, 2, 2, 2, 2, 2, 2, 2, 2, 0, 0, 0, 0, ...  train  "
      ]
     },
     "execution_count": 6,
     "metadata": {},
     "output_type": "execute_result"
    }
   ],
   "source": [
    "df = pd.read_csv(\"data/structure/secondary_structure/tape_ss3.csv\")\n",
    "df[\"ss3\"] = df[\"ss3\"].apply(lambda x: np.array(x[1:-1].split(\", \")))\n",
    "df.head()"
   ]
  },
  {
   "cell_type": "code",
   "execution_count": 7,
   "metadata": {},
   "outputs": [
    {
     "data": {
      "text/plain": [
       "('AETVESCLAKSHTENSFTNVXKDDKTLDRYANYEGCLWNATGVVVCTGDETQCYGTWVPIGLAIPENEGGGSEGGGSEGGGSEGGGTKPPEYGDTPIPGYTYINPLDGTYPPGTEQNPANPNPSLEESQPLNTFMFQNNRFRNRQGALTVYTGTVTQGTDPVKTYYQYTPVSSKAMYDAYWNGKFRDCAFHSGFNEDIFVCEYQGQSSDLPQPPVNA',\n",
       " array(['2', '2', '2', '0', '0', '0', '0', '0', '2', '2', '2', '2', '1',\n",
       "        '1', '1', '1', '1', '1', '2', '2', '1', '1', '2', '2', '2', '2',\n",
       "        '2', '2', '1', '1', '1', '1', '1', '2', '2', '1', '1', '1', '1',\n",
       "        '1', '1', '1', '1', '1', '1', '1', '2', '2', '2', '2', '2', '1',\n",
       "        '1', '1', '1', '1', '1', '1', '1', '1', '1', '1', '2', '2', '2',\n",
       "        '2', '2', '2', '2', '2', '2', '2', '2', '2', '2', '2', '2', '2',\n",
       "        '2', '2', '2', '2', '2', '2', '2', '2', '2', '2', '2', '2', '2',\n",
       "        '2', '2', '2', '2', '2', '1', '1', '1', '1', '1', '2', '2', '2',\n",
       "        '2', '2', '2', '2', '2', '2', '2', '1', '2', '2', '2', '2', '1',\n",
       "        '2', '2', '2', '2', '2', '2', '1', '1', '1', '2', '2', '2', '2',\n",
       "        '2', '2', '2', '1', '1', '1', '2', '2', '1', '1', '1', '1', '1',\n",
       "        '1', '2', '2', '1', '1', '1', '1', '1', '1', '1', '1', '1', '1',\n",
       "        '1', '2', '2', '2', '2', '2', '1', '1', '1', '1', '1', '1', '1',\n",
       "        '1', '2', '2', '2', '0', '0', '0', '0', '0', '0', '0', '0', '2',\n",
       "        '2', '2', '2', '2', '2', '2', '2', '2', '2', '2', '2', '2', '2',\n",
       "        '2', '2', '2', '1', '1', '2', '2', '2', '2', '2', '2', '1', '1',\n",
       "        '1', '1', '2', '2', '2', '2', '2', '2', '2'], dtype='<U1'))"
      ]
     },
     "execution_count": 7,
     "metadata": {},
     "output_type": "execute_result"
    }
   ],
   "source": [
    "df.sequence[0], df.ss3[0], "
   ]
  },
  {
   "cell_type": "code",
   "execution_count": 19,
   "metadata": {},
   "outputs": [
    {
     "data": {
      "text/plain": [
       "((4,), (4,), 98, 98)"
      ]
     },
     "execution_count": 19,
     "metadata": {},
     "output_type": "execute_result"
    }
   ],
   "source": [
    "df.sequence[:4].shape, df.ss3[:4].shape, len(df.sequence[1]), len(df.ss3[1])"
   ]
  },
  {
   "cell_type": "code",
   "execution_count": 8,
   "metadata": {},
   "outputs": [
    {
     "data": {
      "text/plain": [
       "array(['train', 'valid', 'cb513', 'ts115', 'casp12'], dtype=object)"
      ]
     },
     "execution_count": 8,
     "metadata": {},
     "output_type": "execute_result"
    }
   ],
   "source": [
    "df.split.unique()"
   ]
  },
  {
   "cell_type": "code",
   "execution_count": 3,
   "metadata": {},
   "outputs": [],
   "source": [
    "from scr.preprocess.data_process import std_ssdf"
   ]
  },
  {
   "cell_type": "code",
   "execution_count": 4,
   "metadata": {},
   "outputs": [
    {
     "data": {
      "text/plain": [
       "<function scr.preprocess.data_process.std_ssdf(ssdf_path: 'str' = 'data/structure/secondary_structure/tape_ss3.csv') -> 'None'>"
      ]
     },
     "execution_count": 4,
     "metadata": {},
     "output_type": "execute_result"
    }
   ],
   "source": [
    "import os\n",
    "import numpy as np\n",
    "import pandas as pd\n",
    "\n",
    "def std_ssdf(\n",
    "    ssdf_path: str = \"data/structure/secondary_structure/tape_ss3.csv\",\n",
    ") -> None:\n",
    "    \"\"\"\n",
    "    A function that standardize secondary structure dataset\n",
    "    to set up as columns as sequence, target, set, validation\n",
    "    where set is train or test and add validation as true\n",
    "    \"\"\"\n",
    "    folder_path = os.path.dirname(ssdf_path)\n",
    "\n",
    "    df = pd.read_csv(ssdf_path)\n",
    "    \n",
    "    # add validation column\n",
    "    df[\"validation\"] = df[\"split\"].apply(lambda x: True if x == \"valid\" else np.nan)\n",
    "    # now replace valid to train\n",
    "    df[\"split\"] = df[\"split\"].replace(\"valid\", \"train\")\n",
    "    # rename all columns\n",
    "    df.columns = [\"sequence\", \"target\", \"set\", \"validation\"]\n",
    "\n",
    "    # get all kinds of test sets\n",
    "    ss_tests = set(df[\"set\"].unique()) - set([\"train\"])\n",
    "\n",
    "    for ss_test in ss_tests:\n",
    "        ss_df = df.loc[~df[\"set\"].isin(set(ss_tests) - set([ss_test]))]\n",
    "        ss_df[\"set\"] = ss_df[\"set\"].replace(ss_test, \"test\")\n",
    "        display(ss_df.head())\n",
    "        display(ss_df.target[0])\n",
    "        ss_df.to_csv(os.path.join(folder_path, ss_test + \".csv\"), index=False)\n"
   ]
  },
  {
   "cell_type": "code",
   "execution_count": 5,
   "metadata": {},
   "outputs": [],
   "source": [
    "std_ssdf()"
   ]
  },
  {
   "cell_type": "code",
   "execution_count": 41,
   "metadata": {},
   "outputs": [
    {
     "data": {
      "text/plain": [
       "array([[2, 2, 0],\n",
       "       [1, 2, 1],\n",
       "       [2, 1, 0],\n",
       "       [0, 0, 2],\n",
       "       [0, 2, 1],\n",
       "       [0, 0, 2],\n",
       "       [1, 1, 0],\n",
       "       [1, 1, 1],\n",
       "       [0, 0, 2],\n",
       "       [2, 0, 0]])"
      ]
     },
     "execution_count": 41,
     "metadata": {},
     "output_type": "execute_result"
    }
   ],
   "source": [
    "from sklearn.datasets import make_classification\n",
    "from sklearn.multioutput import MultiOutputClassifier\n",
    "from sklearn.ensemble import RandomForestClassifier\n",
    "from sklearn.utils import shuffle\n",
    "import numpy as np\n",
    "\n",
    "X, y1 = make_classification(n_samples=10, n_features=100,\n",
    "                            n_informative=30, n_classes=3,\n",
    "                            random_state=1)\n",
    "y2 = shuffle(y1, random_state=1)\n",
    "y3 = shuffle(y1, random_state=2)\n",
    "Y = np.vstack((y1, y2, y3)).T\n",
    "n_samples, n_features = X.shape # 10,100\n",
    "n_outputs = Y.shape[1] # 3\n",
    "n_classes = 3\n",
    "forest = RandomForestClassifier(random_state=1)\n",
    "multi_target_forest = MultiOutputClassifier(forest, n_jobs=2)\n",
    "multi_target_forest.fit(X, Y).predict(X)"
   ]
  },
  {
   "cell_type": "code",
   "execution_count": 9,
   "metadata": {},
   "outputs": [],
   "source": [
    "from scr.encoding.encoding_classes import ESMEncoder"
   ]
  },
  {
   "cell_type": "code",
   "execution_count": 10,
   "metadata": {},
   "outputs": [
    {
     "name": "stdout",
     "output_type": "stream",
     "text": [
      "Generating esm1_t6_43M_UR50S upto 6 layer embedding ...\n"
     ]
    },
    {
     "name": "stderr",
     "output_type": "stream",
     "text": [
      "Using cache found in /home/t-fli/.cache/torch/hub/facebookresearch_esm_main\n",
      "  0%|          | 0/2875 [00:00<?, ?it/s]"
     ]
    },
    {
     "name": "stdout",
     "output_type": "stream",
     "text": [
      "No embedding flattening\n",
      "No embedding flattening\n",
      "No embedding flattening\n",
      "No embedding flattening\n",
      "No embedding flattening\n",
      "No embedding flattening\n",
      "No embedding flattening\n"
     ]
    },
    {
     "data": {
      "text/plain": [
       "(4, 217, 768)"
      ]
     },
     "execution_count": 10,
     "metadata": {},
     "output_type": "execute_result"
    }
   ],
   "source": [
    "mean_batch_encoder = ESMEncoder(\n",
    "    encoder_name=\"esm1_t6_43M_UR50S\",\n",
    ").encode(mut_seqs=list(df.sequence), batch_size=4, flatten_emb=False)\n",
    "one_mean_emb = next(mean_batch_encoder)\n",
    "one_mean_emb[0].shape"
   ]
  },
  {
   "cell_type": "code",
   "execution_count": 11,
   "metadata": {},
   "outputs": [
    {
     "data": {
      "text/plain": [
       "(4, 217, 768)"
      ]
     },
     "execution_count": 11,
     "metadata": {},
     "output_type": "execute_result"
    }
   ],
   "source": [
    "X = one_mean_emb[0]\n",
    "X.shape"
   ]
  },
  {
   "cell_type": "code",
   "execution_count": 12,
   "metadata": {},
   "outputs": [],
   "source": [
    "import torch\n",
    "import torch.nn as nn\n",
    "import torch.nn.functional as F"
   ]
  },
  {
   "cell_type": "code",
   "execution_count": 13,
   "metadata": {},
   "outputs": [
    {
     "data": {
      "text/plain": [
       "0    [2, 2, 2, 0, 0, 0, 0, 0, 2, 2, 2, 2, 1, 1, 1, ...\n",
       "1    [2, 2, 2, 2, 1, 1, 1, 1, 1, 1, 1, 1, 2, 2, 2, ...\n",
       "2    [2, 2, 2, 2, 2, 2, 2, 2, 2, 2, 2, 2, 2, 2, 2, ...\n",
       "3    [2, 2, 2, 2, 2, 2, 2, 2, 2, 2, 1, 1, 1, 1, 1, ...\n",
       "Name: ss3, dtype: object"
      ]
     },
     "execution_count": 13,
     "metadata": {},
     "output_type": "execute_result"
    }
   ],
   "source": [
    "df.ss3[:4]"
   ]
  },
  {
   "cell_type": "code",
   "execution_count": 14,
   "metadata": {},
   "outputs": [
    {
     "data": {
      "text/plain": [
       "(4,)"
      ]
     },
     "execution_count": 14,
     "metadata": {},
     "output_type": "execute_result"
    }
   ],
   "source": [
    "Y = df.ss3[:4].to_numpy()\n",
    "Y.shape"
   ]
  },
  {
   "cell_type": "code",
   "execution_count": 15,
   "metadata": {},
   "outputs": [
    {
     "data": {
      "text/plain": [
       "array([array(['2', '2', '2', '0', '0', '0', '0', '0', '2', '2', '2', '2', '1',\n",
       "              '1', '1', '1', '1', '1', '2', '2', '1', '1', '2', '2', '2', '2',\n",
       "              '2', '2', '1', '1', '1', '1', '1', '2', '2', '1', '1', '1', '1',\n",
       "              '1', '1', '1', '1', '1', '1', '1', '2', '2', '2', '2', '2', '1',\n",
       "              '1', '1', '1', '1', '1', '1', '1', '1', '1', '1', '2', '2', '2',\n",
       "              '2', '2', '2', '2', '2', '2', '2', '2', '2', '2', '2', '2', '2',\n",
       "              '2', '2', '2', '2', '2', '2', '2', '2', '2', '2', '2', '2', '2',\n",
       "              '2', '2', '2', '2', '2', '1', '1', '1', '1', '1', '2', '2', '2',\n",
       "              '2', '2', '2', '2', '2', '2', '2', '1', '2', '2', '2', '2', '1',\n",
       "              '2', '2', '2', '2', '2', '2', '1', '1', '1', '2', '2', '2', '2',\n",
       "              '2', '2', '2', '1', '1', '1', '2', '2', '1', '1', '1', '1', '1',\n",
       "              '1', '2', '2', '1', '1', '1', '1', '1', '1', '1', '1', '1', '1',\n",
       "              '1', '2', '2', '2', '2', '2', '1', '1', '1', '1', '1', '1', '1',\n",
       "              '1', '2', '2', '2', '0', '0', '0', '0', '0', '0', '0', '0', '2',\n",
       "              '2', '2', '2', '2', '2', '2', '2', '2', '2', '2', '2', '2', '2',\n",
       "              '2', '2', '2', '1', '1', '2', '2', '2', '2', '2', '2', '1', '1',\n",
       "              '1', '1', '2', '2', '2', '2', '2', '2', '2'], dtype='<U1')      ,\n",
       "       array(['2', '2', '2', '2', '1', '1', '1', '1', '1', '1', '1', '1', '2',\n",
       "              '2', '2', '1', '1', '1', '1', '1', '1', '1', '1', '1', '2', '2',\n",
       "              '2', '2', '2', '1', '1', '1', '1', '1', '1', '1', '2', '2', '1',\n",
       "              '1', '1', '1', '1', '1', '1', '1', '1', '2', '2', '2', '2', '1',\n",
       "              '1', '1', '1', '1', '2', '2', '2', '2', '2', '2', '2', '1', '1',\n",
       "              '1', '1', '1', '2', '2', '1', '1', '1', '1', '1', '1', '2', '2',\n",
       "              '2', '1', '1', '1', '1', '1', '1', '1', '1', '1', '2', '2', '2',\n",
       "              '2', '2', '2', '2', '2', '2', '2'], dtype='<U1')                ,\n",
       "       array(['2', '2', '2', '2', '2', '2', '2', '2', '2', '2', '2', '2', '2',\n",
       "              '2', '2', '2', '2', '1', '1', '1', '1', '1', '1', '1', '1', '1',\n",
       "              '1', '2', '2', '1', '1', '1', '1', '1', '1', '1', '1', '1', '1',\n",
       "              '2', '0', '0', '0', '0', '0', '2', '2', '2', '2', '2', '2', '0',\n",
       "              '0', '0', '0', '0', '0', '0', '0', '0', '0', '0', '2', '0', '0',\n",
       "              '0', '2', '2', '2', '2', '2', '2', '1', '1', '1', '1', '1', '1',\n",
       "              '2', '2', '2', '2', '2', '2', '2', '2', '2', '1', '1', '1', '1',\n",
       "              '1', '1', '1', '2', '2', '2', '2', '2', '2', '2', '2', '2', '2',\n",
       "              '2', '1', '1', '1', '1', '1', '2', '2', '1', '1', '1', '1', '1',\n",
       "              '1', '1', '1', '1', '2', '2', '2', '2', '0', '0', '0', '0', '0',\n",
       "              '0', '0', '0', '0', '0', '0', '0', '0', '0', '2', '2', '2', '2',\n",
       "              '2', '2', '2', '2', '1', '2', '2', '2', '1', '1', '1', '1', '1',\n",
       "              '2', '2', '2', '2', '2', '1', '1', '1', '1', '1', '1', '1', '1',\n",
       "              '2'], dtype='<U1')                                              ,\n",
       "       array(['2', '2', '2', '2', '2', '2', '2', '2', '2', '2', '1', '1', '1',\n",
       "              '1', '1', '1', '1', '2', '2', '2', '1', '1', '1', '1', '1', '1',\n",
       "              '2', '2', '2', '2', '2', '1', '1', '1', '1', '1', '1', '2', '2',\n",
       "              '2', '2', '2', '0', '0', '0', '0', '0', '0', '0', '0', '0', '0',\n",
       "              '0', '0', '0', '0', '0', '2', '2', '2', '2', '1', '1', '1', '1',\n",
       "              '1', '2', '2', '2', '2', '2', '1', '1', '1', '1', '1', '1', '1',\n",
       "              '2', '2', '2', '2', '1', '1', '2', '2', '2', '2', '2', '2', '2',\n",
       "              '2', '2', '2', '0', '0', '0', '0', '0', '0', '0', '0', '0', '0',\n",
       "              '0', '0', '0', '0', '2', '2', '2', '2', '1', '2', '2', '2', '2',\n",
       "              '2', '2', '2', '1', '1', '1', '1', '2', '2', '2', '2', '1', '1',\n",
       "              '1', '1', '2', '2', '2', '2', '1', '2', '2', '2', '2', '2', '2',\n",
       "              '2', '2', '2', '0', '0', '0', '0', '0', '0', '0', '0', '0', '0',\n",
       "              '0', '0', '0', '0', '0', '0', '0', '0', '0', '0', '2', '2', '2'],\n",
       "             dtype='<U1')                                                      ],\n",
       "      dtype=object)"
      ]
     },
     "execution_count": 15,
     "metadata": {},
     "output_type": "execute_result"
    }
   ],
   "source": [
    "Y"
   ]
  },
  {
   "cell_type": "code",
   "execution_count": 21,
   "metadata": {},
   "outputs": [
    {
     "data": {
      "text/plain": [
       "217"
      ]
     },
     "execution_count": 21,
     "metadata": {},
     "output_type": "execute_result"
    }
   ],
   "source": [
    "X.shape[1]"
   ]
  },
  {
   "cell_type": "code",
   "execution_count": 22,
   "metadata": {},
   "outputs": [
    {
     "data": {
      "text/plain": [
       "array([['2', '2', '2', '0', '0', '0', '0', '0', '2', '2', '2', '2', '1',\n",
       "        '1', '1', '1', '1', '1', '2', '2', '1', '1', '2', '2', '2', '2',\n",
       "        '2', '2', '1', '1', '1', '1', '1', '2', '2', '1', '1', '1', '1',\n",
       "        '1', '1', '1', '1', '1', '1', '1', '2', '2', '2', '2', '2', '1',\n",
       "        '1', '1', '1', '1', '1', '1', '1', '1', '1', '1', '2', '2', '2',\n",
       "        '2', '2', '2', '2', '2', '2', '2', '2', '2', '2', '2', '2', '2',\n",
       "        '2', '2', '2', '2', '2', '2', '2', '2', '2', '2', '2', '2', '2',\n",
       "        '2', '2', '2', '2', '2', '1', '1', '1', '1', '1', '2', '2', '2',\n",
       "        '2', '2', '2', '2', '2', '2', '2', '1', '2', '2', '2', '2', '1',\n",
       "        '2', '2', '2', '2', '2', '2', '1', '1', '1', '2', '2', '2', '2',\n",
       "        '2', '2', '2', '1', '1', '1', '2', '2', '1', '1', '1', '1', '1',\n",
       "        '1', '2', '2', '1', '1', '1', '1', '1', '1', '1', '1', '1', '1',\n",
       "        '1', '2', '2', '2', '2', '2', '1', '1', '1', '1', '1', '1', '1',\n",
       "        '1', '2', '2', '2', '0', '0', '0', '0', '0', '0', '0', '0', '2',\n",
       "        '2', '2', '2', '2', '2', '2', '2', '2', '2', '2', '2', '2', '2',\n",
       "        '2', '2', '2', '1', '1', '2', '2', '2', '2', '2', '2', '1', '1',\n",
       "        '1', '1', '2', '2', '2', '2', '2', '2', '2'],\n",
       "       ['2', '2', '2', '2', '1', '1', '1', '1', '1', '1', '1', '1', '2',\n",
       "        '2', '2', '1', '1', '1', '1', '1', '1', '1', '1', '1', '2', '2',\n",
       "        '2', '2', '2', '1', '1', '1', '1', '1', '1', '1', '2', '2', '1',\n",
       "        '1', '1', '1', '1', '1', '1', '1', '1', '2', '2', '2', '2', '1',\n",
       "        '1', '1', '1', '1', '2', '2', '2', '2', '2', '2', '2', '1', '1',\n",
       "        '1', '1', '1', '2', '2', '1', '1', '1', '1', '1', '1', '2', '2',\n",
       "        '2', '1', '1', '1', '1', '1', '1', '1', '1', '1', '2', '2', '2',\n",
       "        '2', '2', '2', '2', '2', '2', '2', '-', '-', '-', '-', '-', '-',\n",
       "        '-', '-', '-', '-', '-', '-', '-', '-', '-', '-', '-', '-', '-',\n",
       "        '-', '-', '-', '-', '-', '-', '-', '-', '-', '-', '-', '-', '-',\n",
       "        '-', '-', '-', '-', '-', '-', '-', '-', '-', '-', '-', '-', '-',\n",
       "        '-', '-', '-', '-', '-', '-', '-', '-', '-', '-', '-', '-', '-',\n",
       "        '-', '-', '-', '-', '-', '-', '-', '-', '-', '-', '-', '-', '-',\n",
       "        '-', '-', '-', '-', '-', '-', '-', '-', '-', '-', '-', '-', '-',\n",
       "        '-', '-', '-', '-', '-', '-', '-', '-', '-', '-', '-', '-', '-',\n",
       "        '-', '-', '-', '-', '-', '-', '-', '-', '-', '-', '-', '-', '-',\n",
       "        '-', '-', '-', '-', '-', '-', '-', '-', '-'],\n",
       "       ['2', '2', '2', '2', '2', '2', '2', '2', '2', '2', '2', '2', '2',\n",
       "        '2', '2', '2', '2', '1', '1', '1', '1', '1', '1', '1', '1', '1',\n",
       "        '1', '2', '2', '1', '1', '1', '1', '1', '1', '1', '1', '1', '1',\n",
       "        '2', '0', '0', '0', '0', '0', '2', '2', '2', '2', '2', '2', '0',\n",
       "        '0', '0', '0', '0', '0', '0', '0', '0', '0', '0', '2', '0', '0',\n",
       "        '0', '2', '2', '2', '2', '2', '2', '1', '1', '1', '1', '1', '1',\n",
       "        '2', '2', '2', '2', '2', '2', '2', '2', '2', '1', '1', '1', '1',\n",
       "        '1', '1', '1', '2', '2', '2', '2', '2', '2', '2', '2', '2', '2',\n",
       "        '2', '1', '1', '1', '1', '1', '2', '2', '1', '1', '1', '1', '1',\n",
       "        '1', '1', '1', '1', '2', '2', '2', '2', '0', '0', '0', '0', '0',\n",
       "        '0', '0', '0', '0', '0', '0', '0', '0', '0', '2', '2', '2', '2',\n",
       "        '2', '2', '2', '2', '1', '2', '2', '2', '1', '1', '1', '1', '1',\n",
       "        '2', '2', '2', '2', '2', '1', '1', '1', '1', '1', '1', '1', '1',\n",
       "        '2', '-', '-', '-', '-', '-', '-', '-', '-', '-', '-', '-', '-',\n",
       "        '-', '-', '-', '-', '-', '-', '-', '-', '-', '-', '-', '-', '-',\n",
       "        '-', '-', '-', '-', '-', '-', '-', '-', '-', '-', '-', '-', '-',\n",
       "        '-', '-', '-', '-', '-', '-', '-', '-', '-'],\n",
       "       ['2', '2', '2', '2', '2', '2', '2', '2', '2', '2', '1', '1', '1',\n",
       "        '1', '1', '1', '1', '2', '2', '2', '1', '1', '1', '1', '1', '1',\n",
       "        '2', '2', '2', '2', '2', '1', '1', '1', '1', '1', '1', '2', '2',\n",
       "        '2', '2', '2', '0', '0', '0', '0', '0', '0', '0', '0', '0', '0',\n",
       "        '0', '0', '0', '0', '0', '2', '2', '2', '2', '1', '1', '1', '1',\n",
       "        '1', '2', '2', '2', '2', '2', '1', '1', '1', '1', '1', '1', '1',\n",
       "        '2', '2', '2', '2', '1', '1', '2', '2', '2', '2', '2', '2', '2',\n",
       "        '2', '2', '2', '0', '0', '0', '0', '0', '0', '0', '0', '0', '0',\n",
       "        '0', '0', '0', '0', '2', '2', '2', '2', '1', '2', '2', '2', '2',\n",
       "        '2', '2', '2', '1', '1', '1', '1', '2', '2', '2', '2', '1', '1',\n",
       "        '1', '1', '2', '2', '2', '2', '1', '2', '2', '2', '2', '2', '2',\n",
       "        '2', '2', '2', '0', '0', '0', '0', '0', '0', '0', '0', '0', '0',\n",
       "        '0', '0', '0', '0', '0', '0', '0', '0', '0', '0', '2', '2', '2',\n",
       "        '-', '-', '-', '-', '-', '-', '-', '-', '-', '-', '-', '-', '-',\n",
       "        '-', '-', '-', '-', '-', '-', '-', '-', '-', '-', '-', '-', '-',\n",
       "        '-', '-', '-', '-', '-', '-', '-', '-', '-', '-', '-', '-', '-',\n",
       "        '-', '-', '-', '-', '-', '-', '-', '-', '-']], dtype='<U1')"
      ]
     },
     "execution_count": 22,
     "metadata": {},
     "output_type": "execute_result"
    }
   ],
   "source": [
    "np.stack([np.pad(y, pad_width=(0, X.shape[1] - len(y)), constant_values=-1) for y in Y])"
   ]
  },
  {
   "cell_type": "code",
   "execution_count": null,
   "metadata": {},
   "outputs": [],
   "source": [
    "# pad wiht -1\n",
    "np.pad(y, pad_width=((0, X.shape[1] - len(y)), (-1 , -1)))"
   ]
  }
 ],
 "metadata": {
  "kernelspec": {
   "display_name": "Python 3.9.2 ('protran')",
   "language": "python",
   "name": "python3"
  },
  "language_info": {
   "codemirror_mode": {
    "name": "ipython",
    "version": 3
   },
   "file_extension": ".py",
   "mimetype": "text/x-python",
   "name": "python",
   "nbconvert_exporter": "python",
   "pygments_lexer": "ipython3",
   "version": "3.9.2"
  },
  "orig_nbformat": 4,
  "vscode": {
   "interpreter": {
    "hash": "019692f042c79b6731ff84413c6b50d6174007f2b51f86eed1fb032dbd4a337e"
   }
  }
 },
 "nbformat": 4,
 "nbformat_minor": 2
}
