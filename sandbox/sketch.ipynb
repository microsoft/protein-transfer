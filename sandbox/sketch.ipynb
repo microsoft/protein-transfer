{
 "cells": [
  {
   "cell_type": "code",
   "execution_count": 1,
   "metadata": {},
   "outputs": [
    {
     "name": "stdout",
     "output_type": "stream",
     "text": [
      "/home/t-fli/repo/protein-transfer\n"
     ]
    }
   ],
   "source": [
    "%cd ~/repo/protein-transfer"
   ]
  },
  {
   "cell_type": "code",
   "execution_count": 14,
   "metadata": {},
   "outputs": [],
   "source": [
    "%load_ext blackcellmagic"
   ]
  },
  {
   "cell_type": "code",
   "execution_count": 13,
   "metadata": {},
   "outputs": [
    {
     "data": {
      "text/plain": [
       "array([[1, 0, 0],\n",
       "       [0, 1, 0]])"
      ]
     },
     "execution_count": 13,
     "metadata": {},
     "output_type": "execute_result"
    }
   ],
   "source": [
    "from itertools import zip_longest\n",
    "import numpy as np\n",
    "\n",
    "np.pad(np.array([[1,0,],[0,1,]]), pad_width=((0, 0), (0, 1)))"
   ]
  },
  {
   "cell_type": "code",
   "execution_count": 8,
   "metadata": {},
   "outputs": [
    {
     "name": "stderr",
     "output_type": "stream",
     "text": [
      "/tmp/ipykernel_210218/2513638776.py:1: VisibleDeprecationWarning: Creating an ndarray from ragged nested sequences (which is a list-or-tuple of lists-or-tuples-or ndarrays with different lengths or shapes) is deprecated. If you meant to do this, you must specify 'dtype=object' when creating the ndarray.\n",
      "  np.array(list(zip_longest(*[[[1,0,0],[0,1,1]], [[1,0,],[0,1,]]], fillvalue=0)))\n"
     ]
    },
    {
     "data": {
      "text/plain": [
       "array([[list([1, 0, 0]), list([1, 0])],\n",
       "       [list([0, 1, 1]), list([0, 1])]], dtype=object)"
      ]
     },
     "execution_count": 8,
     "metadata": {},
     "output_type": "execute_result"
    }
   ],
   "source": [
    "np.array(list(zip_longest(*[[[1,0,0],[0,1,1]], [[1,0,],[0,1,]]], fillvalue=0)))"
   ]
  },
  {
   "cell_type": "code",
   "execution_count": 2,
   "metadata": {},
   "outputs": [],
   "source": [
    "import os\n",
    "import shutil\n",
    "from glob import glob"
   ]
  },
  {
   "cell_type": "code",
   "execution_count": 31,
   "metadata": {},
   "outputs": [],
   "source": [
    "for png_path in glob(\"results/train_val_test/proeng/gb1/low_vs_high/*.pkl\"):\n",
    "    shutil.move(png_path, change_file_path(png_path))"
   ]
  },
  {
   "cell_type": "code",
   "execution_count": 25,
   "metadata": {},
   "outputs": [],
   "source": [
    "def change_file_path(old_png_path):\n",
    "    file_name, file_ext = os.path.splitext(os.path.basename(old_png_path))\n",
    "    encoder_name, layer, pooling = file_name.split(\"-\")\n",
    "    new_dir = os.path.join(os.path.dirname(old_png_path), encoder_name, pooling)\n",
    "    return os.path.join(new_dir, \"-\".join([encoder_name, pooling, layer]) + file_ext)"
   ]
  },
  {
   "cell_type": "code",
   "execution_count": 27,
   "metadata": {},
   "outputs": [
    {
     "data": {
      "text/plain": [
       "'results/learning_curves/proeng/gb1/low_vs_high/esm1b_t33_650M_UR50S/mean/esm1b_t33_650M_UR50S-mean-layer_26.png'"
      ]
     },
     "execution_count": 27,
     "metadata": {},
     "output_type": "execute_result"
    }
   ],
   "source": [
    "change_file_path(one_png_path)"
   ]
  },
  {
   "cell_type": "code",
   "execution_count": 13,
   "metadata": {},
   "outputs": [
    {
     "data": {
      "text/plain": [
       "'results/learning_curves/proeng/gb1/low_vs_high/esm1b_t33_650M_UR50S-layer_26-mean.png'"
      ]
     },
     "execution_count": 13,
     "metadata": {},
     "output_type": "execute_result"
    }
   ],
   "source": [
    "one_png_path = glob(\"results/learning_curves/proeng/gb1/low_vs_high/*.png\")[0]\n",
    "one_png_path"
   ]
  },
  {
   "cell_type": "code",
   "execution_count": 19,
   "metadata": {},
   "outputs": [],
   "source": [
    "file_name, file_ext = os.path.splitext(os.path.basename(one_png_path))\n",
    "encoder_name, layer, pooling = file_name.split(\"-\")"
   ]
  },
  {
   "cell_type": "code",
   "execution_count": 21,
   "metadata": {},
   "outputs": [],
   "source": [
    "new_dir = os.path.join(os.path.dirname(one_png_path), encoder_name, pooling)"
   ]
  },
  {
   "cell_type": "code",
   "execution_count": 24,
   "metadata": {},
   "outputs": [
    {
     "data": {
      "text/plain": [
       "'results/learning_curves/proeng/gb1/low_vs_high/esm1b_t33_650M_UR50S/mean/esm1b_t33_650M_UR50S-mean-layer_26.png'"
      ]
     },
     "execution_count": 24,
     "metadata": {},
     "output_type": "execute_result"
    }
   ],
   "source": [
    "new_file_name = os.path.join(new_dir, \"-\".join([encoder_name, pooling, layer]) + file_ext)\n",
    "new_file_name"
   ]
  },
  {
   "cell_type": "code",
   "execution_count": 32,
   "metadata": {},
   "outputs": [],
   "source": [
    "def get_task_data_split(dataset_path: str,) -> list[str]:\n",
    "    \"\"\"\n",
    "    Return the task, dataset, and the split given the dataset_path is\n",
    "    data/task/dataset/split.csv, ie. data/proeng/gb1/two_vs_rest.csv\n",
    "\n",
    "    Args:\n",
    "    - dataset_path: str, full path to the input dataset, in pkl or panda readable format\n",
    "        columns include: sequence, target, set, validation, mut_name (optional), mut_numb (optional)\n",
    "    \n",
    "    Returns:\n",
    "    - list[str]: [task, dataset, split]\n",
    "    \"\"\"\n",
    "    return os.path.splitext(dataset_path)[0].split(\"/\")[1:]"
   ]
  },
  {
   "cell_type": "code",
   "execution_count": 33,
   "metadata": {},
   "outputs": [
    {
     "data": {
      "text/plain": [
       "['proeng', 'gb1', 'two_vs_rest']"
      ]
     },
     "execution_count": 33,
     "metadata": {},
     "output_type": "execute_result"
    }
   ],
   "source": [
    "get_task_data_split(dataset_path=\"data/proeng/gb1/two_vs_rest.csv\")"
   ]
  },
  {
   "cell_type": "code",
   "execution_count": 34,
   "metadata": {},
   "outputs": [],
   "source": [
    "!mv /home/t-fli/amlt/protran/gb1-two_vs_rest-esm1_t6_43M_UR50S-mean_2/results/learning_curves/proeng/gb1/two_vs_rest/esm1_t6_43M_UR50S /home/t-fli/repo/protein-transfer/results/learning_curves/proeng/gb1/two_vs_rest"
   ]
  },
  {
   "cell_type": "code",
   "execution_count": 35,
   "metadata": {},
   "outputs": [],
   "source": [
    "!mv /home/t-fli/amlt/protran/gb1-two_vs_rest-esm1_t6_43M_UR50S-mean_2/results/train_val_test/proeng/gb1/two_vs_rest/esm1_t6_43M_UR50S /home/t-fli/repo/protein-transfer/results/train_val_test/proeng/gb1/two_vs_rest"
   ]
  },
  {
   "cell_type": "code",
   "execution_count": 36,
   "metadata": {},
   "outputs": [
    {
     "name": "stdout",
     "output_type": "stream",
     "text": [
      "mv: cannot stat '/home/t-fli/amlt/protran/gb1-low_vs_high-esm1_t6_43M_UR50S-mean_2/results/learning_curves/proeng/gb1/low_vs_high/esm1_t6_43M_UR50S': No such file or directory\n"
     ]
    }
   ],
   "source": [
    "!mv /home/t-fli/amlt/protran/gb1-low_vs_high-esm1_t6_43M_UR50S-mean_2/results/learning_curves/proeng/gb1/low_vs_high/esm1_t6_43M_UR50S /home/t-fli/repo/protein-transfer/results/learning_curves/proeng/gb1/low_vs_high"
   ]
  },
  {
   "cell_type": "code",
   "execution_count": 2,
   "metadata": {},
   "outputs": [],
   "source": [
    "!cp -r /home/t-fli/amlt/protran/gb1-low_vs_high-esm1_t6_43M_UR50S-max/results/learning_curves/proeng/gb1/low_vs_high/esm1_t6_43M_UR50S /home/t-fli/repo/protein-transfer/results/learning_curves/proeng/gb1/low_vs_high"
   ]
  },
  {
   "cell_type": "code",
   "execution_count": 4,
   "metadata": {},
   "outputs": [],
   "source": [
    "!cp -r /home/t-fli/amlt/protran/gb1-low_vs_high-esm1_t6_43M_UR50S-mean_2/results/learning_curves/proeng/gb1/low_vs_high/esm1_t6_43M_UR50S/mean /home/t-fli/repo/protein-transfer/results/learning_curves/proeng/gb1/low_vs_high/esm1_t6_43M_UR50S"
   ]
  },
  {
   "cell_type": "code",
   "execution_count": 5,
   "metadata": {},
   "outputs": [],
   "source": [
    "!cp -r /home/t-fli/amlt/protran/gb1-low_vs_high-esm1_t6_43M_UR50S-max/results/train_val_test/proeng/gb1/low_vs_high/esm1_t6_43M_UR50S /home/t-fli/repo/protein-transfer/results/train_val_test/proeng/gb1/low_vs_high\n",
    "!cp -r /home/t-fli/amlt/protran/gb1-low_vs_high-esm1_t6_43M_UR50S-mean_2/results/train_val_test/proeng/gb1/low_vs_high/esm1_t6_43M_UR50S/mean /home/t-fli/repo/protein-transfer/results/train_val_test/proeng/gb1/low_vs_high/esm1_t6_43M_UR50S"
   ]
  },
  {
   "cell_type": "code",
   "execution_count": 6,
   "metadata": {},
   "outputs": [],
   "source": [
    "!cp -r /home/t-fli/amlt/protran/gb1-low_vs_high-esm1b_t33_650M_UR50S-max/results/learning_curves/proeng/gb1/low_vs_high/esm1b_t33_650M_UR50S/max /home/t-fli/repo/protein-transfer/results/learning_curves/proeng/gb1/low_vs_high/esm1b_t33_650M_UR50S\n",
    "!cp -r /home/t-fli/amlt/protran/gb1-low_vs_high-esm1b_t33_650M_UR50S-max/results/train_val_test/proeng/gb1/low_vs_high/esm1b_t33_650M_UR50S/max /home/t-fli/repo/protein-transfer/results/train_val_test/proeng/gb1/low_vs_high/esm1b_t33_650M_UR50S"
   ]
  },
  {
   "cell_type": "code",
   "execution_count": 7,
   "metadata": {},
   "outputs": [],
   "source": [
    "!cp -r /home/t-fli/amlt/protran/gb1-two_vs_rest-esm1_t6_43M_UR50S-max/results/learning_curves/proeng/gb1/two_vs_rest/esm1_t6_43M_UR50S/max /home/t-fli/repo/protein-transfer/results/learning_curves/proeng/gb1/two_vs_rest/esm1_t6_43M_UR50S\n",
    "!cp -r /home/t-fli/amlt/protran/gb1-two_vs_rest-esm1_t6_43M_UR50S-max/results/train_val_test/proeng/gb1/two_vs_rest/esm1_t6_43M_UR50S/max /home/t-fli/repo/protein-transfer/results/train_val_test/proeng/gb1/two_vs_rest/esm1_t6_43M_UR50S"
   ]
  },
  {
   "cell_type": "code",
   "execution_count": 8,
   "metadata": {},
   "outputs": [],
   "source": [
    "!cp -r /home/t-fli/amlt/protran/gb1-two_vs_rest-esm1b_t33_650M_UR50S-max/results/learning_curves/proeng/gb1/two_vs_rest/esm1b_t33_650M_UR50S/max /home/t-fli/repo/protein-transfer/results/learning_curves/proeng/gb1/two_vs_rest/esm1b_t33_650M_UR50S\n",
    "!cp -r /home/t-fli/amlt/protran/gb1-two_vs_rest-esm1b_t33_650M_UR50S-max/results/train_val_test/proeng/gb1/two_vs_rest/esm1b_t33_650M_UR50S/max /home/t-fli/repo/protein-transfer/results/train_val_test/proeng/gb1/two_vs_rest/esm1b_t33_650M_UR50S"
   ]
  },
  {
   "cell_type": "code",
   "execution_count": null,
   "metadata": {},
   "outputs": [],
   "source": [
    "!mv /home/t-fli/amlt/protran/gb1-low_vs_high-esm1_t6_43M_UR50S-mean-sklearn/results/sklearn/proeng/gb1/low_vs_high/esm1_t6_43M_UR50S/mean /home/t-fli/repo/protein-transfer/results/train_val_test/proeng/gb1/two_vs_rest"
   ]
  },
  {
   "cell_type": "code",
   "execution_count": 3,
   "metadata": {},
   "outputs": [],
   "source": [
    "import os\n",
    "import shutil\n",
    "from glob import glob\n",
    "\n",
    "from scr.utils import checkNgen_folder"
   ]
  },
  {
   "cell_type": "code",
   "execution_count": 4,
   "metadata": {},
   "outputs": [],
   "source": [
    "def copy_results(input_folder, output_folder):\n",
    "    checkNgen_folder(output_folder)\n",
    "    for file_path in glob(input_folder + \"/*.pkl\"):\n",
    "        shutil.copyfile(file_path, os.path.join(output_folder, os.path.basename(file_path)))\n",
    "    "
   ]
  },
  {
   "cell_type": "code",
   "execution_count": 18,
   "metadata": {},
   "outputs": [
    {
     "name": "stdout",
     "output_type": "stream",
     "text": [
      "Making results/sklearn/proeng/gb1/low_vs_high/esm1_t6_43M_UR50S...\n",
      "Making results/sklearn/proeng/gb1/low_vs_high/esm1_t6_43M_UR50S/mean...\n"
     ]
    }
   ],
   "source": [
    "copy_results(input_folder=\"/home/t-fli/amlt/protran/gb1-low_vs_high-esm1_t6_43M_UR50S-mean-sklearn/results/sklearn/proeng/gb1/low_vs_high/esm1_t6_43M_UR50S/mean\",\n",
    "output_folder=\"results/sklearn/proeng/gb1/low_vs_high/esm1_t6_43M_UR50S/mean\")"
   ]
  },
  {
   "cell_type": "code",
   "execution_count": 16,
   "metadata": {},
   "outputs": [],
   "source": [
    "copy_results(input_folder=\"/home/t-fli/amlt/protran/gb1-two_vs_rest-esm1_t6_43M_UR50S-mean-sklearn/results/sklearn/proeng/gb1/two_vs_rest/esm1_t6_43M_UR50S/mean\",\n",
    "output_folder=\"results/sklearn/proeng/gb1/two_vs_rest/esm1_t6_43M_UR50S/mean\")"
   ]
  },
  {
   "cell_type": "code",
   "execution_count": 15,
   "metadata": {},
   "outputs": [],
   "source": [
    "copy_results(input_folder=\"/home/t-fli/amlt/protran/gb1-low_vs_high-esm1_t12_85M_UR50S-mean-sklearn/results/sklearn/proeng/gb1/low_vs_high/esm1_t12_85M_UR50S/mean\",\n",
    "output_folder=\"results/sklearn/proeng/gb1/low_vs_high/esm1_t12_85M_UR50S/mean\")"
   ]
  },
  {
   "cell_type": "code",
   "execution_count": 17,
   "metadata": {},
   "outputs": [
    {
     "name": "stdout",
     "output_type": "stream",
     "text": [
      "Making results/sklearn/proeng/gb1/two_vs_rest/esm1_t12_85M_UR50S...\n",
      "Making results/sklearn/proeng/gb1/two_vs_rest/esm1_t12_85M_UR50S/mean...\n"
     ]
    }
   ],
   "source": [
    "copy_results(input_folder=\"/home/t-fli/amlt/protran/gb1-two_vs_rest-esm1_t12_85M_UR50S-mean-sklearn/results/sklearn/proeng/gb1/two_vs_rest/esm1_t12_85M_UR50S/mean\",\n",
    "output_folder=\"results/sklearn/proeng/gb1/two_vs_rest/esm1_t12_85M_UR50S/mean\")"
   ]
  },
  {
   "cell_type": "code",
   "execution_count": 19,
   "metadata": {},
   "outputs": [
    {
     "name": "stdout",
     "output_type": "stream",
     "text": [
      "Making results/sklearn/proeng/gb1/low_vs_high/esm1_t34_670M_UR50S...\n",
      "Making results/sklearn/proeng/gb1/low_vs_high/esm1_t34_670M_UR50S/mean...\n"
     ]
    }
   ],
   "source": [
    "copy_results(input_folder=\"/home/t-fli/amlt/protran/gb1-low_vs_high-esm1_t34_670M_UR50S-mean-sklearn/results/sklearn/proeng/gb1/low_vs_high/esm1_t34_670M_UR50S/mean\",\n",
    "output_folder=\"results/sklearn/proeng/gb1/low_vs_high/esm1_t34_670M_UR50S/mean\")"
   ]
  },
  {
   "cell_type": "code",
   "execution_count": 20,
   "metadata": {},
   "outputs": [
    {
     "name": "stdout",
     "output_type": "stream",
     "text": [
      "Making results/sklearn/proeng/gb1/two_vs_rest/esm1_t34_670M_UR50S...\n",
      "Making results/sklearn/proeng/gb1/two_vs_rest/esm1_t34_670M_UR50S/mean...\n"
     ]
    }
   ],
   "source": [
    "copy_results(input_folder=\"/home/t-fli/amlt/protran/gb1-two_vs_rest-esm1_t34_670M_UR50S-mean-sklearn/results/sklearn/proeng/gb1/two_vs_rest/esm1_t34_670M_UR50S/mean\",\n",
    "output_folder=\"results/sklearn/proeng/gb1/two_vs_rest/esm1_t34_670M_UR50S/mean\")"
   ]
  },
  {
   "cell_type": "code",
   "execution_count": 21,
   "metadata": {},
   "outputs": [
    {
     "name": "stdout",
     "output_type": "stream",
     "text": [
      "Making results/sklearn/proeng/gb1/low_vs_high/esm1b_t33_650M_UR50S...\n",
      "Making results/sklearn/proeng/gb1/low_vs_high/esm1b_t33_650M_UR50S/mean...\n",
      "Making results/sklearn/proeng/gb1/two_vs_rest/esm1b_t33_650M_UR50S...\n",
      "Making results/sklearn/proeng/gb1/two_vs_rest/esm1b_t33_650M_UR50S/mean...\n"
     ]
    }
   ],
   "source": [
    "copy_results(input_folder=\"/home/t-fli/amlt/protran/gb1-low_vs_high-esm1b_t33_650M_UR50S-mean-sklearn/results/sklearn/proeng/gb1/low_vs_high/esm1b_t33_650M_UR50S/mean\",\n",
    "output_folder=\"results/sklearn/proeng/gb1/low_vs_high/esm1b_t33_650M_UR50S/mean\")\n",
    "\n",
    "copy_results(input_folder=\"/home/t-fli/amlt/protran/gb1-two_vs_rest-esm1b_t33_650M_UR50S-mean-sklearn/results/sklearn/proeng/gb1/two_vs_rest/esm1b_t33_650M_UR50S/mean\",\n",
    "output_folder=\"results/sklearn/proeng/gb1/two_vs_rest/esm1b_t33_650M_UR50S/mean\")"
   ]
  },
  {
   "cell_type": "code",
   "execution_count": 6,
   "metadata": {},
   "outputs": [
    {
     "name": "stdout",
     "output_type": "stream",
     "text": [
      "Making results/sklearn/proeng/aav...\n",
      "Making results/sklearn/proeng/aav/one_vs_many...\n",
      "Making results/sklearn/proeng/aav/one_vs_many/esm1_t6_43M_UR50S...\n",
      "Making results/sklearn/proeng/aav/one_vs_many/esm1_t6_43M_UR50S/mean...\n"
     ]
    }
   ],
   "source": [
    "copy_results(input_folder=\"/home/t-fli/amlt/protran/aav-one_vs_many-esm1_t6_43M_UR50S-mean-sklearn/results/sklearn/proeng/aav/one_vs_many/esm1_t6_43M_UR50S/mean\",\n",
    "output_folder=\"results/sklearn/proeng/aav/one_vs_many/esm1_t6_43M_UR50S/mean\")"
   ]
  },
  {
   "cell_type": "code",
   "execution_count": 7,
   "metadata": {},
   "outputs": [
    {
     "name": "stdout",
     "output_type": "stream",
     "text": [
      "Making results/sklearn/proeng/aav/two_vs_many...\n",
      "Making results/sklearn/proeng/aav/two_vs_many/esm1_t6_43M_UR50S...\n",
      "Making results/sklearn/proeng/aav/two_vs_many/esm1_t6_43M_UR50S/mean...\n"
     ]
    }
   ],
   "source": [
    "copy_results(input_folder=\"/home/t-fli/amlt/protran/aav-two_vs_many-esm1_t6_43M_UR50S-mean-sklearn/results/sklearn/proeng/aav/two_vs_many/esm1_t6_43M_UR50S/mean\",\n",
    "output_folder=\"results/sklearn/proeng/aav/two_vs_many/esm1_t6_43M_UR50S/mean\")"
   ]
  },
  {
   "cell_type": "code",
   "execution_count": 9,
   "metadata": {},
   "outputs": [],
   "source": [
    "copy_results(input_folder=\"/home/t-fli/amlt/protran/gb1-low_vs_high-esm1_t6_43M_UR50S-mean-sklearn-scaley-fixa/results/sklearn/proeng/gb1/low_vs_high/esm1_t6_43M_UR50S/mean\",\n",
    "output_folder=\"results/sklearn-scaley-fixa/proeng/gb1/low_vs_high/esm1_t6_43M_UR50S/mean\")\n",
    "copy_results(input_folder=\"/home/t-fli/amlt/protran/gb1-two_vs_rest-esm1_t6_43M_UR50S-mean-sklearn-scaley-fixa/results/sklearn/proeng/gb1/two_vs_rest/esm1_t6_43M_UR50S/mean\",\n",
    "output_folder=\"results/sklearn-scaley-fixa/proeng/gb1/two_vs_rest/esm1_t6_43M_UR50S/mean\")\n",
    "\n",
    "copy_results(input_folder=\"/home/t-fli/amlt/protran/gb1-low_vs_high-esm1_t12_85M_UR50S-mean-sklearn-scaley-fixa/results/sklearn/proeng/gb1/low_vs_high/esm1_t12_85M_UR50S/mean\",\n",
    "output_folder=\"results/sklearn-scaley-fixa/proeng/gb1/low_vs_high/esm1_t12_85M_UR50S/mean\")\n",
    "copy_results(input_folder=\"/home/t-fli/amlt/protran/gb1-two_vs_rest-esm1_t12_85M_UR50S-mean-sklearn-scaley-fixa/results/sklearn/proeng/gb1/two_vs_rest/esm1_t12_85M_UR50S/mean\",\n",
    "output_folder=\"results/sklearn-scaley-fixa/proeng/gb1/two_vs_rest/esm1_t12_85M_UR50S/mean\")\n",
    "\n",
    "copy_results(input_folder=\"/home/t-fli/amlt/protran/gb1-low_vs_high-esm1b_t33_650M_UR50S-mean-sklearn-scaley-fixa/results/sklearn/proeng/gb1/low_vs_high/esm1b_t33_650M_UR50S/mean\",\n",
    "output_folder=\"results/sklearn-scaley-fixa/proeng/gb1/low_vs_high/esm1b_t33_650M_UR50S/mean\")\n",
    "copy_results(input_folder=\"/home/t-fli/amlt/protran/gb1-two_vs_rest-esm1b_t33_650M_UR50S-mean-sklearn-scaley-fixa/results/sklearn/proeng/gb1/two_vs_rest/esm1b_t33_650M_UR50S/mean\",\n",
    "output_folder=\"results/sklearn-scaley-fixa/proeng/gb1/two_vs_rest/esm1b_t33_650M_UR50S/mean\")\n",
    "\n",
    "copy_results(input_folder=\"/home/t-fli/amlt/protran/gb1-low_vs_high-esm1_t34_670M_UR50S-mean-sklearn-scaley-fixa/results/sklearn/proeng/gb1/low_vs_high/esm1_t34_670M_UR50S/mean\",\n",
    "output_folder=\"results/sklearn-scaley-fixa/proeng/gb1/low_vs_high/esm1_t34_670M_UR50S/mean\")\n",
    "copy_results(input_folder=\"/home/t-fli/amlt/protran/gb1-two_vs_rest-esm1_t34_670M_UR50S-mean-sklearn-scaley-fixa/results/sklearn/proeng/gb1/two_vs_rest/esm1_t34_670M_UR50S/mean\",\n",
    "output_folder=\"results/sklearn-scaley-fixa/proeng/gb1/two_vs_rest/esm1_t34_670M_UR50S/mean\")"
   ]
  },
  {
   "cell_type": "code",
   "execution_count": 10,
   "metadata": {},
   "outputs": [
    {
     "name": "stdout",
     "output_type": "stream",
     "text": [
      "Making results/sklearn-scaley-noloader/proeng/gb1/low_vs_high...\n",
      "Making results/sklearn-scaley-noloader/proeng/gb1/low_vs_high/esm1_t6_43M_UR50S...\n",
      "Making results/sklearn-scaley-noloader/proeng/gb1/low_vs_high/esm1_t6_43M_UR50S/mean...\n",
      "Making results/sklearn-scaley-noloader/proeng/gb1/low_vs_high/esm1_t12_85M_UR50S...\n",
      "Making results/sklearn-scaley-noloader/proeng/gb1/low_vs_high/esm1_t12_85M_UR50S/mean...\n",
      "Making results/sklearn-scaley-noloader/proeng/gb1/two_vs_rest/esm1_t12_85M_UR50S...\n",
      "Making results/sklearn-scaley-noloader/proeng/gb1/two_vs_rest/esm1_t12_85M_UR50S/mean...\n",
      "Making results/sklearn-scaley-noloader/proeng/gb1/low_vs_high/esm1b_t33_650M_UR50S...\n",
      "Making results/sklearn-scaley-noloader/proeng/gb1/low_vs_high/esm1b_t33_650M_UR50S/mean...\n",
      "Making results/sklearn-scaley-noloader/proeng/gb1/two_vs_rest/esm1b_t33_650M_UR50S...\n",
      "Making results/sklearn-scaley-noloader/proeng/gb1/two_vs_rest/esm1b_t33_650M_UR50S/mean...\n",
      "Making results/sklearn-scaley-noloader/proeng/gb1/low_vs_high/esm1_t34_670M_UR50S...\n",
      "Making results/sklearn-scaley-noloader/proeng/gb1/low_vs_high/esm1_t34_670M_UR50S/mean...\n",
      "Making results/sklearn-scaley-noloader/proeng/gb1/two_vs_rest/esm1_t34_670M_UR50S...\n",
      "Making results/sklearn-scaley-noloader/proeng/gb1/two_vs_rest/esm1_t34_670M_UR50S/mean...\n"
     ]
    }
   ],
   "source": [
    "copy_results(input_folder=\"/home/t-fli/amlt/protran/gb1-low_vs_high-esm1_t6_43M_UR50S-mean-sklearn-scaley-noloader/results/sklearn/proeng/gb1/low_vs_high/esm1_t6_43M_UR50S/mean\",\n",
    "output_folder=\"results/sklearn-scaley-noloader/proeng/gb1/low_vs_high/esm1_t6_43M_UR50S/mean\")\n",
    "copy_results(input_folder=\"/home/t-fli/amlt/protran/gb1-two_vs_rest-esm1_t6_43M_UR50S-mean-sklearn-scaley-noloader/results/sklearn/proeng/gb1/two_vs_rest/esm1_t6_43M_UR50S/mean\",\n",
    "output_folder=\"results/sklearn-scaley-noloader/proeng/gb1/two_vs_rest/esm1_t6_43M_UR50S/mean\")\n",
    "\n",
    "copy_results(input_folder=\"/home/t-fli/amlt/protran/gb1-low_vs_high-esm1_t12_85M_UR50S-mean-sklearn-scaley-noloader/results/sklearn/proeng/gb1/low_vs_high/esm1_t12_85M_UR50S/mean\",\n",
    "output_folder=\"results/sklearn-scaley-noloader/proeng/gb1/low_vs_high/esm1_t12_85M_UR50S/mean\")\n",
    "copy_results(input_folder=\"/home/t-fli/amlt/protran/gb1-two_vs_rest-esm1_t12_85M_UR50S-mean-sklearn-scaley-noloader/results/sklearn/proeng/gb1/two_vs_rest/esm1_t12_85M_UR50S/mean\",\n",
    "output_folder=\"results/sklearn-scaley-noloader/proeng/gb1/two_vs_rest/esm1_t12_85M_UR50S/mean\")\n",
    "\n",
    "copy_results(input_folder=\"/home/t-fli/amlt/protran/gb1-low_vs_high-esm1b_t33_650M_UR50S-mean-sklearn-scaley-noloader/results/sklearn/proeng/gb1/low_vs_high/esm1b_t33_650M_UR50S/mean\",\n",
    "output_folder=\"results/sklearn-scaley-noloader/proeng/gb1/low_vs_high/esm1b_t33_650M_UR50S/mean\")\n",
    "copy_results(input_folder=\"/home/t-fli/amlt/protran/gb1-two_vs_rest-esm1b_t33_650M_UR50S-mean-sklearn-scaley-noloader/results/sklearn/proeng/gb1/two_vs_rest/esm1b_t33_650M_UR50S/mean\",\n",
    "output_folder=\"results/sklearn-scaley-noloader/proeng/gb1/two_vs_rest/esm1b_t33_650M_UR50S/mean\")\n",
    "\n",
    "copy_results(input_folder=\"/home/t-fli/amlt/protran/gb1-low_vs_high-esm1_t34_670M_UR50S-mean-sklearn-scaley-noloader/results/sklearn/proeng/gb1/low_vs_high/esm1_t34_670M_UR50S/mean\",\n",
    "output_folder=\"results/sklearn-scaley-noloader/proeng/gb1/low_vs_high/esm1_t34_670M_UR50S/mean\")\n",
    "copy_results(input_folder=\"/home/t-fli/amlt/protran/gb1-two_vs_rest-esm1_t34_670M_UR50S-mean-sklearn-scaley-noloader/results/sklearn/proeng/gb1/two_vs_rest/esm1_t34_670M_UR50S/mean\",\n",
    "output_folder=\"results/sklearn-scaley-noloader/proeng/gb1/two_vs_rest/esm1_t34_670M_UR50S/mean\")"
   ]
  },
  {
   "cell_type": "code",
   "execution_count": 18,
   "metadata": {},
   "outputs": [
    {
     "name": "stdout",
     "output_type": "stream",
     "text": [
      "Making results/sklearn-scaley-noloader-rand/proeng/gb1/sampled ...\n",
      "Making results/sklearn-scaley-noloader-rand/proeng/gb1/sampled/esm1_t6_43M_UR50S ...\n",
      "Making results/sklearn-scaley-noloader-rand/proeng/gb1/sampled/esm1_t6_43M_UR50S/mean ...\n",
      "Making results/sklearn-scaley-noloader-rand/proeng/gb1/sampled/esm1_t12_85M_UR50S ...\n",
      "Making results/sklearn-scaley-noloader-rand/proeng/gb1/sampled/esm1_t12_85M_UR50S/mean ...\n",
      "Making results/sklearn-scaley-noloader-rand/proeng/gb1/sampled/esm1b_t33_650M_UR50S ...\n",
      "Making results/sklearn-scaley-noloader-rand/proeng/gb1/sampled/esm1b_t33_650M_UR50S/mean ...\n",
      "Making results/sklearn-scaley-noloader-rand/proeng/gb1/sampled/esm1_t34_670M_UR50S ...\n",
      "Making results/sklearn-scaley-noloader-rand/proeng/gb1/sampled/esm1_t34_670M_UR50S/mean ...\n"
     ]
    }
   ],
   "source": [
    "copy_results(input_folder=\"/home/t-fli/amlt/protran/gb1-sampled-esm1_t6_43M_UR50S-mean-sklearn-scaley-noloader-rand/results/sklearn-rand/proeng/gb1/sampled/esm1_t6_43M_UR50S/mean\",\n",
    "output_folder=\"results/sklearn-scaley-noloader-rand/proeng/gb1/sampled/esm1_t6_43M_UR50S/mean\")\n",
    "\n",
    "copy_results(input_folder=\"/home/t-fli/amlt/protran/gb1-sampled-esm1_t12_85M_UR50S-mean-sklearn-scaley-noloader-rand/results/sklearn-rand/proeng/gb1/sampled/esm1_t12_85M_UR50S/mean\",\n",
    "output_folder=\"results/sklearn-scaley-noloader-rand/proeng/gb1/sampled/esm1_t12_85M_UR50S/mean\")\n",
    "\n",
    "copy_results(input_folder=\"/home/t-fli/amlt/protran/gb1-sampled-esm1b_t33_650M_UR50S-mean-sklearn-scaley-noloader-rand/results/sklearn-rand/proeng/gb1/sampled/esm1b_t33_650M_UR50S/mean\",\n",
    "output_folder=\"results/sklearn-scaley-noloader-rand/proeng/gb1/sampled/esm1b_t33_650M_UR50S/mean\")\n",
    "\n",
    "copy_results(input_folder=\"/home/t-fli/amlt/protran/gb1-sampled-esm1_t34_670M_UR50S-mean-sklearn-scaley-noloader-rand/results/sklearn-rand/proeng/gb1/sampled/esm1_t34_670M_UR50S/mean\",\n",
    "output_folder=\"results/sklearn-scaley-noloader-rand/proeng/gb1/sampled/esm1_t34_670M_UR50S/mean\")"
   ]
  },
  {
   "cell_type": "code",
   "execution_count": 5,
   "metadata": {},
   "outputs": [
    {
     "name": "stdout",
     "output_type": "stream",
     "text": [
      "Making results/sklearn-scaley-noloader-stat ...\n",
      "Making results/sklearn-scaley-noloader-stat/proeng ...\n",
      "Making results/sklearn-scaley-noloader-stat/proeng/gb1 ...\n",
      "Making results/sklearn-scaley-noloader-stat/proeng/gb1/sampled ...\n",
      "Making results/sklearn-scaley-noloader-stat/proeng/gb1/sampled/esm1_t6_43M_UR50S ...\n",
      "Making results/sklearn-scaley-noloader-stat/proeng/gb1/sampled/esm1_t6_43M_UR50S/mean ...\n",
      "Making results/sklearn-scaley-noloader-stat/proeng/gb1/sampled/esm1_t12_85M_UR50S ...\n",
      "Making results/sklearn-scaley-noloader-stat/proeng/gb1/sampled/esm1_t12_85M_UR50S/mean ...\n",
      "Making results/sklearn-scaley-noloader-stat/proeng/gb1/sampled/esm1b_t33_650M_UR50S ...\n",
      "Making results/sklearn-scaley-noloader-stat/proeng/gb1/sampled/esm1b_t33_650M_UR50S/mean ...\n",
      "Making results/sklearn-scaley-noloader-stat/proeng/gb1/sampled/esm1_t34_670M_UR50S ...\n",
      "Making results/sklearn-scaley-noloader-stat/proeng/gb1/sampled/esm1_t34_670M_UR50S/mean ...\n"
     ]
    }
   ],
   "source": [
    "copy_results(input_folder=\"/home/t-fli/amlt/protran/gb1-sampled-esm1_t6_43M_UR50S-mean-sklearn-scaley-noloader-stat/results/sklearn-stat/proeng/gb1/sampled/esm1_t6_43M_UR50S/mean\",\n",
    "output_folder=\"results/sklearn-scaley-noloader-stat/proeng/gb1/sampled/esm1_t6_43M_UR50S/mean\")\n",
    "\n",
    "copy_results(input_folder=\"/home/t-fli/amlt/protran/gb1-sampled-esm1_t12_85M_UR50S-mean-sklearn-scaley-noloader-stat/results/sklearn-stat/proeng/gb1/sampled/esm1_t12_85M_UR50S/mean\",\n",
    "output_folder=\"results/sklearn-scaley-noloader-stat/proeng/gb1/sampled/esm1_t12_85M_UR50S/mean\")\n",
    "\n",
    "copy_results(input_folder=\"/home/t-fli/amlt/protran/gb1-sampled-esm1b_t33_650M_UR50S-mean-sklearn-scaley-noloader-stat/results/sklearn-stat/proeng/gb1/sampled/esm1b_t33_650M_UR50S/mean\",\n",
    "output_folder=\"results/sklearn-scaley-noloader-stat/proeng/gb1/sampled/esm1b_t33_650M_UR50S/mean\")\n",
    "\n",
    "copy_results(input_folder=\"/home/t-fli/amlt/protran/gb1-sampled-esm1_t34_670M_UR50S-mean-sklearn-scaley-noloader-stat/results/sklearn-stat/proeng/gb1/sampled/esm1_t34_670M_UR50S/mean\",\n",
    "output_folder=\"results/sklearn-scaley-noloader-stat/proeng/gb1/sampled/esm1_t34_670M_UR50S/mean\")"
   ]
  },
  {
   "cell_type": "code",
   "execution_count": 6,
   "metadata": {},
   "outputs": [
    {
     "name": "stdout",
     "output_type": "stream",
     "text": [
      "Making results/sklearn-scaley-noloader/proeng/gb1/sampled ...\n",
      "Making results/sklearn-scaley-noloader/proeng/gb1/sampled/esm1_t6_43M_UR50S ...\n",
      "Making results/sklearn-scaley-noloader/proeng/gb1/sampled/esm1_t6_43M_UR50S/mean ...\n",
      "Making results/sklearn-scaley-noloader/proeng/gb1/sampled/esm1_t12_85M_UR50S ...\n",
      "Making results/sklearn-scaley-noloader/proeng/gb1/sampled/esm1_t12_85M_UR50S/mean ...\n",
      "Making results/sklearn-scaley-noloader/proeng/gb1/sampled/esm1b_t33_650M_UR50S ...\n",
      "Making results/sklearn-scaley-noloader/proeng/gb1/sampled/esm1b_t33_650M_UR50S/mean ...\n",
      "Making results/sklearn-scaley-noloader/proeng/gb1/sampled/esm1_t34_670M_UR50S ...\n",
      "Making results/sklearn-scaley-noloader/proeng/gb1/sampled/esm1_t34_670M_UR50S/mean ...\n"
     ]
    }
   ],
   "source": [
    "copy_results(input_folder=\"/home/t-fli/amlt/protran/gb1-sampled-esm1_t6_43M_UR50S-mean-sklearn-scaley-noloader/results/sklearn/proeng/gb1/sampled/esm1_t6_43M_UR50S/mean\",\n",
    "output_folder=\"results/sklearn-scaley-noloader/proeng/gb1/sampled/esm1_t6_43M_UR50S/mean\")\n",
    "\n",
    "copy_results(input_folder=\"/home/t-fli/amlt/protran/gb1-sampled-esm1_t12_85M_UR50S-mean-sklearn-scaley-noloader/results/sklearn/proeng/gb1/sampled/esm1_t12_85M_UR50S/mean\",\n",
    "output_folder=\"results/sklearn-scaley-noloader/proeng/gb1/sampled/esm1_t12_85M_UR50S/mean\")\n",
    "\n",
    "copy_results(input_folder=\"/home/t-fli/amlt/protran/gb1-sampled-esm1b_t33_650M_UR50S-mean-sklearn-scaley-noloader/results/sklearn/proeng/gb1/sampled/esm1b_t33_650M_UR50S/mean\",\n",
    "output_folder=\"results/sklearn-scaley-noloader/proeng/gb1/sampled/esm1b_t33_650M_UR50S/mean\")\n",
    "\n",
    "copy_results(input_folder=\"/home/t-fli/amlt/protran/gb1-sampled-esm1_t34_670M_UR50S-mean-sklearn-scaley-noloader/results/sklearn/proeng/gb1/sampled/esm1_t34_670M_UR50S/mean\",\n",
    "output_folder=\"results/sklearn-scaley-noloader/proeng/gb1/sampled/esm1_t34_670M_UR50S/mean\")"
   ]
  },
  {
   "cell_type": "code",
   "execution_count": 8,
   "metadata": {},
   "outputs": [],
   "source": [
    "copy_results(input_folder=\"/home/t-fli/amlt/protran/gb1-low_vs_high-esm1_t6_43M_UR50S-mean-sklearn-scaley-fixa-noloader/results/sklearn/proeng/gb1/low_vs_high/esm1_t6_43M_UR50S/mean\",\n",
    "output_folder=\"results/sklearn-scaley-fixa-noloader/proeng/gb1/low_vs_high/esm1_t6_43M_UR50S/mean\")\n",
    "copy_results(input_folder=\"/home/t-fli/amlt/protran/gb1-two_vs_rest-esm1_t6_43M_UR50S-mean-sklearn-scaley-fixa-noloader/results/sklearn/proeng/gb1/two_vs_rest/esm1_t6_43M_UR50S/mean\",\n",
    "output_folder=\"results/sklearn-scaley-fixa-noloader/proeng/gb1/two_vs_rest/esm1_t6_43M_UR50S/mean\")\n",
    "\n",
    "copy_results(input_folder=\"/home/t-fli/amlt/protran/gb1-low_vs_high-esm1_t12_85M_UR50S-mean-sklearn-scaley-fixa-noloader/results/sklearn/proeng/gb1/low_vs_high/esm1_t12_85M_UR50S/mean\",\n",
    "output_folder=\"results/sklearn-scaley-fixa-noloader/proeng/gb1/low_vs_high/esm1_t12_85M_UR50S/mean\")\n",
    "copy_results(input_folder=\"/home/t-fli/amlt/protran/gb1-two_vs_rest-esm1_t12_85M_UR50S-mean-sklearn-scaley-fixa-noloader/results/sklearn/proeng/gb1/two_vs_rest/esm1_t12_85M_UR50S/mean\",\n",
    "output_folder=\"results/sklearn-scaley-fixa-noloader/proeng/gb1/two_vs_rest/esm1_t12_85M_UR50S/mean\")\n",
    "\n",
    "copy_results(input_folder=\"/home/t-fli/amlt/protran/gb1-low_vs_high-esm1b_t33_650M_UR50S-mean-sklearn-scaley-fixa-noloader/results/sklearn/proeng/gb1/low_vs_high/esm1b_t33_650M_UR50S/mean\",\n",
    "output_folder=\"results/sklearn-scaley-fixa-noloader/proeng/gb1/low_vs_high/esm1b_t33_650M_UR50S/mean\")\n",
    "copy_results(input_folder=\"/home/t-fli/amlt/protran/gb1-two_vs_rest-esm1b_t33_650M_UR50S-mean-sklearn-scaley-fixa-noloader/results/sklearn/proeng/gb1/two_vs_rest/esm1b_t33_650M_UR50S/mean\",\n",
    "output_folder=\"results/sklearn-scaley-fixa-noloader/proeng/gb1/two_vs_rest/esm1b_t33_650M_UR50S/mean\")\n",
    "\n",
    "copy_results(input_folder=\"/home/t-fli/amlt/protran/gb1-low_vs_high-esm1_t34_670M_UR50S-mean-sklearn-scaley-fixa-noloader/results/sklearn/proeng/gb1/low_vs_high/esm1_t34_670M_UR50S/mean\",\n",
    "output_folder=\"results/sklearn-scaley-fixa-noloader/proeng/gb1/low_vs_high/esm1_t34_670M_UR50S/mean\")\n",
    "copy_results(input_folder=\"/home/t-fli/amlt/protran/gb1-two_vs_rest-esm1_t34_670M_UR50S-mean-sklearn-scaley-fixa-noloader/results/sklearn/proeng/gb1/two_vs_rest/esm1_t34_670M_UR50S/mean\",\n",
    "output_folder=\"results/sklearn-scaley-fixa-noloader/proeng/gb1/two_vs_rest/esm1_t34_670M_UR50S/mean\")"
   ]
  },
  {
   "cell_type": "code",
   "execution_count": 5,
   "metadata": {},
   "outputs": [],
   "source": [
    "copy_results(input_folder=\"/home/t-fli/amlt/protran/aav-one_vs_many-esm1_t6_43M_UR50S-mean-sklearn-scaley-noloader/results/sklearn/proeng/aav/one_vs_many/esm1_t6_43M_UR50S/mean\",\n",
    "output_folder=\"results/sklearn-scaley-noloader/proeng/aav/one_vs_many/esm1_t6_43M_UR50S/mean\")\n",
    "copy_results(input_folder=\"/home/t-fli/amlt/protran/aav-two_vs_many-esm1_t6_43M_UR50S-mean-sklearn-scaley-noloader/results/sklearn/proeng/aav/two_vs_many/esm1_t6_43M_UR50S/mean\",\n",
    "output_folder=\"results/sklearn-scaley-noloader/proeng/aav/two_vs_many/esm1_t6_43M_UR50S/mean\")\n",
    "\n",
    "copy_results(input_folder=\"/home/t-fli/amlt/protran/aav-one_vs_many-esm1_t12_85M_UR50S-mean-sklearn-scaley-noloader/results/sklearn/proeng/aav/one_vs_many/esm1_t12_85M_UR50S/mean\",\n",
    "output_folder=\"results/sklearn-scaley-noloader/proeng/aav/one_vs_many/esm1_t12_85M_UR50S/mean\")\n",
    "copy_results(input_folder=\"/home/t-fli/amlt/protran/aav-two_vs_many-esm1_t12_85M_UR50S-mean-sklearn-scaley-noloader/results/sklearn/proeng/aav/two_vs_many/esm1_t12_85M_UR50S/mean\",\n",
    "output_folder=\"results/sklearn-scaley-noloader/proeng/aav/two_vs_many/esm1_t12_85M_UR50S/mean\")\n",
    "\n",
    "copy_results(input_folder=\"/home/t-fli/amlt/protran/aav-one_vs_many-esm1b_t33_650M_UR50S-mean-sklearn-scaley-noloader/results/sklearn/proeng/aav/one_vs_many/esm1b_t33_650M_UR50S/mean\",\n",
    "output_folder=\"results/sklearn-scaley-noloader/proeng/aav/one_vs_many/esm1b_t33_650M_UR50S/mean\")\n",
    "copy_results(input_folder=\"/home/t-fli/amlt/protran/aav-two_vs_many-esm1b_t33_650M_UR50S-mean-sklearn-scaley-noloader/results/sklearn/proeng/aav/two_vs_many/esm1b_t33_650M_UR50S/mean\",\n",
    "output_folder=\"results/sklearn-scaley-noloader/proeng/aav/two_vs_many/esm1b_t33_650M_UR50S/mean\")\n",
    "\n",
    "copy_results(input_folder=\"/home/t-fli/amlt/protran/aav-one_vs_many-esm1_t34_670M_UR50S-mean-sklearn-scaley-noloader/results/sklearn/proeng/aav/one_vs_many/esm1_t34_670M_UR50S/mean\",\n",
    "output_folder=\"results/sklearn-scaley-noloader/proeng/aav/one_vs_many/esm1_t34_670M_UR50S/mean\")\n",
    "copy_results(input_folder=\"/home/t-fli/amlt/protran/aav-two_vs_many-esm1_t34_670M_UR50S-mean-sklearn-scaley-noloader/results/sklearn/proeng/aav/two_vs_many/esm1_t34_670M_UR50S/mean\",\n",
    "output_folder=\"results/sklearn-scaley-noloader/proeng/aav/two_vs_many/esm1_t34_670M_UR50S/mean\")"
   ]
  },
  {
   "cell_type": "code",
   "execution_count": 6,
   "metadata": {},
   "outputs": [
    {
     "name": "stdout",
     "output_type": "stream",
     "text": [
      "Making results/sklearn-scaley-noloader-stat/proeng/aav ...\n",
      "Making results/sklearn-scaley-noloader-stat/proeng/aav/one_vs_many ...\n",
      "Making results/sklearn-scaley-noloader-stat/proeng/aav/one_vs_many/esm1_t6_43M_UR50S ...\n",
      "Making results/sklearn-scaley-noloader-stat/proeng/aav/one_vs_many/esm1_t6_43M_UR50S/mean ...\n",
      "Making results/sklearn-scaley-noloader-stat/proeng/aav/two_vs_many ...\n",
      "Making results/sklearn-scaley-noloader-stat/proeng/aav/two_vs_many/esm1_t6_43M_UR50S ...\n",
      "Making results/sklearn-scaley-noloader-stat/proeng/aav/two_vs_many/esm1_t6_43M_UR50S/mean ...\n",
      "Making results/sklearn-scaley-noloader-stat/proeng/aav/one_vs_many/esm1_t12_85M_UR50S ...\n",
      "Making results/sklearn-scaley-noloader-stat/proeng/aav/one_vs_many/esm1_t12_85M_UR50S/mean ...\n",
      "Making results/sklearn-scaley-noloader-stat/proeng/aav/two_vs_many/esm1_t12_85M_UR50S ...\n",
      "Making results/sklearn-scaley-noloader-stat/proeng/aav/two_vs_many/esm1_t12_85M_UR50S/mean ...\n"
     ]
    }
   ],
   "source": [
    "copy_results(input_folder=\"/home/t-fli/amlt/protran/aav-one_vs_many-esm1_t6_43M_UR50S-mean-sklearn-scaley-noloader-stat/results/sklearn-stat/proeng/aav/one_vs_many/esm1_t6_43M_UR50S/mean\",\n",
    "output_folder=\"results/sklearn-scaley-noloader-stat/proeng/aav/one_vs_many/esm1_t6_43M_UR50S/mean\")\n",
    "copy_results(input_folder=\"/home/t-fli/amlt/protran/aav-two_vs_many-esm1_t6_43M_UR50S-mean-sklearn-scaley-noloader-stat/results/sklearn-stat/proeng/aav/two_vs_many/esm1_t6_43M_UR50S/mean\",\n",
    "output_folder=\"results/sklearn-scaley-noloader-stat/proeng/aav/two_vs_many/esm1_t6_43M_UR50S/mean\")\n",
    "\n",
    "copy_results(input_folder=\"/home/t-fli/amlt/protran/aav-one_vs_many-esm1_t12_85M_UR50S-mean-sklearn-scaley-noloader-stat/results/sklearn-stat/proeng/aav/one_vs_many/esm1_t12_85M_UR50S/mean\",\n",
    "output_folder=\"results/sklearn-scaley-noloader-stat/proeng/aav/one_vs_many/esm1_t12_85M_UR50S/mean\")\n",
    "copy_results(input_folder=\"/home/t-fli/amlt/protran/aav-two_vs_many-esm1_t12_85M_UR50S-mean-sklearn-scaley-noloader-stat/results/sklearn-stat/proeng/aav/two_vs_many/esm1_t12_85M_UR50S/mean\",\n",
    "output_folder=\"results/sklearn-scaley-noloader-stat/proeng/aav/two_vs_many/esm1_t12_85M_UR50S/mean\")\n",
    "\n",
    "copy_results(input_folder=\"/home/t-fli/amlt/protran/aav-one_vs_many-esm1b_t33_650M_UR50S-mean-sklearn-scaley-noloader-stat/results/sklearn-stat/proeng/aav/one_vs_many/esm1b_t33_650M_UR50S/mean\",\n",
    "output_folder=\"results/sklearn-scaley-noloader-stat/proeng/aav/one_vs_many/esm1b_t33_650M_UR50S/mean\")\n",
    "copy_results(input_folder=\"/home/t-fli/amlt/protran/aav-two_vs_many-esm1b_t33_650M_UR50S-mean-sklearn-scaley-noloader-stat/results/sklearn-stat/proeng/aav/two_vs_many/esm1b_t33_650M_UR50S/mean\",\n",
    "output_folder=\"results/sklearn-scaley-noloader-stat/proeng/aav/two_vs_many/esm1b_t33_650M_UR50S/mean\")\n",
    "\n",
    "copy_results(input_folder=\"/home/t-fli/amlt/protran/aav-one_vs_many-esm1_t34_670M_UR50S-mean-sklearn-scaley-noloader-stat/results/sklearn-stat/proeng/aav/one_vs_many/esm1_t34_670M_UR50S/mean\",\n",
    "output_folder=\"results/sklearn-scaley-noloader-stat/proeng/aav/one_vs_many/esm1_t34_670M_UR50S/mean\")\n",
    "copy_results(input_folder=\"/home/t-fli/amlt/protran/aav-two_vs_many-esm1_t34_670M_UR50S-mean-sklearn-scaley-noloader-stat/results/sklearn-stat/proeng/aav/two_vs_many/esm1_t34_670M_UR50S/mean\",\n",
    "output_folder=\"results/sklearn-scaley-noloader-stat/proeng/aav/two_vs_many/esm1_t34_670M_UR50S/mean\")"
   ]
  },
  {
   "cell_type": "code",
   "execution_count": 6,
   "metadata": {},
   "outputs": [
    {
     "name": "stdout",
     "output_type": "stream",
     "text": [
      "Making results/sklearn-scaley-noloader-rand/proeng/aav ...\n",
      "Making results/sklearn-scaley-noloader-rand/proeng/aav/one_vs_many ...\n",
      "Making results/sklearn-scaley-noloader-rand/proeng/aav/one_vs_many/esm1_t6_43M_UR50S ...\n",
      "Making results/sklearn-scaley-noloader-rand/proeng/aav/one_vs_many/esm1_t6_43M_UR50S/mean ...\n",
      "Making results/sklearn-scaley-noloader-rand/proeng/aav/two_vs_many ...\n",
      "Making results/sklearn-scaley-noloader-rand/proeng/aav/two_vs_many/esm1_t6_43M_UR50S ...\n",
      "Making results/sklearn-scaley-noloader-rand/proeng/aav/two_vs_many/esm1_t6_43M_UR50S/mean ...\n",
      "Making results/sklearn-scaley-noloader-rand/proeng/aav/one_vs_many/esm1_t12_85M_UR50S ...\n",
      "Making results/sklearn-scaley-noloader-rand/proeng/aav/one_vs_many/esm1_t12_85M_UR50S/mean ...\n",
      "Making results/sklearn-scaley-noloader-rand/proeng/aav/two_vs_many/esm1_t12_85M_UR50S ...\n",
      "Making results/sklearn-scaley-noloader-rand/proeng/aav/two_vs_many/esm1_t12_85M_UR50S/mean ...\n"
     ]
    }
   ],
   "source": [
    "copy_results(input_folder=\"/home/t-fli/amlt/protran/aav-one_vs_many-esm1_t6_43M_UR50S-mean-sklearn-scaley-noloader-rand/results/sklearn-rand/proeng/aav/one_vs_many/esm1_t6_43M_UR50S/mean\",\n",
    "output_folder=\"results/sklearn-scaley-noloader-rand/proeng/aav/one_vs_many/esm1_t6_43M_UR50S/mean\")\n",
    "copy_results(input_folder=\"/home/t-fli/amlt/protran/aav-two_vs_many-esm1_t6_43M_UR50S-mean-sklearn-scaley-noloader-rand/results/sklearn-rand/proeng/aav/two_vs_many/esm1_t6_43M_UR50S/mean\",\n",
    "output_folder=\"results/sklearn-scaley-noloader-rand/proeng/aav/two_vs_many/esm1_t6_43M_UR50S/mean\")\n",
    "\n",
    "copy_results(input_folder=\"/home/t-fli/amlt/protran/aav-one_vs_many-esm1_t12_85M_UR50S-mean-sklearn-scaley-noloader-rand/results/sklearn-rand/proeng/aav/one_vs_many/esm1_t12_85M_UR50S/mean\",\n",
    "output_folder=\"results/sklearn-scaley-noloader-rand/proeng/aav/one_vs_many/esm1_t12_85M_UR50S/mean\")\n",
    "copy_results(input_folder=\"/home/t-fli/amlt/protran/aav-two_vs_many-esm1_t12_85M_UR50S-mean-sklearn-scaley-noloader-rand/results/sklearn-rand/proeng/aav/two_vs_many/esm1_t12_85M_UR50S/mean\",\n",
    "output_folder=\"results/sklearn-scaley-noloader-rand/proeng/aav/two_vs_many/esm1_t12_85M_UR50S/mean\")\n",
    "\n",
    "copy_results(input_folder=\"/home/t-fli/amlt/protran/aav-one_vs_many-esm1b_t33_650M_UR50S-mean-sklearn-scaley-noloader-rand/results/sklearn-rand/proeng/aav/one_vs_many/esm1b_t33_650M_UR50S/mean\",\n",
    "output_folder=\"results/sklearn-scaley-noloader-rand/proeng/aav/one_vs_many/esm1b_t33_650M_UR50S/mean\")\n",
    "copy_results(input_folder=\"/home/t-fli/amlt/protran/aav-two_vs_many-esm1b_t33_650M_UR50S-mean-sklearn-scaley-noloader-rand/results/sklearn-rand/proeng/aav/two_vs_many/esm1b_t33_650M_UR50S/mean\",\n",
    "output_folder=\"results/sklearn-scaley-noloader-rand/proeng/aav/two_vs_many/esm1b_t33_650M_UR50S/mean\")\n",
    "\n",
    "copy_results(input_folder=\"/home/t-fli/amlt/protran/aav-one_vs_many-esm1_t34_670M_UR50S-mean-sklearn-scaley-noloader-rand/results/sklearn-rand/proeng/aav/one_vs_many/esm1_t34_670M_UR50S/mean\",\n",
    "output_folder=\"results/sklearn-scaley-noloader-rand/proeng/aav/one_vs_many/esm1_t34_670M_UR50S/mean\")\n",
    "copy_results(input_folder=\"/home/t-fli/amlt/protran/aav-two_vs_many-esm1_t34_670M_UR50S-mean-sklearn-scaley-noloader-rand/results/sklearn-rand/proeng/aav/two_vs_many/esm1_t34_670M_UR50S/mean\",\n",
    "output_folder=\"results/sklearn-scaley-noloader-rand/proeng/aav/two_vs_many/esm1_t34_670M_UR50S/mean\")"
   ]
  },
  {
   "cell_type": "code",
   "execution_count": null,
   "metadata": {},
   "outputs": [],
   "source": [
    "copy_results(input_folder=\"/home/t-fli/amlt/protran/gb1-low_vs_high-esm1_t6_43M_UR50S-mean-sklearn-scaley-noloader-rand/results/sklearn-rand/proeng/gb1/low_vs_high/esm1_t6_43M_UR50S/mean\",\n",
    "output_folder=\"results/sklearn-scaley-noloader-rand/proeng/gb1/low_vs_high/esm1_t6_43M_UR50S/mean\")\n",
    "copy_results(input_folder=\"/home/t-fli/amlt/protran/gb1-two_vs_rest-esm1_t6_43M_UR50S-mean-sklearn-scaley-noloader-rand/results/sklearn-rand/proeng/gb1/two_vs_rest/esm1_t6_43M_UR50S/mean\",\n",
    "output_folder=\"results/sklearn-scaley-noloader-rand/proeng/gb1/two_vs_rest/esm1_t6_43M_UR50S/mean\")\n",
    "\n",
    "copy_results(input_folder=\"/home/t-fli/amlt/protran/gb1-low_vs_high-esm1_t12_85M_UR50S-mean-sklearn-scaley-noloader-rand/results/sklearn-rand/proeng/gb1/low_vs_high/esm1_t12_85M_UR50S/mean\",\n",
    "output_folder=\"results/sklearn-scaley-noloader-rand/proeng/gb1/low_vs_high/esm1_t12_85M_UR50S/mean\")\n",
    "copy_results(input_folder=\"/home/t-fli/amlt/protran/gb1-two_vs_rest-esm1_t12_85M_UR50S-mean-sklearn-scaley-noloader-rand/results/sklearn-rand/proeng/gb1/two_vs_rest/esm1_t12_85M_UR50S/mean\",\n",
    "output_folder=\"results/sklearn-scaley-noloader-rand/proeng/gb1/two_vs_rest/esm1_t12_85M_UR50S/mean\")\n",
    "\n",
    "copy_results(input_folder=\"/home/t-fli/amlt/protran/gb1-low_vs_high-esm1b_t33_650M_UR50S-mean-sklearn-scaley-noloader-rand/results/sklearn-rand/proeng/gb1/low_vs_high/esm1b_t33_650M_UR50S/mean\",\n",
    "output_folder=\"results/sklearn-scaley-noloader-rand/proeng/gb1/low_vs_high/esm1b_t33_650M_UR50S/mean\")\n",
    "copy_results(input_folder=\"/home/t-fli/amlt/protran/gb1-two_vs_rest-esm1b_t33_650M_UR50S-mean-sklearn-scaley-noloader-rand/results/sklearn-rand/proeng/gb1/two_vs_rest/esm1b_t33_650M_UR50S/mean\",\n",
    "output_folder=\"results/sklearn-scaley-noloader-rand/proeng/gb1/two_vs_rest/esm1b_t33_650M_UR50S/mean\")\n",
    "\n",
    "copy_results(input_folder=\"/home/t-fli/amlt/protran/gb1-low_vs_high-esm1_t34_670M_UR50S-mean-sklearn-scaley-noloader-rand/results/sklearn-rand/proeng/gb1/low_vs_high/esm1_t34_670M_UR50S/mean\",\n",
    "output_folder=\"results/sklearn-scaley-noloader-rand/proeng/gb1/low_vs_high/esm1_t34_670M_UR50S/mean\")\n",
    "copy_results(input_folder=\"/home/t-fli/amlt/protran/gb1-two_vs_rest-esm1_t34_670M_UR50S-mean-sklearn-scaley-noloader-rand/results/sklearn-rand/proeng/gb1/two_vs_rest/esm1_t34_670M_UR50S/mean\",\n",
    "output_folder=\"results/sklearn-scaley-noloader-rand/proeng/gb1/two_vs_rest/esm1_t34_670M_UR50S/mean\")"
   ]
  },
  {
   "cell_type": "code",
   "execution_count": 7,
   "metadata": {},
   "outputs": [
    {
     "name": "stdout",
     "output_type": "stream",
     "text": [
      "Making results/sklearn-scaley-noloader-stat/proeng/gb1/low_vs_high ...\n",
      "Making results/sklearn-scaley-noloader-stat/proeng/gb1/low_vs_high/esm1_t6_43M_UR50S ...\n",
      "Making results/sklearn-scaley-noloader-stat/proeng/gb1/low_vs_high/esm1_t6_43M_UR50S/mean ...\n",
      "Making results/sklearn-scaley-noloader-stat/proeng/gb1/two_vs_rest ...\n",
      "Making results/sklearn-scaley-noloader-stat/proeng/gb1/two_vs_rest/esm1_t6_43M_UR50S ...\n",
      "Making results/sklearn-scaley-noloader-stat/proeng/gb1/two_vs_rest/esm1_t6_43M_UR50S/mean ...\n",
      "Making results/sklearn-scaley-noloader-stat/proeng/gb1/low_vs_high/esm1_t12_85M_UR50S ...\n",
      "Making results/sklearn-scaley-noloader-stat/proeng/gb1/low_vs_high/esm1_t12_85M_UR50S/mean ...\n",
      "Making results/sklearn-scaley-noloader-stat/proeng/gb1/two_vs_rest/esm1_t12_85M_UR50S ...\n",
      "Making results/sklearn-scaley-noloader-stat/proeng/gb1/two_vs_rest/esm1_t12_85M_UR50S/mean ...\n",
      "Making results/sklearn-scaley-noloader-stat/proeng/gb1/low_vs_high/esm1b_t33_650M_UR50S ...\n",
      "Making results/sklearn-scaley-noloader-stat/proeng/gb1/low_vs_high/esm1b_t33_650M_UR50S/mean ...\n",
      "Making results/sklearn-scaley-noloader-stat/proeng/gb1/two_vs_rest/esm1b_t33_650M_UR50S ...\n",
      "Making results/sklearn-scaley-noloader-stat/proeng/gb1/two_vs_rest/esm1b_t33_650M_UR50S/mean ...\n",
      "Making results/sklearn-scaley-noloader-stat/proeng/gb1/low_vs_high/esm1_t34_670M_UR50S ...\n",
      "Making results/sklearn-scaley-noloader-stat/proeng/gb1/low_vs_high/esm1_t34_670M_UR50S/mean ...\n",
      "Making results/sklearn-scaley-noloader-stat/proeng/gb1/two_vs_rest/esm1_t34_670M_UR50S ...\n",
      "Making results/sklearn-scaley-noloader-stat/proeng/gb1/two_vs_rest/esm1_t34_670M_UR50S/mean ...\n"
     ]
    }
   ],
   "source": [
    "copy_results(input_folder=\"/home/t-fli/amlt/protran/gb1-low_vs_high-esm1_t6_43M_UR50S-mean-sklearn-scaley-noloader-stat/results/sklearn-stat/proeng/gb1/low_vs_high/esm1_t6_43M_UR50S/mean\",\n",
    "output_folder=\"results/sklearn-scaley-noloader-stat/proeng/gb1/low_vs_high/esm1_t6_43M_UR50S/mean\")\n",
    "copy_results(input_folder=\"/home/t-fli/amlt/protran/gb1-two_vs_rest-esm1_t6_43M_UR50S-mean-sklearn-scaley-noloader-stat/results/sklearn-stat/proeng/gb1/two_vs_rest/esm1_t6_43M_UR50S/mean\",\n",
    "output_folder=\"results/sklearn-scaley-noloader-stat/proeng/gb1/two_vs_rest/esm1_t6_43M_UR50S/mean\")\n",
    "\n",
    "copy_results(input_folder=\"/home/t-fli/amlt/protran/gb1-low_vs_high-esm1_t12_85M_UR50S-mean-sklearn-scaley-noloader-stat/results/sklearn-stat/proeng/gb1/low_vs_high/esm1_t12_85M_UR50S/mean\",\n",
    "output_folder=\"results/sklearn-scaley-noloader-stat/proeng/gb1/low_vs_high/esm1_t12_85M_UR50S/mean\")\n",
    "copy_results(input_folder=\"/home/t-fli/amlt/protran/gb1-two_vs_rest-esm1_t12_85M_UR50S-mean-sklearn-scaley-noloader-stat/results/sklearn-stat/proeng/gb1/two_vs_rest/esm1_t12_85M_UR50S/mean\",\n",
    "output_folder=\"results/sklearn-scaley-noloader-stat/proeng/gb1/two_vs_rest/esm1_t12_85M_UR50S/mean\")\n",
    "\n",
    "copy_results(input_folder=\"/home/t-fli/amlt/protran/gb1-low_vs_high-esm1b_t33_650M_UR50S-mean-sklearn-scaley-noloader-stat/results/sklearn-stat/proeng/gb1/low_vs_high/esm1b_t33_650M_UR50S/mean\",\n",
    "output_folder=\"results/sklearn-scaley-noloader-stat/proeng/gb1/low_vs_high/esm1b_t33_650M_UR50S/mean\")\n",
    "copy_results(input_folder=\"/home/t-fli/amlt/protran/gb1-two_vs_rest-esm1b_t33_650M_UR50S-mean-sklearn-scaley-noloader-stat/results/sklearn-stat/proeng/gb1/two_vs_rest/esm1b_t33_650M_UR50S/mean\",\n",
    "output_folder=\"results/sklearn-scaley-noloader-stat/proeng/gb1/two_vs_rest/esm1b_t33_650M_UR50S/mean\")\n",
    "\n",
    "copy_results(input_folder=\"/home/t-fli/amlt/protran/gb1-low_vs_high-esm1_t34_670M_UR50S-mean-sklearn-scaley-noloader-stat/results/sklearn-stat/proeng/gb1/low_vs_high/esm1_t34_670M_UR50S/mean\",\n",
    "output_folder=\"results/sklearn-scaley-noloader-stat/proeng/gb1/low_vs_high/esm1_t34_670M_UR50S/mean\")\n",
    "copy_results(input_folder=\"/home/t-fli/amlt/protran/gb1-two_vs_rest-esm1_t34_670M_UR50S-mean-sklearn-scaley-noloader-stat/results/sklearn-stat/proeng/gb1/two_vs_rest/esm1_t34_670M_UR50S/mean\",\n",
    "output_folder=\"results/sklearn-scaley-noloader-stat/proeng/gb1/two_vs_rest/esm1_t34_670M_UR50S/mean\")"
   ]
  },
  {
   "cell_type": "code",
   "execution_count": null,
   "metadata": {},
   "outputs": [],
   "source": []
  }
 ],
 "metadata": {
  "kernelspec": {
   "display_name": "Python 3.9.2 ('protran')",
   "language": "python",
   "name": "python3"
  },
  "language_info": {
   "codemirror_mode": {
    "name": "ipython",
    "version": 3
   },
   "file_extension": ".py",
   "mimetype": "text/x-python",
   "name": "python",
   "nbconvert_exporter": "python",
   "pygments_lexer": "ipython3",
   "version": "3.9.2"
  },
  "orig_nbformat": 4,
  "vscode": {
   "interpreter": {
    "hash": "019692f042c79b6731ff84413c6b50d6174007f2b51f86eed1fb032dbd4a337e"
   }
  }
 },
 "nbformat": 4,
 "nbformat_minor": 2
}
