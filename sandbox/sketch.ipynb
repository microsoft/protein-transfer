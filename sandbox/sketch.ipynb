{
 "cells": [
  {
   "cell_type": "code",
   "execution_count": 1,
   "metadata": {},
   "outputs": [
    {
     "name": "stdout",
     "output_type": "stream",
     "text": [
      "/home/t-fli/repo/protein-transfer\n"
     ]
    }
   ],
   "source": [
    "%cd ~/repo/protein-transfer"
   ]
  },
  {
   "cell_type": "code",
   "execution_count": 26,
   "metadata": {},
   "outputs": [],
   "source": [
    "import os\n",
    "import shutil\n",
    "from glob import glob"
   ]
  },
  {
   "cell_type": "code",
   "execution_count": 31,
   "metadata": {},
   "outputs": [],
   "source": [
    "for png_path in glob(\"results/train_val_test/proeng/gb1/low_vs_high/*.pkl\"):\n",
    "    shutil.move(png_path, change_file_path(png_path))"
   ]
  },
  {
   "cell_type": "code",
   "execution_count": 25,
   "metadata": {},
   "outputs": [],
   "source": [
    "def change_file_path(old_png_path):\n",
    "    file_name, file_ext = os.path.splitext(os.path.basename(old_png_path))\n",
    "    encoder_name, layer, pooling = file_name.split(\"-\")\n",
    "    new_dir = os.path.join(os.path.dirname(old_png_path), encoder_name, pooling)\n",
    "    return os.path.join(new_dir, \"-\".join([encoder_name, pooling, layer]) + file_ext)"
   ]
  },
  {
   "cell_type": "code",
   "execution_count": 27,
   "metadata": {},
   "outputs": [
    {
     "data": {
      "text/plain": [
       "'results/learning_curves/proeng/gb1/low_vs_high/esm1b_t33_650M_UR50S/mean/esm1b_t33_650M_UR50S-mean-layer_26.png'"
      ]
     },
     "execution_count": 27,
     "metadata": {},
     "output_type": "execute_result"
    }
   ],
   "source": [
    "change_file_path(one_png_path)"
   ]
  },
  {
   "cell_type": "code",
   "execution_count": 13,
   "metadata": {},
   "outputs": [
    {
     "data": {
      "text/plain": [
       "'results/learning_curves/proeng/gb1/low_vs_high/esm1b_t33_650M_UR50S-layer_26-mean.png'"
      ]
     },
     "execution_count": 13,
     "metadata": {},
     "output_type": "execute_result"
    }
   ],
   "source": [
    "one_png_path = glob(\"results/learning_curves/proeng/gb1/low_vs_high/*.png\")[0]\n",
    "one_png_path"
   ]
  },
  {
   "cell_type": "code",
   "execution_count": 19,
   "metadata": {},
   "outputs": [],
   "source": [
    "file_name, file_ext = os.path.splitext(os.path.basename(one_png_path))\n",
    "encoder_name, layer, pooling = file_name.split(\"-\")"
   ]
  },
  {
   "cell_type": "code",
   "execution_count": 21,
   "metadata": {},
   "outputs": [],
   "source": [
    "new_dir = os.path.join(os.path.dirname(one_png_path), encoder_name, pooling)"
   ]
  },
  {
   "cell_type": "code",
   "execution_count": 24,
   "metadata": {},
   "outputs": [
    {
     "data": {
      "text/plain": [
       "'results/learning_curves/proeng/gb1/low_vs_high/esm1b_t33_650M_UR50S/mean/esm1b_t33_650M_UR50S-mean-layer_26.png'"
      ]
     },
     "execution_count": 24,
     "metadata": {},
     "output_type": "execute_result"
    }
   ],
   "source": [
    "new_file_name = os.path.join(new_dir, \"-\".join([encoder_name, pooling, layer]) + file_ext)\n",
    "new_file_name"
   ]
  },
  {
   "cell_type": "code",
   "execution_count": 32,
   "metadata": {},
   "outputs": [],
   "source": [
    "def get_task_data_split(dataset_path: str,) -> list[str]:\n",
    "    \"\"\"\n",
    "    Return the task, dataset, and the split given the dataset_path is\n",
    "    data/task/dataset/split.csv, ie. data/proeng/gb1/two_vs_rest.csv\n",
    "\n",
    "    Args:\n",
    "    - dataset_path: str, full path to the input dataset, in pkl or panda readable format\n",
    "        columns include: sequence, target, set, validation, mut_name (optional), mut_numb (optional)\n",
    "    \n",
    "    Returns:\n",
    "    - list[str]: [task, dataset, split]\n",
    "    \"\"\"\n",
    "    return os.path.splitext(dataset_path)[0].split(\"/\")[1:]"
   ]
  },
  {
   "cell_type": "code",
   "execution_count": 33,
   "metadata": {},
   "outputs": [
    {
     "data": {
      "text/plain": [
       "['proeng', 'gb1', 'two_vs_rest']"
      ]
     },
     "execution_count": 33,
     "metadata": {},
     "output_type": "execute_result"
    }
   ],
   "source": [
    "get_task_data_split(dataset_path=\"data/proeng/gb1/two_vs_rest.csv\")"
   ]
  },
  {
   "cell_type": "code",
   "execution_count": 34,
   "metadata": {},
   "outputs": [],
   "source": [
    "!mv /home/t-fli/amlt/protran/gb1-two_vs_rest-esm1_t6_43M_UR50S-mean_2/results/learning_curves/proeng/gb1/two_vs_rest/esm1_t6_43M_UR50S /home/t-fli/repo/protein-transfer/results/learning_curves/proeng/gb1/two_vs_rest"
   ]
  },
  {
   "cell_type": "code",
   "execution_count": 35,
   "metadata": {},
   "outputs": [],
   "source": [
    "!mv /home/t-fli/amlt/protran/gb1-two_vs_rest-esm1_t6_43M_UR50S-mean_2/results/train_val_test/proeng/gb1/two_vs_rest/esm1_t6_43M_UR50S /home/t-fli/repo/protein-transfer/results/train_val_test/proeng/gb1/two_vs_rest"
   ]
  },
  {
   "cell_type": "code",
   "execution_count": 36,
   "metadata": {},
   "outputs": [
    {
     "name": "stdout",
     "output_type": "stream",
     "text": [
      "mv: cannot stat '/home/t-fli/amlt/protran/gb1-low_vs_high-esm1_t6_43M_UR50S-mean_2/results/learning_curves/proeng/gb1/low_vs_high/esm1_t6_43M_UR50S': No such file or directory\n"
     ]
    }
   ],
   "source": [
    "!mv /home/t-fli/amlt/protran/gb1-low_vs_high-esm1_t6_43M_UR50S-mean_2/results/learning_curves/proeng/gb1/low_vs_high/esm1_t6_43M_UR50S /home/t-fli/repo/protein-transfer/results/learning_curves/proeng/gb1/low_vs_high"
   ]
  },
  {
   "cell_type": "code",
   "execution_count": 2,
   "metadata": {},
   "outputs": [],
   "source": [
    "!cp -r /home/t-fli/amlt/protran/gb1-low_vs_high-esm1_t6_43M_UR50S-max/results/learning_curves/proeng/gb1/low_vs_high/esm1_t6_43M_UR50S /home/t-fli/repo/protein-transfer/results/learning_curves/proeng/gb1/low_vs_high"
   ]
  },
  {
   "cell_type": "code",
   "execution_count": 4,
   "metadata": {},
   "outputs": [],
   "source": [
    "!cp -r /home/t-fli/amlt/protran/gb1-low_vs_high-esm1_t6_43M_UR50S-mean_2/results/learning_curves/proeng/gb1/low_vs_high/esm1_t6_43M_UR50S/mean /home/t-fli/repo/protein-transfer/results/learning_curves/proeng/gb1/low_vs_high/esm1_t6_43M_UR50S"
   ]
  },
  {
   "cell_type": "code",
   "execution_count": 5,
   "metadata": {},
   "outputs": [],
   "source": [
    "!cp -r /home/t-fli/amlt/protran/gb1-low_vs_high-esm1_t6_43M_UR50S-max/results/train_val_test/proeng/gb1/low_vs_high/esm1_t6_43M_UR50S /home/t-fli/repo/protein-transfer/results/train_val_test/proeng/gb1/low_vs_high\n",
    "!cp -r /home/t-fli/amlt/protran/gb1-low_vs_high-esm1_t6_43M_UR50S-mean_2/results/train_val_test/proeng/gb1/low_vs_high/esm1_t6_43M_UR50S/mean /home/t-fli/repo/protein-transfer/results/train_val_test/proeng/gb1/low_vs_high/esm1_t6_43M_UR50S"
   ]
  },
  {
   "cell_type": "code",
   "execution_count": 6,
   "metadata": {},
   "outputs": [],
   "source": [
    "!cp -r /home/t-fli/amlt/protran/gb1-low_vs_high-esm1b_t33_650M_UR50S-max/results/learning_curves/proeng/gb1/low_vs_high/esm1b_t33_650M_UR50S/max /home/t-fli/repo/protein-transfer/results/learning_curves/proeng/gb1/low_vs_high/esm1b_t33_650M_UR50S\n",
    "!cp -r /home/t-fli/amlt/protran/gb1-low_vs_high-esm1b_t33_650M_UR50S-max/results/train_val_test/proeng/gb1/low_vs_high/esm1b_t33_650M_UR50S/max /home/t-fli/repo/protein-transfer/results/train_val_test/proeng/gb1/low_vs_high/esm1b_t33_650M_UR50S"
   ]
  },
  {
   "cell_type": "code",
   "execution_count": 7,
   "metadata": {},
   "outputs": [],
   "source": [
    "!cp -r /home/t-fli/amlt/protran/gb1-two_vs_rest-esm1_t6_43M_UR50S-max/results/learning_curves/proeng/gb1/two_vs_rest/esm1_t6_43M_UR50S/max /home/t-fli/repo/protein-transfer/results/learning_curves/proeng/gb1/two_vs_rest/esm1_t6_43M_UR50S\n",
    "!cp -r /home/t-fli/amlt/protran/gb1-two_vs_rest-esm1_t6_43M_UR50S-max/results/train_val_test/proeng/gb1/two_vs_rest/esm1_t6_43M_UR50S/max /home/t-fli/repo/protein-transfer/results/train_val_test/proeng/gb1/two_vs_rest/esm1_t6_43M_UR50S"
   ]
  },
  {
   "cell_type": "code",
   "execution_count": 8,
   "metadata": {},
   "outputs": [],
   "source": [
    "!cp -r /home/t-fli/amlt/protran/gb1-two_vs_rest-esm1b_t33_650M_UR50S-max/results/learning_curves/proeng/gb1/two_vs_rest/esm1b_t33_650M_UR50S/max /home/t-fli/repo/protein-transfer/results/learning_curves/proeng/gb1/two_vs_rest/esm1b_t33_650M_UR50S\n",
    "!cp -r /home/t-fli/amlt/protran/gb1-two_vs_rest-esm1b_t33_650M_UR50S-max/results/train_val_test/proeng/gb1/two_vs_rest/esm1b_t33_650M_UR50S/max /home/t-fli/repo/protein-transfer/results/train_val_test/proeng/gb1/two_vs_rest/esm1b_t33_650M_UR50S"
   ]
  },
  {
   "cell_type": "code",
   "execution_count": null,
   "metadata": {},
   "outputs": [],
   "source": []
  }
 ],
 "metadata": {
  "kernelspec": {
   "display_name": "Python 3.9.2 ('protran')",
   "language": "python",
   "name": "python3"
  },
  "language_info": {
   "codemirror_mode": {
    "name": "ipython",
    "version": 3
   },
   "file_extension": ".py",
   "mimetype": "text/x-python",
   "name": "python",
   "nbconvert_exporter": "python",
   "pygments_lexer": "ipython3",
   "version": "3.9.2"
  },
  "orig_nbformat": 4,
  "vscode": {
   "interpreter": {
    "hash": "019692f042c79b6731ff84413c6b50d6174007f2b51f86eed1fb032dbd4a337e"
   }
  }
 },
 "nbformat": 4,
 "nbformat_minor": 2
}
