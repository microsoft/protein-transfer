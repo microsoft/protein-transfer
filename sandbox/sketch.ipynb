{
 "cells": [
  {
   "cell_type": "code",
   "execution_count": 1,
   "metadata": {},
   "outputs": [
    {
     "name": "stdout",
     "output_type": "stream",
     "text": [
      "/home/t-fli/repo/protein-transfer\n"
     ]
    }
   ],
   "source": [
    "%cd ~/repo/protein-transfer"
   ]
  },
  {
   "cell_type": "code",
   "execution_count": 2,
   "metadata": {},
   "outputs": [],
   "source": [
    "%load_ext blackcellmagic"
   ]
  },
  {
   "cell_type": "code",
   "execution_count": 3,
   "metadata": {},
   "outputs": [],
   "source": [
    "import os\n",
    "import shutil\n",
    "from glob import glob"
   ]
  },
  {
   "cell_type": "code",
   "execution_count": 6,
   "metadata": {},
   "outputs": [],
   "source": [
    "!cp -r /home/t-fli/amlt/genemb/scl-genemb/embeddings/annotation /home/t-fli/repo/protein-transfer/embeddings"
   ]
  },
  {
   "cell_type": "code",
   "execution_count": 7,
   "metadata": {},
   "outputs": [],
   "source": [
    "!cp -r /home/t-fli/amlt/genemb/thermo-genemb/embeddings/proeng/thermo /home/t-fli/repo/protein-transfer/embeddings/proeng"
   ]
  },
  {
   "cell_type": "code",
   "execution_count": 31,
   "metadata": {},
   "outputs": [],
   "source": [
    "for png_path in glob(\"results/train_val_test/proeng/gb1/low_vs_high/*.pkl\"):\n",
    "    shutil.move(png_path, change_file_path(png_path))"
   ]
  },
  {
   "cell_type": "code",
   "execution_count": 4,
   "metadata": {},
   "outputs": [],
   "source": [
    "def change_file_path(old_png_path):\n",
    "    file_name, file_ext = os.path.splitext(os.path.basename(old_png_path))\n",
    "    encoder_name, layer, pooling = file_name.split(\"-\")\n",
    "    new_dir = os.path.join(os.path.dirname(old_png_path), encoder_name, pooling)\n",
    "    return os.path.join(new_dir, \"-\".join([encoder_name, pooling, layer]) + file_ext)"
   ]
  },
  {
   "cell_type": "code",
   "execution_count": 27,
   "metadata": {},
   "outputs": [
    {
     "data": {
      "text/plain": [
       "'results/learning_curves/proeng/gb1/low_vs_high/esm1b_t33_650M_UR50S/mean/esm1b_t33_650M_UR50S-mean-layer_26.png'"
      ]
     },
     "execution_count": 27,
     "metadata": {},
     "output_type": "execute_result"
    }
   ],
   "source": [
    "change_file_path(one_png_path)"
   ]
  },
  {
   "cell_type": "code",
   "execution_count": 13,
   "metadata": {},
   "outputs": [
    {
     "data": {
      "text/plain": [
       "'results/learning_curves/proeng/gb1/low_vs_high/esm1b_t33_650M_UR50S-layer_26-mean.png'"
      ]
     },
     "execution_count": 13,
     "metadata": {},
     "output_type": "execute_result"
    }
   ],
   "source": [
    "one_png_path = glob(\"results/learning_curves/proeng/gb1/low_vs_high/*.png\")[0]\n",
    "one_png_path"
   ]
  },
  {
   "cell_type": "code",
   "execution_count": 19,
   "metadata": {},
   "outputs": [],
   "source": [
    "file_name, file_ext = os.path.splitext(os.path.basename(one_png_path))\n",
    "encoder_name, layer, pooling = file_name.split(\"-\")"
   ]
  },
  {
   "cell_type": "code",
   "execution_count": 21,
   "metadata": {},
   "outputs": [],
   "source": [
    "new_dir = os.path.join(os.path.dirname(one_png_path), encoder_name, pooling)"
   ]
  },
  {
   "cell_type": "code",
   "execution_count": 24,
   "metadata": {},
   "outputs": [
    {
     "data": {
      "text/plain": [
       "'results/learning_curves/proeng/gb1/low_vs_high/esm1b_t33_650M_UR50S/mean/esm1b_t33_650M_UR50S-mean-layer_26.png'"
      ]
     },
     "execution_count": 24,
     "metadata": {},
     "output_type": "execute_result"
    }
   ],
   "source": [
    "new_file_name = os.path.join(new_dir, \"-\".join([encoder_name, pooling, layer]) + file_ext)\n",
    "new_file_name"
   ]
  },
  {
   "cell_type": "code",
   "execution_count": 32,
   "metadata": {},
   "outputs": [],
   "source": [
    "def get_task_data_split(dataset_path: str,) -> list[str]:\n",
    "    \"\"\"\n",
    "    Return the task, dataset, and the split given the dataset_path is\n",
    "    data/task/dataset/split.csv, ie. data/proeng/gb1/two_vs_rest.csv\n",
    "\n",
    "    Args:\n",
    "    - dataset_path: str, full path to the input dataset, in pkl or panda readable format\n",
    "        columns include: sequence, target, set, validation, mut_name (optional), mut_numb (optional)\n",
    "    \n",
    "    Returns:\n",
    "    - list[str]: [task, dataset, split]\n",
    "    \"\"\"\n",
    "    return os.path.splitext(dataset_path)[0].split(\"/\")[1:]"
   ]
  },
  {
   "cell_type": "code",
   "execution_count": 33,
   "metadata": {},
   "outputs": [
    {
     "data": {
      "text/plain": [
       "['proeng', 'gb1', 'two_vs_rest']"
      ]
     },
     "execution_count": 33,
     "metadata": {},
     "output_type": "execute_result"
    }
   ],
   "source": [
    "get_task_data_split(dataset_path=\"data/proeng/gb1/two_vs_rest.csv\")"
   ]
  },
  {
   "cell_type": "code",
   "execution_count": 34,
   "metadata": {},
   "outputs": [],
   "source": [
    "!mv /home/t-fli/amlt/protran/gb1-two_vs_rest-esm1_t6_43M_UR50S-mean_2/results/learning_curves/proeng/gb1/two_vs_rest/esm1_t6_43M_UR50S /home/t-fli/repo/protein-transfer/results/learning_curves/proeng/gb1/two_vs_rest"
   ]
  },
  {
   "cell_type": "code",
   "execution_count": 35,
   "metadata": {},
   "outputs": [],
   "source": [
    "!mv /home/t-fli/amlt/protran/gb1-two_vs_rest-esm1_t6_43M_UR50S-mean_2/results/train_val_test/proeng/gb1/two_vs_rest/esm1_t6_43M_UR50S /home/t-fli/repo/protein-transfer/results/train_val_test/proeng/gb1/two_vs_rest"
   ]
  },
  {
   "cell_type": "code",
   "execution_count": 36,
   "metadata": {},
   "outputs": [
    {
     "name": "stdout",
     "output_type": "stream",
     "text": [
      "mv: cannot stat '/home/t-fli/amlt/protran/gb1-low_vs_high-esm1_t6_43M_UR50S-mean_2/results/learning_curves/proeng/gb1/low_vs_high/esm1_t6_43M_UR50S': No such file or directory\n"
     ]
    }
   ],
   "source": [
    "!mv /home/t-fli/amlt/protran/gb1-low_vs_high-esm1_t6_43M_UR50S-mean_2/results/learning_curves/proeng/gb1/low_vs_high/esm1_t6_43M_UR50S /home/t-fli/repo/protein-transfer/results/learning_curves/proeng/gb1/low_vs_high"
   ]
  },
  {
   "cell_type": "code",
   "execution_count": 2,
   "metadata": {},
   "outputs": [],
   "source": [
    "!cp -r /home/t-fli/amlt/protran/gb1-low_vs_high-esm1_t6_43M_UR50S-max/results/learning_curves/proeng/gb1/low_vs_high/esm1_t6_43M_UR50S /home/t-fli/repo/protein-transfer/results/learning_curves/proeng/gb1/low_vs_high"
   ]
  },
  {
   "cell_type": "code",
   "execution_count": 4,
   "metadata": {},
   "outputs": [],
   "source": [
    "!cp -r /home/t-fli/amlt/protran/gb1-low_vs_high-esm1_t6_43M_UR50S-mean_2/results/learning_curves/proeng/gb1/low_vs_high/esm1_t6_43M_UR50S/mean /home/t-fli/repo/protein-transfer/results/learning_curves/proeng/gb1/low_vs_high/esm1_t6_43M_UR50S"
   ]
  },
  {
   "cell_type": "code",
   "execution_count": 5,
   "metadata": {},
   "outputs": [],
   "source": [
    "!cp -r /home/t-fli/amlt/protran/gb1-low_vs_high-esm1_t6_43M_UR50S-max/results/train_val_test/proeng/gb1/low_vs_high/esm1_t6_43M_UR50S /home/t-fli/repo/protein-transfer/results/train_val_test/proeng/gb1/low_vs_high\n",
    "!cp -r /home/t-fli/amlt/protran/gb1-low_vs_high-esm1_t6_43M_UR50S-mean_2/results/train_val_test/proeng/gb1/low_vs_high/esm1_t6_43M_UR50S/mean /home/t-fli/repo/protein-transfer/results/train_val_test/proeng/gb1/low_vs_high/esm1_t6_43M_UR50S"
   ]
  },
  {
   "cell_type": "code",
   "execution_count": 6,
   "metadata": {},
   "outputs": [],
   "source": [
    "!cp -r /home/t-fli/amlt/protran/gb1-low_vs_high-esm1b_t33_650M_UR50S-max/results/learning_curves/proeng/gb1/low_vs_high/esm1b_t33_650M_UR50S/max /home/t-fli/repo/protein-transfer/results/learning_curves/proeng/gb1/low_vs_high/esm1b_t33_650M_UR50S\n",
    "!cp -r /home/t-fli/amlt/protran/gb1-low_vs_high-esm1b_t33_650M_UR50S-max/results/train_val_test/proeng/gb1/low_vs_high/esm1b_t33_650M_UR50S/max /home/t-fli/repo/protein-transfer/results/train_val_test/proeng/gb1/low_vs_high/esm1b_t33_650M_UR50S"
   ]
  },
  {
   "cell_type": "code",
   "execution_count": 7,
   "metadata": {},
   "outputs": [],
   "source": [
    "!cp -r /home/t-fli/amlt/protran/gb1-two_vs_rest-esm1_t6_43M_UR50S-max/results/learning_curves/proeng/gb1/two_vs_rest/esm1_t6_43M_UR50S/max /home/t-fli/repo/protein-transfer/results/learning_curves/proeng/gb1/two_vs_rest/esm1_t6_43M_UR50S\n",
    "!cp -r /home/t-fli/amlt/protran/gb1-two_vs_rest-esm1_t6_43M_UR50S-max/results/train_val_test/proeng/gb1/two_vs_rest/esm1_t6_43M_UR50S/max /home/t-fli/repo/protein-transfer/results/train_val_test/proeng/gb1/two_vs_rest/esm1_t6_43M_UR50S"
   ]
  },
  {
   "cell_type": "code",
   "execution_count": 8,
   "metadata": {},
   "outputs": [],
   "source": [
    "!cp -r /home/t-fli/amlt/protran/gb1-two_vs_rest-esm1b_t33_650M_UR50S-max/results/learning_curves/proeng/gb1/two_vs_rest/esm1b_t33_650M_UR50S/max /home/t-fli/repo/protein-transfer/results/learning_curves/proeng/gb1/two_vs_rest/esm1b_t33_650M_UR50S\n",
    "!cp -r /home/t-fli/amlt/protran/gb1-two_vs_rest-esm1b_t33_650M_UR50S-max/results/train_val_test/proeng/gb1/two_vs_rest/esm1b_t33_650M_UR50S/max /home/t-fli/repo/protein-transfer/results/train_val_test/proeng/gb1/two_vs_rest/esm1b_t33_650M_UR50S"
   ]
  },
  {
   "cell_type": "code",
   "execution_count": null,
   "metadata": {},
   "outputs": [],
   "source": [
    "!mv /home/t-fli/amlt/protran/gb1-low_vs_high-esm1_t6_43M_UR50S-mean-sklearn/results/sklearn/proeng/gb1/low_vs_high/esm1_t6_43M_UR50S/mean /home/t-fli/repo/protein-transfer/results/train_val_test/proeng/gb1/two_vs_rest"
   ]
  },
  {
   "cell_type": "code",
   "execution_count": 4,
   "metadata": {},
   "outputs": [],
   "source": [
    "import os\n",
    "import shutil\n",
    "from glob import glob\n",
    "\n",
    "from scr.utils import checkNgen_folder"
   ]
  },
  {
   "cell_type": "code",
   "execution_count": 5,
   "metadata": {},
   "outputs": [],
   "source": [
    "def copy_results(input_folder, output_folder):\n",
    "    checkNgen_folder(output_folder)\n",
    "    for file_path in glob(input_folder + \"/*.pkl\"):\n",
    "        shutil.copyfile(file_path, os.path.join(output_folder, os.path.basename(file_path)))\n",
    "    "
   ]
  },
  {
   "cell_type": "code",
   "execution_count": 15,
   "metadata": {},
   "outputs": [],
   "source": [
    "copy_results(input_folder=\"/home/t-fli/amlt/protran-fixembmean/aav-one_vs_many-esm1_t6_43M_UR50S-mean-sklearn-scaley-noloader/results/sklearn/proeng/aav/one_vs_many/esm1_t6_43M_UR50S/mean\",\n",
    "output_folder=\"results/sklearn-scaley-noloader-fixembpool/proeng/aav/one_vs_many/esm1_t6_43M_UR50S/mean\")\n",
    "copy_results(input_folder=\"/home/t-fli/amlt/protran-fixembmean/aav-two_vs_many-esm1_t6_43M_UR50S-mean-sklearn-scaley-noloader/results/sklearn/proeng/aav/two_vs_many/esm1_t6_43M_UR50S/mean\",\n",
    "output_folder=\"results/sklearn-scaley-noloader-fixembpool/proeng/aav/two_vs_many/esm1_t6_43M_UR50S/mean\")\n",
    "\n",
    "copy_results(input_folder=\"/home/t-fli/amlt/protran-fixembmean/aav-one_vs_many-esm1_t12_85M_UR50S-mean-sklearn-scaley-noloader/results/sklearn/proeng/aav/one_vs_many/esm1_t12_85M_UR50S/mean\",\n",
    "output_folder=\"results/sklearn-scaley-noloader-fixembpool/proeng/aav/one_vs_many/esm1_t12_85M_UR50S/mean\")\n",
    "copy_results(input_folder=\"/home/t-fli/amlt/protran-fixembmean/aav-two_vs_many-esm1_t12_85M_UR50S-mean-sklearn-scaley-noloader/results/sklearn/proeng/aav/two_vs_many/esm1_t12_85M_UR50S/mean\",\n",
    "output_folder=\"results/sklearn-scaley-noloader-fixembpool/proeng/aav/two_vs_many/esm1_t12_85M_UR50S/mean\")\n",
    "\n",
    "copy_results(input_folder=\"/home/t-fli/amlt/protran-fixembmean/aav-one_vs_many-esm1b_t33_650M_UR50S-mean-sklearn-scaley-noloader/results/sklearn/proeng/aav/one_vs_many/esm1b_t33_650M_UR50S/mean\",\n",
    "output_folder=\"results/sklearn-scaley-noloader-fixembpool/proeng/aav/one_vs_many/esm1b_t33_650M_UR50S/mean\")\n",
    "copy_results(input_folder=\"/home/t-fli/amlt/protran-fixembmean/aav-two_vs_many-esm1b_t33_650M_UR50S-mean-sklearn-scaley-noloader/results/sklearn/proeng/aav/two_vs_many/esm1b_t33_650M_UR50S/mean\",\n",
    "output_folder=\"results/sklearn-scaley-noloader-fixembpool/proeng/aav/two_vs_many/esm1b_t33_650M_UR50S/mean\")\n",
    "\n",
    "copy_results(input_folder=\"/home/t-fli/amlt/protran-fixembmean/aav-one_vs_many-esm1_t34_670M_UR50S-mean-sklearn-scaley-noloader/results/sklearn/proeng/aav/one_vs_many/esm1_t34_670M_UR50S/mean\",\n",
    "output_folder=\"results/sklearn-scaley-noloader-fixembpool/proeng/aav/one_vs_many/esm1_t34_670M_UR50S/mean\")\n",
    "copy_results(input_folder=\"/home/t-fli/amlt/protran-fixembmean/aav-two_vs_many-esm1_t34_670M_UR50S-mean-sklearn-scaley-noloader/results/sklearn/proeng/aav/two_vs_many/esm1_t34_670M_UR50S/mean\",\n",
    "output_folder=\"results/sklearn-scaley-noloader-fixembpool/proeng/aav/two_vs_many/esm1_t34_670M_UR50S/mean\")\n",
    "\n",
    "copy_results(input_folder=\"/home/t-fli/amlt/protran-fixembmean/aav-one_vs_many-onehot-flatten-sklearn-scaley-noloader/results/sklearn-onehot/proeng/aav/one_vs_many/onehot/flatten\",\n",
    "output_folder=\"results/sklearn-scaley-noloader-fixembpool-onehot/proeng/aav/one_vs_many/onehot/flatten\")\n",
    "copy_results(input_folder=\"/home/t-fli/amlt/protran-fixembmean/aav-two_vs_many-onehot-flatten-sklearn-scaley-noloader/results/sklearn-onehot/proeng/aav/two_vs_many/onehot/flatten\",\n",
    "output_folder=\"results/sklearn-scaley-noloader-fixembpool-onehot/proeng/aav/two_vs_many/onehot/flatten\")"
   ]
  },
  {
   "cell_type": "code",
   "execution_count": 7,
   "metadata": {},
   "outputs": [
    {
     "name": "stdout",
     "output_type": "stream",
     "text": [
      "Making results/sklearn-scalex-scaley-noloader-fixembmean ...\n",
      "Making results/sklearn-scalex-scaley-noloader-fixembmean/proeng ...\n",
      "Making results/sklearn-scalex-scaley-noloader-fixembmean/proeng/aav ...\n",
      "Making results/sklearn-scalex-scaley-noloader-fixembmean/proeng/aav/one_vs_many ...\n",
      "Making results/sklearn-scalex-scaley-noloader-fixembmean/proeng/aav/one_vs_many/esm1_t6_43M_UR50S ...\n",
      "Making results/sklearn-scalex-scaley-noloader-fixembmean/proeng/aav/one_vs_many/esm1_t6_43M_UR50S/mean ...\n",
      "Making results/sklearn-scalex-scaley-noloader-fixembmean/proeng/aav/two_vs_many ...\n",
      "Making results/sklearn-scalex-scaley-noloader-fixembmean/proeng/aav/two_vs_many/esm1_t6_43M_UR50S ...\n",
      "Making results/sklearn-scalex-scaley-noloader-fixembmean/proeng/aav/two_vs_many/esm1_t6_43M_UR50S/mean ...\n",
      "Making results/sklearn-scalex-scaley-noloader-fixembmean/proeng/aav/one_vs_many/esm1_t12_85M_UR50S ...\n",
      "Making results/sklearn-scalex-scaley-noloader-fixembmean/proeng/aav/one_vs_many/esm1_t12_85M_UR50S/mean ...\n",
      "Making results/sklearn-scalex-scaley-noloader-fixembmean/proeng/aav/two_vs_many/esm1_t12_85M_UR50S ...\n",
      "Making results/sklearn-scalex-scaley-noloader-fixembmean/proeng/aav/two_vs_many/esm1_t12_85M_UR50S/mean ...\n",
      "Making results/sklearn-scalex-scaley-noloader-fixembmean/proeng/aav/one_vs_many/esm1b_t33_650M_UR50S ...\n",
      "Making results/sklearn-scalex-scaley-noloader-fixembmean/proeng/aav/one_vs_many/esm1b_t33_650M_UR50S/mean ...\n",
      "Making results/sklearn-scalex-scaley-noloader-fixembmean/proeng/aav/two_vs_many/esm1b_t33_650M_UR50S ...\n",
      "Making results/sklearn-scalex-scaley-noloader-fixembmean/proeng/aav/two_vs_many/esm1b_t33_650M_UR50S/mean ...\n",
      "Making results/sklearn-scalex-scaley-noloader-fixembmean/proeng/aav/one_vs_many/esm1_t34_670M_UR50S ...\n",
      "Making results/sklearn-scalex-scaley-noloader-fixembmean/proeng/aav/one_vs_many/esm1_t34_670M_UR50S/mean ...\n",
      "Making results/sklearn-scalex-scaley-noloader-fixembmean/proeng/aav/two_vs_many/esm1_t34_670M_UR50S ...\n",
      "Making results/sklearn-scalex-scaley-noloader-fixembmean/proeng/aav/two_vs_many/esm1_t34_670M_UR50S/mean ...\n",
      "Making results/sklearn-scalex-scaley-noloader-fixembmean-onehot ...\n",
      "Making results/sklearn-scalex-scaley-noloader-fixembmean-onehot/proeng ...\n",
      "Making results/sklearn-scalex-scaley-noloader-fixembmean-onehot/proeng/aav ...\n",
      "Making results/sklearn-scalex-scaley-noloader-fixembmean-onehot/proeng/aav/one_vs_many ...\n",
      "Making results/sklearn-scalex-scaley-noloader-fixembmean-onehot/proeng/aav/one_vs_many/onehot ...\n",
      "Making results/sklearn-scalex-scaley-noloader-fixembmean-onehot/proeng/aav/one_vs_many/onehot/flatten ...\n",
      "Making results/sklearn-scalex-scaley-noloader-fixembmean-onehot/proeng/aav/two_vs_many ...\n",
      "Making results/sklearn-scalex-scaley-noloader-fixembmean-onehot/proeng/aav/two_vs_many/onehot ...\n",
      "Making results/sklearn-scalex-scaley-noloader-fixembmean-onehot/proeng/aav/two_vs_many/onehot/flatten ...\n"
     ]
    }
   ],
   "source": [
    "copy_results(input_folder=\"/home/t-fli/amlt/protran-fixembmean/aav-one_vs_many-esm1_t6_43M_UR50S-mean-sklearn-scalex-scaley-noloader/results/sklearn/proeng/aav/one_vs_many/esm1_t6_43M_UR50S/mean\",\n",
    "output_folder=\"results/sklearn-scalex-scaley-noloader-fixembmean/proeng/aav/one_vs_many/esm1_t6_43M_UR50S/mean\")\n",
    "copy_results(input_folder=\"/home/t-fli/amlt/protran-fixembmean/aav-two_vs_many-esm1_t6_43M_UR50S-mean-sklearn-scalex-scaley-noloader/results/sklearn/proeng/aav/two_vs_many/esm1_t6_43M_UR50S/mean\",\n",
    "output_folder=\"results/sklearn-scalex-scaley-noloader-fixembmean/proeng/aav/two_vs_many/esm1_t6_43M_UR50S/mean\")\n",
    "\n",
    "copy_results(input_folder=\"/home/t-fli/amlt/protran-fixembmean/aav-one_vs_many-esm1_t12_85M_UR50S-mean-sklearn-scalex-scaley-noloader/results/sklearn/proeng/aav/one_vs_many/esm1_t12_85M_UR50S/mean\",\n",
    "output_folder=\"results/sklearn-scalex-scaley-noloader-fixembmean/proeng/aav/one_vs_many/esm1_t12_85M_UR50S/mean\")\n",
    "copy_results(input_folder=\"/home/t-fli/amlt/protran-fixembmean/aav-two_vs_many-esm1_t12_85M_UR50S-mean-sklearn-scalex-scaley-noloader/results/sklearn/proeng/aav/two_vs_many/esm1_t12_85M_UR50S/mean\",\n",
    "output_folder=\"results/sklearn-scalex-scaley-noloader-fixembmean/proeng/aav/two_vs_many/esm1_t12_85M_UR50S/mean\")\n",
    "\n",
    "copy_results(input_folder=\"/home/t-fli/amlt/protran-fixembmean/aav-one_vs_many-esm1b_t33_650M_UR50S-mean-sklearn-scalex-scaley-noloader/results/sklearn/proeng/aav/one_vs_many/esm1b_t33_650M_UR50S/mean\",\n",
    "output_folder=\"results/sklearn-scalex-scaley-noloader-fixembmean/proeng/aav/one_vs_many/esm1b_t33_650M_UR50S/mean\")\n",
    "copy_results(input_folder=\"/home/t-fli/amlt/protran-fixembmean/aav-two_vs_many-esm1b_t33_650M_UR50S-mean-sklearn-scalex-scaley-noloader/results/sklearn/proeng/aav/two_vs_many/esm1b_t33_650M_UR50S/mean\",\n",
    "output_folder=\"results/sklearn-scalex-scaley-noloader-fixembmean/proeng/aav/two_vs_many/esm1b_t33_650M_UR50S/mean\")\n",
    "\n",
    "copy_results(input_folder=\"/home/t-fli/amlt/protran-fixembmean/aav-one_vs_many-esm1_t34_670M_UR50S-mean-sklearn-scalex-scaley-noloader/results/sklearn/proeng/aav/one_vs_many/esm1_t34_670M_UR50S/mean\",\n",
    "output_folder=\"results/sklearn-scalex-scaley-noloader-fixembmean/proeng/aav/one_vs_many/esm1_t34_670M_UR50S/mean\")\n",
    "copy_results(input_folder=\"/home/t-fli/amlt/protran-fixembmean/aav-two_vs_many-esm1_t34_670M_UR50S-mean-sklearn-scalex-scaley-noloader/results/sklearn/proeng/aav/two_vs_many/esm1_t34_670M_UR50S/mean\",\n",
    "output_folder=\"results/sklearn-scalex-scaley-noloader-fixembmean/proeng/aav/two_vs_many/esm1_t34_670M_UR50S/mean\")\n",
    "\n",
    "copy_results(input_folder=\"/home/t-fli/amlt/protran-fixembmean/aav-one_vs_many-onehot-flatten-sklearn-scalex-scaley-noloader/results/sklearn-onehot/proeng/aav/one_vs_many/onehot/flatten\",\n",
    "output_folder=\"results/sklearn-scalex-scaley-noloader-fixembmean-onehot/proeng/aav/one_vs_many/onehot/flatten\")\n",
    "copy_results(input_folder=\"/home/t-fli/amlt/protran-fixembmean/aav-two_vs_many-onehot-flatten-sklearn-scalex-scaley-noloader/results/sklearn-onehot/proeng/aav/two_vs_many/onehot/flatten\",\n",
    "output_folder=\"results/sklearn-scalex-scaley-noloader-fixembmean-onehot/proeng/aav/two_vs_many/onehot/flatten\")"
   ]
  },
  {
   "cell_type": "code",
   "execution_count": 7,
   "metadata": {},
   "outputs": [],
   "source": [
    "copy_results(input_folder=\"/home/t-fli/amlt/protran/thermo-esm1_t6_43M_UR50S-mean-pytorch-20epoch/results/learning_curves/proeng/thermo/mixed_split/esm1_t6_43M_UR50S/mean\",\n",
    "output_folder=\"results/learning_curves/proeng/thermo/mixed_split/esm1_t6_43M_UR50S\")\n",
    "copy_results(input_folder=\"/home/t-fli/amlt/protran/thermo-esm1_t6_43M_UR50S-mean-pytorch-20epoch/results/train_val_test/proeng/thermo/mixed_split/esm1_t6_43M_UR50S/mean\",\n",
    "output_folder=\"results/train_val_test/proeng/thermo/mixed_split/esm1_t6_43M_UR50S\")"
   ]
  },
  {
   "cell_type": "code",
   "execution_count": 18,
   "metadata": {},
   "outputs": [
    {
     "name": "stdout",
     "output_type": "stream",
     "text": [
      "Making results/sklearn/proeng/gb1/low_vs_high/esm1_t6_43M_UR50S...\n",
      "Making results/sklearn/proeng/gb1/low_vs_high/esm1_t6_43M_UR50S/mean...\n"
     ]
    }
   ],
   "source": [
    "copy_results(input_folder=\"/home/t-fli/amlt/protran/gb1-low_vs_high-esm1_t6_43M_UR50S-mean-sklearn/results/sklearn/proeng/gb1/low_vs_high/esm1_t6_43M_UR50S/mean\",\n",
    "output_folder=\"results/sklearn/proeng/gb1/low_vs_high/esm1_t6_43M_UR50S/mean\")"
   ]
  },
  {
   "cell_type": "code",
   "execution_count": 16,
   "metadata": {},
   "outputs": [],
   "source": [
    "copy_results(input_folder=\"/home/t-fli/amlt/protran/gb1-two_vs_rest-esm1_t6_43M_UR50S-mean-sklearn/results/sklearn/proeng/gb1/two_vs_rest/esm1_t6_43M_UR50S/mean\",\n",
    "output_folder=\"results/sklearn/proeng/gb1/two_vs_rest/esm1_t6_43M_UR50S/mean\")"
   ]
  },
  {
   "cell_type": "code",
   "execution_count": 15,
   "metadata": {},
   "outputs": [],
   "source": [
    "copy_results(input_folder=\"/home/t-fli/amlt/protran/gb1-low_vs_high-esm1_t12_85M_UR50S-mean-sklearn/results/sklearn/proeng/gb1/low_vs_high/esm1_t12_85M_UR50S/mean\",\n",
    "output_folder=\"results/sklearn/proeng/gb1/low_vs_high/esm1_t12_85M_UR50S/mean\")"
   ]
  },
  {
   "cell_type": "code",
   "execution_count": 17,
   "metadata": {},
   "outputs": [
    {
     "name": "stdout",
     "output_type": "stream",
     "text": [
      "Making results/sklearn/proeng/gb1/two_vs_rest/esm1_t12_85M_UR50S...\n",
      "Making results/sklearn/proeng/gb1/two_vs_rest/esm1_t12_85M_UR50S/mean...\n"
     ]
    }
   ],
   "source": [
    "copy_results(input_folder=\"/home/t-fli/amlt/protran/gb1-two_vs_rest-esm1_t12_85M_UR50S-mean-sklearn/results/sklearn/proeng/gb1/two_vs_rest/esm1_t12_85M_UR50S/mean\",\n",
    "output_folder=\"results/sklearn/proeng/gb1/two_vs_rest/esm1_t12_85M_UR50S/mean\")"
   ]
  },
  {
   "cell_type": "code",
   "execution_count": 19,
   "metadata": {},
   "outputs": [
    {
     "name": "stdout",
     "output_type": "stream",
     "text": [
      "Making results/sklearn/proeng/gb1/low_vs_high/esm1_t34_670M_UR50S...\n",
      "Making results/sklearn/proeng/gb1/low_vs_high/esm1_t34_670M_UR50S/mean...\n"
     ]
    }
   ],
   "source": [
    "copy_results(input_folder=\"/home/t-fli/amlt/protran/gb1-low_vs_high-esm1_t34_670M_UR50S-mean-sklearn/results/sklearn/proeng/gb1/low_vs_high/esm1_t34_670M_UR50S/mean\",\n",
    "output_folder=\"results/sklearn/proeng/gb1/low_vs_high/esm1_t34_670M_UR50S/mean\")"
   ]
  },
  {
   "cell_type": "code",
   "execution_count": 20,
   "metadata": {},
   "outputs": [
    {
     "name": "stdout",
     "output_type": "stream",
     "text": [
      "Making results/sklearn/proeng/gb1/two_vs_rest/esm1_t34_670M_UR50S...\n",
      "Making results/sklearn/proeng/gb1/two_vs_rest/esm1_t34_670M_UR50S/mean...\n"
     ]
    }
   ],
   "source": [
    "copy_results(input_folder=\"/home/t-fli/amlt/protran/gb1-two_vs_rest-esm1_t34_670M_UR50S-mean-sklearn/results/sklearn/proeng/gb1/two_vs_rest/esm1_t34_670M_UR50S/mean\",\n",
    "output_folder=\"results/sklearn/proeng/gb1/two_vs_rest/esm1_t34_670M_UR50S/mean\")"
   ]
  },
  {
   "cell_type": "code",
   "execution_count": 21,
   "metadata": {},
   "outputs": [
    {
     "name": "stdout",
     "output_type": "stream",
     "text": [
      "Making results/sklearn/proeng/gb1/low_vs_high/esm1b_t33_650M_UR50S...\n",
      "Making results/sklearn/proeng/gb1/low_vs_high/esm1b_t33_650M_UR50S/mean...\n",
      "Making results/sklearn/proeng/gb1/two_vs_rest/esm1b_t33_650M_UR50S...\n",
      "Making results/sklearn/proeng/gb1/two_vs_rest/esm1b_t33_650M_UR50S/mean...\n"
     ]
    }
   ],
   "source": [
    "copy_results(input_folder=\"/home/t-fli/amlt/protran/gb1-low_vs_high-esm1b_t33_650M_UR50S-mean-sklearn/results/sklearn/proeng/gb1/low_vs_high/esm1b_t33_650M_UR50S/mean\",\n",
    "output_folder=\"results/sklearn/proeng/gb1/low_vs_high/esm1b_t33_650M_UR50S/mean\")\n",
    "\n",
    "copy_results(input_folder=\"/home/t-fli/amlt/protran/gb1-two_vs_rest-esm1b_t33_650M_UR50S-mean-sklearn/results/sklearn/proeng/gb1/two_vs_rest/esm1b_t33_650M_UR50S/mean\",\n",
    "output_folder=\"results/sklearn/proeng/gb1/two_vs_rest/esm1b_t33_650M_UR50S/mean\")"
   ]
  },
  {
   "cell_type": "code",
   "execution_count": 6,
   "metadata": {},
   "outputs": [
    {
     "name": "stdout",
     "output_type": "stream",
     "text": [
      "Making results/sklearn/proeng/aav...\n",
      "Making results/sklearn/proeng/aav/one_vs_many...\n",
      "Making results/sklearn/proeng/aav/one_vs_many/esm1_t6_43M_UR50S...\n",
      "Making results/sklearn/proeng/aav/one_vs_many/esm1_t6_43M_UR50S/mean...\n"
     ]
    }
   ],
   "source": [
    "copy_results(input_folder=\"/home/t-fli/amlt/protran/aav-one_vs_many-esm1_t6_43M_UR50S-mean-sklearn/results/sklearn/proeng/aav/one_vs_many/esm1_t6_43M_UR50S/mean\",\n",
    "output_folder=\"results/sklearn/proeng/aav/one_vs_many/esm1_t6_43M_UR50S/mean\")"
   ]
  },
  {
   "cell_type": "code",
   "execution_count": 7,
   "metadata": {},
   "outputs": [
    {
     "name": "stdout",
     "output_type": "stream",
     "text": [
      "Making results/sklearn/proeng/aav/two_vs_many...\n",
      "Making results/sklearn/proeng/aav/two_vs_many/esm1_t6_43M_UR50S...\n",
      "Making results/sklearn/proeng/aav/two_vs_many/esm1_t6_43M_UR50S/mean...\n"
     ]
    }
   ],
   "source": [
    "copy_results(input_folder=\"/home/t-fli/amlt/protran/aav-two_vs_many-esm1_t6_43M_UR50S-mean-sklearn/results/sklearn/proeng/aav/two_vs_many/esm1_t6_43M_UR50S/mean\",\n",
    "output_folder=\"results/sklearn/proeng/aav/two_vs_many/esm1_t6_43M_UR50S/mean\")"
   ]
  },
  {
   "cell_type": "code",
   "execution_count": 9,
   "metadata": {},
   "outputs": [],
   "source": [
    "copy_results(input_folder=\"/home/t-fli/amlt/protran/gb1-low_vs_high-esm1_t6_43M_UR50S-mean-sklearn-scaley-fixa/results/sklearn/proeng/gb1/low_vs_high/esm1_t6_43M_UR50S/mean\",\n",
    "output_folder=\"results/sklearn-scaley-fixa/proeng/gb1/low_vs_high/esm1_t6_43M_UR50S/mean\")\n",
    "copy_results(input_folder=\"/home/t-fli/amlt/protran/gb1-two_vs_rest-esm1_t6_43M_UR50S-mean-sklearn-scaley-fixa/results/sklearn/proeng/gb1/two_vs_rest/esm1_t6_43M_UR50S/mean\",\n",
    "output_folder=\"results/sklearn-scaley-fixa/proeng/gb1/two_vs_rest/esm1_t6_43M_UR50S/mean\")\n",
    "\n",
    "copy_results(input_folder=\"/home/t-fli/amlt/protran/gb1-low_vs_high-esm1_t12_85M_UR50S-mean-sklearn-scaley-fixa/results/sklearn/proeng/gb1/low_vs_high/esm1_t12_85M_UR50S/mean\",\n",
    "output_folder=\"results/sklearn-scaley-fixa/proeng/gb1/low_vs_high/esm1_t12_85M_UR50S/mean\")\n",
    "copy_results(input_folder=\"/home/t-fli/amlt/protran/gb1-two_vs_rest-esm1_t12_85M_UR50S-mean-sklearn-scaley-fixa/results/sklearn/proeng/gb1/two_vs_rest/esm1_t12_85M_UR50S/mean\",\n",
    "output_folder=\"results/sklearn-scaley-fixa/proeng/gb1/two_vs_rest/esm1_t12_85M_UR50S/mean\")\n",
    "\n",
    "copy_results(input_folder=\"/home/t-fli/amlt/protran/gb1-low_vs_high-esm1b_t33_650M_UR50S-mean-sklearn-scaley-fixa/results/sklearn/proeng/gb1/low_vs_high/esm1b_t33_650M_UR50S/mean\",\n",
    "output_folder=\"results/sklearn-scaley-fixa/proeng/gb1/low_vs_high/esm1b_t33_650M_UR50S/mean\")\n",
    "copy_results(input_folder=\"/home/t-fli/amlt/protran/gb1-two_vs_rest-esm1b_t33_650M_UR50S-mean-sklearn-scaley-fixa/results/sklearn/proeng/gb1/two_vs_rest/esm1b_t33_650M_UR50S/mean\",\n",
    "output_folder=\"results/sklearn-scaley-fixa/proeng/gb1/two_vs_rest/esm1b_t33_650M_UR50S/mean\")\n",
    "\n",
    "copy_results(input_folder=\"/home/t-fli/amlt/protran/gb1-low_vs_high-esm1_t34_670M_UR50S-mean-sklearn-scaley-fixa/results/sklearn/proeng/gb1/low_vs_high/esm1_t34_670M_UR50S/mean\",\n",
    "output_folder=\"results/sklearn-scaley-fixa/proeng/gb1/low_vs_high/esm1_t34_670M_UR50S/mean\")\n",
    "copy_results(input_folder=\"/home/t-fli/amlt/protran/gb1-two_vs_rest-esm1_t34_670M_UR50S-mean-sklearn-scaley-fixa/results/sklearn/proeng/gb1/two_vs_rest/esm1_t34_670M_UR50S/mean\",\n",
    "output_folder=\"results/sklearn-scaley-fixa/proeng/gb1/two_vs_rest/esm1_t34_670M_UR50S/mean\")"
   ]
  },
  {
   "cell_type": "code",
   "execution_count": 10,
   "metadata": {},
   "outputs": [
    {
     "name": "stdout",
     "output_type": "stream",
     "text": [
      "Making results/sklearn-scaley-noloader/proeng/gb1/low_vs_high...\n",
      "Making results/sklearn-scaley-noloader/proeng/gb1/low_vs_high/esm1_t6_43M_UR50S...\n",
      "Making results/sklearn-scaley-noloader/proeng/gb1/low_vs_high/esm1_t6_43M_UR50S/mean...\n",
      "Making results/sklearn-scaley-noloader/proeng/gb1/low_vs_high/esm1_t12_85M_UR50S...\n",
      "Making results/sklearn-scaley-noloader/proeng/gb1/low_vs_high/esm1_t12_85M_UR50S/mean...\n",
      "Making results/sklearn-scaley-noloader/proeng/gb1/two_vs_rest/esm1_t12_85M_UR50S...\n",
      "Making results/sklearn-scaley-noloader/proeng/gb1/two_vs_rest/esm1_t12_85M_UR50S/mean...\n",
      "Making results/sklearn-scaley-noloader/proeng/gb1/low_vs_high/esm1b_t33_650M_UR50S...\n",
      "Making results/sklearn-scaley-noloader/proeng/gb1/low_vs_high/esm1b_t33_650M_UR50S/mean...\n",
      "Making results/sklearn-scaley-noloader/proeng/gb1/two_vs_rest/esm1b_t33_650M_UR50S...\n",
      "Making results/sklearn-scaley-noloader/proeng/gb1/two_vs_rest/esm1b_t33_650M_UR50S/mean...\n",
      "Making results/sklearn-scaley-noloader/proeng/gb1/low_vs_high/esm1_t34_670M_UR50S...\n",
      "Making results/sklearn-scaley-noloader/proeng/gb1/low_vs_high/esm1_t34_670M_UR50S/mean...\n",
      "Making results/sklearn-scaley-noloader/proeng/gb1/two_vs_rest/esm1_t34_670M_UR50S...\n",
      "Making results/sklearn-scaley-noloader/proeng/gb1/two_vs_rest/esm1_t34_670M_UR50S/mean...\n"
     ]
    }
   ],
   "source": [
    "copy_results(input_folder=\"/home/t-fli/amlt/protran/gb1-low_vs_high-esm1_t6_43M_UR50S-mean-sklearn-scaley-noloader/results/sklearn/proeng/gb1/low_vs_high/esm1_t6_43M_UR50S/mean\",\n",
    "output_folder=\"results/sklearn-scaley-noloader/proeng/gb1/low_vs_high/esm1_t6_43M_UR50S/mean\")\n",
    "copy_results(input_folder=\"/home/t-fli/amlt/protran/gb1-two_vs_rest-esm1_t6_43M_UR50S-mean-sklearn-scaley-noloader/results/sklearn/proeng/gb1/two_vs_rest/esm1_t6_43M_UR50S/mean\",\n",
    "output_folder=\"results/sklearn-scaley-noloader/proeng/gb1/two_vs_rest/esm1_t6_43M_UR50S/mean\")\n",
    "\n",
    "copy_results(input_folder=\"/home/t-fli/amlt/protran/gb1-low_vs_high-esm1_t12_85M_UR50S-mean-sklearn-scaley-noloader/results/sklearn/proeng/gb1/low_vs_high/esm1_t12_85M_UR50S/mean\",\n",
    "output_folder=\"results/sklearn-scaley-noloader/proeng/gb1/low_vs_high/esm1_t12_85M_UR50S/mean\")\n",
    "copy_results(input_folder=\"/home/t-fli/amlt/protran/gb1-two_vs_rest-esm1_t12_85M_UR50S-mean-sklearn-scaley-noloader/results/sklearn/proeng/gb1/two_vs_rest/esm1_t12_85M_UR50S/mean\",\n",
    "output_folder=\"results/sklearn-scaley-noloader/proeng/gb1/two_vs_rest/esm1_t12_85M_UR50S/mean\")\n",
    "\n",
    "copy_results(input_folder=\"/home/t-fli/amlt/protran/gb1-low_vs_high-esm1b_t33_650M_UR50S-mean-sklearn-scaley-noloader/results/sklearn/proeng/gb1/low_vs_high/esm1b_t33_650M_UR50S/mean\",\n",
    "output_folder=\"results/sklearn-scaley-noloader/proeng/gb1/low_vs_high/esm1b_t33_650M_UR50S/mean\")\n",
    "copy_results(input_folder=\"/home/t-fli/amlt/protran/gb1-two_vs_rest-esm1b_t33_650M_UR50S-mean-sklearn-scaley-noloader/results/sklearn/proeng/gb1/two_vs_rest/esm1b_t33_650M_UR50S/mean\",\n",
    "output_folder=\"results/sklearn-scaley-noloader/proeng/gb1/two_vs_rest/esm1b_t33_650M_UR50S/mean\")\n",
    "\n",
    "copy_results(input_folder=\"/home/t-fli/amlt/protran/gb1-low_vs_high-esm1_t34_670M_UR50S-mean-sklearn-scaley-noloader/results/sklearn/proeng/gb1/low_vs_high/esm1_t34_670M_UR50S/mean\",\n",
    "output_folder=\"results/sklearn-scaley-noloader/proeng/gb1/low_vs_high/esm1_t34_670M_UR50S/mean\")\n",
    "copy_results(input_folder=\"/home/t-fli/amlt/protran/gb1-two_vs_rest-esm1_t34_670M_UR50S-mean-sklearn-scaley-noloader/results/sklearn/proeng/gb1/two_vs_rest/esm1_t34_670M_UR50S/mean\",\n",
    "output_folder=\"results/sklearn-scaley-noloader/proeng/gb1/two_vs_rest/esm1_t34_670M_UR50S/mean\")"
   ]
  },
  {
   "cell_type": "code",
   "execution_count": null,
   "metadata": {},
   "outputs": [],
   "source": [
    "copy_results(input_folder=\"/home/t-fli/amlt/protran/gb1-low_vs_high-esm1_t6_43M_UR50S-mean-sklearn-scaley-noloader/results/sklearn/proeng/gb1/low_vs_high/esm1_t6_43M_UR50S/mean\",\n",
    "output_folder=\"results/sklearn-scaley-noloader/proeng/gb1/low_vs_high/esm1_t6_43M_UR50S/mean\")\n",
    "copy_results(input_folder=\"/home/t-fli/amlt/protran/gb1-two_vs_rest-esm1_t6_43M_UR50S-mean-sklearn-scaley-noloader/results/sklearn/proeng/gb1/two_vs_rest/esm1_t6_43M_UR50S/mean\",\n",
    "output_folder=\"results/sklearn-scaley-noloader/proeng/gb1/two_vs_rest/esm1_t6_43M_UR50S/mean\")\n",
    "\n",
    "copy_results(input_folder=\"/home/t-fli/amlt/protran/gb1-low_vs_high-esm1_t12_85M_UR50S-mean-sklearn-scaley-noloader/results/sklearn/proeng/gb1/low_vs_high/esm1_t12_85M_UR50S/mean\",\n",
    "output_folder=\"results/sklearn-scaley-noloader/proeng/gb1/low_vs_high/esm1_t12_85M_UR50S/mean\")\n",
    "copy_results(input_folder=\"/home/t-fli/amlt/protran/gb1-two_vs_rest-esm1_t12_85M_UR50S-mean-sklearn-scaley-noloader/results/sklearn/proeng/gb1/two_vs_rest/esm1_t12_85M_UR50S/mean\",\n",
    "output_folder=\"results/sklearn-scaley-noloader/proeng/gb1/two_vs_rest/esm1_t12_85M_UR50S/mean\")\n",
    "\n",
    "copy_results(input_folder=\"/home/t-fli/amlt/protran/gb1-low_vs_high-esm1b_t33_650M_UR50S-mean-sklearn-scaley-noloader/results/sklearn/proeng/gb1/low_vs_high/esm1b_t33_650M_UR50S/mean\",\n",
    "output_folder=\"results/sklearn-scaley-noloader/proeng/gb1/low_vs_high/esm1b_t33_650M_UR50S/mean\")\n",
    "copy_results(input_folder=\"/home/t-fli/amlt/protran/gb1-two_vs_rest-esm1b_t33_650M_UR50S-mean-sklearn-scaley-noloader/results/sklearn/proeng/gb1/two_vs_rest/esm1b_t33_650M_UR50S/mean\",\n",
    "output_folder=\"results/sklearn-scaley-noloader/proeng/gb1/two_vs_rest/esm1b_t33_650M_UR50S/mean\")\n",
    "\n",
    "copy_results(input_folder=\"/home/t-fli/amlt/protran/gb1-low_vs_high-esm1_t34_670M_UR50S-mean-sklearn-scaley-noloader/results/sklearn/proeng/gb1/low_vs_high/esm1_t34_670M_UR50S/mean\",\n",
    "output_folder=\"results/sklearn-scaley-noloader/proeng/gb1/low_vs_high/esm1_t34_670M_UR50S/mean\")\n",
    "copy_results(input_folder=\"/home/t-fli/amlt/protran/gb1-two_vs_rest-esm1_t34_670M_UR50S-mean-sklearn-scaley-noloader/results/sklearn/proeng/gb1/two_vs_rest/esm1_t34_670M_UR50S/mean\",\n",
    "output_folder=\"results/sklearn-scaley-noloader/proeng/gb1/two_vs_rest/esm1_t34_670M_UR50S/mean\")"
   ]
  },
  {
   "cell_type": "code",
   "execution_count": 6,
   "metadata": {},
   "outputs": [],
   "source": [
    "copy_results(input_folder=\"/home/t-fli/amlt/protran-scalex/gb1-low_vs_high-esm1_t6_43M_UR50S-mean-sklearn-scalex-scaley-noloader/results/sklearn/proeng/gb1/low_vs_high/esm1_t6_43M_UR50S/mean\",\n",
    "output_folder=\"results/sklearn-scalex-scaley-noloader/proeng/gb1/low_vs_high/esm1_t6_43M_UR50S/mean\")\n",
    "copy_results(input_folder=\"/home/t-fli/amlt/protran-scalex/gb1-two_vs_rest-esm1_t6_43M_UR50S-mean-sklearn-scalex-scaley-noloader/results/sklearn/proeng/gb1/two_vs_rest/esm1_t6_43M_UR50S/mean\",\n",
    "output_folder=\"results/sklearn-scalex-scaley-noloader/proeng/gb1/two_vs_rest/esm1_t6_43M_UR50S/mean\")\n",
    "\n",
    "copy_results(input_folder=\"/home/t-fli/amlt/protran-scalex/gb1-low_vs_high-esm1_t12_85M_UR50S-mean-sklearn-scalex-scaley-noloader/results/sklearn/proeng/gb1/low_vs_high/esm1_t12_85M_UR50S/mean\",\n",
    "output_folder=\"results/sklearn-scalex-scaley-noloader/proeng/gb1/low_vs_high/esm1_t12_85M_UR50S/mean\")\n",
    "copy_results(input_folder=\"/home/t-fli/amlt/protran-scalex/gb1-two_vs_rest-esm1_t12_85M_UR50S-mean-sklearn-scalex-scaley-noloader/results/sklearn/proeng/gb1/two_vs_rest/esm1_t12_85M_UR50S/mean\",\n",
    "output_folder=\"results/sklearn-scalex-scaley-noloader/proeng/gb1/two_vs_rest/esm1_t12_85M_UR50S/mean\")\n",
    "\n",
    "copy_results(input_folder=\"/home/t-fli/amlt/protran-scalex/gb1-low_vs_high-esm1b_t33_650M_UR50S-mean-sklearn-scalex-scaley-noloader/results/sklearn/proeng/gb1/low_vs_high/esm1b_t33_650M_UR50S/mean\",\n",
    "output_folder=\"results/sklearn-scalex-scaley-noloader/proeng/gb1/low_vs_high/esm1b_t33_650M_UR50S/mean\")\n",
    "copy_results(input_folder=\"/home/t-fli/amlt/protran-scalex/gb1-two_vs_rest-esm1b_t33_650M_UR50S-mean-sklearn-scalex-scaley-noloader/results/sklearn/proeng/gb1/two_vs_rest/esm1b_t33_650M_UR50S/mean\",\n",
    "output_folder=\"results/sklearn-scalex-scaley-noloader/proeng/gb1/two_vs_rest/esm1b_t33_650M_UR50S/mean\")\n",
    "\n",
    "copy_results(input_folder=\"/home/t-fli/amlt/protran-scalex/gb1-low_vs_high-esm1_t34_670M_UR50S-mean-sklearn-scalex-scaley-noloader/results/sklearn/proeng/gb1/low_vs_high/esm1_t34_670M_UR50S/mean\",\n",
    "output_folder=\"results/sklearn-scalex-scaley-noloader/proeng/gb1/low_vs_high/esm1_t34_670M_UR50S/mean\")\n",
    "copy_results(input_folder=\"/home/t-fli/amlt/protran-scalex/gb1-two_vs_rest-esm1_t34_670M_UR50S-mean-sklearn-scalex-scaley-noloader/results/sklearn/proeng/gb1/two_vs_rest/esm1_t34_670M_UR50S/mean\",\n",
    "output_folder=\"results/sklearn-scalex-scaley-noloader/proeng/gb1/two_vs_rest/esm1_t34_670M_UR50S/mean\")"
   ]
  },
  {
   "cell_type": "code",
   "execution_count": 6,
   "metadata": {},
   "outputs": [
    {
     "name": "stdout",
     "output_type": "stream",
     "text": [
      "Making results/sklearn-scalex-scaley-noloader-fixembpool-stat ...\n",
      "Making results/sklearn-scalex-scaley-noloader-fixembpool-stat/proeng ...\n",
      "Making results/sklearn-scalex-scaley-noloader-fixembpool-stat/proeng/gb1 ...\n",
      "Making results/sklearn-scalex-scaley-noloader-fixembpool-stat/proeng/gb1/sampled ...\n",
      "Making results/sklearn-scalex-scaley-noloader-fixembpool-stat/proeng/gb1/sampled/esm1_t6_43M_UR50S ...\n",
      "Making results/sklearn-scalex-scaley-noloader-fixembpool-stat/proeng/gb1/sampled/esm1_t6_43M_UR50S/mean ...\n",
      "Making results/sklearn-scalex-scaley-noloader-fixembpool-stat/proeng/gb1/sampled/esm1_t12_85M_UR50S ...\n",
      "Making results/sklearn-scalex-scaley-noloader-fixembpool-stat/proeng/gb1/sampled/esm1_t12_85M_UR50S/mean ...\n",
      "Making results/sklearn-scalex-scaley-noloader-fixembpool-stat/proeng/gb1/sampled/esm1b_t33_650M_UR50S ...\n",
      "Making results/sklearn-scalex-scaley-noloader-fixembpool-stat/proeng/gb1/sampled/esm1b_t33_650M_UR50S/mean ...\n",
      "Making results/sklearn-scalex-scaley-noloader-fixembpool-stat/proeng/gb1/sampled/esm1_t34_670M_UR50S ...\n",
      "Making results/sklearn-scalex-scaley-noloader-fixembpool-stat/proeng/gb1/sampled/esm1_t34_670M_UR50S/mean ...\n"
     ]
    }
   ],
   "source": [
    "copy_results(input_folder=\"/home/t-fli/amlt/protran-fixembmean-stat/gb1-sampled-esm1_t6_43M_UR50S-mean-sklearn-scalex-scaley-noloader-stat/results/sklearn-stat/proeng/gb1/sampled/esm1_t6_43M_UR50S/mean\",\n",
    "output_folder=\"results/sklearn-scalex-scaley-noloader-fixembpool-stat/proeng/gb1/sampled/esm1_t6_43M_UR50S/mean\")\n",
    "\n",
    "copy_results(input_folder=\"/home/t-fli/amlt/protran-fixembmean-stat/gb1-sampled-esm1_t12_85M_UR50S-mean-sklearn-scalex-scaley-noloader-stat/results/sklearn-stat/proeng/gb1/sampled/esm1_t12_85M_UR50S/mean\",\n",
    "output_folder=\"results/sklearn-scalex-scaley-noloader-fixembpool-stat/proeng/gb1/sampled/esm1_t12_85M_UR50S/mean\")\n",
    "\n",
    "copy_results(input_folder=\"/home/t-fli/amlt/protran-fixembmean-stat/gb1-sampled-esm1b_t33_650M_UR50S-mean-sklearn-scalex-scaley-noloader-stat/results/sklearn-stat/proeng/gb1/sampled/esm1b_t33_650M_UR50S/mean\",\n",
    "output_folder=\"results/sklearn-scalex-scaley-noloader-fixembpool-stat/proeng/gb1/sampled/esm1b_t33_650M_UR50S/mean\")\n",
    "\n",
    "copy_results(input_folder=\"/home/t-fli/amlt/protran-fixembmean-stat/gb1-sampled-esm1_t34_670M_UR50S-mean-sklearn-scalex-scaley-noloader-stat/results/sklearn-stat/proeng/gb1/sampled/esm1_t34_670M_UR50S/mean\",\n",
    "output_folder=\"results/sklearn-scalex-scaley-noloader-fixembpool-stat/proeng/gb1/sampled/esm1_t34_670M_UR50S/mean\")"
   ]
  },
  {
   "cell_type": "code",
   "execution_count": 5,
   "metadata": {},
   "outputs": [
    {
     "name": "stdout",
     "output_type": "stream",
     "text": [
      "Making results/sklearn-scalex-scaley-noloader-fixembpool-rand ...\n",
      "Making results/sklearn-scalex-scaley-noloader-fixembpool-rand/proeng ...\n",
      "Making results/sklearn-scalex-scaley-noloader-fixembpool-rand/proeng/gb1 ...\n",
      "Making results/sklearn-scalex-scaley-noloader-fixembpool-rand/proeng/gb1/sampled ...\n",
      "Making results/sklearn-scalex-scaley-noloader-fixembpool-rand/proeng/gb1/sampled/esm1_t6_43M_UR50S ...\n",
      "Making results/sklearn-scalex-scaley-noloader-fixembpool-rand/proeng/gb1/sampled/esm1_t6_43M_UR50S/mean ...\n",
      "Making results/sklearn-scalex-scaley-noloader-fixembpool-rand/proeng/gb1/sampled/esm1_t12_85M_UR50S ...\n",
      "Making results/sklearn-scalex-scaley-noloader-fixembpool-rand/proeng/gb1/sampled/esm1_t12_85M_UR50S/mean ...\n",
      "Making results/sklearn-scalex-scaley-noloader-fixembpool-rand/proeng/gb1/sampled/esm1b_t33_650M_UR50S ...\n",
      "Making results/sklearn-scalex-scaley-noloader-fixembpool-rand/proeng/gb1/sampled/esm1b_t33_650M_UR50S/mean ...\n",
      "Making results/sklearn-scalex-scaley-noloader-fixembpool-rand/proeng/gb1/sampled/esm1_t34_670M_UR50S ...\n",
      "Making results/sklearn-scalex-scaley-noloader-fixembpool-rand/proeng/gb1/sampled/esm1_t34_670M_UR50S/mean ...\n"
     ]
    }
   ],
   "source": [
    "copy_results(input_folder=\"/home/t-fli/amlt/protran-fixembmean-rand/gb1-sampled-esm1_t6_43M_UR50S-mean-sklearn-scalex-scaley-noloader-rand/results/sklearn-rand/proeng/gb1/sampled/esm1_t6_43M_UR50S/mean\",\n",
    "output_folder=\"results/sklearn-scalex-scaley-noloader-fixembpool-rand/proeng/gb1/sampled/esm1_t6_43M_UR50S/mean\")\n",
    "\n",
    "copy_results(input_folder=\"/home/t-fli/amlt/protran-fixembmean-rand/gb1-sampled-esm1_t12_85M_UR50S-mean-sklearn-scalex-scaley-noloader-rand/results/sklearn-rand/proeng/gb1/sampled/esm1_t12_85M_UR50S/mean\",\n",
    "output_folder=\"results/sklearn-scalex-scaley-noloader-fixembpool-rand/proeng/gb1/sampled/esm1_t12_85M_UR50S/mean\")\n",
    "\n",
    "copy_results(input_folder=\"/home/t-fli/amlt/protran-fixembmean-rand/gb1-sampled-esm1b_t33_650M_UR50S-mean-sklearn-scalex-scaley-noloader-rand/results/sklearn-rand/proeng/gb1/sampled/esm1b_t33_650M_UR50S/mean\",\n",
    "output_folder=\"results/sklearn-scalex-scaley-noloader-fixembpool-rand/proeng/gb1/sampled/esm1b_t33_650M_UR50S/mean\")\n",
    "\n",
    "copy_results(input_folder=\"/home/t-fli/amlt/protran-fixembmean-rand/gb1-sampled-esm1_t34_670M_UR50S-mean-sklearn-scalex-scaley-noloader-rand/results/sklearn-rand/proeng/gb1/sampled/esm1_t34_670M_UR50S/mean\",\n",
    "output_folder=\"results/sklearn-scalex-scaley-noloader-fixembpool-rand/proeng/gb1/sampled/esm1_t34_670M_UR50S/mean\")"
   ]
  },
  {
   "cell_type": "code",
   "execution_count": 7,
   "metadata": {},
   "outputs": [],
   "source": [
    "copy_results(input_folder=\"/home/t-fli/amlt/protran-scalex/gb1-sampled-esm1_t6_43M_UR50S-mean-sklearn-scalex-scaley-noloader-rand/results/sklearn-rand/proeng/gb1/sampled/esm1_t6_43M_UR50S/mean\",\n",
    "output_folder=\"results/sklearn-scalex-scaley-noloader-rand/proeng/gb1/sampled/esm1_t6_43M_UR50S/mean\")\n",
    "\n",
    "copy_results(input_folder=\"/home/t-fli/amlt/protran-scalex/gb1-sampled-esm1_t12_85M_UR50S-mean-sklearn-scalex-scaley-noloader-rand/results/sklearn-rand/proeng/gb1/sampled/esm1_t12_85M_UR50S/mean\",\n",
    "output_folder=\"results/sklearn-scalex-scaley-noloader-rand/proeng/gb1/sampled/esm1_t12_85M_UR50S/mean\")\n",
    "\n",
    "copy_results(input_folder=\"/home/t-fli/amlt/protran-scalex/gb1-sampled-esm1b_t33_650M_UR50S-mean-sklearn-scalex-scaley-noloader-rand/results/sklearn-rand/proeng/gb1/sampled/esm1b_t33_650M_UR50S/mean\",\n",
    "output_folder=\"results/sklearn-scalex-scaley-noloader-rand/proeng/gb1/sampled/esm1b_t33_650M_UR50S/mean\")\n",
    "\n",
    "copy_results(input_folder=\"/home/t-fli/amlt/protran-scalex/gb1-sampled-esm1_t34_670M_UR50S-mean-sklearn-scalex-scaley-noloader-rand/results/sklearn-rand/proeng/gb1/sampled/esm1_t34_670M_UR50S/mean\",\n",
    "output_folder=\"results/sklearn-scalex-scaley-noloader-rand/proeng/gb1/sampled/esm1_t34_670M_UR50S/mean\")"
   ]
  },
  {
   "cell_type": "code",
   "execution_count": 8,
   "metadata": {},
   "outputs": [],
   "source": [
    "copy_results(input_folder=\"/home/t-fli/amlt/protran-scalex/gb1-sampled-esm1_t6_43M_UR50S-mean-sklearn-scalex-scaley-noloader-stat/results/sklearn-stat/proeng/gb1/sampled/esm1_t6_43M_UR50S/mean\",\n",
    "output_folder=\"results/sklearn-scalex-scaley-noloader-stat/proeng/gb1/sampled/esm1_t6_43M_UR50S/mean\")\n",
    "\n",
    "copy_results(input_folder=\"/home/t-fli/amlt/protran-scalex/gb1-sampled-esm1_t12_85M_UR50S-mean-sklearn-scalex-scaley-noloader-stat/results/sklearn-stat/proeng/gb1/sampled/esm1_t12_85M_UR50S/mean\",\n",
    "output_folder=\"results/sklearn-scalex-scaley-noloader-stat/proeng/gb1/sampled/esm1_t12_85M_UR50S/mean\")\n",
    "\n",
    "copy_results(input_folder=\"/home/t-fli/amlt/protran-scalex/gb1-sampled-esm1b_t33_650M_UR50S-mean-sklearn-scalex-scaley-noloader-stat/results/sklearn-stat/proeng/gb1/sampled/esm1b_t33_650M_UR50S/mean\",\n",
    "output_folder=\"results/sklearn-scalex-scaley-noloader-stat/proeng/gb1/sampled/esm1b_t33_650M_UR50S/mean\")\n",
    "\n",
    "copy_results(input_folder=\"/home/t-fli/amlt/protran-scalex/gb1-sampled-esm1_t34_670M_UR50S-mean-sklearn-scalex-scaley-noloader-stat/results/sklearn-stat/proeng/gb1/sampled/esm1_t34_670M_UR50S/mean\",\n",
    "output_folder=\"results/sklearn-scalex-scaley-noloader-stat/proeng/gb1/sampled/esm1_t34_670M_UR50S/mean\")"
   ]
  },
  {
   "cell_type": "code",
   "execution_count": 6,
   "metadata": {},
   "outputs": [
    {
     "name": "stdout",
     "output_type": "stream",
     "text": [
      "Making results/sklearn-scaley-noloader/proeng/gb1/sampled ...\n",
      "Making results/sklearn-scaley-noloader/proeng/gb1/sampled/esm1_t6_43M_UR50S ...\n",
      "Making results/sklearn-scaley-noloader/proeng/gb1/sampled/esm1_t6_43M_UR50S/mean ...\n",
      "Making results/sklearn-scaley-noloader/proeng/gb1/sampled/esm1_t12_85M_UR50S ...\n",
      "Making results/sklearn-scaley-noloader/proeng/gb1/sampled/esm1_t12_85M_UR50S/mean ...\n",
      "Making results/sklearn-scaley-noloader/proeng/gb1/sampled/esm1b_t33_650M_UR50S ...\n",
      "Making results/sklearn-scaley-noloader/proeng/gb1/sampled/esm1b_t33_650M_UR50S/mean ...\n",
      "Making results/sklearn-scaley-noloader/proeng/gb1/sampled/esm1_t34_670M_UR50S ...\n",
      "Making results/sklearn-scaley-noloader/proeng/gb1/sampled/esm1_t34_670M_UR50S/mean ...\n"
     ]
    }
   ],
   "source": [
    "copy_results(input_folder=\"/home/t-fli/amlt/protran/gb1-sampled-esm1_t6_43M_UR50S-mean-sklearn-scaley-noloader/results/sklearn/proeng/gb1/sampled/esm1_t6_43M_UR50S/mean\",\n",
    "output_folder=\"results/sklearn-scaley-noloader/proeng/gb1/sampled/esm1_t6_43M_UR50S/mean\")\n",
    "\n",
    "copy_results(input_folder=\"/home/t-fli/amlt/protran/gb1-sampled-esm1_t12_85M_UR50S-mean-sklearn-scaley-noloader/results/sklearn/proeng/gb1/sampled/esm1_t12_85M_UR50S/mean\",\n",
    "output_folder=\"results/sklearn-scaley-noloader/proeng/gb1/sampled/esm1_t12_85M_UR50S/mean\")\n",
    "\n",
    "copy_results(input_folder=\"/home/t-fli/amlt/protran/gb1-sampled-esm1b_t33_650M_UR50S-mean-sklearn-scaley-noloader/results/sklearn/proeng/gb1/sampled/esm1b_t33_650M_UR50S/mean\",\n",
    "output_folder=\"results/sklearn-scaley-noloader/proeng/gb1/sampled/esm1b_t33_650M_UR50S/mean\")\n",
    "\n",
    "copy_results(input_folder=\"/home/t-fli/amlt/protran/gb1-sampled-esm1_t34_670M_UR50S-mean-sklearn-scaley-noloader/results/sklearn/proeng/gb1/sampled/esm1_t34_670M_UR50S/mean\",\n",
    "output_folder=\"results/sklearn-scaley-noloader/proeng/gb1/sampled/esm1_t34_670M_UR50S/mean\")"
   ]
  },
  {
   "cell_type": "code",
   "execution_count": 9,
   "metadata": {},
   "outputs": [],
   "source": [
    "copy_results(input_folder=\"/home/t-fli/amlt/protran-scalex/gb1-sampled-esm1_t6_43M_UR50S-mean-sklearn-scalex-scaley-noloader/results/sklearn/proeng/gb1/sampled/esm1_t6_43M_UR50S/mean\",\n",
    "output_folder=\"results/sklearn-scalex-scaley-noloader/proeng/gb1/sampled/esm1_t6_43M_UR50S/mean\")\n",
    "\n",
    "copy_results(input_folder=\"/home/t-fli/amlt/protran-scalex/gb1-sampled-esm1_t12_85M_UR50S-mean-sklearn-scalex-scaley-noloader/results/sklearn/proeng/gb1/sampled/esm1_t12_85M_UR50S/mean\",\n",
    "output_folder=\"results/sklearn-scalex-scaley-noloader/proeng/gb1/sampled/esm1_t12_85M_UR50S/mean\")\n",
    "\n",
    "copy_results(input_folder=\"/home/t-fli/amlt/protran-scalex/gb1-sampled-esm1b_t33_650M_UR50S-mean-sklearn-scalex-scaley-noloader/results/sklearn/proeng/gb1/sampled/esm1b_t33_650M_UR50S/mean\",\n",
    "output_folder=\"results/sklearn-scalex-scaley-noloader/proeng/gb1/sampled/esm1b_t33_650M_UR50S/mean\")\n",
    "\n",
    "copy_results(input_folder=\"/home/t-fli/amlt/protran-scalex/gb1-sampled-esm1_t34_670M_UR50S-mean-sklearn-scalex-scaley-noloader/results/sklearn/proeng/gb1/sampled/esm1_t34_670M_UR50S/mean\",\n",
    "output_folder=\"results/sklearn-scalex-scaley-noloader/proeng/gb1/sampled/esm1_t34_670M_UR50S/mean\")"
   ]
  },
  {
   "cell_type": "code",
   "execution_count": 8,
   "metadata": {},
   "outputs": [],
   "source": [
    "copy_results(input_folder=\"/home/t-fli/amlt/protran/gb1-low_vs_high-esm1_t6_43M_UR50S-mean-sklearn-scaley-fixa-noloader/results/sklearn/proeng/gb1/low_vs_high/esm1_t6_43M_UR50S/mean\",\n",
    "output_folder=\"results/sklearn-scaley-fixa-noloader/proeng/gb1/low_vs_high/esm1_t6_43M_UR50S/mean\")\n",
    "copy_results(input_folder=\"/home/t-fli/amlt/protran/gb1-two_vs_rest-esm1_t6_43M_UR50S-mean-sklearn-scaley-fixa-noloader/results/sklearn/proeng/gb1/two_vs_rest/esm1_t6_43M_UR50S/mean\",\n",
    "output_folder=\"results/sklearn-scaley-fixa-noloader/proeng/gb1/two_vs_rest/esm1_t6_43M_UR50S/mean\")\n",
    "\n",
    "copy_results(input_folder=\"/home/t-fli/amlt/protran/gb1-low_vs_high-esm1_t12_85M_UR50S-mean-sklearn-scaley-fixa-noloader/results/sklearn/proeng/gb1/low_vs_high/esm1_t12_85M_UR50S/mean\",\n",
    "output_folder=\"results/sklearn-scaley-fixa-noloader/proeng/gb1/low_vs_high/esm1_t12_85M_UR50S/mean\")\n",
    "copy_results(input_folder=\"/home/t-fli/amlt/protran/gb1-two_vs_rest-esm1_t12_85M_UR50S-mean-sklearn-scaley-fixa-noloader/results/sklearn/proeng/gb1/two_vs_rest/esm1_t12_85M_UR50S/mean\",\n",
    "output_folder=\"results/sklearn-scaley-fixa-noloader/proeng/gb1/two_vs_rest/esm1_t12_85M_UR50S/mean\")\n",
    "\n",
    "copy_results(input_folder=\"/home/t-fli/amlt/protran/gb1-low_vs_high-esm1b_t33_650M_UR50S-mean-sklearn-scaley-fixa-noloader/results/sklearn/proeng/gb1/low_vs_high/esm1b_t33_650M_UR50S/mean\",\n",
    "output_folder=\"results/sklearn-scaley-fixa-noloader/proeng/gb1/low_vs_high/esm1b_t33_650M_UR50S/mean\")\n",
    "copy_results(input_folder=\"/home/t-fli/amlt/protran/gb1-two_vs_rest-esm1b_t33_650M_UR50S-mean-sklearn-scaley-fixa-noloader/results/sklearn/proeng/gb1/two_vs_rest/esm1b_t33_650M_UR50S/mean\",\n",
    "output_folder=\"results/sklearn-scaley-fixa-noloader/proeng/gb1/two_vs_rest/esm1b_t33_650M_UR50S/mean\")\n",
    "\n",
    "copy_results(input_folder=\"/home/t-fli/amlt/protran/gb1-low_vs_high-esm1_t34_670M_UR50S-mean-sklearn-scaley-fixa-noloader/results/sklearn/proeng/gb1/low_vs_high/esm1_t34_670M_UR50S/mean\",\n",
    "output_folder=\"results/sklearn-scaley-fixa-noloader/proeng/gb1/low_vs_high/esm1_t34_670M_UR50S/mean\")\n",
    "copy_results(input_folder=\"/home/t-fli/amlt/protran/gb1-two_vs_rest-esm1_t34_670M_UR50S-mean-sklearn-scaley-fixa-noloader/results/sklearn/proeng/gb1/two_vs_rest/esm1_t34_670M_UR50S/mean\",\n",
    "output_folder=\"results/sklearn-scaley-fixa-noloader/proeng/gb1/two_vs_rest/esm1_t34_670M_UR50S/mean\")"
   ]
  },
  {
   "cell_type": "code",
   "execution_count": 8,
   "metadata": {},
   "outputs": [],
   "source": [
    "copy_results(input_folder=\"/home/t-fli/amlt/protran/aav-one_vs_many-esm1_t6_43M_UR50S-mean-sklearn-scaley-noloader/results/sklearn/proeng/aav/one_vs_many/esm1_t6_43M_UR50S/mean\",\n",
    "output_folder=\"results/sklearn-scaley-noloader/proeng/aav/one_vs_many/esm1_t6_43M_UR50S/mean\")\n",
    "copy_results(input_folder=\"/home/t-fli/amlt/protran/aav-two_vs_many-esm1_t6_43M_UR50S-mean-sklearn-scaley-noloader/results/sklearn/proeng/aav/two_vs_many/esm1_t6_43M_UR50S/mean\",\n",
    "output_folder=\"results/sklearn-scaley-noloader/proeng/aav/two_vs_many/esm1_t6_43M_UR50S/mean\")\n",
    "\n",
    "copy_results(input_folder=\"/home/t-fli/amlt/protran/aav-one_vs_many-esm1_t12_85M_UR50S-mean-sklearn-scaley-noloader/results/sklearn/proeng/aav/one_vs_many/esm1_t12_85M_UR50S/mean\",\n",
    "output_folder=\"results/sklearn-scaley-noloader/proeng/aav/one_vs_many/esm1_t12_85M_UR50S/mean\")\n",
    "copy_results(input_folder=\"/home/t-fli/amlt/protran/aav-two_vs_many-esm1_t12_85M_UR50S-mean-sklearn-scaley-noloader/results/sklearn/proeng/aav/two_vs_many/esm1_t12_85M_UR50S/mean\",\n",
    "output_folder=\"results/sklearn-scaley-noloader/proeng/aav/two_vs_many/esm1_t12_85M_UR50S/mean\")\n",
    "\n",
    "copy_results(input_folder=\"/home/t-fli/amlt/protran/aav-one_vs_many-esm1b_t33_650M_UR50S-mean-sklearn-scaley-noloader/results/sklearn/proeng/aav/one_vs_many/esm1b_t33_650M_UR50S/mean\",\n",
    "output_folder=\"results/sklearn-scaley-noloader/proeng/aav/one_vs_many/esm1b_t33_650M_UR50S/mean\")\n",
    "copy_results(input_folder=\"/home/t-fli/amlt/protran/aav-two_vs_many-esm1b_t33_650M_UR50S-mean-sklearn-scaley-noloader/results/sklearn/proeng/aav/two_vs_many/esm1b_t33_650M_UR50S/mean\",\n",
    "output_folder=\"results/sklearn-scaley-noloader/proeng/aav/two_vs_many/esm1b_t33_650M_UR50S/mean\")\n",
    "\n",
    "copy_results(input_folder=\"/home/t-fli/amlt/protran/aav-one_vs_many-esm1_t34_670M_UR50S-mean-sklearn-scaley-noloader/results/sklearn/proeng/aav/one_vs_many/esm1_t34_670M_UR50S/mean\",\n",
    "output_folder=\"results/sklearn-scaley-noloader/proeng/aav/one_vs_many/esm1_t34_670M_UR50S/mean\")\n",
    "copy_results(input_folder=\"/home/t-fli/amlt/protran/aav-two_vs_many-esm1_t34_670M_UR50S-mean-sklearn-scaley-noloader/results/sklearn/proeng/aav/two_vs_many/esm1_t34_670M_UR50S/mean\",\n",
    "output_folder=\"results/sklearn-scaley-noloader/proeng/aav/two_vs_many/esm1_t34_670M_UR50S/mean\")"
   ]
  },
  {
   "cell_type": "code",
   "execution_count": 10,
   "metadata": {},
   "outputs": [],
   "source": [
    "copy_results(input_folder=\"/home/t-fli/amlt/protran-scalex/aav-one_vs_many-esm1_t6_43M_UR50S-mean-sklearn-scalex-scaley-noloader/results/sklearn/proeng/aav/one_vs_many/esm1_t6_43M_UR50S/mean\",\n",
    "output_folder=\"results/sklearn-scalex-scaley-noloader/proeng/aav/one_vs_many/esm1_t6_43M_UR50S/mean\")\n",
    "copy_results(input_folder=\"/home/t-fli/amlt/protran-scalex/aav-two_vs_many-esm1_t6_43M_UR50S-mean-sklearn-scalex-scaley-noloader/results/sklearn/proeng/aav/two_vs_many/esm1_t6_43M_UR50S/mean\",\n",
    "output_folder=\"results/sklearn-scalex-scaley-noloader/proeng/aav/two_vs_many/esm1_t6_43M_UR50S/mean\")\n",
    "\n",
    "copy_results(input_folder=\"/home/t-fli/amlt/protran-scalex/aav-one_vs_many-esm1_t12_85M_UR50S-mean-sklearn-scalex-scaley-noloader/results/sklearn/proeng/aav/one_vs_many/esm1_t12_85M_UR50S/mean\",\n",
    "output_folder=\"results/sklearn-scalex-scaley-noloader/proeng/aav/one_vs_many/esm1_t12_85M_UR50S/mean\")\n",
    "copy_results(input_folder=\"/home/t-fli/amlt/protran-scalex/aav-two_vs_many-esm1_t12_85M_UR50S-mean-sklearn-scalex-scaley-noloader/results/sklearn/proeng/aav/two_vs_many/esm1_t12_85M_UR50S/mean\",\n",
    "output_folder=\"results/sklearn-scalex-scaley-noloader/proeng/aav/two_vs_many/esm1_t12_85M_UR50S/mean\")\n",
    "\n",
    "copy_results(input_folder=\"/home/t-fli/amlt/protran-scalex/aav-one_vs_many-esm1b_t33_650M_UR50S-mean-sklearn-scalex-scaley-noloader/results/sklearn/proeng/aav/one_vs_many/esm1b_t33_650M_UR50S/mean\",\n",
    "output_folder=\"results/sklearn-scalex-scaley-noloader/proeng/aav/one_vs_many/esm1b_t33_650M_UR50S/mean\")\n",
    "copy_results(input_folder=\"/home/t-fli/amlt/protran-scalex/aav-two_vs_many-esm1b_t33_650M_UR50S-mean-sklearn-scalex-scaley-noloader/results/sklearn/proeng/aav/two_vs_many/esm1b_t33_650M_UR50S/mean\",\n",
    "output_folder=\"results/sklearn-scalex-scaley-noloader/proeng/aav/two_vs_many/esm1b_t33_650M_UR50S/mean\")\n",
    "\n",
    "copy_results(input_folder=\"/home/t-fli/amlt/protran-scalex/aav-one_vs_many-esm1_t34_670M_UR50S-mean-sklearn-scalex-scaley-noloader/results/sklearn/proeng/aav/one_vs_many/esm1_t34_670M_UR50S/mean\",\n",
    "output_folder=\"results/sklearn-scalex-scaley-noloader/proeng/aav/one_vs_many/esm1_t34_670M_UR50S/mean\")\n",
    "copy_results(input_folder=\"/home/t-fli/amlt/protran-scalex/aav-two_vs_many-esm1_t34_670M_UR50S-mean-sklearn-scalex-scaley-noloader/results/sklearn/proeng/aav/two_vs_many/esm1_t34_670M_UR50S/mean\",\n",
    "output_folder=\"results/sklearn-scalex-scaley-noloader/proeng/aav/two_vs_many/esm1_t34_670M_UR50S/mean\")"
   ]
  },
  {
   "cell_type": "code",
   "execution_count": 11,
   "metadata": {},
   "outputs": [],
   "source": [
    "copy_results(input_folder=\"/home/t-fli/amlt/protran-scalex/aav-one_vs_many-esm1_t6_43M_UR50S-mean-sklearn-scalex-scaley-noloader-stat/results/sklearn-stat/proeng/aav/one_vs_many/esm1_t6_43M_UR50S/mean\",\n",
    "output_folder=\"results/sklearn-scalex-scaley-noloader-stat/proeng/aav/one_vs_many/esm1_t6_43M_UR50S/mean\")\n",
    "copy_results(input_folder=\"/home/t-fli/amlt/protran-scalex/aav-two_vs_many-esm1_t6_43M_UR50S-mean-sklearn-scalex-scaley-noloader-stat/results/sklearn-stat/proeng/aav/two_vs_many/esm1_t6_43M_UR50S/mean\",\n",
    "output_folder=\"results/sklearn-scalex-scaley-noloader-stat/proeng/aav/two_vs_many/esm1_t6_43M_UR50S/mean\")\n",
    "\n",
    "copy_results(input_folder=\"/home/t-fli/amlt/protran-scalex/aav-one_vs_many-esm1_t12_85M_UR50S-mean-sklearn-scalex-scaley-noloader-stat/results/sklearn-stat/proeng/aav/one_vs_many/esm1_t12_85M_UR50S/mean\",\n",
    "output_folder=\"results/sklearn-scalex-scaley-noloader-stat/proeng/aav/one_vs_many/esm1_t12_85M_UR50S/mean\")\n",
    "copy_results(input_folder=\"/home/t-fli/amlt/protran-scalex/aav-two_vs_many-esm1_t12_85M_UR50S-mean-sklearn-scalex-scaley-noloader-stat/results/sklearn-stat/proeng/aav/two_vs_many/esm1_t12_85M_UR50S/mean\",\n",
    "output_folder=\"results/sklearn-scalex-scaley-noloader-stat/proeng/aav/two_vs_many/esm1_t12_85M_UR50S/mean\")\n",
    "\n",
    "copy_results(input_folder=\"/home/t-fli/amlt/protran-scalex/aav-one_vs_many-esm1b_t33_650M_UR50S-mean-sklearn-scalex-scaley-noloader-stat/results/sklearn-stat/proeng/aav/one_vs_many/esm1b_t33_650M_UR50S/mean\",\n",
    "output_folder=\"results/sklearn-scalex-scaley-noloader-stat/proeng/aav/one_vs_many/esm1b_t33_650M_UR50S/mean\")\n",
    "copy_results(input_folder=\"/home/t-fli/amlt/protran-scalex/aav-two_vs_many-esm1b_t33_650M_UR50S-mean-sklearn-scalex-scaley-noloader-stat/results/sklearn-stat/proeng/aav/two_vs_many/esm1b_t33_650M_UR50S/mean\",\n",
    "output_folder=\"results/sklearn-scalex-scaley-noloader-stat/proeng/aav/two_vs_many/esm1b_t33_650M_UR50S/mean\")\n",
    "\n",
    "copy_results(input_folder=\"/home/t-fli/amlt/protran-scalex/aav-one_vs_many-esm1_t34_670M_UR50S-mean-sklearn-scalex-scaley-noloader-stat/results/sklearn-stat/proeng/aav/one_vs_many/esm1_t34_670M_UR50S/mean\",\n",
    "output_folder=\"results/sklearn-scalex-scaley-noloader-stat/proeng/aav/one_vs_many/esm1_t34_670M_UR50S/mean\")\n",
    "copy_results(input_folder=\"/home/t-fli/amlt/protran-scalex/aav-two_vs_many-esm1_t34_670M_UR50S-mean-sklearn-scalex-scaley-noloader-stat/results/sklearn-stat/proeng/aav/two_vs_many/esm1_t34_670M_UR50S/mean\",\n",
    "output_folder=\"results/sklearn-scalex-scaley-noloader-stat/proeng/aav/two_vs_many/esm1_t34_670M_UR50S/mean\")"
   ]
  },
  {
   "cell_type": "code",
   "execution_count": 12,
   "metadata": {},
   "outputs": [],
   "source": [
    "copy_results(input_folder=\"/home/t-fli/amlt/protran/aav-one_vs_many-esm1_t6_43M_UR50S-mean-sklearn-scaley-noloader-stat/results/sklearn-stat/proeng/aav/one_vs_many/esm1_t6_43M_UR50S/mean\",\n",
    "output_folder=\"results/sklearn-scaley-noloader-stat/proeng/aav/one_vs_many/esm1_t6_43M_UR50S/mean\")\n",
    "copy_results(input_folder=\"/home/t-fli/amlt/protran/aav-two_vs_many-esm1_t6_43M_UR50S-mean-sklearn-scaley-noloader-stat/results/sklearn-stat/proeng/aav/two_vs_many/esm1_t6_43M_UR50S/mean\",\n",
    "output_folder=\"results/sklearn-scaley-noloader-stat/proeng/aav/two_vs_many/esm1_t6_43M_UR50S/mean\")\n",
    "\n",
    "copy_results(input_folder=\"/home/t-fli/amlt/protran/aav-one_vs_many-esm1_t12_85M_UR50S-mean-sklearn-scaley-noloader-stat/results/sklearn-stat/proeng/aav/one_vs_many/esm1_t12_85M_UR50S/mean\",\n",
    "output_folder=\"results/sklearn-scaley-noloader-stat/proeng/aav/one_vs_many/esm1_t12_85M_UR50S/mean\")\n",
    "copy_results(input_folder=\"/home/t-fli/amlt/protran/aav-two_vs_many-esm1_t12_85M_UR50S-mean-sklearn-scaley-noloader-stat/results/sklearn-stat/proeng/aav/two_vs_many/esm1_t12_85M_UR50S/mean\",\n",
    "output_folder=\"results/sklearn-scaley-noloader-stat/proeng/aav/two_vs_many/esm1_t12_85M_UR50S/mean\")\n",
    "\n",
    "copy_results(input_folder=\"/home/t-fli/amlt/protran/aav-one_vs_many-esm1b_t33_650M_UR50S-mean-sklearn-scaley-noloader-stat/results/sklearn-stat/proeng/aav/one_vs_many/esm1b_t33_650M_UR50S/mean\",\n",
    "output_folder=\"results/sklearn-scaley-noloader-stat/proeng/aav/one_vs_many/esm1b_t33_650M_UR50S/mean\")\n",
    "copy_results(input_folder=\"/home/t-fli/amlt/protran/aav-two_vs_many-esm1b_t33_650M_UR50S-mean-sklearn-scaley-noloader-stat/results/sklearn-stat/proeng/aav/two_vs_many/esm1b_t33_650M_UR50S/mean\",\n",
    "output_folder=\"results/sklearn-scaley-noloader-stat/proeng/aav/two_vs_many/esm1b_t33_650M_UR50S/mean\")\n",
    "\n",
    "copy_results(input_folder=\"/home/t-fli/amlt/protran/aav-one_vs_many-esm1_t34_670M_UR50S-mean-sklearn-scaley-noloader-stat/results/sklearn-stat/proeng/aav/one_vs_many/esm1_t34_670M_UR50S/mean\",\n",
    "output_folder=\"results/sklearn-scaley-noloader-stat/proeng/aav/one_vs_many/esm1_t34_670M_UR50S/mean\")\n",
    "copy_results(input_folder=\"/home/t-fli/amlt/protran/aav-two_vs_many-esm1_t34_670M_UR50S-mean-sklearn-scaley-noloader-stat/results/sklearn-stat/proeng/aav/two_vs_many/esm1_t34_670M_UR50S/mean\",\n",
    "output_folder=\"results/sklearn-scaley-noloader-stat/proeng/aav/two_vs_many/esm1_t34_670M_UR50S/mean\")"
   ]
  },
  {
   "cell_type": "code",
   "execution_count": 9,
   "metadata": {},
   "outputs": [],
   "source": [
    "copy_results(input_folder=\"/home/t-fli/amlt/protran/aav-one_vs_many-esm1_t6_43M_UR50S-mean-sklearn-scaley-noloader-rand/results/sklearn-rand/proeng/aav/one_vs_many/esm1_t6_43M_UR50S/mean\",\n",
    "output_folder=\"results/sklearn-scaley-noloader-rand/proeng/aav/one_vs_many/esm1_t6_43M_UR50S/mean\")\n",
    "copy_results(input_folder=\"/home/t-fli/amlt/protran/aav-two_vs_many-esm1_t6_43M_UR50S-mean-sklearn-scaley-noloader-rand/results/sklearn-rand/proeng/aav/two_vs_many/esm1_t6_43M_UR50S/mean\",\n",
    "output_folder=\"results/sklearn-scaley-noloader-rand/proeng/aav/two_vs_many/esm1_t6_43M_UR50S/mean\")\n",
    "\n",
    "copy_results(input_folder=\"/home/t-fli/amlt/protran/aav-one_vs_many-esm1_t12_85M_UR50S-mean-sklearn-scaley-noloader-rand/results/sklearn-rand/proeng/aav/one_vs_many/esm1_t12_85M_UR50S/mean\",\n",
    "output_folder=\"results/sklearn-scaley-noloader-rand/proeng/aav/one_vs_many/esm1_t12_85M_UR50S/mean\")\n",
    "copy_results(input_folder=\"/home/t-fli/amlt/protran/aav-two_vs_many-esm1_t12_85M_UR50S-mean-sklearn-scaley-noloader-rand/results/sklearn-rand/proeng/aav/two_vs_many/esm1_t12_85M_UR50S/mean\",\n",
    "output_folder=\"results/sklearn-scaley-noloader-rand/proeng/aav/two_vs_many/esm1_t12_85M_UR50S/mean\")\n",
    "\n",
    "copy_results(input_folder=\"/home/t-fli/amlt/protran/aav-one_vs_many-esm1b_t33_650M_UR50S-mean-sklearn-scaley-noloader-rand/results/sklearn-rand/proeng/aav/one_vs_many/esm1b_t33_650M_UR50S/mean\",\n",
    "output_folder=\"results/sklearn-scaley-noloader-rand/proeng/aav/one_vs_many/esm1b_t33_650M_UR50S/mean\")\n",
    "copy_results(input_folder=\"/home/t-fli/amlt/protran/aav-two_vs_many-esm1b_t33_650M_UR50S-mean-sklearn-scaley-noloader-rand/results/sklearn-rand/proeng/aav/two_vs_many/esm1b_t33_650M_UR50S/mean\",\n",
    "output_folder=\"results/sklearn-scaley-noloader-rand/proeng/aav/two_vs_many/esm1b_t33_650M_UR50S/mean\")\n",
    "\n",
    "copy_results(input_folder=\"/home/t-fli/amlt/protran/aav-one_vs_many-esm1_t34_670M_UR50S-mean-sklearn-scaley-noloader-rand/results/sklearn-rand/proeng/aav/one_vs_many/esm1_t34_670M_UR50S/mean\",\n",
    "output_folder=\"results/sklearn-scaley-noloader-rand/proeng/aav/one_vs_many/esm1_t34_670M_UR50S/mean\")\n",
    "copy_results(input_folder=\"/home/t-fli/amlt/protran/aav-two_vs_many-esm1_t34_670M_UR50S-mean-sklearn-scaley-noloader-rand/results/sklearn-rand/proeng/aav/two_vs_many/esm1_t34_670M_UR50S/mean\",\n",
    "output_folder=\"results/sklearn-scaley-noloader-rand/proeng/aav/two_vs_many/esm1_t34_670M_UR50S/mean\")"
   ]
  },
  {
   "cell_type": "code",
   "execution_count": 7,
   "metadata": {},
   "outputs": [
    {
     "name": "stdout",
     "output_type": "stream",
     "text": [
      "Making results/sklearn-scalex-scaley-noloader-fixembpool-stat/proeng/aav ...\n",
      "Making results/sklearn-scalex-scaley-noloader-fixembpool-stat/proeng/aav/one_vs_many ...\n",
      "Making results/sklearn-scalex-scaley-noloader-fixembpool-stat/proeng/aav/one_vs_many/esm1_t6_43M_UR50S ...\n",
      "Making results/sklearn-scalex-scaley-noloader-fixembpool-stat/proeng/aav/one_vs_many/esm1_t6_43M_UR50S/mean ...\n",
      "Making results/sklearn-scalex-scaley-noloader-fixembpool-stat/proeng/aav/two_vs_many ...\n",
      "Making results/sklearn-scalex-scaley-noloader-fixembpool-stat/proeng/aav/two_vs_many/esm1_t6_43M_UR50S ...\n",
      "Making results/sklearn-scalex-scaley-noloader-fixembpool-stat/proeng/aav/two_vs_many/esm1_t6_43M_UR50S/mean ...\n",
      "Making results/sklearn-scalex-scaley-noloader-fixembpool-stat/proeng/aav/one_vs_many/esm1_t12_85M_UR50S ...\n",
      "Making results/sklearn-scalex-scaley-noloader-fixembpool-stat/proeng/aav/one_vs_many/esm1_t12_85M_UR50S/mean ...\n",
      "Making results/sklearn-scalex-scaley-noloader-fixembpool-stat/proeng/aav/two_vs_many/esm1_t12_85M_UR50S ...\n",
      "Making results/sklearn-scalex-scaley-noloader-fixembpool-stat/proeng/aav/two_vs_many/esm1_t12_85M_UR50S/mean ...\n",
      "Making results/sklearn-scalex-scaley-noloader-fixembpool-stat/proeng/aav/one_vs_many/esm1b_t33_650M_UR50S ...\n",
      "Making results/sklearn-scalex-scaley-noloader-fixembpool-stat/proeng/aav/one_vs_many/esm1b_t33_650M_UR50S/mean ...\n",
      "Making results/sklearn-scalex-scaley-noloader-fixembpool-stat/proeng/aav/two_vs_many/esm1b_t33_650M_UR50S ...\n",
      "Making results/sklearn-scalex-scaley-noloader-fixembpool-stat/proeng/aav/two_vs_many/esm1b_t33_650M_UR50S/mean ...\n",
      "Making results/sklearn-scalex-scaley-noloader-fixembpool-stat/proeng/aav/one_vs_many/esm1_t34_670M_UR50S ...\n",
      "Making results/sklearn-scalex-scaley-noloader-fixembpool-stat/proeng/aav/one_vs_many/esm1_t34_670M_UR50S/mean ...\n",
      "Making results/sklearn-scalex-scaley-noloader-fixembpool-stat/proeng/aav/two_vs_many/esm1_t34_670M_UR50S ...\n",
      "Making results/sklearn-scalex-scaley-noloader-fixembpool-stat/proeng/aav/two_vs_many/esm1_t34_670M_UR50S/mean ...\n"
     ]
    }
   ],
   "source": [
    "copy_results(input_folder=\"/home/t-fli/amlt/protran-fixembmean-stat/aav-one_vs_many-esm1_t6_43M_UR50S-mean-sklearn-scalex-scaley-noloader-stat/results/sklearn-stat/proeng/aav/one_vs_many/esm1_t6_43M_UR50S/mean\",\n",
    "output_folder=\"results/sklearn-scalex-scaley-noloader-fixembpool-stat/proeng/aav/one_vs_many/esm1_t6_43M_UR50S/mean\")\n",
    "copy_results(input_folder=\"/home/t-fli/amlt/protran-fixembmean-stat/aav-two_vs_many-esm1_t6_43M_UR50S-mean-sklearn-scalex-scaley-noloader-stat/results/sklearn-stat/proeng/aav/two_vs_many/esm1_t6_43M_UR50S/mean\",\n",
    "output_folder=\"results/sklearn-scalex-scaley-noloader-fixembpool-stat/proeng/aav/two_vs_many/esm1_t6_43M_UR50S/mean\")\n",
    "\n",
    "copy_results(input_folder=\"/home/t-fli/amlt/protran-fixembmean-stat/aav-one_vs_many-esm1_t12_85M_UR50S-mean-sklearn-scalex-scaley-noloader-stat/results/sklearn-stat/proeng/aav/one_vs_many/esm1_t12_85M_UR50S/mean\",\n",
    "output_folder=\"results/sklearn-scalex-scaley-noloader-fixembpool-stat/proeng/aav/one_vs_many/esm1_t12_85M_UR50S/mean\")\n",
    "copy_results(input_folder=\"/home/t-fli/amlt/protran-fixembmean-stat/aav-two_vs_many-esm1_t12_85M_UR50S-mean-sklearn-scalex-scaley-noloader-stat/results/sklearn-stat/proeng/aav/two_vs_many/esm1_t12_85M_UR50S/mean\",\n",
    "output_folder=\"results/sklearn-scalex-scaley-noloader-fixembpool-stat/proeng/aav/two_vs_many/esm1_t12_85M_UR50S/mean\")\n",
    "\n",
    "copy_results(input_folder=\"/home/t-fli/amlt/protran-fixembmean-stat/aav-one_vs_many-esm1b_t33_650M_UR50S-mean-sklearn-scalex-scaley-noloader-stat/results/sklearn-stat/proeng/aav/one_vs_many/esm1b_t33_650M_UR50S/mean\",\n",
    "output_folder=\"results/sklearn-scalex-scaley-noloader-fixembpool-stat/proeng/aav/one_vs_many/esm1b_t33_650M_UR50S/mean\")\n",
    "copy_results(input_folder=\"/home/t-fli/amlt/protran-fixembmean-stat/aav-two_vs_many-esm1b_t33_650M_UR50S-mean-sklearn-scalex-scaley-noloader-stat/results/sklearn-stat/proeng/aav/two_vs_many/esm1b_t33_650M_UR50S/mean\",\n",
    "output_folder=\"results/sklearn-scalex-scaley-noloader-fixembpool-stat/proeng/aav/two_vs_many/esm1b_t33_650M_UR50S/mean\")\n",
    "\n",
    "copy_results(input_folder=\"/home/t-fli/amlt/protran-fixembmean-stat/aav-one_vs_many-esm1_t34_670M_UR50S-mean-sklearn-scalex-scaley-noloader-stat/results/sklearn-stat/proeng/aav/one_vs_many/esm1_t34_670M_UR50S/mean\",\n",
    "output_folder=\"results/sklearn-scalex-scaley-noloader-fixembpool-stat/proeng/aav/one_vs_many/esm1_t34_670M_UR50S/mean\")\n",
    "copy_results(input_folder=\"/home/t-fli/amlt/protran-fixembmean-stat/aav-two_vs_many-esm1_t34_670M_UR50S-mean-sklearn-scalex-scaley-noloader-stat/results/sklearn-stat/proeng/aav/two_vs_many/esm1_t34_670M_UR50S/mean\",\n",
    "output_folder=\"results/sklearn-scalex-scaley-noloader-fixembpool-stat/proeng/aav/two_vs_many/esm1_t34_670M_UR50S/mean\")"
   ]
  },
  {
   "cell_type": "code",
   "execution_count": 6,
   "metadata": {},
   "outputs": [
    {
     "name": "stdout",
     "output_type": "stream",
     "text": [
      "Making results/sklearn-scalex-scaley-noloader-fixembpool-rand/proeng/aav ...\n",
      "Making results/sklearn-scalex-scaley-noloader-fixembpool-rand/proeng/aav/one_vs_many ...\n",
      "Making results/sklearn-scalex-scaley-noloader-fixembpool-rand/proeng/aav/one_vs_many/esm1_t6_43M_UR50S ...\n",
      "Making results/sklearn-scalex-scaley-noloader-fixembpool-rand/proeng/aav/one_vs_many/esm1_t6_43M_UR50S/mean ...\n",
      "Making results/sklearn-scalex-scaley-noloader-fixembpool-rand/proeng/aav/two_vs_many ...\n",
      "Making results/sklearn-scalex-scaley-noloader-fixembpool-rand/proeng/aav/two_vs_many/esm1_t6_43M_UR50S ...\n",
      "Making results/sklearn-scalex-scaley-noloader-fixembpool-rand/proeng/aav/two_vs_many/esm1_t6_43M_UR50S/mean ...\n",
      "Making results/sklearn-scalex-scaley-noloader-fixembpool-rand/proeng/aav/one_vs_many/esm1_t12_85M_UR50S ...\n",
      "Making results/sklearn-scalex-scaley-noloader-fixembpool-rand/proeng/aav/one_vs_many/esm1_t12_85M_UR50S/mean ...\n",
      "Making results/sklearn-scalex-scaley-noloader-fixembpool-rand/proeng/aav/two_vs_many/esm1_t12_85M_UR50S ...\n",
      "Making results/sklearn-scalex-scaley-noloader-fixembpool-rand/proeng/aav/two_vs_many/esm1_t12_85M_UR50S/mean ...\n",
      "Making results/sklearn-scalex-scaley-noloader-fixembpool-rand/proeng/aav/one_vs_many/esm1b_t33_650M_UR50S ...\n",
      "Making results/sklearn-scalex-scaley-noloader-fixembpool-rand/proeng/aav/one_vs_many/esm1b_t33_650M_UR50S/mean ...\n",
      "Making results/sklearn-scalex-scaley-noloader-fixembpool-rand/proeng/aav/two_vs_many/esm1b_t33_650M_UR50S ...\n",
      "Making results/sklearn-scalex-scaley-noloader-fixembpool-rand/proeng/aav/two_vs_many/esm1b_t33_650M_UR50S/mean ...\n",
      "Making results/sklearn-scalex-scaley-noloader-fixembpool-rand/proeng/aav/one_vs_many/esm1_t34_670M_UR50S ...\n",
      "Making results/sklearn-scalex-scaley-noloader-fixembpool-rand/proeng/aav/one_vs_many/esm1_t34_670M_UR50S/mean ...\n",
      "Making results/sklearn-scalex-scaley-noloader-fixembpool-rand/proeng/aav/two_vs_many/esm1_t34_670M_UR50S ...\n",
      "Making results/sklearn-scalex-scaley-noloader-fixembpool-rand/proeng/aav/two_vs_many/esm1_t34_670M_UR50S/mean ...\n"
     ]
    }
   ],
   "source": [
    "copy_results(input_folder=\"/home/t-fli/amlt/protran-fixembmean-rand/aav-one_vs_many-esm1_t6_43M_UR50S-mean-sklearn-scalex-scaley-noloader-rand/results/sklearn-rand/proeng/aav/one_vs_many/esm1_t6_43M_UR50S/mean\",\n",
    "output_folder=\"results/sklearn-scalex-scaley-noloader-fixembpool-rand/proeng/aav/one_vs_many/esm1_t6_43M_UR50S/mean\")\n",
    "copy_results(input_folder=\"/home/t-fli/amlt/protran-fixembmean-rand/aav-two_vs_many-esm1_t6_43M_UR50S-mean-sklearn-scalex-scaley-noloader-rand/results/sklearn-rand/proeng/aav/two_vs_many/esm1_t6_43M_UR50S/mean\",\n",
    "output_folder=\"results/sklearn-scalex-scaley-noloader-fixembpool-rand/proeng/aav/two_vs_many/esm1_t6_43M_UR50S/mean\")\n",
    "\n",
    "copy_results(input_folder=\"/home/t-fli/amlt/protran-fixembmean-rand/aav-one_vs_many-esm1_t12_85M_UR50S-mean-sklearn-scalex-scaley-noloader-rand/results/sklearn-rand/proeng/aav/one_vs_many/esm1_t12_85M_UR50S/mean\",\n",
    "output_folder=\"results/sklearn-scalex-scaley-noloader-fixembpool-rand/proeng/aav/one_vs_many/esm1_t12_85M_UR50S/mean\")\n",
    "copy_results(input_folder=\"/home/t-fli/amlt/protran-fixembmean-rand/aav-two_vs_many-esm1_t12_85M_UR50S-mean-sklearn-scalex-scaley-noloader-rand/results/sklearn-rand/proeng/aav/two_vs_many/esm1_t12_85M_UR50S/mean\",\n",
    "output_folder=\"results/sklearn-scalex-scaley-noloader-fixembpool-rand/proeng/aav/two_vs_many/esm1_t12_85M_UR50S/mean\")\n",
    "\n",
    "copy_results(input_folder=\"/home/t-fli/amlt/protran-fixembmean-rand/aav-one_vs_many-esm1b_t33_650M_UR50S-mean-sklearn-scalex-scaley-noloader-rand/results/sklearn-rand/proeng/aav/one_vs_many/esm1b_t33_650M_UR50S/mean\",\n",
    "output_folder=\"results/sklearn-scalex-scaley-noloader-fixembpool-rand/proeng/aav/one_vs_many/esm1b_t33_650M_UR50S/mean\")\n",
    "copy_results(input_folder=\"/home/t-fli/amlt/protran-fixembmean-rand/aav-two_vs_many-esm1b_t33_650M_UR50S-mean-sklearn-scalex-scaley-noloader-rand/results/sklearn-rand/proeng/aav/two_vs_many/esm1b_t33_650M_UR50S/mean\",\n",
    "output_folder=\"results/sklearn-scalex-scaley-noloader-fixembpool-rand/proeng/aav/two_vs_many/esm1b_t33_650M_UR50S/mean\")\n",
    "\n",
    "copy_results(input_folder=\"/home/t-fli/amlt/protran-fixembmean-rand/aav-one_vs_many-esm1_t34_670M_UR50S-mean-sklearn-scalex-scaley-noloader-rand/results/sklearn-rand/proeng/aav/one_vs_many/esm1_t34_670M_UR50S/mean\",\n",
    "output_folder=\"results/sklearn-scalex-scaley-noloader-fixembpool-rand/proeng/aav/one_vs_many/esm1_t34_670M_UR50S/mean\")\n",
    "copy_results(input_folder=\"/home/t-fli/amlt/protran-fixembmean-rand/aav-two_vs_many-esm1_t34_670M_UR50S-mean-sklearn-scalex-scaley-noloader-rand/results/sklearn-rand/proeng/aav/two_vs_many/esm1_t34_670M_UR50S/mean\",\n",
    "output_folder=\"results/sklearn-scalex-scaley-noloader-fixembpool-rand/proeng/aav/two_vs_many/esm1_t34_670M_UR50S/mean\")"
   ]
  },
  {
   "cell_type": "code",
   "execution_count": 13,
   "metadata": {},
   "outputs": [],
   "source": [
    "copy_results(input_folder=\"/home/t-fli/amlt/protran-scalex/aav-one_vs_many-esm1_t6_43M_UR50S-mean-sklearn-scalex-scaley-noloader-rand/results/sklearn-rand/proeng/aav/one_vs_many/esm1_t6_43M_UR50S/mean\",\n",
    "output_folder=\"results/sklearn-scalex-scaley-noloader-rand/proeng/aav/one_vs_many/esm1_t6_43M_UR50S/mean\")\n",
    "copy_results(input_folder=\"/home/t-fli/amlt/protran-scalex/aav-two_vs_many-esm1_t6_43M_UR50S-mean-sklearn-scalex-scaley-noloader-rand/results/sklearn-rand/proeng/aav/two_vs_many/esm1_t6_43M_UR50S/mean\",\n",
    "output_folder=\"results/sklearn-scalex-scaley-noloader-rand/proeng/aav/two_vs_many/esm1_t6_43M_UR50S/mean\")\n",
    "\n",
    "copy_results(input_folder=\"/home/t-fli/amlt/protran-scalex/aav-one_vs_many-esm1_t12_85M_UR50S-mean-sklearn-scalex-scaley-noloader-rand/results/sklearn-rand/proeng/aav/one_vs_many/esm1_t12_85M_UR50S/mean\",\n",
    "output_folder=\"results/sklearn-scalex-scaley-noloader-rand/proeng/aav/one_vs_many/esm1_t12_85M_UR50S/mean\")\n",
    "copy_results(input_folder=\"/home/t-fli/amlt/protran-scalex/aav-two_vs_many-esm1_t12_85M_UR50S-mean-sklearn-scalex-scaley-noloader-rand/results/sklearn-rand/proeng/aav/two_vs_many/esm1_t12_85M_UR50S/mean\",\n",
    "output_folder=\"results/sklearn-scalex-scaley-noloader-rand/proeng/aav/two_vs_many/esm1_t12_85M_UR50S/mean\")\n",
    "\n",
    "copy_results(input_folder=\"/home/t-fli/amlt/protran-scalex/aav-one_vs_many-esm1b_t33_650M_UR50S-mean-sklearn-scalex-scaley-noloader-rand/results/sklearn-rand/proeng/aav/one_vs_many/esm1b_t33_650M_UR50S/mean\",\n",
    "output_folder=\"results/sklearn-scalex-scaley-noloader-rand/proeng/aav/one_vs_many/esm1b_t33_650M_UR50S/mean\")\n",
    "copy_results(input_folder=\"/home/t-fli/amlt/protran-scalex/aav-two_vs_many-esm1b_t33_650M_UR50S-mean-sklearn-scalex-scaley-noloader-rand/results/sklearn-rand/proeng/aav/two_vs_many/esm1b_t33_650M_UR50S/mean\",\n",
    "output_folder=\"results/sklearn-scalex-scaley-noloader-rand/proeng/aav/two_vs_many/esm1b_t33_650M_UR50S/mean\")\n",
    "\n",
    "copy_results(input_folder=\"/home/t-fli/amlt/protran-scalex/aav-one_vs_many-esm1_t34_670M_UR50S-mean-sklearn-scalex-scaley-noloader-rand/results/sklearn-rand/proeng/aav/one_vs_many/esm1_t34_670M_UR50S/mean\",\n",
    "output_folder=\"results/sklearn-scalex-scaley-noloader-rand/proeng/aav/one_vs_many/esm1_t34_670M_UR50S/mean\")\n",
    "copy_results(input_folder=\"/home/t-fli/amlt/protran-scalex/aav-two_vs_many-esm1_t34_670M_UR50S-mean-sklearn-scalex-scaley-noloader-rand/results/sklearn-rand/proeng/aav/two_vs_many/esm1_t34_670M_UR50S/mean\",\n",
    "output_folder=\"results/sklearn-scalex-scaley-noloader-rand/proeng/aav/two_vs_many/esm1_t34_670M_UR50S/mean\")"
   ]
  },
  {
   "cell_type": "code",
   "execution_count": null,
   "metadata": {},
   "outputs": [],
   "source": [
    "copy_results(input_folder=\"/home/t-fli/amlt/protran/gb1-low_vs_high-esm1_t6_43M_UR50S-mean-sklearn-scaley-noloader-rand/results/sklearn-rand/proeng/gb1/low_vs_high/esm1_t6_43M_UR50S/mean\",\n",
    "output_folder=\"results/sklearn-scaley-noloader-rand/proeng/gb1/low_vs_high/esm1_t6_43M_UR50S/mean\")\n",
    "copy_results(input_folder=\"/home/t-fli/amlt/protran/gb1-two_vs_rest-esm1_t6_43M_UR50S-mean-sklearn-scaley-noloader-rand/results/sklearn-rand/proeng/gb1/two_vs_rest/esm1_t6_43M_UR50S/mean\",\n",
    "output_folder=\"results/sklearn-scaley-noloader-rand/proeng/gb1/two_vs_rest/esm1_t6_43M_UR50S/mean\")\n",
    "\n",
    "copy_results(input_folder=\"/home/t-fli/amlt/protran/gb1-low_vs_high-esm1_t12_85M_UR50S-mean-sklearn-scaley-noloader-rand/results/sklearn-rand/proeng/gb1/low_vs_high/esm1_t12_85M_UR50S/mean\",\n",
    "output_folder=\"results/sklearn-scaley-noloader-rand/proeng/gb1/low_vs_high/esm1_t12_85M_UR50S/mean\")\n",
    "copy_results(input_folder=\"/home/t-fli/amlt/protran/gb1-two_vs_rest-esm1_t12_85M_UR50S-mean-sklearn-scaley-noloader-rand/results/sklearn-rand/proeng/gb1/two_vs_rest/esm1_t12_85M_UR50S/mean\",\n",
    "output_folder=\"results/sklearn-scaley-noloader-rand/proeng/gb1/two_vs_rest/esm1_t12_85M_UR50S/mean\")\n",
    "\n",
    "copy_results(input_folder=\"/home/t-fli/amlt/protran/gb1-low_vs_high-esm1b_t33_650M_UR50S-mean-sklearn-scaley-noloader-rand/results/sklearn-rand/proeng/gb1/low_vs_high/esm1b_t33_650M_UR50S/mean\",\n",
    "output_folder=\"results/sklearn-scaley-noloader-rand/proeng/gb1/low_vs_high/esm1b_t33_650M_UR50S/mean\")\n",
    "copy_results(input_folder=\"/home/t-fli/amlt/protran/gb1-two_vs_rest-esm1b_t33_650M_UR50S-mean-sklearn-scaley-noloader-rand/results/sklearn-rand/proeng/gb1/two_vs_rest/esm1b_t33_650M_UR50S/mean\",\n",
    "output_folder=\"results/sklearn-scaley-noloader-rand/proeng/gb1/two_vs_rest/esm1b_t33_650M_UR50S/mean\")\n",
    "\n",
    "copy_results(input_folder=\"/home/t-fli/amlt/protran/gb1-low_vs_high-esm1_t34_670M_UR50S-mean-sklearn-scaley-noloader-rand/results/sklearn-rand/proeng/gb1/low_vs_high/esm1_t34_670M_UR50S/mean\",\n",
    "output_folder=\"results/sklearn-scaley-noloader-rand/proeng/gb1/low_vs_high/esm1_t34_670M_UR50S/mean\")\n",
    "copy_results(input_folder=\"/home/t-fli/amlt/protran/gb1-two_vs_rest-esm1_t34_670M_UR50S-mean-sklearn-scaley-noloader-rand/results/sklearn-rand/proeng/gb1/two_vs_rest/esm1_t34_670M_UR50S/mean\",\n",
    "output_folder=\"results/sklearn-scaley-noloader-rand/proeng/gb1/two_vs_rest/esm1_t34_670M_UR50S/mean\")"
   ]
  },
  {
   "cell_type": "code",
   "execution_count": 8,
   "metadata": {},
   "outputs": [
    {
     "name": "stdout",
     "output_type": "stream",
     "text": [
      "Making results/sklearn-scalex-scaley-noloader-fixembpool-stat/proeng/gb1/low_vs_high ...\n",
      "Making results/sklearn-scalex-scaley-noloader-fixembpool-stat/proeng/gb1/low_vs_high/esm1_t6_43M_UR50S ...\n",
      "Making results/sklearn-scalex-scaley-noloader-fixembpool-stat/proeng/gb1/low_vs_high/esm1_t6_43M_UR50S/mean ...\n",
      "Making results/sklearn-scalex-scaley-noloader-fixembpool-stat/proeng/gb1/two_vs_rest ...\n",
      "Making results/sklearn-scalex-scaley-noloader-fixembpool-stat/proeng/gb1/two_vs_rest/esm1_t6_43M_UR50S ...\n",
      "Making results/sklearn-scalex-scaley-noloader-fixembpool-stat/proeng/gb1/two_vs_rest/esm1_t6_43M_UR50S/mean ...\n",
      "Making results/sklearn-scalex-scaley-noloader-fixembpool-stat/proeng/gb1/low_vs_high/esm1_t12_85M_UR50S ...\n",
      "Making results/sklearn-scalex-scaley-noloader-fixembpool-stat/proeng/gb1/low_vs_high/esm1_t12_85M_UR50S/mean ...\n",
      "Making results/sklearn-scalex-scaley-noloader-fixembpool-stat/proeng/gb1/two_vs_rest/esm1_t12_85M_UR50S ...\n",
      "Making results/sklearn-scalex-scaley-noloader-fixembpool-stat/proeng/gb1/two_vs_rest/esm1_t12_85M_UR50S/mean ...\n",
      "Making results/sklearn-scalex-scaley-noloader-fixembpool-stat/proeng/gb1/low_vs_high/esm1b_t33_650M_UR50S ...\n",
      "Making results/sklearn-scalex-scaley-noloader-fixembpool-stat/proeng/gb1/low_vs_high/esm1b_t33_650M_UR50S/mean ...\n",
      "Making results/sklearn-scalex-scaley-noloader-fixembpool-stat/proeng/gb1/two_vs_rest/esm1b_t33_650M_UR50S ...\n",
      "Making results/sklearn-scalex-scaley-noloader-fixembpool-stat/proeng/gb1/two_vs_rest/esm1b_t33_650M_UR50S/mean ...\n",
      "Making results/sklearn-scalex-scaley-noloader-fixembpool-stat/proeng/gb1/low_vs_high/esm1_t34_670M_UR50S ...\n",
      "Making results/sklearn-scalex-scaley-noloader-fixembpool-stat/proeng/gb1/low_vs_high/esm1_t34_670M_UR50S/mean ...\n",
      "Making results/sklearn-scalex-scaley-noloader-fixembpool-stat/proeng/gb1/two_vs_rest/esm1_t34_670M_UR50S ...\n",
      "Making results/sklearn-scalex-scaley-noloader-fixembpool-stat/proeng/gb1/two_vs_rest/esm1_t34_670M_UR50S/mean ...\n"
     ]
    },
    {
     "name": "stderr",
     "output_type": "stream",
     "text": [
      "Bad pipe message: %s [b\"\\xf1$\\x85\\xa9?&\\x8f\\x0c1e\\x95\\xb5 \\t\\xed\\xa5w\\x9e\\x00\\x00|\\xc0,\\xc00\\x00\\xa3\\x00\\x9f\\xcc\\xa9\\xcc\\xa8\\xcc\\xaa\\xc0\\xaf\\xc0\\xad\\xc0\\xa3\\xc0\\x9f\\xc0]\\xc0a\\xc0W\\xc0S\\xc0+\\xc0/\\x00\\xa2\\x00\\x9e\\xc0\\xae\\xc0\\xac\\xc0\\xa2\\xc0\\x9e\\xc0\\\\\\xc0`\\xc0V\\xc0R\\xc0$\\xc0(\\x00k\\x00j\\xc0#\\xc0'\\x00g\\x00@\\xc0\\n\\xc0\\x14\\x009\\x008\\xc0\\t\\xc0\\x13\\x003\\x002\\x00\\x9d\\xc0\\xa1\\xc0\\x9d\\xc0Q\\x00\\x9c\\xc0\\xa0\\xc0\\x9c\\xc0P\\x00=\\x00<\\x005\\x00/\\x00\\x9a\\x00\\x99\\xc0\\x07\\xc0\\x11\\x00\\x96\\x00\\x05\\x00\\xff\", b'']\n",
      "Bad pipe message: %s [b\"\\x86a\\x1a\\xc9\\xdd@\\xe9L\\xf5s\\xdd'\\x16\\x1bv\\xbcB\\x1f\\x00\\x00\\xa6\\xc0,\\xc00\\x00\\xa3\\x00\\x9f\\xcc\\xa9\\xcc\\xa8\\xcc\\xaa\\xc0\\xaf\\xc0\\xad\\xc0\\xa3\\xc0\\x9f\\xc0]\\xc0a\\xc0W\\xc0S\\xc0+\\xc0/\\x00\\xa2\\x00\\x9e\\xc0\\xae\\xc0\\xac\\xc0\\xa2\\xc0\\x9e\\xc0\\\\\\xc0`\\xc0V\\xc0R\\xc0$\\xc0(\\x00k\\x00j\\xc0s\\xc0w\\x00\\xc4\\x00\\xc3\\xc0#\\xc0'\\x00g\\x00@\\xc0r\\xc0v\\x00\\xbe\\x00\\xbd\\xc0\\n\\xc0\\x14\\x009\\x008\\x00\\x88\\x00\\x87\\xc0\\t\\xc0\\x13\\x003\\x002\\x00\\x9a\\x00\\x99\\x00E\\x00D\\xc0\\x07\\xc0\\x11\\xc0\\x08\\xc0\\x12\\x00\\x16\\x00\\x13\\x00\\x9d\\xc0\\xa1\\xc0\\x9d\\xc0Q\\x00\\x9c\\xc0\\xa0\\xc0\\x9c\\xc0P\\x00=\\x00\\xc0\\x00<\\x00\\xba\\x005\\x00\\x84\\x00/\\x00\\x96\\x00A\\x00\\x05\\x00\\n\\x00\\xff\\x01\\x00\\x00j\\x00\\x00\\x00\\x0e\\x00\\x0c\\x00\\x00\\t127.0.0.1\\x00\\x0b\\x00\\x04\\x03\\x00\\x01\\x02\\x00\\n\\x00\\x0c\\x00\\n\\x00\"]\n",
      "Bad pipe message: %s [b'\\x17\\x00\\x1e\\x00\\x19\\x00\\x18\\x00#\\x00\\x00\\x00\\x16\\x00\\x00\\x00\\x17\\x00\\x00\\x00\\r\\x000\\x00.\\x04\\x03\\x05']\n",
      "Bad pipe message: %s [b'\\x03\\x08']\n",
      "Bad pipe message: %s [b'\\x08\\x08\\t\\x08\\n\\x08']\n",
      "Bad pipe message: %s [b'\\x04\\x08\\x05\\x08\\x06\\x04\\x01\\x05\\x01\\x06']\n",
      "Bad pipe message: %s [b'', b'\\x03\\x03']\n",
      "Bad pipe message: %s [b'']\n",
      "Bad pipe message: %s [b'', b'\\x02']\n",
      "Bad pipe message: %s [b'\\x05\\x02\\x06']\n",
      "Bad pipe message: %s [b'\\xed<\\xdb\\x9d\\xf7\\xea\\x92\\xd3\\xfcN\\x9c\\xd9YS\\xae\\xe9\\x8c\\xaf\\x00\\x00>\\xc0\\x14\\xc0\\n\\x009\\x008\\x00', b'6\\xc0\\x0f\\xc0\\x05\\x005\\xc0\\x13\\xc0\\t\\x003\\x002\\x001\\x000\\xc0\\x0e\\xc0\\x04\\x00/\\x00\\x9a\\x00\\x99\\x00\\x98\\x00\\x97\\x00\\x96\\x00\\x07\\xc0\\x11\\xc0\\x07\\xc0\\x0c\\xc0\\x02\\x00\\x05\\x00\\x04\\x00\\xff\\x02\\x01\\x00']\n",
      "Bad pipe message: %s [b'v\\x9f\\xda|\\x0f\\n\\x06\\xdf\\xc2\\x89%o.Sh\\x18\\xf7\\x01\\x00\\x00\\xa2\\xc0\\x14\\xc0\\n\\x009\\x008\\x007\\x006\\x00\\x88\\x00\\x87\\x00\\x86\\x00\\x85\\xc0\\x19\\x00:\\x00\\x89\\xc0\\x0f\\xc0\\x05\\x005\\x00\\x84\\xc0\\x13\\xc0\\t\\x003\\x002\\x001\\x000\\x00\\x9a\\x00\\x99\\x00\\x98\\x00\\x97\\x00E\\x00D\\x00C\\x00B\\xc0\\x18']\n",
      "Bad pipe message: %s [b'=\\xf5\\x98S\\x0bc\\xc85-\\xa6\\xbb\\xc0\\x0b\\x1fg\\x01\\x81\\x0b\\x00\\x00>\\xc0\\x14\\xc0\\n\\x009\\x008\\x007\\x006\\xc0\\x0f\\xc0\\x05\\x005\\xc0\\x13\\xc0\\t\\x003\\x002\\x001\\x000\\xc0\\x0e\\xc0\\x04\\x00/\\x00\\x9a\\x00\\x99\\x00\\x98\\x00\\x97\\x00\\x96\\x00\\x07\\xc0\\x11\\xc0\\x07\\xc0\\x0c\\xc0\\x02\\x00\\x05\\x00\\x04\\x00\\xff\\x02\\x01\\x00\\x00C\\x00\\x00\\x00\\x0e\\x00\\x0c\\x00\\x00']\n",
      "Bad pipe message: %s [b'U\\x1f3\\x9e\\xb4\\xb9>0\\xe9\\xfb\\x80\\xc6\\xef,l\\x01#v\\x00\\x00\\xa2\\xc0\\x14\\xc0\\n\\x009\\x008\\x007\\x006\\x00\\x88\\x00\\x87\\x00\\x86\\x00\\x85\\xc0\\x19\\x00:\\x00\\x89\\xc0\\x0f\\xc0\\x05\\x005\\x00\\x84\\xc0\\x13\\xc0\\t\\x003\\x002\\x001\\x000\\x00\\x9a\\x00\\x99\\x00\\x98\\x00\\x97\\x00E\\x00', b'C\\x00B\\xc0\\x18\\x004\\x00\\x9b\\x00F\\xc0\\x0e\\xc0\\x04\\x00/\\x00\\x96\\x00A\\x00\\x07\\xc0\\x11\\xc0\\x07\\xc0\\x16\\x00\\x18\\xc0\\x0c\\xc0\\x02\\x00\\x05\\x00\\x04\\xc0\\x12\\xc0\\x08\\x00\\x16\\x00\\x13\\x00\\x10\\x00\\r\\xc0\\x17\\x00\\x1b\\xc0\\r\\xc0\\x03\\x00\\n\\x00\\x15\\x00\\x12\\x00\\x0f']\n",
      "Bad pipe message: %s [b'is\\xd1\\xce\\xa1\\xbd\\x01\\xbe\\x82\\xdc\\x81\\x01\\xc8\\xed\\xa0\\xe0\\xeb!\\x00\\x00>\\xc0\\x14\\xc0\\n\\x009\\x008\\x007\\x006\\xc0\\x0f\\xc0']\n",
      "Bad pipe message: %s [b'0\\xe7\\xc9\\x06\\x9d\\x9e\\t\\x81\\x04\\x82\\x87\\xce\\xf4CaA\\x06\\x85\\x00\\x00\\xa2\\xc0\\x14\\xc0\\n\\x009\\x008\\x007\\x006\\x00\\x88\\x00\\x87\\x00\\x86\\x00\\x85\\xc0\\x19\\x00:\\x00\\x89\\xc0\\x0f\\xc0\\x05\\x005\\x00\\x84\\xc0\\x13\\xc0\\t\\x003\\x002\\x001\\x000\\x00\\x9a\\x00\\x99\\x00\\x98\\x00\\x97\\x00E\\x00D\\x00C\\x00B\\xc0\\x18\\x004\\x00\\x9b\\x00F\\xc0\\x0e\\xc0\\x04\\x00/\\x00\\x96\\x00A\\x00\\x07\\xc0\\x11\\xc0\\x07\\xc0\\x16\\x00\\x18\\xc0\\x0c\\xc0\\x02\\x00\\x05\\x00\\x04\\xc0\\x12\\xc0\\x08\\x00\\x16\\x00\\x13\\x00\\x10\\x00\\r\\xc0\\x17\\x00\\x1b\\xc0\\r\\xc0\\x03\\x00\\n\\x00\\x15\\x00\\x12\\x00\\x0f\\x00\\x0c\\x00\\x1a\\x00\\t\\x00\\x14\\x00\\x11\\x00\\x19\\x00\\x08\\x00\\x06\\x00\\x17']\n",
      "Bad pipe message: %s [b'5\\xc0\\x13\\xc0']\n",
      "Bad pipe message: %s [b'3\\x002\\x001\\x000\\xc0']\n",
      "Bad pipe message: %s [b'\\x04\\x00/\\x00\\x9a\\x00\\x99\\x00\\x98\\x00\\x97\\x00\\x96']\n",
      "Bad pipe message: %s [b'[\\x8f\\x0f\\xbf\\xec\\xb8\\rz!n\\x9a[\\xd9J\\x93\\x18\\xb5\\xe3\\x00\\x00\\xf4\\xc00\\xc0,\\xc0(\\xc0$\\xc0\\x14\\xc0\\n\\x00\\xa5\\x00\\xa3\\x00\\xa1\\x00\\x9f\\x00k\\x00j\\x00i\\x00h\\x009\\x008\\x007\\x006\\x00\\x88\\x00\\x87\\x00']\n",
      "Bad pipe message: %s [b\"\\x85\\xc0\\x19\\x00\\xa7\\x00m\\x00:\\x00\\x89\\xc02\\xc0.\\xc0*\\xc0&\\xc0\\x0f\\xc0\\x05\\x00\\x9d\\x00=\\x005\\x00\\x84\\xc0/\\xc0+\\xc0'\\xc0#\\xc0\\x13\\xc0\\t\\x00\\xa4\\x00\\xa2\\x00\\xa0\\x00\\x9e\\x00g\\x00@\\x00?\\x00>\\x003\\x002\\x001\\x000\\x00\\x9a\\x00\\x99\\x00\\x98\\x00\\x97\\x00E\\x00D\\x00C\\x00B\\xc0\\x18\\x00\\xa6\\x00l\\x004\\x00\\x9b\\x00F\\xc01\\xc0-\\xc0)\\xc0%\\xc0\\x0e\\xc0\\x04\\x00\\x9c\\x00<\\x00/\\x00\\x96\\x00A\\x00\\x07\\xc0\\x11\\xc0\\x07\\xc0\\x16\\x00\\x18\\xc0\\x0c\\xc0\\x02\\x00\\x05\"]\n"
     ]
    }
   ],
   "source": [
    "copy_results(input_folder=\"/home/t-fli/amlt/protran-fixembmean-stat/gb1-low_vs_high-esm1_t6_43M_UR50S-mean-sklearn-scalex-scaley-noloader-stat/results/sklearn-stat/proeng/gb1/low_vs_high/esm1_t6_43M_UR50S/mean\",\n",
    "output_folder=\"results/sklearn-scalex-scaley-noloader-fixembpool-stat/proeng/gb1/low_vs_high/esm1_t6_43M_UR50S/mean\")\n",
    "copy_results(input_folder=\"/home/t-fli/amlt/protran-fixembmean-stat/gb1-two_vs_rest-esm1_t6_43M_UR50S-mean-sklearn-scalex-scaley-noloader-stat/results/sklearn-stat/proeng/gb1/two_vs_rest/esm1_t6_43M_UR50S/mean\",\n",
    "output_folder=\"results/sklearn-scalex-scaley-noloader-fixembpool-stat/proeng/gb1/two_vs_rest/esm1_t6_43M_UR50S/mean\")\n",
    "\n",
    "copy_results(input_folder=\"/home/t-fli/amlt/protran-fixembmean-stat/gb1-low_vs_high-esm1_t12_85M_UR50S-mean-sklearn-scalex-scaley-noloader-stat/results/sklearn-stat/proeng/gb1/low_vs_high/esm1_t12_85M_UR50S/mean\",\n",
    "output_folder=\"results/sklearn-scalex-scaley-noloader-fixembpool-stat/proeng/gb1/low_vs_high/esm1_t12_85M_UR50S/mean\")\n",
    "copy_results(input_folder=\"/home/t-fli/amlt/protran-fixembmean-stat/gb1-two_vs_rest-esm1_t12_85M_UR50S-mean-sklearn-scalex-scaley-noloader-stat/results/sklearn-stat/proeng/gb1/two_vs_rest/esm1_t12_85M_UR50S/mean\",\n",
    "output_folder=\"results/sklearn-scalex-scaley-noloader-fixembpool-stat/proeng/gb1/two_vs_rest/esm1_t12_85M_UR50S/mean\")\n",
    "\n",
    "copy_results(input_folder=\"/home/t-fli/amlt/protran-fixembmean-stat/gb1-low_vs_high-esm1b_t33_650M_UR50S-mean-sklearn-scalex-scaley-noloader-stat/results/sklearn-stat/proeng/gb1/low_vs_high/esm1b_t33_650M_UR50S/mean\",\n",
    "output_folder=\"results/sklearn-scalex-scaley-noloader-fixembpool-stat/proeng/gb1/low_vs_high/esm1b_t33_650M_UR50S/mean\")\n",
    "copy_results(input_folder=\"/home/t-fli/amlt/protran-fixembmean-stat/gb1-two_vs_rest-esm1b_t33_650M_UR50S-mean-sklearn-scalex-scaley-noloader-stat/results/sklearn-stat/proeng/gb1/two_vs_rest/esm1b_t33_650M_UR50S/mean\",\n",
    "output_folder=\"results/sklearn-scalex-scaley-noloader-fixembpool-stat/proeng/gb1/two_vs_rest/esm1b_t33_650M_UR50S/mean\")\n",
    "\n",
    "copy_results(input_folder=\"/home/t-fli/amlt/protran-fixembmean-stat/gb1-low_vs_high-esm1_t34_670M_UR50S-mean-sklearn-scalex-scaley-noloader-stat/results/sklearn-stat/proeng/gb1/low_vs_high/esm1_t34_670M_UR50S/mean\",\n",
    "output_folder=\"results/sklearn-scalex-scaley-noloader-fixembpool-stat/proeng/gb1/low_vs_high/esm1_t34_670M_UR50S/mean\")\n",
    "copy_results(input_folder=\"/home/t-fli/amlt/protran-fixembmean-stat/gb1-two_vs_rest-esm1_t34_670M_UR50S-mean-sklearn-scalex-scaley-noloader-stat/results/sklearn-stat/proeng/gb1/two_vs_rest/esm1_t34_670M_UR50S/mean\",\n",
    "output_folder=\"results/sklearn-scalex-scaley-noloader-fixembpool-stat/proeng/gb1/two_vs_rest/esm1_t34_670M_UR50S/mean\")"
   ]
  },
  {
   "cell_type": "code",
   "execution_count": 7,
   "metadata": {},
   "outputs": [
    {
     "name": "stdout",
     "output_type": "stream",
     "text": [
      "Making results/sklearn-scalex-scaley-noloader-fixembpool-rand/proeng/gb1/low_vs_high ...\n",
      "Making results/sklearn-scalex-scaley-noloader-fixembpool-rand/proeng/gb1/low_vs_high/esm1_t6_43M_UR50S ...\n",
      "Making results/sklearn-scalex-scaley-noloader-fixembpool-rand/proeng/gb1/low_vs_high/esm1_t6_43M_UR50S/mean ...\n",
      "Making results/sklearn-scalex-scaley-noloader-fixembpool-rand/proeng/gb1/two_vs_rest ...\n",
      "Making results/sklearn-scalex-scaley-noloader-fixembpool-rand/proeng/gb1/two_vs_rest/esm1_t6_43M_UR50S ...\n",
      "Making results/sklearn-scalex-scaley-noloader-fixembpool-rand/proeng/gb1/two_vs_rest/esm1_t6_43M_UR50S/mean ...\n",
      "Making results/sklearn-scalex-scaley-noloader-fixembpool-rand/proeng/gb1/low_vs_high/esm1_t12_85M_UR50S ...\n",
      "Making results/sklearn-scalex-scaley-noloader-fixembpool-rand/proeng/gb1/low_vs_high/esm1_t12_85M_UR50S/mean ...\n",
      "Making results/sklearn-scalex-scaley-noloader-fixembpool-rand/proeng/gb1/two_vs_rest/esm1_t12_85M_UR50S ...\n",
      "Making results/sklearn-scalex-scaley-noloader-fixembpool-rand/proeng/gb1/two_vs_rest/esm1_t12_85M_UR50S/mean ...\n",
      "Making results/sklearn-scalex-scaley-noloader-fixembpool-rand/proeng/gb1/low_vs_high/esm1b_t33_650M_UR50S ...\n",
      "Making results/sklearn-scalex-scaley-noloader-fixembpool-rand/proeng/gb1/low_vs_high/esm1b_t33_650M_UR50S/mean ...\n",
      "Making results/sklearn-scalex-scaley-noloader-fixembpool-rand/proeng/gb1/two_vs_rest/esm1b_t33_650M_UR50S ...\n",
      "Making results/sklearn-scalex-scaley-noloader-fixembpool-rand/proeng/gb1/two_vs_rest/esm1b_t33_650M_UR50S/mean ...\n",
      "Making results/sklearn-scalex-scaley-noloader-fixembpool-rand/proeng/gb1/low_vs_high/esm1_t34_670M_UR50S ...\n",
      "Making results/sklearn-scalex-scaley-noloader-fixembpool-rand/proeng/gb1/low_vs_high/esm1_t34_670M_UR50S/mean ...\n",
      "Making results/sklearn-scalex-scaley-noloader-fixembpool-rand/proeng/gb1/two_vs_rest/esm1_t34_670M_UR50S ...\n",
      "Making results/sklearn-scalex-scaley-noloader-fixembpool-rand/proeng/gb1/two_vs_rest/esm1_t34_670M_UR50S/mean ...\n"
     ]
    }
   ],
   "source": [
    "copy_results(input_folder=\"/home/t-fli/amlt/protran-fixembmean-rand/gb1-low_vs_high-esm1_t6_43M_UR50S-mean-sklearn-scalex-scaley-noloader-rand/results/sklearn-rand/proeng/gb1/low_vs_high/esm1_t6_43M_UR50S/mean\",\n",
    "output_folder=\"results/sklearn-scalex-scaley-noloader-fixembpool-rand/proeng/gb1/low_vs_high/esm1_t6_43M_UR50S/mean\")\n",
    "copy_results(input_folder=\"/home/t-fli/amlt/protran-fixembmean-rand/gb1-two_vs_rest-esm1_t6_43M_UR50S-mean-sklearn-scalex-scaley-noloader-rand/results/sklearn-rand/proeng/gb1/two_vs_rest/esm1_t6_43M_UR50S/mean\",\n",
    "output_folder=\"results/sklearn-scalex-scaley-noloader-fixembpool-rand/proeng/gb1/two_vs_rest/esm1_t6_43M_UR50S/mean\")\n",
    "\n",
    "copy_results(input_folder=\"/home/t-fli/amlt/protran-fixembmean-rand/gb1-low_vs_high-esm1_t12_85M_UR50S-mean-sklearn-scalex-scaley-noloader-rand/results/sklearn-rand/proeng/gb1/low_vs_high/esm1_t12_85M_UR50S/mean\",\n",
    "output_folder=\"results/sklearn-scalex-scaley-noloader-fixembpool-rand/proeng/gb1/low_vs_high/esm1_t12_85M_UR50S/mean\")\n",
    "copy_results(input_folder=\"/home/t-fli/amlt/protran-fixembmean-rand/gb1-two_vs_rest-esm1_t12_85M_UR50S-mean-sklearn-scalex-scaley-noloader-rand/results/sklearn-rand/proeng/gb1/two_vs_rest/esm1_t12_85M_UR50S/mean\",\n",
    "output_folder=\"results/sklearn-scalex-scaley-noloader-fixembpool-rand/proeng/gb1/two_vs_rest/esm1_t12_85M_UR50S/mean\")\n",
    "\n",
    "copy_results(input_folder=\"/home/t-fli/amlt/protran-fixembmean-rand/gb1-low_vs_high-esm1b_t33_650M_UR50S-mean-sklearn-scalex-scaley-noloader-rand/results/sklearn-rand/proeng/gb1/low_vs_high/esm1b_t33_650M_UR50S/mean\",\n",
    "output_folder=\"results/sklearn-scalex-scaley-noloader-fixembpool-rand/proeng/gb1/low_vs_high/esm1b_t33_650M_UR50S/mean\")\n",
    "copy_results(input_folder=\"/home/t-fli/amlt/protran-fixembmean-rand/gb1-two_vs_rest-esm1b_t33_650M_UR50S-mean-sklearn-scalex-scaley-noloader-rand/results/sklearn-rand/proeng/gb1/two_vs_rest/esm1b_t33_650M_UR50S/mean\",\n",
    "output_folder=\"results/sklearn-scalex-scaley-noloader-fixembpool-rand/proeng/gb1/two_vs_rest/esm1b_t33_650M_UR50S/mean\")\n",
    "\n",
    "copy_results(input_folder=\"/home/t-fli/amlt/protran-fixembmean-rand/gb1-low_vs_high-esm1_t34_670M_UR50S-mean-sklearn-scalex-scaley-noloader-rand/results/sklearn-rand/proeng/gb1/low_vs_high/esm1_t34_670M_UR50S/mean\",\n",
    "output_folder=\"results/sklearn-scalex-scaley-noloader-fixembpool-rand/proeng/gb1/low_vs_high/esm1_t34_670M_UR50S/mean\")\n",
    "copy_results(input_folder=\"/home/t-fli/amlt/protran-fixembmean-rand/gb1-two_vs_rest-esm1_t34_670M_UR50S-mean-sklearn-scalex-scaley-noloader-rand/results/sklearn-rand/proeng/gb1/two_vs_rest/esm1_t34_670M_UR50S/mean\",\n",
    "output_folder=\"results/sklearn-scalex-scaley-noloader-fixembpool-rand/proeng/gb1/two_vs_rest/esm1_t34_670M_UR50S/mean\")"
   ]
  },
  {
   "cell_type": "code",
   "execution_count": 14,
   "metadata": {},
   "outputs": [],
   "source": [
    "copy_results(input_folder=\"/home/t-fli/amlt/protran-scalex/gb1-low_vs_high-esm1_t6_43M_UR50S-mean-sklearn-scalex-scaley-noloader-rand/results/sklearn-rand/proeng/gb1/low_vs_high/esm1_t6_43M_UR50S/mean\",\n",
    "output_folder=\"results/sklearn-scalex-scaley-noloader-rand/proeng/gb1/low_vs_high/esm1_t6_43M_UR50S/mean\")\n",
    "copy_results(input_folder=\"/home/t-fli/amlt/protran-scalex/gb1-two_vs_rest-esm1_t6_43M_UR50S-mean-sklearn-scalex-scaley-noloader-rand/results/sklearn-rand/proeng/gb1/two_vs_rest/esm1_t6_43M_UR50S/mean\",\n",
    "output_folder=\"results/sklearn-scalex-scaley-noloader-rand/proeng/gb1/two_vs_rest/esm1_t6_43M_UR50S/mean\")\n",
    "\n",
    "copy_results(input_folder=\"/home/t-fli/amlt/protran-scalex/gb1-low_vs_high-esm1_t12_85M_UR50S-mean-sklearn-scalex-scaley-noloader-rand/results/sklearn-rand/proeng/gb1/low_vs_high/esm1_t12_85M_UR50S/mean\",\n",
    "output_folder=\"results/sklearn-scalex-scaley-noloader-rand/proeng/gb1/low_vs_high/esm1_t12_85M_UR50S/mean\")\n",
    "copy_results(input_folder=\"/home/t-fli/amlt/protran-scalex/gb1-two_vs_rest-esm1_t12_85M_UR50S-mean-sklearn-scalex-scaley-noloader-rand/results/sklearn-rand/proeng/gb1/two_vs_rest/esm1_t12_85M_UR50S/mean\",\n",
    "output_folder=\"results/sklearn-scalex-scaley-noloader-rand/proeng/gb1/two_vs_rest/esm1_t12_85M_UR50S/mean\")\n",
    "\n",
    "copy_results(input_folder=\"/home/t-fli/amlt/protran-scalex/gb1-low_vs_high-esm1b_t33_650M_UR50S-mean-sklearn-scalex-scaley-noloader-rand/results/sklearn-rand/proeng/gb1/low_vs_high/esm1b_t33_650M_UR50S/mean\",\n",
    "output_folder=\"results/sklearn-scalex-scaley-noloader-rand/proeng/gb1/low_vs_high/esm1b_t33_650M_UR50S/mean\")\n",
    "copy_results(input_folder=\"/home/t-fli/amlt/protran-scalex/gb1-two_vs_rest-esm1b_t33_650M_UR50S-mean-sklearn-scalex-scaley-noloader-rand/results/sklearn-rand/proeng/gb1/two_vs_rest/esm1b_t33_650M_UR50S/mean\",\n",
    "output_folder=\"results/sklearn-scalex-scaley-noloader-rand/proeng/gb1/two_vs_rest/esm1b_t33_650M_UR50S/mean\")\n",
    "\n",
    "copy_results(input_folder=\"/home/t-fli/amlt/protran-scalex/gb1-low_vs_high-esm1_t34_670M_UR50S-mean-sklearn-scalex-scaley-noloader-rand/results/sklearn-rand/proeng/gb1/low_vs_high/esm1_t34_670M_UR50S/mean\",\n",
    "output_folder=\"results/sklearn-scalex-scaley-noloader-rand/proeng/gb1/low_vs_high/esm1_t34_670M_UR50S/mean\")\n",
    "copy_results(input_folder=\"/home/t-fli/amlt/protran-scalex/gb1-two_vs_rest-esm1_t34_670M_UR50S-mean-sklearn-scalex-scaley-noloader-rand/results/sklearn-rand/proeng/gb1/two_vs_rest/esm1_t34_670M_UR50S/mean\",\n",
    "output_folder=\"results/sklearn-scalex-scaley-noloader-rand/proeng/gb1/two_vs_rest/esm1_t34_670M_UR50S/mean\")"
   ]
  },
  {
   "cell_type": "code",
   "execution_count": null,
   "metadata": {},
   "outputs": [],
   "source": [
    "copy_results(input_folder=\"/home/t-fli/amlt/protran/gb1-low_vs_high-esm1_t6_43M_UR50S-mean-sklearn-scaley-noloader-rand/results/sklearn-rand/proeng/gb1/low_vs_high/esm1_t6_43M_UR50S/mean\",\n",
    "output_folder=\"results/sklearn-scaley-noloader-rand/proeng/gb1/low_vs_high/esm1_t6_43M_UR50S/mean\")\n",
    "copy_results(input_folder=\"/home/t-fli/amlt/protran/gb1-two_vs_rest-esm1_t6_43M_UR50S-mean-sklearn-scaley-noloader-rand/results/sklearn-rand/proeng/gb1/two_vs_rest/esm1_t6_43M_UR50S/mean\",\n",
    "output_folder=\"results/sklearn-scaley-noloader-rand/proeng/gb1/two_vs_rest/esm1_t6_43M_UR50S/mean\")\n",
    "\n",
    "copy_results(input_folder=\"/home/t-fli/amlt/protran/gb1-low_vs_high-esm1_t12_85M_UR50S-mean-sklearn-scaley-noloader-rand/results/sklearn-rand/proeng/gb1/low_vs_high/esm1_t12_85M_UR50S/mean\",\n",
    "output_folder=\"results/sklearn-scaley-noloader-rand/proeng/gb1/low_vs_high/esm1_t12_85M_UR50S/mean\")\n",
    "copy_results(input_folder=\"/home/t-fli/amlt/protran/gb1-two_vs_rest-esm1_t12_85M_UR50S-mean-sklearn-scaley-noloader-rand/results/sklearn-rand/proeng/gb1/two_vs_rest/esm1_t12_85M_UR50S/mean\",\n",
    "output_folder=\"results/sklearn-scaley-noloader-rand/proeng/gb1/two_vs_rest/esm1_t12_85M_UR50S/mean\")\n",
    "\n",
    "copy_results(input_folder=\"/home/t-fli/amlt/protran/gb1-low_vs_high-esm1b_t33_650M_UR50S-mean-sklearn-scaley-noloader-rand/results/sklearn-rand/proeng/gb1/low_vs_high/esm1b_t33_650M_UR50S/mean\",\n",
    "output_folder=\"results/sklearn-scaley-noloader-rand/proeng/gb1/low_vs_high/esm1b_t33_650M_UR50S/mean\")\n",
    "copy_results(input_folder=\"/home/t-fli/amlt/protran/gb1-two_vs_rest-esm1b_t33_650M_UR50S-mean-sklearn-scaley-noloader-rand/results/sklearn-rand/proeng/gb1/two_vs_rest/esm1b_t33_650M_UR50S/mean\",\n",
    "output_folder=\"results/sklearn-scaley-noloader-rand/proeng/gb1/two_vs_rest/esm1b_t33_650M_UR50S/mean\")\n",
    "\n",
    "copy_results(input_folder=\"/home/t-fli/amlt/protran/gb1-low_vs_high-esm1_t34_670M_UR50S-mean-sklearn-scaley-noloader-rand/results/sklearn-rand/proeng/gb1/low_vs_high/esm1_t34_670M_UR50S/mean\",\n",
    "output_folder=\"results/sklearn-scaley-noloader-rand/proeng/gb1/low_vs_high/esm1_t34_670M_UR50S/mean\")\n",
    "copy_results(input_folder=\"/home/t-fli/amlt/protran/gb1-two_vs_rest-esm1_t34_670M_UR50S-mean-sklearn-scaley-noloader-rand/results/sklearn-rand/proeng/gb1/two_vs_rest/esm1_t34_670M_UR50S/mean\",\n",
    "output_folder=\"results/sklearn-scaley-noloader-rand/proeng/gb1/two_vs_rest/esm1_t34_670M_UR50S/mean\")"
   ]
  },
  {
   "cell_type": "code",
   "execution_count": 15,
   "metadata": {},
   "outputs": [],
   "source": [
    "copy_results(input_folder=\"/home/t-fli/amlt/protran-scalex/gb1-low_vs_high-esm1_t6_43M_UR50S-mean-sklearn-scalex-scaley-noloader-stat/results/sklearn-stat/proeng/gb1/low_vs_high/esm1_t6_43M_UR50S/mean\",\n",
    "output_folder=\"results/sklearn-scalex-scaley-noloader-stat/proeng/gb1/low_vs_high/esm1_t6_43M_UR50S/mean\")\n",
    "copy_results(input_folder=\"/home/t-fli/amlt/protran-scalex/gb1-two_vs_rest-esm1_t6_43M_UR50S-mean-sklearn-scalex-scaley-noloader-stat/results/sklearn-stat/proeng/gb1/two_vs_rest/esm1_t6_43M_UR50S/mean\",\n",
    "output_folder=\"results/sklearn-scalex-scaley-noloader-stat/proeng/gb1/two_vs_rest/esm1_t6_43M_UR50S/mean\")\n",
    "\n",
    "copy_results(input_folder=\"/home/t-fli/amlt/protran-scalex/gb1-low_vs_high-esm1_t12_85M_UR50S-mean-sklearn-scalex-scaley-noloader-stat/results/sklearn-stat/proeng/gb1/low_vs_high/esm1_t12_85M_UR50S/mean\",\n",
    "output_folder=\"results/sklearn-scalex-scaley-noloader-stat/proeng/gb1/low_vs_high/esm1_t12_85M_UR50S/mean\")\n",
    "copy_results(input_folder=\"/home/t-fli/amlt/protran-scalex/gb1-two_vs_rest-esm1_t12_85M_UR50S-mean-sklearn-scalex-scaley-noloader-stat/results/sklearn-stat/proeng/gb1/two_vs_rest/esm1_t12_85M_UR50S/mean\",\n",
    "output_folder=\"results/sklearn-scalex-scaley-noloader-stat/proeng/gb1/two_vs_rest/esm1_t12_85M_UR50S/mean\")\n",
    "\n",
    "copy_results(input_folder=\"/home/t-fli/amlt/protran-scalex/gb1-low_vs_high-esm1b_t33_650M_UR50S-mean-sklearn-scalex-scaley-noloader-stat/results/sklearn-stat/proeng/gb1/low_vs_high/esm1b_t33_650M_UR50S/mean\",\n",
    "output_folder=\"results/sklearn-scalex-scaley-noloader-stat/proeng/gb1/low_vs_high/esm1b_t33_650M_UR50S/mean\")\n",
    "copy_results(input_folder=\"/home/t-fli/amlt/protran-scalex/gb1-two_vs_rest-esm1b_t33_650M_UR50S-mean-sklearn-scalex-scaley-noloader-stat/results/sklearn-stat/proeng/gb1/two_vs_rest/esm1b_t33_650M_UR50S/mean\",\n",
    "output_folder=\"results/sklearn-scalex-scaley-noloader-stat/proeng/gb1/two_vs_rest/esm1b_t33_650M_UR50S/mean\")\n",
    "\n",
    "copy_results(input_folder=\"/home/t-fli/amlt/protran-scalex/gb1-low_vs_high-esm1_t34_670M_UR50S-mean-sklearn-scalex-scaley-noloader-stat/results/sklearn-stat/proeng/gb1/low_vs_high/esm1_t34_670M_UR50S/mean\",\n",
    "output_folder=\"results/sklearn-scalex-scaley-noloader-stat/proeng/gb1/low_vs_high/esm1_t34_670M_UR50S/mean\")\n",
    "copy_results(input_folder=\"/home/t-fli/amlt/protran-scalex/gb1-two_vs_rest-esm1_t34_670M_UR50S-mean-sklearn-scalex-scaley-noloader-stat/results/sklearn-stat/proeng/gb1/two_vs_rest/esm1_t34_670M_UR50S/mean\",\n",
    "output_folder=\"results/sklearn-scalex-scaley-noloader-stat/proeng/gb1/two_vs_rest/esm1_t34_670M_UR50S/mean\")"
   ]
  },
  {
   "cell_type": "code",
   "execution_count": 6,
   "metadata": {},
   "outputs": [
    {
     "name": "stdout",
     "output_type": "stream",
     "text": [
      "flatten\n"
     ]
    }
   ],
   "source": [
    "!ls /home/t-fli/amlt/protran/aav-one_vs_many-onehot-flatten-sklearn-scaley-noloader/results/sklearn/proeng/aav/one_vs_many/onehot"
   ]
  },
  {
   "cell_type": "code",
   "execution_count": 11,
   "metadata": {},
   "outputs": [],
   "source": [
    "copy_results(input_folder=\"/home/t-fli/amlt/protran/aav-one_vs_many-onehot-flatten-sklearn-scaley-noloader/results/sklearn/proeng/aav/one_vs_many/onehot/flatten\",\n",
    "output_folder=\"results/sklearn-scaley-noloader-onehot/proeng/aav/one_vs_many/onehot/flatten\")\n",
    "copy_results(input_folder=\"/home/t-fli/amlt/protran/aav-two_vs_many-onehot-flatten-sklearn-scaley-noloader/results/sklearn/proeng/aav/two_vs_many/onehot/flatten\",\n",
    "output_folder=\"results/sklearn-scaley-noloader-onehot/proeng/aav/two_vs_many/onehot/flatten\")\n",
    "\n",
    "copy_results(input_folder=\"/home/t-fli/amlt/protran/gb1-low_vs_high-onehot-flatten-sklearn-scaley-noloader/results/sklearn/proeng/gb1/low_vs_high/onehot/flatten\",\n",
    "output_folder=\"results/sklearn-scaley-noloader-onehot/proeng/gb1/low_vs_high/onehot/flatten\")\n",
    "copy_results(input_folder=\"/home/t-fli/amlt/protran/gb1-sampled-onehot-flatten-sklearn-scaley-noloader/results/sklearn/proeng/gb1/sampled/onehot/flatten\",\n",
    "output_folder=\"results/sklearn-scaley-noloader-onehot/proeng/gb1/sampled/onehot/flatten\")\n",
    "copy_results(input_folder=\"/home/t-fli/amlt/protran/gb1-two_vs_rest-onehot-flatten-sklearn-scaley-noloader/results/sklearn/proeng/gb1/two_vs_rest/onehot/flatten\",\n",
    "output_folder=\"results/sklearn-scaley-noloader-onehot/proeng/gb1/two_vs_rest/onehot/flatten\")"
   ]
  },
  {
   "cell_type": "code",
   "execution_count": 16,
   "metadata": {},
   "outputs": [],
   "source": [
    "copy_results(input_folder=\"/home/t-fli/amlt/protran-scalex/aav-one_vs_many-onehot-flatten-sklearn-scalex-scaley-noloader/results/sklearn/proeng/aav/one_vs_many/onehot/flatten\",\n",
    "output_folder=\"results/sklearn-scalex-scaley-noloader-onehot/proeng/aav/one_vs_many/onehot/flatten\")\n",
    "copy_results(input_folder=\"/home/t-fli/amlt/protran-scalex/aav-two_vs_many-onehot-flatten-sklearn-scalex-scaley-noloader/results/sklearn/proeng/aav/two_vs_many/onehot/flatten\",\n",
    "output_folder=\"results/sklearn-scalex-scaley-noloader-onehot/proeng/aav/two_vs_many/onehot/flatten\")\n",
    "\n",
    "copy_results(input_folder=\"/home/t-fli/amlt/protran-scalex/gb1-low_vs_high-onehot-flatten-sklearn-scalex-scaley-noloader/results/sklearn/proeng/gb1/low_vs_high/onehot/flatten\",\n",
    "output_folder=\"results/sklearn-scalex-scaley-noloader-onehot/proeng/gb1/low_vs_high/onehot/flatten\")\n",
    "copy_results(input_folder=\"/home/t-fli/amlt/protran-scalex/gb1-sampled-onehot-flatten-sklearn-scalex-scaley-noloader/results/sklearn/proeng/gb1/sampled/onehot/flatten\",\n",
    "output_folder=\"results/sklearn-scalex-scaley-noloader-onehot/proeng/gb1/sampled/onehot/flatten\")\n",
    "copy_results(input_folder=\"/home/t-fli/amlt/protran-scalex/gb1-two_vs_rest-onehot-flatten-sklearn-scalex-scaley-noloader/results/sklearn/proeng/gb1/two_vs_rest/onehot/flatten\",\n",
    "output_folder=\"results/sklearn-scalex-scaley-noloader-onehot/proeng/gb1/two_vs_rest/onehot/flatten\")\n",
    "\n"
   ]
  },
  {
   "cell_type": "code",
   "execution_count": 9,
   "metadata": {},
   "outputs": [],
   "source": [
    "from scr.utils import pickle_load"
   ]
  },
  {
   "cell_type": "code",
   "execution_count": 10,
   "metadata": {},
   "outputs": [],
   "source": [
    "onehot_dict = pickle_load(\"/home/t-fli/repo/protein-transfer/results/sklearn-scalex-scaley-noloader-fixembmean-onehot/proeng/aav/one_vs_many/onehot/flatten/onehot-flatten-layer_0.pkl\")"
   ]
  },
  {
   "cell_type": "code",
   "execution_count": 11,
   "metadata": {},
   "outputs": [
    {
     "data": {
      "text/plain": [
       "(dict_keys(['train', 'val', 'test']),\n",
       " dict_keys(['mse', 'pred', 'true', 'ndcg', 'rho']),\n",
       " 6.606138986229867,\n",
       " 0.960145115831988)"
      ]
     },
     "execution_count": 11,
     "metadata": {},
     "output_type": "execute_result"
    }
   ],
   "source": [
    "onehot_dict.keys(), onehot_dict[\"train\"].keys(),  onehot_dict[\"train\"][\"mse\"],  onehot_dict[\"test\"][\"ndcg\"]"
   ]
  },
  {
   "cell_type": "code",
   "execution_count": null,
   "metadata": {},
   "outputs": [],
   "source": []
  }
 ],
 "metadata": {
  "kernelspec": {
   "display_name": "Python 3.9.2 ('protran')",
   "language": "python",
   "name": "python3"
  },
  "language_info": {
   "codemirror_mode": {
    "name": "ipython",
    "version": 3
   },
   "file_extension": ".py",
   "mimetype": "text/x-python",
   "name": "python",
   "nbconvert_exporter": "python",
   "pygments_lexer": "ipython3",
   "version": "3.9.10"
  },
  "orig_nbformat": 4,
  "vscode": {
   "interpreter": {
    "hash": "019692f042c79b6731ff84413c6b50d6174007f2b51f86eed1fb032dbd4a337e"
   }
  }
 },
 "nbformat": 4,
 "nbformat_minor": 2
}
