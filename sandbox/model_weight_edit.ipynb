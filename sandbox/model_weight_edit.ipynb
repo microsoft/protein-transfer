{
 "cells": [
  {
   "cell_type": "code",
   "execution_count": 1,
   "metadata": {},
   "outputs": [
    {
     "name": "stdout",
     "output_type": "stream",
     "text": [
      "/home/t-fli/repo/protein-transfer\n"
     ]
    }
   ],
   "source": [
    "%cd ~/repo/protein-transfer"
   ]
  },
  {
   "cell_type": "code",
   "execution_count": 2,
   "metadata": {},
   "outputs": [],
   "source": [
    "%load_ext blackcellmagic"
   ]
  },
  {
   "cell_type": "code",
   "execution_count": 18,
   "metadata": {},
   "outputs": [],
   "source": [
    "encoder_name = \"esm1_t6_43M_UR50S\"\n",
    "    \n",
    "# \"esm1_t6_43M_UR50S\"\n",
    "# \"esm1_t12_85M_UR50S\"\n",
    "# \"esm1_t34_670M_UR50S\"\n",
    "# \"esm1b_t33_650M_UR50S\""
   ]
  },
  {
   "cell_type": "code",
   "execution_count": 19,
   "metadata": {},
   "outputs": [
    {
     "name": "stderr",
     "output_type": "stream",
     "text": [
      "Using cache found in /home/t-fli/.cache/torch/hub/facebookresearch_esm_main\n"
     ]
    }
   ],
   "source": [
    "import torch\n",
    "\n",
    "# Load ESM-1b model\n",
    "original_model, alphabet = torch.hub.load(\n",
    "            \"facebookresearch/esm:main\", model=encoder_name\n",
    "        )\n",
    "batch_converter = alphabet.get_batch_converter()\n",
    "data = [\n",
    "    (\"protein1\", \"MKTVRQERLKSIVRILERSKEPVSGAQLAEELSVSRQVIVQDIAYLRSLGYNIVATPRGYVLAGG\")\n",
    "]\n",
    "batch_labels, batch_strs, batch_tokens = batch_converter(data)\n",
    "\n",
    "original_model.eval()\n",
    "with torch.no_grad():\n",
    "    original_results = original_model(batch_tokens, repr_layers=[6], return_contacts=False)\n",
    "original_reps = original_results[\"representations\"][6].numpy().mean(axis=1).flatten()"
   ]
  },
  {
   "cell_type": "code",
   "execution_count": 11,
   "metadata": {},
   "outputs": [
    {
     "data": {
      "text/plain": [
       "tensor([[1.7937e-42, 0.0000e+00, 0.0000e+00, 0.0000e+00, 0.0000e+00],\n",
       "        [0.0000e+00, 0.0000e+00, 0.0000e+00, 1.7937e-42, 0.0000e+00],\n",
       "        [1.4013e-45, 0.0000e+00, 0.0000e+00, 0.0000e+00, 0.0000e+00]])"
      ]
     },
     "execution_count": 11,
     "metadata": {},
     "output_type": "execute_result"
    }
   ],
   "source": [
    "w = torch.empty(3, 5)\n",
    "w"
   ]
  },
  {
   "cell_type": "code",
   "execution_count": 12,
   "metadata": {},
   "outputs": [
    {
     "data": {
      "text/plain": [
       "tensor([[0., 0., 0., 0., 0.],\n",
       "        [0., 0., 0., 0., 0.],\n",
       "        [0., 0., 0., 0., 0.]])"
      ]
     },
     "execution_count": 12,
     "metadata": {},
     "output_type": "execute_result"
    }
   ],
   "source": [
    "torch.nn.init.zeros_(w)"
   ]
  },
  {
   "cell_type": "code",
   "execution_count": 13,
   "metadata": {},
   "outputs": [
    {
     "data": {
      "text/plain": [
       "tensor([[0., 0., 0., 0., 0.],\n",
       "        [0., 0., 0., 0., 0.],\n",
       "        [0., 0., 0., 0., 0.]])"
      ]
     },
     "execution_count": 13,
     "metadata": {},
     "output_type": "execute_result"
    }
   ],
   "source": [
    "w"
   ]
  },
  {
   "cell_type": "code",
   "execution_count": null,
   "metadata": {},
   "outputs": [],
   "source": [
    "for k, p in original_model.state_dict().items():\n",
    "    print(f\"{k}: dim {p.dim()}\")"
   ]
  },
  {
   "cell_type": "code",
   "execution_count": 20,
   "metadata": {},
   "outputs": [],
   "source": [
    "import torch\n",
    "from torch.nn import Parameter  \n",
    "from torch.nn.init import xavier_uniform_, xavier_normal_, kaiming_uniform_, uniform_, normal_, constant_, _calculate_fan_in_and_fan_out"
   ]
  },
  {
   "cell_type": "code",
   "execution_count": 21,
   "metadata": {},
   "outputs": [],
   "source": [
    "import math\n",
    "\n",
    "\n",
    "def cal_bound(model: torch.nn.Module, layer_name: str):\n",
    "    \"\"\"Return bound for reinit given model and layer name\"\"\"\n",
    "    assert \"bias\" in layer_name, f\"no bias in {layer_name}\"\n",
    "    fan_in, _ = _calculate_fan_in_and_fan_out(model.state_dict()[layer_name.replace(\"bias\", \"weight\")])\n",
    "    return 1 / math.sqrt(fan_in) if fan_in > 0 else 0\n"
   ]
  },
  {
   "cell_type": "code",
   "execution_count": 26,
   "metadata": {},
   "outputs": [],
   "source": [
    "import copy\n",
    "\n",
    "def reset_parameters(model, encoder_name):\n",
    "    \"\"\"Initiate parameters in the transformer model.\"\"\"\n",
    "\n",
    "    for layer_name, p in model.state_dict().items():\n",
    "        # what esm1b and esm1 have in common\n",
    "        if \"_proj\" in layer_name:\n",
    "            if \"weight\" in layer_name:\n",
    "                if \"out\" in layer_name:\n",
    "                    xavier_uniform_(p)\n",
    "                else:\n",
    "                    xavier_uniform_(p, gain=1 / math.sqrt(2))\n",
    "            elif \"bias\" in layer_name:\n",
    "                if \"out\" in layer_name:\n",
    "                    constant_(p, 0.0)\n",
    "                else:\n",
    "                    bound = cal_bound(model=model, layer_name=layer_name)\n",
    "                    uniform_(p, -bound, bound)\n",
    "\n",
    "        # esm1b enced up using LayerNorm so the same    \n",
    "        if \"layer_norm\" in layer_name:\n",
    "            if \"weight\" in layer_name:\n",
    "                Parameter(torch.ones_like(p))\n",
    "            elif \"bias\" in layer_name:\n",
    "                Parameter(torch.zeros_like(p))\n",
    "        \n",
    "        if (\"layers\" and \"fc\" in layer_name) or (\"contact_head\" in layer_name):\n",
    "            if \"weight\" in layer_name:\n",
    "                kaiming_uniform_(p, a=math.sqrt(5))\n",
    "            elif \"bias\" in layer_name:\n",
    "                bound = cal_bound(model=model, layer_name=layer_name)\n",
    "                uniform_(p, -bound, bound)\n",
    "        \n",
    "        if \"esm1b_\" in encoder_name:\n",
    "            \n",
    "            if \"embed_positions\" in layer_name:\n",
    "                normal_(p)\n",
    "\n",
    "            if layer_name == \"lm_head.weight\":\n",
    "                xavier_uniform_(p)\n",
    "            \n",
    "            if layer_name == \"lm_head.bias\" or \"lm_head.layer_norm.bias\":\n",
    "                Parameter(torch.zeros_like(p))\n",
    "\n",
    "            if \"dense\" in layer_name:\n",
    "                if \"weight\" in layer_name:\n",
    "                    kaiming_uniform_(p, a=math.sqrt(5))\n",
    "                elif \"bias\" in layer_name:\n",
    "                    bound = cal_bound(model=model, layer_name=layer_name)\n",
    "                    uniform_(p, -bound, bound)\n",
    "        \n",
    "        elif \"esm1_\" and \"bias_\" in encoder_name:\n",
    "            xavier_normal_(p)\n",
    "    \n",
    "    return model\n",
    "\n",
    "def resample_parameters(model):\n",
    "\n",
    "    for p in model.parameters():\n",
    "        if p.dim() > 1:\n",
    "            print(p)\n",
    "            xavier_normal_(p)\n",
    "    \n",
    "    return model"
   ]
  },
  {
   "cell_type": "code",
   "execution_count": 23,
   "metadata": {},
   "outputs": [],
   "source": [
    "import matplotlib.pyplot as plt"
   ]
  },
  {
   "cell_type": "code",
   "execution_count": 26,
   "metadata": {},
   "outputs": [],
   "source": [
    "from torch.nn import Parameter"
   ]
  },
  {
   "cell_type": "code",
   "execution_count": 27,
   "metadata": {},
   "outputs": [
    {
     "data": {
      "text/plain": [
       "Parameter containing:\n",
       "tensor([[[-2.9612e-08,  4.5560e-41,  2.6462e+01,  3.0697e-41,  1.4013e-45,\n",
       "           0.0000e+00,  0.0000e+00,  2.3694e-38,  6.7262e-44,  0.0000e+00]]],\n",
       "       requires_grad=True)"
      ]
     },
     "execution_count": 27,
     "metadata": {},
     "output_type": "execute_result"
    }
   ],
   "source": [
    "Parameter(torch.Tensor(1, 1, 10))"
   ]
  },
  {
   "cell_type": "code",
   "execution_count": 29,
   "metadata": {},
   "outputs": [
    {
     "data": {
      "text/plain": [
       "Parameter containing:\n",
       "tensor([[[0., 0., 0., 0., 0., 0., 0., 0., 0., 0.]]], requires_grad=True)"
      ]
     },
     "execution_count": 29,
     "metadata": {},
     "output_type": "execute_result"
    }
   ],
   "source": [
    "zeros_(Parameter(torch.Tensor(1, 1, 10)))"
   ]
  },
  {
   "cell_type": "code",
   "execution_count": 24,
   "metadata": {},
   "outputs": [],
   "source": [
    "from scr.params.sys import DEVICE"
   ]
  },
  {
   "cell_type": "code",
   "execution_count": 27,
   "metadata": {},
   "outputs": [],
   "source": [
    "model = copy.deepcopy(original_model).to(DEVICE)\n",
    "model = reset_parameters(model, encoder_name)\n",
    "# model = resample_parameters(model, encoder_name)\n",
    "model.eval()  # disables dropout for deterministic results\n",
    "\n",
    "# Prepare data (first 2 sequences from ESMStructuralSplitDataset superfamily / 4)\n",
    "\n",
    "# Extract per-residue representations (on CPU)\n",
    "with torch.no_grad():\n",
    "    results = model(batch_tokens, repr_layers=[6], return_contacts=False)\n",
    "reset_reps = results[\"representations\"][6].numpy().mean(axis=1).flatten()"
   ]
  },
  {
   "cell_type": "code",
   "execution_count": 28,
   "metadata": {},
   "outputs": [
    {
     "data": {
      "text/plain": [
       "[<matplotlib.lines.Line2D at 0x7f76995a8a60>]"
      ]
     },
     "execution_count": 28,
     "metadata": {},
     "output_type": "execute_result"
    },
    {
     "data": {
      "image/png": "[encoded data removed]",
      "text/plain": [
       "<Figure size 432x288 with 1 Axes>"
      ]
     },
     "metadata": {
      "needs_background": "light"
     },
     "output_type": "display_data"
    }
   ],
   "source": [
    "plt.plot(original_reps)\n",
    "plt.plot(reset_reps)\n",
    "# plt.plot(resample_reps)"
   ]
  },
  {
   "cell_type": "code",
   "execution_count": 13,
   "metadata": {},
   "outputs": [
    {
     "data": {
      "text/plain": [
       "(1, 128)"
      ]
     },
     "execution_count": 13,
     "metadata": {},
     "output_type": "execute_result"
    }
   ],
   "source": [
    "from sequence_models.pretrained import load_model_and_alphabet\n",
    "\n",
    "original_model, collater = load_model_and_alphabet('carp_600k')\n",
    "\n",
    "seqs = [['MKTVRQERLKSIVRILERSKEPVSGAQLAEELSVSRQVIVQDIAYLRSLGYNIVATPRGYVLAGG']]\n",
    "x = collater(seqs)[0]  # (n, max_len)\n",
    "original_rep = original_model(x).detach().numpy().mean(axis=1)  # (n, max_len, d_model)\n",
    "original_rep.shape"
   ]
  },
  {
   "cell_type": "code",
   "execution_count": 14,
   "metadata": {},
   "outputs": [],
   "source": [
    "import copy"
   ]
  },
  {
   "cell_type": "code",
   "execution_count": 15,
   "metadata": {},
   "outputs": [
    {
     "data": {
      "text/plain": [
       "(1, 128)"
      ]
     },
     "execution_count": 15,
     "metadata": {},
     "output_type": "execute_result"
    }
   ],
   "source": [
    "model = copy.deepcopy(original_model).to(DEVICE)\n",
    "model = reset_parameters(model)\n",
    "model.eval()  # disables dropout for deterministic results\n",
    "\n",
    "reset_reps = model(x).detach().numpy().mean(axis=1)\n",
    "reset_reps.shape"
   ]
  },
  {
   "cell_type": "code",
   "execution_count": 16,
   "metadata": {},
   "outputs": [
    {
     "data": {
      "text/plain": [
       "(1, 128)"
      ]
     },
     "execution_count": 16,
     "metadata": {},
     "output_type": "execute_result"
    }
   ],
   "source": [
    "model = copy.deepcopy(original_model).to(DEVICE)\n",
    "model = resample_parameters(model)\n",
    "model.eval()  # disables dropout for deterministic results\n",
    "\n",
    "resample_reps = model(x).detach().numpy().mean(axis=1)\n",
    "resample_reps.shape"
   ]
  },
  {
   "cell_type": "code",
   "execution_count": 17,
   "metadata": {},
   "outputs": [
    {
     "data": {
      "text/plain": [
       "[<matplotlib.lines.Line2D at 0x7f4b5f9d6310>]"
      ]
     },
     "execution_count": 17,
     "metadata": {},
     "output_type": "execute_result"
    },
    {
     "data": {
      "image/png": "[encoded data removed]",
      "text/plain": [
       "<Figure size 432x288 with 1 Axes>"
      ]
     },
     "metadata": {
      "needs_background": "light"
     },
     "output_type": "display_data"
    }
   ],
   "source": [
    "plt.plot(original_rep.T)\n",
    "plt.plot(reset_reps.T)\n",
    "plt.plot(resample_reps.T)"
   ]
  },
  {
   "cell_type": "code",
   "execution_count": null,
   "metadata": {},
   "outputs": [],
   "source": []
  }
 ],
 "metadata": {
  "kernelspec": {
   "display_name": "Python 3.9.2 ('protran')",
   "language": "python",
   "name": "python3"
  },
  "language_info": {
   "codemirror_mode": {
    "name": "ipython",
    "version": 3
   },
   "file_extension": ".py",
   "mimetype": "text/x-python",
   "name": "python",
   "nbconvert_exporter": "python",
   "pygments_lexer": "ipython3",
   "version": "3.9.10"
  },
  "orig_nbformat": 4,
  "vscode": {
   "interpreter": {
    "hash": "019692f042c79b6731ff84413c6b50d6174007f2b51f86eed1fb032dbd4a337e"
   }
  }
 },
 "nbformat": 4,
 "nbformat_minor": 2
}
