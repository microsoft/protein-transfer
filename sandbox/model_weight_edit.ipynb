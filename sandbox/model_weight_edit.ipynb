{
 "cells": [
  {
   "cell_type": "code",
   "execution_count": 1,
   "metadata": {},
   "outputs": [
    {
     "name": "stdout",
     "output_type": "stream",
     "text": [
      "/home/t-fli/repo/protein-transfer\n"
     ]
    }
   ],
   "source": [
    "%cd ~/repo/protein-transfer"
   ]
  },
  {
   "cell_type": "code",
   "execution_count": 2,
   "metadata": {},
   "outputs": [],
   "source": [
    "%load_ext blackcellmagic"
   ]
  },
  {
   "cell_type": "code",
   "execution_count": 3,
   "metadata": {},
   "outputs": [],
   "source": [
    "encoder_name = \"esm1_t6_43M_UR50S\"\n",
    "# encoder_name = \"esm1_t12_85M_UR50S\"\n",
    "# encoder_name = \"esm1_t34_670M_UR50S\"\n",
    " #encoder_name = \"esm1b_t33_650M_UR50S\"\n",
    "    "
   ]
  },
  {
   "cell_type": "code",
   "execution_count": 4,
   "metadata": {},
   "outputs": [
    {
     "name": "stderr",
     "output_type": "stream",
     "text": [
      "Using cache found in /home/t-fli/.cache/torch/hub/facebookresearch_esm_main\n"
     ]
    }
   ],
   "source": [
    "import torch\n",
    "torch.set_printoptions(threshold=\"default\")\n",
    "# Load ESM-1b model\n",
    "original_model, alphabet = torch.hub.load(\n",
    "            \"facebookresearch/esm:main\", model=encoder_name\n",
    "        )\n",
    "batch_converter = alphabet.get_batch_converter()\n",
    "data = [\n",
    "    (\"protein1\", \"MKTVRQERLKSIVRILERSKEPVSGAQLAEELSVSRQVIVQDIAYLRSLGYNIVATPRGYVLAGG\")\n",
    "]\n",
    "batch_labels, batch_strs, batch_tokens = batch_converter(data)\n",
    "\n",
    "original_model.eval()\n",
    "with torch.no_grad():\n",
    "    original_results = original_model(batch_tokens, repr_layers=[6], return_contacts=False)\n",
    "original_reps = original_results[\"representations\"][6].numpy().mean(axis=1).flatten()"
   ]
  },
  {
   "cell_type": "code",
   "execution_count": null,
   "metadata": {},
   "outputs": [],
   "source": [
    "for k, p in original_model.state_dict().items():\n",
    "    print(f\"{k}: dim {p.dim()}\")"
   ]
  },
  {
   "cell_type": "code",
   "execution_count": 34,
   "metadata": {},
   "outputs": [],
   "source": [
    "import torch\n",
    "from torch.nn import Parameter  \n",
    "from torch.nn.init import xavier_uniform_, xavier_normal_, kaiming_uniform_, uniform_, normal_, constant_, _calculate_fan_in_and_fan_out"
   ]
  },
  {
   "cell_type": "code",
   "execution_count": 37,
   "metadata": {},
   "outputs": [],
   "source": [
    "import math\n",
    "\n",
    "\n",
    "def cal_bound(model: torch.nn.Module, layer_name: str):\n",
    "    \"\"\"Return bound for reinit given model and layer name\"\"\"\n",
    "    assert \"bias\" in layer_name, f\"no bias in {layer_name}\"\n",
    "    fan_in, _ = _calculate_fan_in_and_fan_out(model.state_dict()[layer_name.replace(\"bias\", \"weight\")])\n",
    "    return 1 / math.sqrt(fan_in) if fan_in > 0 else 0\n"
   ]
  },
  {
   "cell_type": "code",
   "execution_count": 30,
   "metadata": {},
   "outputs": [],
   "source": [
    "import copy\n",
    "import numpy as np\n",
    "\n",
    "def reset_parameters(model, encoder_name):\n",
    "    \"\"\"Initiate parameters in the transformer model.\"\"\"\n",
    "\n",
    "    for layer_name, p in model.state_dict().items():\n",
    "        # what esm1b and esm1 have in common\n",
    "        if \"_proj\" in layer_name:\n",
    "            if \"weight\" in layer_name:\n",
    "                if \"out\" in layer_name:\n",
    "                    xavier_uniform_(p)\n",
    "                else:\n",
    "                    xavier_uniform_(p, gain=1 / math.sqrt(2))\n",
    "            elif \"bias\" in layer_name:\n",
    "                if \"out\" in layer_name:\n",
    "                    constant_(p, 0.0)\n",
    "                else:\n",
    "                    bound = cal_bound(model=model, layer_name=layer_name)\n",
    "                    uniform_(p, -bound, bound)\n",
    "\n",
    "        # esm1b enced up using LayerNorm so the same    \n",
    "        if \"layer_norm\" in layer_name:\n",
    "            if \"weight\" in layer_name:\n",
    "                Parameter(torch.ones_like(p))\n",
    "            elif \"bias\" in layer_name:\n",
    "                Parameter(torch.zeros_like(p))\n",
    "        \n",
    "        if (\"layers\" and \"fc\" in layer_name) or (\"contact_head\" in layer_name):\n",
    "            if \"weight\" in layer_name:\n",
    "                kaiming_uniform_(p, a=math.sqrt(5))\n",
    "            elif \"bias\" in layer_name:\n",
    "                bound = cal_bound(model=model, layer_name=layer_name)\n",
    "                uniform_(p, -bound, bound)\n",
    "        \n",
    "        if \"esm1b_\" in encoder_name:\n",
    "            \n",
    "            if \"embed_positions\" in layer_name:\n",
    "                normal_(p)\n",
    "\n",
    "            if layer_name == \"lm_head.weight\":\n",
    "                xavier_uniform_(p)\n",
    "            \n",
    "            if layer_name == \"lm_head.bias\" or \"lm_head.layer_norm.bias\":\n",
    "                Parameter(torch.zeros_like(p))\n",
    "\n",
    "            if \"dense\" in layer_name:\n",
    "                if \"weight\" in layer_name:\n",
    "                    kaiming_uniform_(p, a=math.sqrt(5))\n",
    "                elif \"bias\" in layer_name:\n",
    "                    bound = cal_bound(model=model, layer_name=layer_name)\n",
    "                    uniform_(p, -bound, bound)\n",
    "        \n",
    "        elif \"esm1_\" and \"bias_\" in encoder_name:\n",
    "            xavier_normal_(p)\n",
    "    \n",
    "    return model\n",
    "\n",
    "def resample_parameters(model, encoder_name, embed_dim):\n",
    "    \"\"\" \n",
    "    tmp_state = m.state_dict()\n",
    "    for name_, module_ in m.named_modules():\n",
    "        if isinstance(module_, (nn.Linear,nn.Conv2d)):\n",
    "            weight_name = f\"{name_}{'.' if name_ else ''}weight\"\n",
    "            bias_name = f\"{name_}{'.' if name_ else ''}bias\"\n",
    "            tmp_state[weight_name] = sampling_fn(tmp_state[weight_name])\n",
    "            if bias_name in tmp_state:\n",
    "                tmp_state[bias_name] = sampling_fn(tmp_state[bias_name])        \n",
    "    m.load_state_dict(tmp_state)\n",
    "    \"\"\"\n",
    "    resample_state = model.state_dict()\n",
    "    for layer_name, p in model.state_dict().items():\n",
    "        \n",
    "        \n",
    "        # if \"layers\" or \"contact_head\" or \"embed_positions\" or \".weight\" or \"emb_layer_norm\" in layer_name:\n",
    "        if (\"embed_tokens\" not in layer_name) and (\"embed_out\" not in layer_name) and (\"_float_tensor\" not in layer_name):\n",
    "            # print(f\"{layer_name}: {p.shape}\")\n",
    "            \n",
    "            if len(p.shape) == 1:\n",
    "                resample_state[layer_name] = p[torch.randperm(p.shape[0])]\n",
    "                \"\"\"\n",
    "                layers.n.self_attn.k_proj.bias: torch.Size([embed_dim])\n",
    "                layers.n.self_attn.v_proj.bias: torch.Size([embed_dim])\n",
    "                layers.n.self_attn.q_proj.bias: torch.Size([embed_dim])\n",
    "                layers.n.self_attn.out_proj.bias: torch.Size([embed_dim])\n",
    "                layers.n.self_attn_layer_norm.weight: torch.Size([embed_dim])\n",
    "                layers.n.self_attn_layer_norm.bias: torch.Size([embed_dim])\n",
    "                layers.n.fc1.bias: torch.Size([fc_dim])\n",
    "                layers.n.fc2.bias: torch.Size([embed_dim])\n",
    "                layers.n.final_layer_norm.weight: torch.Size([embed_dim])\n",
    "                layers.n.final_layer_norm.bias: torch.Size([embed_dim])\n",
    "                \"\"\"\n",
    "            elif 1 in p.shape:\n",
    "                \"\"\"\n",
    "                layers.n.self_attn.bias_k: torch.Size([1, 1, embed_dim])\n",
    "                layers.n.self_attn.bias_v: torch.Size([1, 1, embed_dim])\n",
    "                contact_head.regression.weight: torch.Size([1, reg_dim])\n",
    "                \"\"\"\n",
    "                if \"bias_\" in layer_name:\n",
    "                    resample_state[layer_name] = p[:, :, torch.randperm(embed_dim)]\n",
    "                elif \"regression.weight\" in layer_name:\n",
    "                    resample_state[layer_name] = p[:, torch.randperm(p.shape[-1])]\n",
    "            \n",
    "            elif \"k_proj.weight\" or \"q_proj.weight\" or \"fc1.weight\" in layer_name:\n",
    "                resample_state[layer_name] = p[torch.randperm(p.shape[0]),:]\n",
    "                \n",
    "                \"\"\"\n",
    "                layers.n.self_attn.k_proj.weight: torch.Size([embed_dim, embed_dim])\n",
    "                layers.n.self_attn.v_proj.weight: torch.Size([embed_dim, embed_dim])\n",
    "                layers.n.self_attn.q_proj.weight: torch.Size([embed_dim, embed_dim])\n",
    "                layers.n.self_attn.out_proj.weight: torch.Size([embed_dim, embed_dim])\n",
    "                layers.n.fc1.weight: torch.Size([fc_dim, embed_dim])\n",
    "                layers.n.fc2.weight: torch.Size([embed_dim, fc_dim])\n",
    "                \"\"\"\n",
    "            elif \"v_proj.weight\" or \"out_proj.weight\" or \"fc2.weight\" in layer_name:\n",
    "                \"\"\"if \"0\" in layer_name:\n",
    "                    print(f\"p before:\\n\")\n",
    "                    torch.set_printoptions(threshold=\"full\")\n",
    "                    print(p)\n",
    "                    torch.set_printoptions(threshold=\"default\")\n",
    "                    print(\"\\n\")\"\"\"\n",
    "                resample_state[layer_name] = p[:, torch.randperm(p.shape[1])]\n",
    "                \"\"\"if \"0\" in layer_name:\n",
    "                    print(f\"p after:\\n\")\n",
    "                    torch.set_printoptions(threshold=\"full\")\n",
    "                    print(p)\n",
    "                    torch.set_printoptions(threshold=\"default\")\n",
    "                    print(\"\\n\")\"\"\"\n",
    "\n",
    "            \"\"\"\n",
    "            Find out which dim = embed_dim\n",
    "            and shuffle along the dim\n",
    "            t=torch.tensor([[1,2],[3,4]])\n",
    "            r=torch.randperm(2)\n",
    "            c=torch.randperm(2)\n",
    "            t=t[r[:, None], c]\n",
    "\n",
    "            # With view\n",
    "            idx = torch.randperm(t.nelement())\n",
    "            t = t.view(-1)[idx].view(t.size())\n",
    "            \"\"\"\n",
    "    model.load_state_dict(resample_state)\n",
    "\n",
    "    return model"
   ]
  },
  {
   "cell_type": "code",
   "execution_count": 11,
   "metadata": {},
   "outputs": [],
   "source": [
    "\n",
    "torch.set_printoptions(threshold=\"default\")"
   ]
  },
  {
   "cell_type": "code",
   "execution_count": 6,
   "metadata": {},
   "outputs": [
    {
     "data": {
      "text/plain": [
       "(tensor([[[1, 2, 3]]]), torch.Size([1, 1, 3]))"
      ]
     },
     "execution_count": 6,
     "metadata": {},
     "output_type": "execute_result"
    }
   ],
   "source": [
    "t=torch.tensor([[[1,2,3]]])\n",
    "t, t.shape"
   ]
  },
  {
   "cell_type": "code",
   "execution_count": 8,
   "metadata": {},
   "outputs": [
    {
     "data": {
      "text/plain": [
       "array([1, 1, 3])"
      ]
     },
     "execution_count": 8,
     "metadata": {},
     "output_type": "execute_result"
    }
   ],
   "source": [
    "np.array(t.shape)"
   ]
  },
  {
   "cell_type": "code",
   "execution_count": 48,
   "metadata": {},
   "outputs": [
    {
     "data": {
      "text/plain": [
       "False"
      ]
     },
     "execution_count": 48,
     "metadata": {},
     "output_type": "execute_result"
    }
   ],
   "source": [
    "1 in x.shape"
   ]
  },
  {
   "cell_type": "code",
   "execution_count": 14,
   "metadata": {},
   "outputs": [
    {
     "data": {
      "text/plain": [
       "(array([2]), 2)"
      ]
     },
     "execution_count": 14,
     "metadata": {},
     "output_type": "execute_result"
    }
   ],
   "source": [
    "np.where(np.array(t.shape)==3)[0], np.where(np.array(t.shape)==3)[0][0]"
   ]
  },
  {
   "cell_type": "code",
   "execution_count": 10,
   "metadata": {},
   "outputs": [
    {
     "data": {
      "text/plain": [
       "1"
      ]
     },
     "execution_count": 10,
     "metadata": {},
     "output_type": "execute_result"
    }
   ],
   "source": [
    "len(np.where(np.array(t.shape)==3)[0])"
   ]
  },
  {
   "cell_type": "code",
   "execution_count": 16,
   "metadata": {},
   "outputs": [
    {
     "data": {
      "text/plain": [
       "3"
      ]
     },
     "execution_count": 16,
     "metadata": {},
     "output_type": "execute_result"
    }
   ],
   "source": [
    "t.shape[np.where(np.array(t.shape)==3)[0][0]]"
   ]
  },
  {
   "cell_type": "code",
   "execution_count": 18,
   "metadata": {},
   "outputs": [
    {
     "data": {
      "text/plain": [
       "tensor([2, 1, 0])"
      ]
     },
     "execution_count": 18,
     "metadata": {},
     "output_type": "execute_result"
    }
   ],
   "source": [
    "torch.randperm(3)"
   ]
  },
  {
   "cell_type": "markdown",
   "metadata": {},
   "source": []
  },
  {
   "cell_type": "code",
   "execution_count": 19,
   "metadata": {},
   "outputs": [
    {
     "data": {
      "text/plain": [
       "tensor([1, 2, 0])"
      ]
     },
     "execution_count": 19,
     "metadata": {},
     "output_type": "execute_result"
    }
   ],
   "source": [
    "torch.randperm(3)"
   ]
  },
  {
   "cell_type": "code",
   "execution_count": 33,
   "metadata": {},
   "outputs": [
    {
     "data": {
      "text/plain": [
       "(tensor([[[0, 1, 2, 3, 4]]]), torch.Size([1, 1, 5]))"
      ]
     },
     "execution_count": 33,
     "metadata": {},
     "output_type": "execute_result"
    }
   ],
   "source": [
    "N, M, K = 1, 1, 5\n",
    "x = torch.arange(N*M*K).view(N, M, K)\n",
    "x, x.shape"
   ]
  },
  {
   "cell_type": "code",
   "execution_count": 29,
   "metadata": {},
   "outputs": [
    {
     "data": {
      "text/plain": [
       "(1, 3)"
      ]
     },
     "execution_count": 29,
     "metadata": {},
     "output_type": "execute_result"
    }
   ],
   "source": [
    "x.size(1), x.size(2)"
   ]
  },
  {
   "cell_type": "code",
   "execution_count": 30,
   "metadata": {},
   "outputs": [
    {
     "data": {
      "text/plain": [
       "tensor([0, 2, 1])"
      ]
     },
     "execution_count": 30,
     "metadata": {},
     "output_type": "execute_result"
    }
   ],
   "source": [
    "idx = torch.randperm(x.size(2))\n",
    "idx"
   ]
  },
  {
   "cell_type": "code",
   "execution_count": 32,
   "metadata": {},
   "outputs": [
    {
     "data": {
      "text/plain": [
       "tensor([[[0, 2, 1]]])"
      ]
     },
     "execution_count": 32,
     "metadata": {},
     "output_type": "execute_result"
    }
   ],
   "source": [
    "x[:, :, idx]"
   ]
  },
  {
   "cell_type": "code",
   "execution_count": 43,
   "metadata": {},
   "outputs": [
    {
     "data": {
      "text/plain": [
       "(tensor([[ 0,  1,  2,  3,  4],\n",
       "         [ 5,  6,  7,  8,  9],\n",
       "         [10, 11, 12, 13, 14]]),\n",
       " torch.Size([3, 5]))"
      ]
     },
     "execution_count": 43,
     "metadata": {},
     "output_type": "execute_result"
    }
   ],
   "source": [
    "N, M =  3, 5\n",
    "x = torch.arange(N*M).view(N, M)\n",
    "x, x.shape"
   ]
  },
  {
   "cell_type": "code",
   "execution_count": 44,
   "metadata": {},
   "outputs": [
    {
     "data": {
      "text/plain": [
       "tensor([[ 4,  0,  3,  2,  1],\n",
       "        [ 9,  5,  8,  7,  6],\n",
       "        [14, 10, 13, 12, 11]])"
      ]
     },
     "execution_count": 44,
     "metadata": {},
     "output_type": "execute_result"
    }
   ],
   "source": [
    "idx = torch.randperm(x.size(1))\n",
    "x[:, idx]"
   ]
  },
  {
   "cell_type": "code",
   "execution_count": 45,
   "metadata": {},
   "outputs": [
    {
     "data": {
      "text/plain": [
       "tensor([[10, 11, 12, 13, 14],\n",
       "        [ 0,  1,  2,  3,  4],\n",
       "        [ 5,  6,  7,  8,  9]])"
      ]
     },
     "execution_count": 45,
     "metadata": {},
     "output_type": "execute_result"
    }
   ],
   "source": [
    "idx = torch.randperm(x.size(0))\n",
    "x[idx, :]"
   ]
  },
  {
   "cell_type": "code",
   "execution_count": 9,
   "metadata": {},
   "outputs": [],
   "source": [
    "idx = torch.randperm(t.nelement())\n",
    "t = t.view(-1)[idx].view(t.size())"
   ]
  },
  {
   "cell_type": "code",
   "execution_count": 10,
   "metadata": {},
   "outputs": [
    {
     "data": {
      "text/plain": [
       "tensor([[6, 3, 5],\n",
       "        [4, 2, 1]])"
      ]
     },
     "execution_count": 10,
     "metadata": {},
     "output_type": "execute_result"
    }
   ],
   "source": [
    "t"
   ]
  },
  {
   "cell_type": "code",
   "execution_count": 34,
   "metadata": {},
   "outputs": [
    {
     "data": {
      "text/plain": [
       "torch.Size([3])"
      ]
     },
     "execution_count": 34,
     "metadata": {},
     "output_type": "execute_result"
    }
   ],
   "source": [
    "t = torch.tensor([1,2,3])\n",
    "t.shape"
   ]
  },
  {
   "cell_type": "code",
   "execution_count": 38,
   "metadata": {},
   "outputs": [],
   "source": [
    "m = torch.nn.Linear(768, 3072)\n",
    "input = torch.randn(1, 56, 768)\n",
    "output = m(input)"
   ]
  },
  {
   "cell_type": "code",
   "execution_count": 39,
   "metadata": {},
   "outputs": [
    {
     "data": {
      "text/plain": [
       "(torch.Size([1, 56, 768]),\n",
       " torch.Size([3072, 768]),\n",
       " torch.Size([3072]),\n",
       " torch.Size([1, 56, 3072]))"
      ]
     },
     "execution_count": 39,
     "metadata": {},
     "output_type": "execute_result"
    }
   ],
   "source": [
    "input.shape, m.weight.shape, m.bias.shape, output.shape"
   ]
  },
  {
   "cell_type": "code",
   "execution_count": 40,
   "metadata": {},
   "outputs": [],
   "source": [
    "n = torch.nn.Linear(3072, 768)\n",
    "output_n = n(output)"
   ]
  },
  {
   "cell_type": "code",
   "execution_count": 42,
   "metadata": {},
   "outputs": [
    {
     "data": {
      "text/plain": [
       "(torch.Size([768, 3072]), torch.Size([768]), torch.Size([1, 56, 768]))"
      ]
     },
     "execution_count": 42,
     "metadata": {},
     "output_type": "execute_result"
    }
   ],
   "source": [
    "n.weight.shape, n.bias.shape, output_n.shape"
   ]
  },
  {
   "cell_type": "code",
   "execution_count": 10,
   "metadata": {},
   "outputs": [],
   "source": [
    "import matplotlib.pyplot as plt"
   ]
  },
  {
   "cell_type": "code",
   "execution_count": 26,
   "metadata": {},
   "outputs": [],
   "source": [
    "from torch.nn import Parameter"
   ]
  },
  {
   "cell_type": "code",
   "execution_count": 27,
   "metadata": {},
   "outputs": [
    {
     "data": {
      "text/plain": [
       "Parameter containing:\n",
       "tensor([[[-2.9612e-08,  4.5560e-41,  2.6462e+01,  3.0697e-41,  1.4013e-45,\n",
       "           0.0000e+00,  0.0000e+00,  2.3694e-38,  6.7262e-44,  0.0000e+00]]],\n",
       "       requires_grad=True)"
      ]
     },
     "execution_count": 27,
     "metadata": {},
     "output_type": "execute_result"
    }
   ],
   "source": [
    "Parameter(torch.Tensor(1, 1, 10))"
   ]
  },
  {
   "cell_type": "code",
   "execution_count": 29,
   "metadata": {},
   "outputs": [
    {
     "data": {
      "text/plain": [
       "Parameter containing:\n",
       "tensor([[[0., 0., 0., 0., 0., 0., 0., 0., 0., 0.]]], requires_grad=True)"
      ]
     },
     "execution_count": 29,
     "metadata": {},
     "output_type": "execute_result"
    }
   ],
   "source": [
    "zeros_(Parameter(torch.Tensor(1, 1, 10)))"
   ]
  },
  {
   "cell_type": "code",
   "execution_count": 13,
   "metadata": {},
   "outputs": [],
   "source": [
    "from scr.params.sys import DEVICE"
   ]
  },
  {
   "cell_type": "code",
   "execution_count": 15,
   "metadata": {},
   "outputs": [],
   "source": [
    "torch.set_printoptions(profile=\"default\")"
   ]
  },
  {
   "cell_type": "code",
   "execution_count": 31,
   "metadata": {},
   "outputs": [],
   "source": [
    "model = copy.deepcopy(original_model).to(DEVICE)\n",
    "# model = reset_parameters(model, encoder_name)\n",
    "\n",
    "model = resample_parameters(model, encoder_name, 768)\n",
    "\n",
    "model.eval()  # disables dropout for deterministic results\n",
    "\n",
    "# Prepare data (first 2 sequences from ESMStructuralSplitDataset superfamily / 4)\n",
    "\n",
    "# Extract per-residue representations (on CPU)\n",
    "with torch.no_grad():\n",
    "    results = model(batch_tokens, repr_layers=[6], return_contacts=False)\n",
    "reset_reps = results[\"representations\"][6].numpy().mean(axis=1).flatten()"
   ]
  },
  {
   "cell_type": "code",
   "execution_count": 32,
   "metadata": {},
   "outputs": [
    {
     "data": {
      "text/plain": [
       "[<matplotlib.lines.Line2D at 0x7fcba404f8b0>]"
      ]
     },
     "execution_count": 32,
     "metadata": {},
     "output_type": "execute_result"
    },
    {
     "data": {
      "image/png": "[encoded data removed]",
      "text/plain": [
       "<Figure size 432x288 with 1 Axes>"
      ]
     },
     "metadata": {
      "needs_background": "light"
     },
     "output_type": "display_data"
    }
   ],
   "source": [
    "plt.plot(original_reps)\n",
    "plt.plot(reset_reps)\n",
    "# plt.plot(resample_reps)"
   ]
  },
  {
   "cell_type": "code",
   "execution_count": 38,
   "metadata": {},
   "outputs": [],
   "source": [
    "model = copy.deepcopy(original_model).to(DEVICE)\n",
    "model = reset_parameters(model, encoder_name)\n",
    "# model = resample_parameters(model, encoder_name, 768)\n",
    "\n",
    "model.eval()  # disables dropout for deterministic results\n",
    "\n",
    "# Prepare data (first 2 sequences from ESMStructuralSplitDataset superfamily / 4)\n",
    "\n",
    "# Extract per-residue representations (on CPU)\n",
    "with torch.no_grad():\n",
    "    results = model(batch_tokens, repr_layers=[6], return_contacts=False)\n",
    "reset_reps = results[\"representations\"][6].numpy().mean(axis=1).flatten()"
   ]
  },
  {
   "cell_type": "code",
   "execution_count": 39,
   "metadata": {},
   "outputs": [
    {
     "data": {
      "text/plain": [
       "[<matplotlib.lines.Line2D at 0x7fcba4642a00>]"
      ]
     },
     "execution_count": 39,
     "metadata": {},
     "output_type": "execute_result"
    },
    {
     "data": {
      "image/png": "[encoded data removed]",
      "text/plain": [
       "<Figure size 432x288 with 1 Axes>"
      ]
     },
     "metadata": {
      "needs_background": "light"
     },
     "output_type": "display_data"
    }
   ],
   "source": [
    "plt.plot(original_reps)\n",
    "plt.plot(reset_reps)\n",
    "# plt.plot(resample_reps)"
   ]
  },
  {
   "cell_type": "code",
   "execution_count": 13,
   "metadata": {},
   "outputs": [
    {
     "data": {
      "text/plain": [
       "(1, 128)"
      ]
     },
     "execution_count": 13,
     "metadata": {},
     "output_type": "execute_result"
    }
   ],
   "source": [
    "from sequence_models.pretrained import load_model_and_alphabet\n",
    "\n",
    "original_model, collater = load_model_and_alphabet('carp_600k')\n",
    "\n",
    "seqs = [['MKTVRQERLKSIVRILERSKEPVSGAQLAEELSVSRQVIVQDIAYLRSLGYNIVATPRGYVLAGG']]\n",
    "x = collater(seqs)[0]  # (n, max_len)\n",
    "original_rep = original_model(x).detach().numpy().mean(axis=1)  # (n, max_len, d_model)\n",
    "original_rep.shape"
   ]
  },
  {
   "cell_type": "code",
   "execution_count": 14,
   "metadata": {},
   "outputs": [],
   "source": [
    "import copy"
   ]
  },
  {
   "cell_type": "code",
   "execution_count": 15,
   "metadata": {},
   "outputs": [
    {
     "data": {
      "text/plain": [
       "(1, 128)"
      ]
     },
     "execution_count": 15,
     "metadata": {},
     "output_type": "execute_result"
    }
   ],
   "source": [
    "model = copy.deepcopy(original_model).to(DEVICE)\n",
    "model = reset_parameters(model)\n",
    "model.eval()  # disables dropout for deterministic results\n",
    "\n",
    "reset_reps = model(x).detach().numpy().mean(axis=1)\n",
    "reset_reps.shape"
   ]
  },
  {
   "cell_type": "code",
   "execution_count": 16,
   "metadata": {},
   "outputs": [
    {
     "data": {
      "text/plain": [
       "(1, 128)"
      ]
     },
     "execution_count": 16,
     "metadata": {},
     "output_type": "execute_result"
    }
   ],
   "source": [
    "model = copy.deepcopy(original_model).to(DEVICE)\n",
    "model = resample_parameters(model)\n",
    "model.eval()  # disables dropout for deterministic results\n",
    "\n",
    "resample_reps = model(x).detach().numpy().mean(axis=1)\n",
    "resample_reps.shape"
   ]
  },
  {
   "cell_type": "code",
   "execution_count": 17,
   "metadata": {},
   "outputs": [
    {
     "data": {
      "text/plain": [
       "[<matplotlib.lines.Line2D at 0x7f4b5f9d6310>]"
      ]
     },
     "execution_count": 17,
     "metadata": {},
     "output_type": "execute_result"
    },
    {
     "data": {
      "image/png": "[encoded data removed]",
      "text/plain": [
       "<Figure size 432x288 with 1 Axes>"
      ]
     },
     "metadata": {
      "needs_background": "light"
     },
     "output_type": "display_data"
    }
   ],
   "source": [
    "plt.plot(original_rep.T)\n",
    "plt.plot(reset_reps.T)\n",
    "plt.plot(resample_reps.T)"
   ]
  },
  {
   "cell_type": "code",
   "execution_count": null,
   "metadata": {},
   "outputs": [],
   "source": []
  }
 ],
 "metadata": {
  "kernelspec": {
   "display_name": "Python 3.9.2 ('protran')",
   "language": "python",
   "name": "python3"
  },
  "language_info": {
   "codemirror_mode": {
    "name": "ipython",
    "version": 3
   },
   "file_extension": ".py",
   "mimetype": "text/x-python",
   "name": "python",
   "nbconvert_exporter": "python",
   "pygments_lexer": "ipython3",
   "version": "3.9.10"
  },
  "orig_nbformat": 4,
  "vscode": {
   "interpreter": {
    "hash": "019692f042c79b6731ff84413c6b50d6174007f2b51f86eed1fb032dbd4a337e"
   }
  }
 },
 "nbformat": 4,
 "nbformat_minor": 2
}
