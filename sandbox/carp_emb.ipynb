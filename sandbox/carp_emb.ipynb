{
 "cells": [
  {
   "cell_type": "code",
   "execution_count": 1,
   "metadata": {},
   "outputs": [
    {
     "name": "stdout",
     "output_type": "stream",
     "text": [
      "/home/francesca/protein-transfer\n"
     ]
    }
   ],
   "source": [
    "%cd ~/protein-transfer"
   ]
  },
  {
   "cell_type": "code",
   "execution_count": 2,
   "metadata": {},
   "outputs": [],
   "source": [
    "import tables"
   ]
  },
  {
   "cell_type": "code",
   "execution_count": 4,
   "metadata": {},
   "outputs": [],
   "source": [
    "emb_carp = tables.open_file(\"embeddings-0.5/proeng/gb1/sampled/carp_600k/mean/train/embedding.h5\", \"r\")"
   ]
  },
  {
   "cell_type": "code",
   "execution_count": 5,
   "metadata": {},
   "outputs": [],
   "source": [
    "emb_carp.flush()"
   ]
  },
  {
   "cell_type": "code",
   "execution_count": 6,
   "metadata": {},
   "outputs": [
    {
     "data": {
      "text/plain": [
       "array([[ 0.10557587,  0.1861711 ,  0.12584122, ...,  0.1707942 ,\n",
       "        -0.53142315,  0.39136988],\n",
       "       [ 0.10664344,  0.18923868,  0.13228762, ...,  0.17428136,\n",
       "        -0.5574935 ,  0.3953301 ],\n",
       "       [ 0.10401828,  0.18683805,  0.1299417 , ...,  0.16956565,\n",
       "        -0.5279203 ,  0.40211636],\n",
       "       ...,\n",
       "       [ 0.10586456,  0.19296925,  0.12394045, ...,  0.1666925 ,\n",
       "        -0.5157798 ,  0.40839475],\n",
       "       [ 0.1047138 ,  0.1909301 ,  0.1309547 , ...,  0.16668223,\n",
       "        -0.48531565,  0.41286358],\n",
       "       [ 0.10649545,  0.18984249,  0.12873006, ...,  0.16894856,\n",
       "        -0.56056094,  0.40280908]], dtype=float32)"
      ]
     },
     "execution_count": 6,
     "metadata": {},
     "output_type": "execute_result"
    }
   ],
   "source": [
    "emb_carp.root.layer0[:]"
   ]
  },
  {
   "cell_type": "code",
   "execution_count": 5,
   "metadata": {},
   "outputs": [
    {
     "data": {
      "text/plain": [
       "array([[ 0.11360694,  0.18761002,  0.22611777, ...,  0.16633908,\n",
       "        -0.371737  ,  0.43374434],\n",
       "       [ 0.11369511,  0.19155169,  0.23265979, ...,  0.17279963,\n",
       "        -0.3968371 ,  0.44385323],\n",
       "       [ 0.11167534,  0.1837018 ,  0.23188475, ...,  0.16034518,\n",
       "        -0.36518192,  0.45589116],\n",
       "       ...,\n",
       "       [ 0.11164726,  0.18814506,  0.22051167, ...,  0.14037468,\n",
       "        -0.36029083,  0.46559715],\n",
       "       [ 0.1105979 ,  0.18389873,  0.2345586 , ...,  0.14632514,\n",
       "        -0.3449796 ,  0.47164074],\n",
       "       [ 0.11339094,  0.18656288,  0.23059025, ...,  0.15205657,\n",
       "        -0.392735  ,  0.45435673]], dtype=float32)"
      ]
     },
     "execution_count": 5,
     "metadata": {},
     "output_type": "execute_result"
    }
   ],
   "source": [
    "emb_carp_2 = tables.open_file(\"embeddings-0.125/proeng/gb1/sampled/carp_600k/mean/train/embedding.h5\", \"r\")\n",
    "emb_carp_2.flush()\n",
    "emb_carp_2.root.layer0[:]"
   ]
  },
  {
   "cell_type": "code",
   "execution_count": 6,
   "metadata": {},
   "outputs": [
    {
     "data": {
      "text/plain": [
       "array([[ 0.09810092,  0.18096058,  0.11721601, ...,  0.16591576,\n",
       "        -0.54986435,  0.36637947],\n",
       "       [ 0.10005561,  0.18339463,  0.12215284, ...,  0.16878708,\n",
       "        -0.57550424,  0.36858648],\n",
       "       [ 0.09735114,  0.18239424,  0.1203872 , ...,  0.16556546,\n",
       "        -0.5487284 ,  0.37297985],\n",
       "       ...,\n",
       "       [ 0.09872992,  0.18946907,  0.11886132, ...,  0.16789357,\n",
       "        -0.5358219 ,  0.38111776],\n",
       "       [ 0.0983587 ,  0.188141  ,  0.1234322 , ...,  0.16659924,\n",
       "        -0.5110038 ,  0.38313007],\n",
       "       [ 0.09925936,  0.18601462,  0.12045403, ...,  0.16796508,\n",
       "        -0.5847061 ,  0.37589177]], dtype=float32)"
      ]
     },
     "execution_count": 6,
     "metadata": {},
     "output_type": "execute_result"
    }
   ],
   "source": [
    "emb_carp_3 = tables.open_file(\"embeddings/proeng/gb1/sampled/carp_600k/mean/train/embedding.h5\", \"r\")\n",
    "emb_carp_3.flush()\n",
    "emb_carp_3.root.layer0[:]"
   ]
  },
  {
   "cell_type": "code",
   "execution_count": 9,
   "metadata": {},
   "outputs": [
    {
     "data": {
      "text/plain": [
       "array([[ 0.56321466, -0.31915042,  0.33446243, ..., -0.01701485,\n",
       "        -0.86996883,  0.3668624 ],\n",
       "       [ 0.5577775 , -0.32291815,  0.3429326 , ..., -0.00095877,\n",
       "        -0.904822  ,  0.35937667],\n",
       "       [ 0.5524144 , -0.329299  ,  0.34246343, ..., -0.00460092,\n",
       "        -0.8670556 ,  0.3766276 ],\n",
       "       ...,\n",
       "       [ 0.5444271 , -0.30845174,  0.33959487, ..., -0.02406688,\n",
       "        -0.9127852 ,  0.41034093],\n",
       "       [ 0.53357667, -0.28748727,  0.35560274, ..., -0.0026515 ,\n",
       "        -0.86959094,  0.39915243],\n",
       "       [ 0.5266043 , -0.28593034,  0.35276866, ...,  0.00243585,\n",
       "        -0.93264264,  0.37809306]], dtype=float32)"
      ]
     },
     "execution_count": 9,
     "metadata": {},
     "output_type": "execute_result"
    }
   ],
   "source": [
    "emb_carp_stat = tables.open_file(\"embeddings-stat/proeng/gb1/sampled/carp_600k/mean/train/embedding.h5\", \"r\")\n",
    "emb_carp_stat.flush()\n",
    "emb_carp_stat.root.layer1[:]"
   ]
  },
  {
   "cell_type": "code",
   "execution_count": 3,
   "metadata": {},
   "outputs": [
    {
     "data": {
      "text/plain": [
       "array([[ 0.03898308, -0.08106129,  0.13339446, ..., -0.2662244 ,\n",
       "        -0.44519398,  0.27627963],\n",
       "       [ 0.03560849, -0.07820351,  0.13094631, ..., -0.26144186,\n",
       "        -0.4624857 ,  0.2773346 ],\n",
       "       [ 0.03570389, -0.06881244,  0.12683797, ..., -0.26283962,\n",
       "        -0.44606942,  0.27998623],\n",
       "       ...,\n",
       "       [ 0.02050808, -0.10131086,  0.12498736, ..., -0.25639063,\n",
       "        -0.4292737 ,  0.31491247],\n",
       "       [ 0.02329836, -0.10173596,  0.13563459, ..., -0.26521653,\n",
       "        -0.40115643,  0.3025004 ],\n",
       "       [ 0.01570649, -0.10368998,  0.14959829, ..., -0.26805964,\n",
       "        -0.48309532,  0.2874935 ]], dtype=float32)"
      ]
     },
     "execution_count": 3,
     "metadata": {},
     "output_type": "execute_result"
    }
   ],
   "source": [
    "emb_carp_rand = tables.open_file(\"embeddings-rand/proeng/gb1/sampled/carp_600k/mean/train/embedding.h5\", \"r\")\n",
    "emb_carp_rand.flush()\n",
    "emb_carp_rand.root.layer1[:]"
   ]
  },
  {
   "cell_type": "code",
   "execution_count": 4,
   "metadata": {},
   "outputs": [
    {
     "data": {
      "text/plain": [
       "/ (RootGroup) ''\n",
       "  children := ['layer0' (EArray), 'layer1' (EArray), 'layer10' (EArray), 'layer11' (EArray), 'layer12' (EArray), 'layer13' (EArray), 'layer14' (EArray), 'layer15' (EArray), 'layer16' (EArray), 'layer2' (EArray), 'layer3' (EArray), 'layer4' (EArray), 'layer5' (EArray), 'layer6' (EArray), 'layer7' (EArray), 'layer8' (EArray), 'layer9' (EArray)]"
      ]
     },
     "execution_count": 4,
     "metadata": {},
     "output_type": "execute_result"
    }
   ],
   "source": [
    "emb_carp_rand.root"
   ]
  },
  {
   "cell_type": "code",
   "execution_count": 6,
   "metadata": {},
   "outputs": [
    {
     "data": {
      "text/plain": [
       "array([[0.00545445, 0.10312911, 0.05396051, ..., 1.5485476 , 0.66142696,\n",
       "        0.8579699 ],\n",
       "       [0.00592828, 0.10741509, 0.05534851, ..., 1.5479358 , 0.6753517 ,\n",
       "        0.85805285],\n",
       "       [0.00683442, 0.10687142, 0.0533376 , ..., 1.536878  , 0.67017496,\n",
       "        0.86035407],\n",
       "       ...,\n",
       "       [0.00835255, 0.11150782, 0.06050735, ..., 1.5379534 , 0.6562282 ,\n",
       "        0.8620116 ],\n",
       "       [0.00744241, 0.10980903, 0.05862759, ..., 1.5446814 , 0.66437256,\n",
       "        0.86953795],\n",
       "       [0.00840695, 0.10946711, 0.06110343, ..., 1.53562   , 0.6706809 ,\n",
       "        0.8697496 ]], dtype=float32)"
      ]
     },
     "execution_count": 6,
     "metadata": {},
     "output_type": "execute_result"
    }
   ],
   "source": [
    "emb_esm = tables.open_file(\"embeddings/proeng/gb1/sampled/esm1_t6_43M_UR50S/mean/train/embedding.h5\", \"r\")\n",
    "emb_esm.flush()\n",
    "emb_esm.root.layer0[:]"
   ]
  },
  {
   "cell_type": "code",
   "execution_count": 6,
   "metadata": {},
   "outputs": [
    {
     "data": {
      "text/plain": [
       "array([[0.00545445, 0.10312911, 0.05396051, ..., 1.5485476 , 0.66142696,\n",
       "        0.8579699 ],\n",
       "       [0.00592828, 0.10741509, 0.05534851, ..., 1.5479358 , 0.6753517 ,\n",
       "        0.85805285],\n",
       "       [0.00683442, 0.10687142, 0.0533376 , ..., 1.536878  , 0.67017496,\n",
       "        0.86035407],\n",
       "       ...,\n",
       "       [0.00835255, 0.11150782, 0.06050735, ..., 1.5379534 , 0.6562282 ,\n",
       "        0.8620116 ],\n",
       "       [0.00744241, 0.10980903, 0.05862759, ..., 1.5446814 , 0.66437256,\n",
       "        0.86953795],\n",
       "       [0.00840695, 0.10946711, 0.06110343, ..., 1.53562   , 0.6706809 ,\n",
       "        0.8697496 ]], dtype=float32)"
      ]
     },
     "execution_count": 6,
     "metadata": {},
     "output_type": "execute_result"
    }
   ],
   "source": [
    "emb_esm_stat = tables.open_file(\"embeddings-stat/proeng/gb1/sampled/esm1_t6_43M_UR50S/mean/train/embedding.h5\", \"r\")\n",
    "emb_esm_stat.flush()\n",
    "emb_esm_stat.root.layer0[:]"
   ]
  },
  {
   "cell_type": "code",
   "execution_count": 7,
   "metadata": {},
   "outputs": [
    {
     "data": {
      "text/plain": [
       "array([[0.00545445, 0.10312911, 0.05396051, ..., 1.5485476 , 0.66142696,\n",
       "        0.8579699 ],\n",
       "       [0.00592828, 0.10741509, 0.05534851, ..., 1.5479358 , 0.6753517 ,\n",
       "        0.85805285],\n",
       "       [0.00683442, 0.10687142, 0.0533376 , ..., 1.536878  , 0.67017496,\n",
       "        0.86035407],\n",
       "       ...,\n",
       "       [0.00835255, 0.11150782, 0.06050735, ..., 1.5379534 , 0.6562282 ,\n",
       "        0.8620116 ],\n",
       "       [0.00744241, 0.10980903, 0.05862759, ..., 1.5446814 , 0.66437256,\n",
       "        0.86953795],\n",
       "       [0.00840695, 0.10946711, 0.06110343, ..., 1.53562   , 0.6706809 ,\n",
       "        0.8697496 ]], dtype=float32)"
      ]
     },
     "execution_count": 7,
     "metadata": {},
     "output_type": "execute_result"
    }
   ],
   "source": [
    "emb_esm_rand = tables.open_file(\"embeddings-rand/proeng/gb1/sampled/esm1_t6_43M_UR50S/mean/train/embedding.h5\", \"r\")\n",
    "emb_esm_rand.flush()\n",
    "emb_esm_rand.root.layer0[:]"
   ]
  },
  {
   "cell_type": "code",
   "execution_count": null,
   "metadata": {},
   "outputs": [],
   "source": []
  }
 ],
 "metadata": {
  "kernelspec": {
   "display_name": "Python 3.9.10 ('protran': conda)",
   "language": "python",
   "name": "python3"
  },
  "language_info": {
   "codemirror_mode": {
    "name": "ipython",
    "version": 3
   },
   "file_extension": ".py",
   "mimetype": "text/x-python",
   "name": "python",
   "nbconvert_exporter": "python",
   "pygments_lexer": "ipython3",
   "version": "3.9.10"
  },
  "orig_nbformat": 4,
  "vscode": {
   "interpreter": {
    "hash": "463b23ca674b6cebd873d35026dbfbdc6c3c46566df13b694aa58a4a30e92e18"
   }
  }
 },
 "nbformat": 4,
 "nbformat_minor": 2
}
