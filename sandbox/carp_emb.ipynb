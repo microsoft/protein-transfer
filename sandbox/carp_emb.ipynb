{
 "cells": [
  {
   "cell_type": "code",
   "execution_count": 1,
   "metadata": {},
   "outputs": [
    {
     "name": "stdout",
     "output_type": "stream",
     "text": [
      "/home/francesca/protein-transfer\n"
     ]
    }
   ],
   "source": [
    "%cd ~/protein-transfer"
   ]
  },
  {
   "cell_type": "code",
   "execution_count": 2,
   "metadata": {},
   "outputs": [],
   "source": [
    "import tables"
   ]
  },
  {
   "cell_type": "code",
   "execution_count": 7,
   "metadata": {},
   "outputs": [],
   "source": [
    "emb_carp = tables.open_file(\"embeddings_0.5/proeng/gb1/sampled/carp_600k/mean/train/embedding.h5\", \"r\")"
   ]
  },
  {
   "cell_type": "code",
   "execution_count": 8,
   "metadata": {},
   "outputs": [],
   "source": [
    "emb_carp.flush()"
   ]
  },
  {
   "cell_type": "code",
   "execution_count": 9,
   "metadata": {},
   "outputs": [
    {
     "data": {
      "text/plain": [
       "array([[ 0.18291792,  0.14217652,  0.09599978, ...,  0.17569184,\n",
       "        -0.49006134,  0.1720592 ],\n",
       "       [ 0.18291792,  0.14217652,  0.09599978, ...,  0.17569184,\n",
       "        -0.49006134,  0.1720592 ],\n",
       "       [ 0.18291792,  0.14217652,  0.09599978, ...,  0.17569184,\n",
       "        -0.49006134,  0.1720592 ],\n",
       "       ...,\n",
       "       [ 0.18291792,  0.14217652,  0.09599978, ...,  0.17569184,\n",
       "        -0.49006134,  0.1720592 ],\n",
       "       [ 0.18291792,  0.14217652,  0.09599978, ...,  0.17569184,\n",
       "        -0.49006134,  0.1720592 ],\n",
       "       [ 0.18291792,  0.14217652,  0.09599978, ...,  0.17569184,\n",
       "        -0.49006134,  0.1720592 ]], dtype=float32)"
      ]
     },
     "execution_count": 9,
     "metadata": {},
     "output_type": "execute_result"
    }
   ],
   "source": [
    "emb_carp.root.layer0[:]"
   ]
  },
  {
   "cell_type": "code",
   "execution_count": 10,
   "metadata": {},
   "outputs": [
    {
     "data": {
      "text/plain": [
       "array([[ 0.18291792,  0.14217652,  0.09599978, ...,  0.17569184,\n",
       "        -0.49006134,  0.1720592 ],\n",
       "       [ 0.18291792,  0.14217652,  0.09599978, ...,  0.17569184,\n",
       "        -0.49006134,  0.1720592 ],\n",
       "       [ 0.18291792,  0.14217652,  0.09599978, ...,  0.17569184,\n",
       "        -0.49006134,  0.1720592 ],\n",
       "       ...,\n",
       "       [ 0.18291792,  0.14217652,  0.09599978, ...,  0.17569184,\n",
       "        -0.49006134,  0.1720592 ],\n",
       "       [ 0.18291792,  0.14217652,  0.09599978, ...,  0.17569184,\n",
       "        -0.49006134,  0.1720592 ],\n",
       "       [ 0.18291792,  0.14217652,  0.09599978, ...,  0.17569184,\n",
       "        -0.49006134,  0.1720592 ]], dtype=float32)"
      ]
     },
     "execution_count": 10,
     "metadata": {},
     "output_type": "execute_result"
    }
   ],
   "source": [
    "emb_carp_2 = tables.open_file(\"embeddings_0.125/proeng/gb1/sampled/carp_600k/mean/train/embedding.h5\", \"r\")\n",
    "emb_carp_2.flush()\n",
    "emb_carp_2.root.layer0[:]"
   ]
  },
  {
   "cell_type": "code",
   "execution_count": null,
   "metadata": {},
   "outputs": [],
   "source": []
  },
  {
   "cell_type": "code",
   "execution_count": null,
   "metadata": {},
   "outputs": [],
   "source": []
  }
 ],
 "metadata": {
  "kernelspec": {
   "display_name": "Python 3.9.10 ('protran': conda)",
   "language": "python",
   "name": "python3"
  },
  "language_info": {
   "codemirror_mode": {
    "name": "ipython",
    "version": 3
   },
   "file_extension": ".py",
   "mimetype": "text/x-python",
   "name": "python",
   "nbconvert_exporter": "python",
   "pygments_lexer": "ipython3",
   "version": "3.9.10"
  },
  "orig_nbformat": 4,
  "vscode": {
   "interpreter": {
    "hash": "463b23ca674b6cebd873d35026dbfbdc6c3c46566df13b694aa58a4a30e92e18"
   }
  }
 },
 "nbformat": 4,
 "nbformat_minor": 2
}
