{
 "cells": [
  {
   "cell_type": "code",
   "execution_count": 1,
   "metadata": {},
   "outputs": [
    {
     "name": "stdout",
     "output_type": "stream",
     "text": [
      "/home/francesca/protein-transfer\n"
     ]
    }
   ],
   "source": [
    "%cd ~/protein-transfer"
   ]
  },
  {
   "cell_type": "code",
   "execution_count": 2,
   "metadata": {},
   "outputs": [],
   "source": [
    "%load_ext blackcellmagic"
   ]
  },
  {
   "cell_type": "code",
   "execution_count": 3,
   "metadata": {},
   "outputs": [
    {
     "name": "stdout",
     "output_type": "stream",
     "text": [
      "Collecting receptivefield\n",
      "  Downloading receptivefield-0.5.0-py3-none-any.whl (363 kB)\n",
      "\u001b[2K     \u001b[90m━━━━━━━━━━━━━━━━━━━━━━━━━━━━━━━━━━━━━━\u001b[0m \u001b[32m363.4/363.4 KB\u001b[0m \u001b[31m15.1 MB/s\u001b[0m eta \u001b[36m0:00:00\u001b[0m\n",
      "\u001b[?25hRequirement already satisfied: pillow>=6.2.* in /home/francesca/miniconda3/envs/protran/lib/python3.9/site-packages (from receptivefield) (9.4.0)\n",
      "Requirement already satisfied: matplotlib>=3.1.* in /home/francesca/miniconda3/envs/protran/lib/python3.9/site-packages (from receptivefield) (3.5.1)\n",
      "Requirement already satisfied: numpy>=1.17.* in /home/francesca/miniconda3/envs/protran/lib/python3.9/site-packages (from receptivefield) (1.22.3)\n",
      "Requirement already satisfied: python-dateutil>=2.7 in /home/francesca/miniconda3/envs/protran/lib/python3.9/site-packages (from matplotlib>=3.1.*->receptivefield) (2.8.2)\n",
      "Requirement already satisfied: pyparsing>=2.2.1 in /home/francesca/miniconda3/envs/protran/lib/python3.9/site-packages (from matplotlib>=3.1.*->receptivefield) (3.0.9)\n",
      "Requirement already satisfied: cycler>=0.10 in /home/francesca/miniconda3/envs/protran/lib/python3.9/site-packages (from matplotlib>=3.1.*->receptivefield) (0.11.0)\n",
      "Requirement already satisfied: packaging>=20.0 in /home/francesca/miniconda3/envs/protran/lib/python3.9/site-packages (from matplotlib>=3.1.*->receptivefield) (23.0)\n",
      "Requirement already satisfied: fonttools>=4.22.0 in /home/francesca/miniconda3/envs/protran/lib/python3.9/site-packages (from matplotlib>=3.1.*->receptivefield) (4.39.3)\n",
      "Requirement already satisfied: kiwisolver>=1.0.1 in /home/francesca/miniconda3/envs/protran/lib/python3.9/site-packages (from matplotlib>=3.1.*->receptivefield) (1.4.4)\n",
      "Requirement already satisfied: six>=1.5 in /home/francesca/miniconda3/envs/protran/lib/python3.9/site-packages (from python-dateutil>=2.7->matplotlib>=3.1.*->receptivefield) (1.16.0)\n",
      "Installing collected packages: receptivefield\n",
      "Successfully installed receptivefield-0.5.0\n"
     ]
    }
   ],
   "source": [
    "#!pip install receptivefield"
   ]
  },
  {
   "cell_type": "code",
   "execution_count": 45,
   "metadata": {},
   "outputs": [],
   "source": [
    "from receptivefield.pytorch import PytorchReceptiveField"
   ]
  },
  {
   "cell_type": "code",
   "execution_count": 3,
   "metadata": {},
   "outputs": [],
   "source": [
    "from sequence_models.pretrained import load_model_and_alphabet\n",
    "\n",
    "model, collater = load_model_and_alphabet('carp_600k')"
   ]
  },
  {
   "cell_type": "code",
   "execution_count": 6,
   "metadata": {},
   "outputs": [
    {
     "data": {
      "text/plain": [
       "Embedding(30, 8, padding_idx=28)"
      ]
     },
     "execution_count": 6,
     "metadata": {},
     "output_type": "execute_result"
    }
   ],
   "source": [
    "model.model.embedder.embedder"
   ]
  },
  {
   "cell_type": "code",
   "execution_count": 24,
   "metadata": {},
   "outputs": [
    {
     "data": {
      "text/plain": [
       "PositionFeedForward(\n",
       "  (conv): Conv1d(8, 128, kernel_size=(1,), stride=(1,))\n",
       ")"
      ]
     },
     "execution_count": 24,
     "metadata": {},
     "output_type": "execute_result"
    }
   ],
   "source": [
    "model.model.embedder.up_embedder"
   ]
  },
  {
   "cell_type": "code",
   "execution_count": 9,
   "metadata": {},
   "outputs": [
    {
     "data": {
      "text/plain": [
       "CARP(\n",
       "  (model): ByteNetLM(\n",
       "    (embedder): ByteNet(\n",
       "      (embedder): Embedding(30, 8, padding_idx=28)\n",
       "      (up_embedder): PositionFeedForward(\n",
       "        (conv): Conv1d(8, 128, kernel_size=(1,), stride=(1,))\n",
       "      )\n",
       "      (layers): ModuleList(\n",
       "        (0): ByteNetBlock(\n",
       "          (conv): MaskedConv1d(64, 64, kernel_size=(5,), stride=(1,), padding=(2,))\n",
       "          (sequence1): Sequential(\n",
       "            (0): LayerNorm((128,), eps=1e-05, elementwise_affine=True)\n",
       "            (1): GELU(approximate=none)\n",
       "            (2): PositionFeedForward(\n",
       "              (conv): Conv1d(128, 64, kernel_size=(1,), stride=(1,))\n",
       "            )\n",
       "            (3): LayerNorm((64,), eps=1e-05, elementwise_affine=True)\n",
       "            (4): GELU(approximate=none)\n",
       "          )\n",
       "          (sequence2): Sequential(\n",
       "            (0): LayerNorm((64,), eps=1e-05, elementwise_affine=True)\n",
       "            (1): GELU(approximate=none)\n",
       "            (2): PositionFeedForward(\n",
       "              (conv): Conv1d(64, 128, kernel_size=(1,), stride=(1,))\n",
       "            )\n",
       "          )\n",
       "        )\n",
       "        (1): ByteNetBlock(\n",
       "          (conv): MaskedConv1d(64, 64, kernel_size=(5,), stride=(1,), padding=(4,), dilation=(2,))\n",
       "          (sequence1): Sequential(\n",
       "            (0): LayerNorm((128,), eps=1e-05, elementwise_affine=True)\n",
       "            (1): GELU(approximate=none)\n",
       "            (2): PositionFeedForward(\n",
       "              (conv): Conv1d(128, 64, kernel_size=(1,), stride=(1,))\n",
       "            )\n",
       "            (3): LayerNorm((64,), eps=1e-05, elementwise_affine=True)\n",
       "            (4): GELU(approximate=none)\n",
       "          )\n",
       "          (sequence2): Sequential(\n",
       "            (0): LayerNorm((64,), eps=1e-05, elementwise_affine=True)\n",
       "            (1): GELU(approximate=none)\n",
       "            (2): PositionFeedForward(\n",
       "              (conv): Conv1d(64, 128, kernel_size=(1,), stride=(1,))\n",
       "            )\n",
       "          )\n",
       "        )\n",
       "        (2): ByteNetBlock(\n",
       "          (conv): MaskedConv1d(64, 64, kernel_size=(5,), stride=(1,), padding=(8,), dilation=(4,))\n",
       "          (sequence1): Sequential(\n",
       "            (0): LayerNorm((128,), eps=1e-05, elementwise_affine=True)\n",
       "            (1): GELU(approximate=none)\n",
       "            (2): PositionFeedForward(\n",
       "              (conv): Conv1d(128, 64, kernel_size=(1,), stride=(1,))\n",
       "            )\n",
       "            (3): LayerNorm((64,), eps=1e-05, elementwise_affine=True)\n",
       "            (4): GELU(approximate=none)\n",
       "          )\n",
       "          (sequence2): Sequential(\n",
       "            (0): LayerNorm((64,), eps=1e-05, elementwise_affine=True)\n",
       "            (1): GELU(approximate=none)\n",
       "            (2): PositionFeedForward(\n",
       "              (conv): Conv1d(64, 128, kernel_size=(1,), stride=(1,))\n",
       "            )\n",
       "          )\n",
       "        )\n",
       "        (3): ByteNetBlock(\n",
       "          (conv): MaskedConv1d(64, 64, kernel_size=(5,), stride=(1,), padding=(16,), dilation=(8,))\n",
       "          (sequence1): Sequential(\n",
       "            (0): LayerNorm((128,), eps=1e-05, elementwise_affine=True)\n",
       "            (1): GELU(approximate=none)\n",
       "            (2): PositionFeedForward(\n",
       "              (conv): Conv1d(128, 64, kernel_size=(1,), stride=(1,))\n",
       "            )\n",
       "            (3): LayerNorm((64,), eps=1e-05, elementwise_affine=True)\n",
       "            (4): GELU(approximate=none)\n",
       "          )\n",
       "          (sequence2): Sequential(\n",
       "            (0): LayerNorm((64,), eps=1e-05, elementwise_affine=True)\n",
       "            (1): GELU(approximate=none)\n",
       "            (2): PositionFeedForward(\n",
       "              (conv): Conv1d(64, 128, kernel_size=(1,), stride=(1,))\n",
       "            )\n",
       "          )\n",
       "        )\n",
       "        (4): ByteNetBlock(\n",
       "          (conv): MaskedConv1d(64, 64, kernel_size=(5,), stride=(1,), padding=(32,), dilation=(16,))\n",
       "          (sequence1): Sequential(\n",
       "            (0): LayerNorm((128,), eps=1e-05, elementwise_affine=True)\n",
       "            (1): GELU(approximate=none)\n",
       "            (2): PositionFeedForward(\n",
       "              (conv): Conv1d(128, 64, kernel_size=(1,), stride=(1,))\n",
       "            )\n",
       "            (3): LayerNorm((64,), eps=1e-05, elementwise_affine=True)\n",
       "            (4): GELU(approximate=none)\n",
       "          )\n",
       "          (sequence2): Sequential(\n",
       "            (0): LayerNorm((64,), eps=1e-05, elementwise_affine=True)\n",
       "            (1): GELU(approximate=none)\n",
       "            (2): PositionFeedForward(\n",
       "              (conv): Conv1d(64, 128, kernel_size=(1,), stride=(1,))\n",
       "            )\n",
       "          )\n",
       "        )\n",
       "        (5): ByteNetBlock(\n",
       "          (conv): MaskedConv1d(64, 64, kernel_size=(5,), stride=(1,), padding=(64,), dilation=(32,))\n",
       "          (sequence1): Sequential(\n",
       "            (0): LayerNorm((128,), eps=1e-05, elementwise_affine=True)\n",
       "            (1): GELU(approximate=none)\n",
       "            (2): PositionFeedForward(\n",
       "              (conv): Conv1d(128, 64, kernel_size=(1,), stride=(1,))\n",
       "            )\n",
       "            (3): LayerNorm((64,), eps=1e-05, elementwise_affine=True)\n",
       "            (4): GELU(approximate=none)\n",
       "          )\n",
       "          (sequence2): Sequential(\n",
       "            (0): LayerNorm((64,), eps=1e-05, elementwise_affine=True)\n",
       "            (1): GELU(approximate=none)\n",
       "            (2): PositionFeedForward(\n",
       "              (conv): Conv1d(64, 128, kernel_size=(1,), stride=(1,))\n",
       "            )\n",
       "          )\n",
       "        )\n",
       "        (6): ByteNetBlock(\n",
       "          (conv): MaskedConv1d(64, 64, kernel_size=(5,), stride=(1,), padding=(128,), dilation=(64,))\n",
       "          (sequence1): Sequential(\n",
       "            (0): LayerNorm((128,), eps=1e-05, elementwise_affine=True)\n",
       "            (1): GELU(approximate=none)\n",
       "            (2): PositionFeedForward(\n",
       "              (conv): Conv1d(128, 64, kernel_size=(1,), stride=(1,))\n",
       "            )\n",
       "            (3): LayerNorm((64,), eps=1e-05, elementwise_affine=True)\n",
       "            (4): GELU(approximate=none)\n",
       "          )\n",
       "          (sequence2): Sequential(\n",
       "            (0): LayerNorm((64,), eps=1e-05, elementwise_affine=True)\n",
       "            (1): GELU(approximate=none)\n",
       "            (2): PositionFeedForward(\n",
       "              (conv): Conv1d(64, 128, kernel_size=(1,), stride=(1,))\n",
       "            )\n",
       "          )\n",
       "        )\n",
       "        (7): ByteNetBlock(\n",
       "          (conv): MaskedConv1d(64, 64, kernel_size=(5,), stride=(1,), padding=(256,), dilation=(128,))\n",
       "          (sequence1): Sequential(\n",
       "            (0): LayerNorm((128,), eps=1e-05, elementwise_affine=True)\n",
       "            (1): GELU(approximate=none)\n",
       "            (2): PositionFeedForward(\n",
       "              (conv): Conv1d(128, 64, kernel_size=(1,), stride=(1,))\n",
       "            )\n",
       "            (3): LayerNorm((64,), eps=1e-05, elementwise_affine=True)\n",
       "            (4): GELU(approximate=none)\n",
       "          )\n",
       "          (sequence2): Sequential(\n",
       "            (0): LayerNorm((64,), eps=1e-05, elementwise_affine=True)\n",
       "            (1): GELU(approximate=none)\n",
       "            (2): PositionFeedForward(\n",
       "              (conv): Conv1d(64, 128, kernel_size=(1,), stride=(1,))\n",
       "            )\n",
       "          )\n",
       "        )\n",
       "        (8): ByteNetBlock(\n",
       "          (conv): MaskedConv1d(64, 64, kernel_size=(5,), stride=(1,), padding=(2,))\n",
       "          (sequence1): Sequential(\n",
       "            (0): LayerNorm((128,), eps=1e-05, elementwise_affine=True)\n",
       "            (1): GELU(approximate=none)\n",
       "            (2): PositionFeedForward(\n",
       "              (conv): Conv1d(128, 64, kernel_size=(1,), stride=(1,))\n",
       "            )\n",
       "            (3): LayerNorm((64,), eps=1e-05, elementwise_affine=True)\n",
       "            (4): GELU(approximate=none)\n",
       "          )\n",
       "          (sequence2): Sequential(\n",
       "            (0): LayerNorm((64,), eps=1e-05, elementwise_affine=True)\n",
       "            (1): GELU(approximate=none)\n",
       "            (2): PositionFeedForward(\n",
       "              (conv): Conv1d(64, 128, kernel_size=(1,), stride=(1,))\n",
       "            )\n",
       "          )\n",
       "        )\n",
       "        (9): ByteNetBlock(\n",
       "          (conv): MaskedConv1d(64, 64, kernel_size=(5,), stride=(1,), padding=(4,), dilation=(2,))\n",
       "          (sequence1): Sequential(\n",
       "            (0): LayerNorm((128,), eps=1e-05, elementwise_affine=True)\n",
       "            (1): GELU(approximate=none)\n",
       "            (2): PositionFeedForward(\n",
       "              (conv): Conv1d(128, 64, kernel_size=(1,), stride=(1,))\n",
       "            )\n",
       "            (3): LayerNorm((64,), eps=1e-05, elementwise_affine=True)\n",
       "            (4): GELU(approximate=none)\n",
       "          )\n",
       "          (sequence2): Sequential(\n",
       "            (0): LayerNorm((64,), eps=1e-05, elementwise_affine=True)\n",
       "            (1): GELU(approximate=none)\n",
       "            (2): PositionFeedForward(\n",
       "              (conv): Conv1d(64, 128, kernel_size=(1,), stride=(1,))\n",
       "            )\n",
       "          )\n",
       "        )\n",
       "        (10): ByteNetBlock(\n",
       "          (conv): MaskedConv1d(64, 64, kernel_size=(5,), stride=(1,), padding=(8,), dilation=(4,))\n",
       "          (sequence1): Sequential(\n",
       "            (0): LayerNorm((128,), eps=1e-05, elementwise_affine=True)\n",
       "            (1): GELU(approximate=none)\n",
       "            (2): PositionFeedForward(\n",
       "              (conv): Conv1d(128, 64, kernel_size=(1,), stride=(1,))\n",
       "            )\n",
       "            (3): LayerNorm((64,), eps=1e-05, elementwise_affine=True)\n",
       "            (4): GELU(approximate=none)\n",
       "          )\n",
       "          (sequence2): Sequential(\n",
       "            (0): LayerNorm((64,), eps=1e-05, elementwise_affine=True)\n",
       "            (1): GELU(approximate=none)\n",
       "            (2): PositionFeedForward(\n",
       "              (conv): Conv1d(64, 128, kernel_size=(1,), stride=(1,))\n",
       "            )\n",
       "          )\n",
       "        )\n",
       "        (11): ByteNetBlock(\n",
       "          (conv): MaskedConv1d(64, 64, kernel_size=(5,), stride=(1,), padding=(16,), dilation=(8,))\n",
       "          (sequence1): Sequential(\n",
       "            (0): LayerNorm((128,), eps=1e-05, elementwise_affine=True)\n",
       "            (1): GELU(approximate=none)\n",
       "            (2): PositionFeedForward(\n",
       "              (conv): Conv1d(128, 64, kernel_size=(1,), stride=(1,))\n",
       "            )\n",
       "            (3): LayerNorm((64,), eps=1e-05, elementwise_affine=True)\n",
       "            (4): GELU(approximate=none)\n",
       "          )\n",
       "          (sequence2): Sequential(\n",
       "            (0): LayerNorm((64,), eps=1e-05, elementwise_affine=True)\n",
       "            (1): GELU(approximate=none)\n",
       "            (2): PositionFeedForward(\n",
       "              (conv): Conv1d(64, 128, kernel_size=(1,), stride=(1,))\n",
       "            )\n",
       "          )\n",
       "        )\n",
       "        (12): ByteNetBlock(\n",
       "          (conv): MaskedConv1d(64, 64, kernel_size=(5,), stride=(1,), padding=(32,), dilation=(16,))\n",
       "          (sequence1): Sequential(\n",
       "            (0): LayerNorm((128,), eps=1e-05, elementwise_affine=True)\n",
       "            (1): GELU(approximate=none)\n",
       "            (2): PositionFeedForward(\n",
       "              (conv): Conv1d(128, 64, kernel_size=(1,), stride=(1,))\n",
       "            )\n",
       "            (3): LayerNorm((64,), eps=1e-05, elementwise_affine=True)\n",
       "            (4): GELU(approximate=none)\n",
       "          )\n",
       "          (sequence2): Sequential(\n",
       "            (0): LayerNorm((64,), eps=1e-05, elementwise_affine=True)\n",
       "            (1): GELU(approximate=none)\n",
       "            (2): PositionFeedForward(\n",
       "              (conv): Conv1d(64, 128, kernel_size=(1,), stride=(1,))\n",
       "            )\n",
       "          )\n",
       "        )\n",
       "        (13): ByteNetBlock(\n",
       "          (conv): MaskedConv1d(64, 64, kernel_size=(5,), stride=(1,), padding=(64,), dilation=(32,))\n",
       "          (sequence1): Sequential(\n",
       "            (0): LayerNorm((128,), eps=1e-05, elementwise_affine=True)\n",
       "            (1): GELU(approximate=none)\n",
       "            (2): PositionFeedForward(\n",
       "              (conv): Conv1d(128, 64, kernel_size=(1,), stride=(1,))\n",
       "            )\n",
       "            (3): LayerNorm((64,), eps=1e-05, elementwise_affine=True)\n",
       "            (4): GELU(approximate=none)\n",
       "          )\n",
       "          (sequence2): Sequential(\n",
       "            (0): LayerNorm((64,), eps=1e-05, elementwise_affine=True)\n",
       "            (1): GELU(approximate=none)\n",
       "            (2): PositionFeedForward(\n",
       "              (conv): Conv1d(64, 128, kernel_size=(1,), stride=(1,))\n",
       "            )\n",
       "          )\n",
       "        )\n",
       "        (14): ByteNetBlock(\n",
       "          (conv): MaskedConv1d(64, 64, kernel_size=(5,), stride=(1,), padding=(128,), dilation=(64,))\n",
       "          (sequence1): Sequential(\n",
       "            (0): LayerNorm((128,), eps=1e-05, elementwise_affine=True)\n",
       "            (1): GELU(approximate=none)\n",
       "            (2): PositionFeedForward(\n",
       "              (conv): Conv1d(128, 64, kernel_size=(1,), stride=(1,))\n",
       "            )\n",
       "            (3): LayerNorm((64,), eps=1e-05, elementwise_affine=True)\n",
       "            (4): GELU(approximate=none)\n",
       "          )\n",
       "          (sequence2): Sequential(\n",
       "            (0): LayerNorm((64,), eps=1e-05, elementwise_affine=True)\n",
       "            (1): GELU(approximate=none)\n",
       "            (2): PositionFeedForward(\n",
       "              (conv): Conv1d(64, 128, kernel_size=(1,), stride=(1,))\n",
       "            )\n",
       "          )\n",
       "        )\n",
       "        (15): ByteNetBlock(\n",
       "          (conv): MaskedConv1d(64, 64, kernel_size=(5,), stride=(1,), padding=(256,), dilation=(128,))\n",
       "          (sequence1): Sequential(\n",
       "            (0): LayerNorm((128,), eps=1e-05, elementwise_affine=True)\n",
       "            (1): GELU(approximate=none)\n",
       "            (2): PositionFeedForward(\n",
       "              (conv): Conv1d(128, 64, kernel_size=(1,), stride=(1,))\n",
       "            )\n",
       "            (3): LayerNorm((64,), eps=1e-05, elementwise_affine=True)\n",
       "            (4): GELU(approximate=none)\n",
       "          )\n",
       "          (sequence2): Sequential(\n",
       "            (0): LayerNorm((64,), eps=1e-05, elementwise_affine=True)\n",
       "            (1): GELU(approximate=none)\n",
       "            (2): PositionFeedForward(\n",
       "              (conv): Conv1d(64, 128, kernel_size=(1,), stride=(1,))\n",
       "            )\n",
       "          )\n",
       "        )\n",
       "      )\n",
       "    )\n",
       "    (decoder): PositionFeedForward(\n",
       "      (conv): Conv1d(128, 30, kernel_size=(1,), stride=(1,))\n",
       "    )\n",
       "    (last_norm): LayerNorm((128,), eps=1e-05, elementwise_affine=True)\n",
       "  )\n",
       ")"
      ]
     },
     "execution_count": 9,
     "metadata": {},
     "output_type": "execute_result"
    }
   ],
   "source": [
    "model"
   ]
  },
  {
   "cell_type": "code",
   "execution_count": 7,
   "metadata": {},
   "outputs": [
    {
     "data": {
      "text/plain": [
       "PositionFeedForward(\n",
       "  (conv): Conv1d(8, 128, kernel_size=(1,), stride=(1,))\n",
       ")"
      ]
     },
     "execution_count": 7,
     "metadata": {},
     "output_type": "execute_result"
    }
   ],
   "source": [
    "model.model.embedder.up_embedder"
   ]
  },
  {
   "cell_type": "code",
   "execution_count": 8,
   "metadata": {},
   "outputs": [
    {
     "data": {
      "text/plain": [
       "ByteNetBlock(\n",
       "  (conv): MaskedConv1d(64, 64, kernel_size=(5,), stride=(1,), padding=(2,))\n",
       "  (sequence1): Sequential(\n",
       "    (0): LayerNorm((128,), eps=1e-05, elementwise_affine=True)\n",
       "    (1): GELU(approximate=none)\n",
       "    (2): PositionFeedForward(\n",
       "      (conv): Conv1d(128, 64, kernel_size=(1,), stride=(1,))\n",
       "    )\n",
       "    (3): LayerNorm((64,), eps=1e-05, elementwise_affine=True)\n",
       "    (4): GELU(approximate=none)\n",
       "  )\n",
       "  (sequence2): Sequential(\n",
       "    (0): LayerNorm((64,), eps=1e-05, elementwise_affine=True)\n",
       "    (1): GELU(approximate=none)\n",
       "    (2): PositionFeedForward(\n",
       "      (conv): Conv1d(64, 128, kernel_size=(1,), stride=(1,))\n",
       "    )\n",
       "  )\n",
       ")"
      ]
     },
     "execution_count": 8,
     "metadata": {},
     "output_type": "execute_result"
    }
   ],
   "source": [
    "model.model.embedder.layers[0]"
   ]
  },
  {
   "cell_type": "code",
   "execution_count": 46,
   "metadata": {},
   "outputs": [
    {
     "ename": "TypeError",
     "evalue": "forward() missing 1 required positional argument: 'x'",
     "output_type": "error",
     "traceback": [
      "\u001b[0;31m---------------------------------------------------------------------------\u001b[0m",
      "\u001b[0;31mTypeError\u001b[0m                                 Traceback (most recent call last)",
      "Cell \u001b[0;32mIn[46], line 2\u001b[0m\n\u001b[1;32m      1\u001b[0m rf \u001b[39m=\u001b[39m PytorchReceptiveField(model\u001b[39m.\u001b[39mmodel\u001b[39m.\u001b[39membedder)\n\u001b[0;32m----> 2\u001b[0m rf_params \u001b[39m=\u001b[39m rf\u001b[39m.\u001b[39;49mcompute(input_shape \u001b[39m=\u001b[39;49m (\u001b[39m2\u001b[39;49m,\u001b[39m9\u001b[39;49m))\n",
      "File \u001b[0;32m~/miniconda3/envs/protran/lib/python3.9/site-packages/receptivefield/pytorch.py:154\u001b[0m, in \u001b[0;36mPytorchReceptiveField.compute\u001b[0;34m(self, input_shape)\u001b[0m\n\u001b[1;32m    142\u001b[0m \u001b[39mdef\u001b[39;00m \u001b[39mcompute\u001b[39m(\u001b[39mself\u001b[39m, input_shape: ImageShape) \u001b[39m-\u001b[39m\u001b[39m>\u001b[39m List[FeatureMapDescription]:\n\u001b[1;32m    143\u001b[0m \u001b[39m    \u001b[39m\u001b[39m\"\"\"\u001b[39;00m\n\u001b[1;32m    144\u001b[0m \u001b[39m    Compute ReceptiveFieldDescription of given model for image of\u001b[39;00m\n\u001b[1;32m    145\u001b[0m \u001b[39m    shape input_shape [H, W, C]. If receptive field of the network\u001b[39;00m\n\u001b[0;32m   (...)\u001b[0m\n\u001b[1;32m    152\u001b[0m \u001b[39m        map.\u001b[39;00m\n\u001b[1;32m    153\u001b[0m \u001b[39m    \"\"\"\u001b[39;00m\n\u001b[0;32m--> 154\u001b[0m     \u001b[39mreturn\u001b[39;00m \u001b[39msuper\u001b[39;49m()\u001b[39m.\u001b[39;49mcompute(input_shape\u001b[39m=\u001b[39;49minput_shape)\n",
      "File \u001b[0;32m~/miniconda3/envs/protran/lib/python3.9/site-packages/receptivefield/base.py:162\u001b[0m, in \u001b[0;36mReceptiveField.compute\u001b[0;34m(self, *args, **kwargs)\u001b[0m\n\u001b[1;32m    149\u001b[0m \u001b[39m\u001b[39m\u001b[39m\"\"\"\u001b[39;00m\n\u001b[1;32m    150\u001b[0m \u001b[39mCompute ReceptiveFieldDescription of given model for image of\u001b[39;00m\n\u001b[1;32m    151\u001b[0m \u001b[39mshape input_shape [H, W, C]. If receptive field of the network\u001b[39;00m\n\u001b[0;32m   (...)\u001b[0m\n\u001b[1;32m    159\u001b[0m \u001b[39m    map.\u001b[39;00m\n\u001b[1;32m    160\u001b[0m \u001b[39m\"\"\"\u001b[39;00m\n\u001b[1;32m    161\u001b[0m \u001b[39m# define gradient function\u001b[39;00m\n\u001b[0;32m--> 162\u001b[0m \u001b[39mself\u001b[39;49m\u001b[39m.\u001b[39;49m_build_gradient_func(\u001b[39m*\u001b[39;49margs, \u001b[39m*\u001b[39;49m\u001b[39m*\u001b[39;49mkwargs)\n\u001b[1;32m    164\u001b[0m \u001b[39m# receptive field at map center\u001b[39;00m\n\u001b[1;32m    165\u001b[0m rf_grads00 \u001b[39m=\u001b[39m \u001b[39mself\u001b[39m\u001b[39m.\u001b[39m_get_gradient_activation_at_map_center(\n\u001b[1;32m    166\u001b[0m     center_offsets\u001b[39m=\u001b[39m[GridPoint(\u001b[39m0\u001b[39m, \u001b[39m0\u001b[39m)] \u001b[39m*\u001b[39m \u001b[39mself\u001b[39m\u001b[39m.\u001b[39mnum_feature_maps\n\u001b[1;32m    167\u001b[0m )\n",
      "File \u001b[0;32m~/miniconda3/envs/protran/lib/python3.9/site-packages/receptivefield/base.py:68\u001b[0m, in \u001b[0;36mReceptiveField._build_gradient_func\u001b[0;34m(self, *args, **kwargs)\u001b[0m\n\u001b[1;32m     60\u001b[0m \u001b[39mdef\u001b[39;00m \u001b[39m_build_gradient_func\u001b[39m(\u001b[39mself\u001b[39m, \u001b[39m*\u001b[39margs, \u001b[39m*\u001b[39m\u001b[39m*\u001b[39mkwargs) \u001b[39m-\u001b[39m\u001b[39m>\u001b[39m \u001b[39mNone\u001b[39;00m:\n\u001b[1;32m     61\u001b[0m \u001b[39m    \u001b[39m\u001b[39m\"\"\"\u001b[39;00m\n\u001b[1;32m     62\u001b[0m \u001b[39m    Build gradient function and collect the input shape of the image\u001b[39;00m\n\u001b[1;32m     63\u001b[0m \u001b[39m    and feature map shapes.\u001b[39;00m\n\u001b[0;32m   (...)\u001b[0m\n\u001b[1;32m     66\u001b[0m \u001b[39m    :param kwargs: keywords which depend on the API\u001b[39;00m\n\u001b[1;32m     67\u001b[0m \u001b[39m    \"\"\"\u001b[39;00m\n\u001b[0;32m---> 68\u001b[0m     gradient_function, input_shape, output_shapes \u001b[39m=\u001b[39m \u001b[39mself\u001b[39;49m\u001b[39m.\u001b[39;49m_prepare_gradient_func(\n\u001b[1;32m     69\u001b[0m         \u001b[39m*\u001b[39;49margs, \u001b[39m*\u001b[39;49m\u001b[39m*\u001b[39;49mkwargs\n\u001b[1;32m     70\u001b[0m     )\n\u001b[1;32m     72\u001b[0m     \u001b[39mself\u001b[39m\u001b[39m.\u001b[39m_built \u001b[39m=\u001b[39m \u001b[39mTrue\u001b[39;00m\n\u001b[1;32m     73\u001b[0m     \u001b[39mself\u001b[39m\u001b[39m.\u001b[39m_gradient_function \u001b[39m=\u001b[39m gradient_function\n",
      "File \u001b[0;32m~/miniconda3/envs/protran/lib/python3.9/site-packages/receptivefield/pytorch.py:107\u001b[0m, in \u001b[0;36mPytorchReceptiveField._prepare_gradient_func\u001b[0;34m(self, input_shape)\u001b[0m\n\u001b[1;32m    104\u001b[0m input_shape \u001b[39m=\u001b[39m ImageShape(\u001b[39m*\u001b[39minput_shape)\n\u001b[1;32m    105\u001b[0m input_shape \u001b[39m=\u001b[39m GridShape(n\u001b[39m=\u001b[39m\u001b[39m1\u001b[39m, c\u001b[39m=\u001b[39minput_shape\u001b[39m.\u001b[39mc, h\u001b[39m=\u001b[39minput_shape\u001b[39m.\u001b[39mh, w\u001b[39m=\u001b[39minput_shape\u001b[39m.\u001b[39mw,)\n\u001b[0;32m--> 107\u001b[0m gradient_function, input_shape, output_shapes \u001b[39m=\u001b[39m _define_receptive_field_func(\n\u001b[1;32m    108\u001b[0m     \u001b[39mself\u001b[39;49m\u001b[39m.\u001b[39;49m_model_func, input_shape\n\u001b[1;32m    109\u001b[0m )\n\u001b[1;32m    111\u001b[0m \u001b[39mreturn\u001b[39;00m gradient_function, input_shape, output_shapes\n",
      "File \u001b[0;32m~/miniconda3/envs/protran/lib/python3.9/site-packages/receptivefield/pytorch.py:24\u001b[0m, in \u001b[0;36m_define_receptive_field_func\u001b[0;34m(model_fn, input_shape)\u001b[0m\n\u001b[1;32m     22\u001b[0m shape \u001b[39m=\u001b[39m [input_shape\u001b[39m.\u001b[39mn, input_shape\u001b[39m.\u001b[39mc, input_shape\u001b[39m.\u001b[39mh, input_shape\u001b[39m.\u001b[39mw]\n\u001b[1;32m     23\u001b[0m input_image \u001b[39m=\u001b[39m torch\u001b[39m.\u001b[39mzeros(\u001b[39m*\u001b[39mshape)\n\u001b[0;32m---> 24\u001b[0m model \u001b[39m=\u001b[39m model_fn()\n\u001b[1;32m     25\u001b[0m _ \u001b[39m=\u001b[39m model(input_image)\n\u001b[1;32m     27\u001b[0m feature_maps \u001b[39m=\u001b[39m model\u001b[39m.\u001b[39m\u001b[39m__dict__\u001b[39m\u001b[39m.\u001b[39mget(\u001b[39m\"\u001b[39m\u001b[39mfeature_maps\u001b[39m\u001b[39m\"\u001b[39m, \u001b[39mNone\u001b[39;00m)\n",
      "File \u001b[0;32m~/miniconda3/envs/protran/lib/python3.9/site-packages/torch/nn/modules/module.py:1130\u001b[0m, in \u001b[0;36mModule._call_impl\u001b[0;34m(self, *input, **kwargs)\u001b[0m\n\u001b[1;32m   1126\u001b[0m \u001b[39m# If we don't have any hooks, we want to skip the rest of the logic in\u001b[39;00m\n\u001b[1;32m   1127\u001b[0m \u001b[39m# this function, and just call forward.\u001b[39;00m\n\u001b[1;32m   1128\u001b[0m \u001b[39mif\u001b[39;00m \u001b[39mnot\u001b[39;00m (\u001b[39mself\u001b[39m\u001b[39m.\u001b[39m_backward_hooks \u001b[39mor\u001b[39;00m \u001b[39mself\u001b[39m\u001b[39m.\u001b[39m_forward_hooks \u001b[39mor\u001b[39;00m \u001b[39mself\u001b[39m\u001b[39m.\u001b[39m_forward_pre_hooks \u001b[39mor\u001b[39;00m _global_backward_hooks\n\u001b[1;32m   1129\u001b[0m         \u001b[39mor\u001b[39;00m _global_forward_hooks \u001b[39mor\u001b[39;00m _global_forward_pre_hooks):\n\u001b[0;32m-> 1130\u001b[0m     \u001b[39mreturn\u001b[39;00m forward_call(\u001b[39m*\u001b[39;49m\u001b[39minput\u001b[39;49m, \u001b[39m*\u001b[39;49m\u001b[39m*\u001b[39;49mkwargs)\n\u001b[1;32m   1131\u001b[0m \u001b[39m# Do not call functions when jit is used\u001b[39;00m\n\u001b[1;32m   1132\u001b[0m full_backward_hooks, non_full_backward_hooks \u001b[39m=\u001b[39m [], []\n",
      "\u001b[0;31mTypeError\u001b[0m: forward() missing 1 required positional argument: 'x'"
     ]
    }
   ],
   "source": [
    "rf = PytorchReceptiveField(model.model.embedder)\n",
    "rf_params = rf.compute(input_shape = (2,9))"
   ]
  },
  {
   "cell_type": "code",
   "execution_count": 5,
   "metadata": {},
   "outputs": [],
   "source": [
    "# from scr.model.receptive_field import receptive_field, receptive_field_for_unit"
   ]
  },
  {
   "cell_type": "code",
   "execution_count": 8,
   "metadata": {},
   "outputs": [],
   "source": [
    "seqs = [['TIM'], ['FRANCESCA']]\n",
    "x = collater(seqs)[0]  # (n, max_len)\n",
    "rep = model(x)  # (n, max_len, d_model)"
   ]
  },
  {
   "cell_type": "code",
   "execution_count": 37,
   "metadata": {},
   "outputs": [
    {
     "data": {
      "text/plain": [
       "tensor([[16,  7, 10, 27, 27, 27, 27, 27, 27],\n",
       "        [ 4, 14,  0, 11,  1,  3, 15,  1,  0]])"
      ]
     },
     "execution_count": 37,
     "metadata": {},
     "output_type": "execute_result"
    }
   ],
   "source": [
    "x"
   ]
  },
  {
   "cell_type": "code",
   "execution_count": 15,
   "metadata": {},
   "outputs": [
    {
     "data": {
      "text/plain": [
       "(torch.Size([2, 9]), torch.Size([2, 9, 128]))"
      ]
     },
     "execution_count": 15,
     "metadata": {},
     "output_type": "execute_result"
    }
   ],
   "source": [
    "x.shape, rep[\"representations\"][16].shape"
   ]
  },
  {
   "cell_type": "code",
   "execution_count": 33,
   "metadata": {},
   "outputs": [],
   "source": [
    "import torch\n",
    "import torch.nn as nn"
   ]
  },
  {
   "cell_type": "code",
   "execution_count": 38,
   "metadata": {},
   "outputs": [],
   "source": [
    "embedder = nn.Embedding(num_embeddings=30, embedding_dim=8, padding_idx=28)"
   ]
  },
  {
   "cell_type": "code",
   "execution_count": 39,
   "metadata": {},
   "outputs": [
    {
     "data": {
      "text/plain": [
       "torch.Size([2, 9, 8])"
      ]
     },
     "execution_count": 39,
     "metadata": {},
     "output_type": "execute_result"
    }
   ],
   "source": [
    "post_embed = embedder(x)\n",
    "post_embed.shape"
   ]
  },
  {
   "cell_type": "code",
   "execution_count": 40,
   "metadata": {},
   "outputs": [],
   "source": [
    "up_embedder = nn.Conv1d(\n",
    "        in_channels=8,\n",
    "        out_channels=128,\n",
    "        kernel_size=(1,),\n",
    "        stride=(1,),\n",
    "        padding=0,\n",
    "        dilation=1,\n",
    "        groups=1,\n",
    "        bias=True,\n",
    "        padding_mode=\"zeros\",\n",
    "        device=None,\n",
    "        dtype=None,\n",
    "    )"
   ]
  },
  {
   "cell_type": "code",
   "execution_count": 41,
   "metadata": {},
   "outputs": [
    {
     "data": {
      "text/plain": [
       "torch.Size([2, 9, 128])"
      ]
     },
     "execution_count": 41,
     "metadata": {},
     "output_type": "execute_result"
    }
   ],
   "source": [
    "post_upemb = up_embedder(post_embed.transpose(1, 2)).transpose(1, 2)\n",
    "post_upemb.shape"
   ]
  },
  {
   "cell_type": "code",
   "execution_count": 43,
   "metadata": {},
   "outputs": [
    {
     "data": {
      "text/plain": [
       "ByteNetBlock(\n",
       "  (conv): MaskedConv1d(64, 64, kernel_size=(5,), stride=(1,), padding=(2,))\n",
       "  (sequence1): Sequential(\n",
       "    (0): LayerNorm((128,), eps=1e-05, elementwise_affine=True)\n",
       "    (1): GELU(approximate=none)\n",
       "    (2): PositionFeedForward(\n",
       "      (conv): Conv1d(128, 64, kernel_size=(1,), stride=(1,))\n",
       "    )\n",
       "    (3): LayerNorm((64,), eps=1e-05, elementwise_affine=True)\n",
       "    (4): GELU(approximate=none)\n",
       "  )\n",
       "  (sequence2): Sequential(\n",
       "    (0): LayerNorm((64,), eps=1e-05, elementwise_affine=True)\n",
       "    (1): GELU(approximate=none)\n",
       "    (2): PositionFeedForward(\n",
       "      (conv): Conv1d(64, 128, kernel_size=(1,), stride=(1,))\n",
       "    )\n",
       "  )\n",
       ")"
      ]
     },
     "execution_count": 43,
     "metadata": {},
     "output_type": "execute_result"
    }
   ],
   "source": [
    "model.model.embedder.layers[0]"
   ]
  },
  {
   "cell_type": "code",
   "execution_count": 18,
   "metadata": {},
   "outputs": [
    {
     "name": "stdout",
     "output_type": "stream",
     "text": [
      "m_key: 1, p_key: 0\n",
      "receptive_field: OrderedDict([('0', OrderedDict([('j', 1.0), ('r', 1.0), ('start', 0.5), ('conv_stage', True), ('output_shape', [-1, 1, 8, 1280])])), ('1', OrderedDict())])\n",
      "receptive_field[p_key]: OrderedDict([('j', 1.0), ('r', 1.0), ('start', 0.5), ('conv_stage', True), ('output_shape', [-1, 1, 8, 1280])])\n",
      "m_key: 2, p_key: 1\n",
      "receptive_field: OrderedDict([('0', OrderedDict([('j', 1.0), ('r', 1.0), ('start', 0.5), ('conv_stage', True), ('output_shape', [-1, 1, 8, 1280])])), ('1', OrderedDict([('input_shape', [-1, 1, 8, 1280]), ('output_shape', [-1, 1, 8, 1280])])), ('2', OrderedDict())])\n",
      "receptive_field[p_key]: OrderedDict([('input_shape', [-1, 1, 8, 1280]), ('output_shape', [-1, 1, 8, 1280])])\n"
     ]
    },
    {
     "ename": "KeyError",
     "evalue": "'j'",
     "output_type": "error",
     "traceback": [
      "\u001b[0;31m---------------------------------------------------------------------------\u001b[0m",
      "\u001b[0;31mKeyError\u001b[0m                                  Traceback (most recent call last)",
      "Cell \u001b[0;32mIn[18], line 1\u001b[0m\n\u001b[0;32m----> 1\u001b[0m receptive_field_dict \u001b[39m=\u001b[39m receptive_field(model\u001b[39m.\u001b[39;49mmodel\u001b[39m.\u001b[39;49membedder\u001b[39m.\u001b[39;49mlayers[\u001b[39m0\u001b[39;49m]\u001b[39m.\u001b[39;49mto(\u001b[39m\"\u001b[39;49m\u001b[39mcuda\u001b[39;49m\u001b[39m\"\u001b[39;49m), input_size\u001b[39m=\u001b[39;49m(\u001b[39m1\u001b[39;49m, \u001b[39m8\u001b[39;49m, \u001b[39m1280\u001b[39;49m))\n\u001b[1;32m      2\u001b[0m \u001b[39m# receptive_field_for_unit(receptive_field_dict, \"1\", (1,1))\u001b[39;00m\n",
      "Cell \u001b[0;32mIn[13], line 157\u001b[0m, in \u001b[0;36mreceptive_field\u001b[0;34m(model, input_size, batch_size, device)\u001b[0m\n\u001b[1;32m    154\u001b[0m model\u001b[39m.\u001b[39mapply(register_hook)\n\u001b[1;32m    156\u001b[0m \u001b[39m# make a forward pass\u001b[39;00m\n\u001b[0;32m--> 157\u001b[0m model(x)\n\u001b[1;32m    159\u001b[0m \u001b[39m# remove these hooks\u001b[39;00m\n\u001b[1;32m    160\u001b[0m \u001b[39mfor\u001b[39;00m h \u001b[39min\u001b[39;00m hooks:\n",
      "File \u001b[0;32m~/miniconda3/envs/protran/lib/python3.9/site-packages/torch/nn/modules/module.py:1130\u001b[0m, in \u001b[0;36mModule._call_impl\u001b[0;34m(self, *input, **kwargs)\u001b[0m\n\u001b[1;32m   1126\u001b[0m \u001b[39m# If we don't have any hooks, we want to skip the rest of the logic in\u001b[39;00m\n\u001b[1;32m   1127\u001b[0m \u001b[39m# this function, and just call forward.\u001b[39;00m\n\u001b[1;32m   1128\u001b[0m \u001b[39mif\u001b[39;00m \u001b[39mnot\u001b[39;00m (\u001b[39mself\u001b[39m\u001b[39m.\u001b[39m_backward_hooks \u001b[39mor\u001b[39;00m \u001b[39mself\u001b[39m\u001b[39m.\u001b[39m_forward_hooks \u001b[39mor\u001b[39;00m \u001b[39mself\u001b[39m\u001b[39m.\u001b[39m_forward_pre_hooks \u001b[39mor\u001b[39;00m _global_backward_hooks\n\u001b[1;32m   1129\u001b[0m         \u001b[39mor\u001b[39;00m _global_forward_hooks \u001b[39mor\u001b[39;00m _global_forward_pre_hooks):\n\u001b[0;32m-> 1130\u001b[0m     \u001b[39mreturn\u001b[39;00m forward_call(\u001b[39m*\u001b[39;49m\u001b[39minput\u001b[39;49m, \u001b[39m*\u001b[39;49m\u001b[39m*\u001b[39;49mkwargs)\n\u001b[1;32m   1131\u001b[0m \u001b[39m# Do not call functions when jit is used\u001b[39;00m\n\u001b[1;32m   1132\u001b[0m full_backward_hooks, non_full_backward_hooks \u001b[39m=\u001b[39m [], []\n",
      "File \u001b[0;32m~/miniconda3/envs/protran/lib/python3.9/site-packages/sequence_models/convolutional.py:248\u001b[0m, in \u001b[0;36mByteNetBlock.forward\u001b[0;34m(self, x, input_mask)\u001b[0m\n\u001b[1;32m    241\u001b[0m \u001b[39mdef\u001b[39;00m \u001b[39mforward\u001b[39m(\u001b[39mself\u001b[39m, x, input_mask\u001b[39m=\u001b[39m\u001b[39mNone\u001b[39;00m):\n\u001b[1;32m    242\u001b[0m \u001b[39m    \u001b[39m\u001b[39m\"\"\"\u001b[39;00m\n\u001b[1;32m    243\u001b[0m \u001b[39m    :param x: (batch, length, in_channels)\u001b[39;00m\n\u001b[1;32m    244\u001b[0m \u001b[39m    :param input_mask: (batch, length, 1)\u001b[39;00m\n\u001b[1;32m    245\u001b[0m \u001b[39m    :return: (batch, length, out_channels)\u001b[39;00m\n\u001b[1;32m    246\u001b[0m \u001b[39m    \"\"\"\u001b[39;00m\n\u001b[1;32m    247\u001b[0m     \u001b[39mreturn\u001b[39;00m x \u001b[39m+\u001b[39m \u001b[39mself\u001b[39m\u001b[39m.\u001b[39msequence2(\n\u001b[0;32m--> 248\u001b[0m         \u001b[39mself\u001b[39m\u001b[39m.\u001b[39mconv(\u001b[39mself\u001b[39;49m\u001b[39m.\u001b[39;49msequence1(x), input_mask\u001b[39m=\u001b[39minput_mask)\n\u001b[1;32m    249\u001b[0m     )\n",
      "File \u001b[0;32m~/miniconda3/envs/protran/lib/python3.9/site-packages/torch/nn/modules/module.py:1130\u001b[0m, in \u001b[0;36mModule._call_impl\u001b[0;34m(self, *input, **kwargs)\u001b[0m\n\u001b[1;32m   1126\u001b[0m \u001b[39m# If we don't have any hooks, we want to skip the rest of the logic in\u001b[39;00m\n\u001b[1;32m   1127\u001b[0m \u001b[39m# this function, and just call forward.\u001b[39;00m\n\u001b[1;32m   1128\u001b[0m \u001b[39mif\u001b[39;00m \u001b[39mnot\u001b[39;00m (\u001b[39mself\u001b[39m\u001b[39m.\u001b[39m_backward_hooks \u001b[39mor\u001b[39;00m \u001b[39mself\u001b[39m\u001b[39m.\u001b[39m_forward_hooks \u001b[39mor\u001b[39;00m \u001b[39mself\u001b[39m\u001b[39m.\u001b[39m_forward_pre_hooks \u001b[39mor\u001b[39;00m _global_backward_hooks\n\u001b[1;32m   1129\u001b[0m         \u001b[39mor\u001b[39;00m _global_forward_hooks \u001b[39mor\u001b[39;00m _global_forward_pre_hooks):\n\u001b[0;32m-> 1130\u001b[0m     \u001b[39mreturn\u001b[39;00m forward_call(\u001b[39m*\u001b[39;49m\u001b[39minput\u001b[39;49m, \u001b[39m*\u001b[39;49m\u001b[39m*\u001b[39;49mkwargs)\n\u001b[1;32m   1131\u001b[0m \u001b[39m# Do not call functions when jit is used\u001b[39;00m\n\u001b[1;32m   1132\u001b[0m full_backward_hooks, non_full_backward_hooks \u001b[39m=\u001b[39m [], []\n",
      "File \u001b[0;32m~/miniconda3/envs/protran/lib/python3.9/site-packages/torch/nn/modules/container.py:139\u001b[0m, in \u001b[0;36mSequential.forward\u001b[0;34m(self, input)\u001b[0m\n\u001b[1;32m    137\u001b[0m \u001b[39mdef\u001b[39;00m \u001b[39mforward\u001b[39m(\u001b[39mself\u001b[39m, \u001b[39minput\u001b[39m):\n\u001b[1;32m    138\u001b[0m     \u001b[39mfor\u001b[39;00m module \u001b[39min\u001b[39;00m \u001b[39mself\u001b[39m:\n\u001b[0;32m--> 139\u001b[0m         \u001b[39minput\u001b[39m \u001b[39m=\u001b[39m module(\u001b[39minput\u001b[39;49m)\n\u001b[1;32m    140\u001b[0m     \u001b[39mreturn\u001b[39;00m \u001b[39minput\u001b[39m\n",
      "File \u001b[0;32m~/miniconda3/envs/protran/lib/python3.9/site-packages/torch/nn/modules/module.py:1151\u001b[0m, in \u001b[0;36mModule._call_impl\u001b[0;34m(self, *input, **kwargs)\u001b[0m\n\u001b[1;32m   1149\u001b[0m \u001b[39mif\u001b[39;00m _global_forward_hooks \u001b[39mor\u001b[39;00m \u001b[39mself\u001b[39m\u001b[39m.\u001b[39m_forward_hooks:\n\u001b[1;32m   1150\u001b[0m     \u001b[39mfor\u001b[39;00m hook \u001b[39min\u001b[39;00m (\u001b[39m*\u001b[39m_global_forward_hooks\u001b[39m.\u001b[39mvalues(), \u001b[39m*\u001b[39m\u001b[39mself\u001b[39m\u001b[39m.\u001b[39m_forward_hooks\u001b[39m.\u001b[39mvalues()):\n\u001b[0;32m-> 1151\u001b[0m         hook_result \u001b[39m=\u001b[39m hook(\u001b[39mself\u001b[39;49m, \u001b[39minput\u001b[39;49m, result)\n\u001b[1;32m   1152\u001b[0m         \u001b[39mif\u001b[39;00m hook_result \u001b[39mis\u001b[39;00m \u001b[39mnot\u001b[39;00m \u001b[39mNone\u001b[39;00m:\n\u001b[1;32m   1153\u001b[0m             result \u001b[39m=\u001b[39m hook_result\n",
      "Cell \u001b[0;32mIn[13], line 55\u001b[0m, in \u001b[0;36mreceptive_field.<locals>.register_hook.<locals>.hook\u001b[0;34m(module, input, output)\u001b[0m\n\u001b[1;32m     53\u001b[0m     receptive_field[m_key][\u001b[39m\"\u001b[39m\u001b[39mstart\u001b[39m\u001b[39m\"\u001b[39m] \u001b[39m=\u001b[39m \u001b[39m0\u001b[39m\n\u001b[1;32m     54\u001b[0m \u001b[39melse\u001b[39;00m:\n\u001b[0;32m---> 55\u001b[0m     p_j \u001b[39m=\u001b[39m receptive_field[p_key][\u001b[39m\"\u001b[39;49m\u001b[39mj\u001b[39;49m\u001b[39m\"\u001b[39;49m]\n\u001b[1;32m     56\u001b[0m     p_r \u001b[39m=\u001b[39m receptive_field[p_key][\u001b[39m\"\u001b[39m\u001b[39mr\u001b[39m\u001b[39m\"\u001b[39m]\n\u001b[1;32m     57\u001b[0m     p_start \u001b[39m=\u001b[39m receptive_field[p_key][\u001b[39m\"\u001b[39m\u001b[39mstart\u001b[39m\u001b[39m\"\u001b[39m]\n",
      "\u001b[0;31mKeyError\u001b[0m: 'j'"
     ]
    }
   ],
   "source": [
    "\n",
    "receptive_field_dict = receptive_field(model.model.embedder.layers[0].to(\"cuda\"), input_size=(1, 8, 1280))\n",
    "# receptive_field_for_unit(receptive_field_dict, \"1\", (1,1))"
   ]
  },
  {
   "cell_type": "code",
   "execution_count": null,
   "metadata": {},
   "outputs": [],
   "source": []
  }
 ],
 "metadata": {
  "kernelspec": {
   "display_name": "protran",
   "language": "python",
   "name": "python3"
  },
  "language_info": {
   "codemirror_mode": {
    "name": "ipython",
    "version": 3
   },
   "file_extension": ".py",
   "mimetype": "text/x-python",
   "name": "python",
   "nbconvert_exporter": "python",
   "pygments_lexer": "ipython3",
   "version": "3.9.10"
  },
  "orig_nbformat": 4
 },
 "nbformat": 4,
 "nbformat_minor": 2
}
