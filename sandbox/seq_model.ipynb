{
 "cells": [
  {
   "cell_type": "markdown",
   "metadata": {},
   "source": [
    "# CARP"
   ]
  },
  {
   "cell_type": "code",
   "execution_count": 1,
   "metadata": {},
   "outputs": [
    {
     "name": "stdout",
     "output_type": "stream",
     "text": [
      "/home/t-fli/repo/protein-transfer\n"
     ]
    }
   ],
   "source": [
    "%cd ~/repo/protein-transfer"
   ]
  },
  {
   "cell_type": "code",
   "execution_count": 2,
   "metadata": {},
   "outputs": [],
   "source": [
    "%load_ext blackcellmagic"
   ]
  },
  {
   "cell_type": "code",
   "execution_count": 3,
   "metadata": {},
   "outputs": [],
   "source": [
    "from scr.encoding.encoding_classes import CARPEncoder"
   ]
  },
  {
   "cell_type": "code",
   "execution_count": 4,
   "metadata": {},
   "outputs": [],
   "source": [
    "from scr.utils import pickle_load\n",
    "import pandas as pd"
   ]
  },
  {
   "cell_type": "code",
   "execution_count": 5,
   "metadata": {},
   "outputs": [],
   "source": [
    "df = pd.read_csv(\"data/proeng/gb1/two_vs_rest.csv\")"
   ]
  },
  {
   "cell_type": "code",
   "execution_count": 6,
   "metadata": {},
   "outputs": [
    {
     "data": {
      "text/plain": [
       "(381, 43, 7817, 8242)"
      ]
     },
     "execution_count": 6,
     "metadata": {},
     "output_type": "execute_result"
    }
   ],
   "source": [
    "df_train = df.loc[(df[\"set\"] == \"train\") & (df[\"validation\"] != True)]\n",
    "df_val = df.loc[(df[\"set\"] == \"train\") & (df[\"validation\"] == True)]\n",
    "df_test = df.loc[(df[\"set\"] == \"test\")]\n",
    "\n",
    "len(df_train), len(df_val), len(df_test), len(df)"
   ]
  },
  {
   "cell_type": "code",
   "execution_count": 7,
   "metadata": {},
   "outputs": [
    {
     "data": {
      "text/plain": [
       "[['MQYKLILNGKTLKGETTTEAVDAATAEKVFKQYANDNGVNGEWTYDDATKTFTVTE'],\n",
       " ['MQYKLILNGKTLKGETTTEAVDAATAEKVFKQYANDNGEYGEWTYDDATKTFTVTE']]"
      ]
     },
     "execution_count": 7,
     "metadata": {},
     "output_type": "execute_result"
    }
   ],
   "source": [
    "\n",
    "seqs = [[seq] for seq in df_val.sequence.astype(str).str[0 : 56].values[0:2]]\n",
    "seqs"
   ]
  },
  {
   "cell_type": "code",
   "execution_count": 8,
   "metadata": {},
   "outputs": [
    {
     "data": {
      "text/plain": [
       "['MQYKLILNGKTLKGETTTEAVDAATAEKVFKQYANDNGVNGEWTYDDATKTFTVTE',\n",
       " 'MQYKLILNGKTLKGETTTEAVDAATAEKVFKQYANDNGEYGEWTYDDATKTFTVTE']"
      ]
     },
     "execution_count": 8,
     "metadata": {},
     "output_type": "execute_result"
    }
   ],
   "source": [
    "list(df_val.sequence.astype(str).str[0 : 56].values[0:2])"
   ]
  },
  {
   "cell_type": "code",
   "execution_count": 9,
   "metadata": {},
   "outputs": [
    {
     "name": "stdout",
     "output_type": "stream",
     "text": [
      "Generating carp_600k upto 16 layer embedding ...\n",
      "No embedding flattening\n",
      "No embedding flattening\n",
      "No embedding flattening\n",
      "No embedding flattening\n",
      "No embedding flattening\n",
      "No embedding flattening\n",
      "No embedding flattening\n",
      "No embedding flattening\n",
      "No embedding flattening\n",
      "No embedding flattening\n",
      "No embedding flattening\n",
      "No embedding flattening\n",
      "No embedding flattening\n",
      "No embedding flattening\n",
      "No embedding flattening\n",
      "No embedding flattening\n"
     ]
    },
    {
     "data": {
      "text/plain": [
       "(array([[[ 0.1123378 , -0.03096455,  0.09588866, ..., -0.21515828,\n",
       "          -0.41078544,  0.8417189 ],\n",
       "         [ 0.20500934, -0.14373404, -0.15035409, ...,  0.13152508,\n",
       "          -0.129341  ,  0.50128317],\n",
       "         [ 0.42361322, -0.09426615,  0.04951379, ...,  0.22084078,\n",
       "          -3.9057856 ,  0.7927066 ],\n",
       "         ...,\n",
       "         [ 0.31486925, -0.00696402,  0.12247566, ..., -0.05261485,\n",
       "          -4.633561  ,  0.5593644 ],\n",
       "         [ 0.27489305, -0.01615846,  0.14888935, ..., -0.03519905,\n",
       "           0.3777458 ,  0.5697537 ],\n",
       "         [ 0.34990996,  0.2566081 ,  0.21758933, ...,  0.10277106,\n",
       "          -3.0541043 ,  0.3111604 ]],\n",
       " \n",
       "        [[ 0.1123378 , -0.03096455,  0.09588866, ..., -0.21515828,\n",
       "          -0.41078544,  0.8417189 ],\n",
       "         [ 0.20500934, -0.14373404, -0.15035409, ...,  0.13152508,\n",
       "          -0.129341  ,  0.50128317],\n",
       "         [ 0.42361322, -0.09426615,  0.04951379, ...,  0.22084078,\n",
       "          -3.9057856 ,  0.7927066 ],\n",
       "         ...,\n",
       "         [ 0.31486925, -0.00696402,  0.12247566, ..., -0.05261485,\n",
       "          -4.633561  ,  0.5593644 ],\n",
       "         [ 0.27489305, -0.01615846,  0.14888935, ..., -0.03519905,\n",
       "           0.3777458 ,  0.5697537 ],\n",
       "         [ 0.34990996,  0.2566081 ,  0.21758933, ...,  0.10277106,\n",
       "          -3.0541043 ,  0.3111604 ]]], dtype=float32),\n",
       " (2, 56, 128))"
      ]
     },
     "execution_count": 9,
     "metadata": {},
     "output_type": "execute_result"
    }
   ],
   "source": [
    "no_flat_encoder = CARPEncoder(\n",
    "    encoder_name=\"carp_600k\",\n",
    ").encode(mut_seqs=list(df_val.sequence.astype(str).str[0 : 56].values[0:2]))\n",
    "one_emb = next(no_flat_encoder)\n",
    "one_emb[0], one_emb[0].shape"
   ]
  },
  {
   "cell_type": "code",
   "execution_count": 10,
   "metadata": {},
   "outputs": [
    {
     "name": "stdout",
     "output_type": "stream",
     "text": [
      "Generating carp_600k upto 16 layer embedding ...\n"
     ]
    },
    {
     "data": {
      "text/plain": [
       "(2, 128)"
      ]
     },
     "execution_count": 10,
     "metadata": {},
     "output_type": "execute_result"
    }
   ],
   "source": [
    "mean_flat_encoder = CARPEncoder(\n",
    "    encoder_name=\"carp_600k\",\n",
    ").encode(mut_seqs=list(df_val.sequence.astype(str).str[0 : 56].values[0:2]),flatten_emb=\"mean\")\n",
    "one_mean_emb = next(mean_flat_encoder)\n",
    "one_mean_emb[0].shape"
   ]
  },
  {
   "cell_type": "code",
   "execution_count": 11,
   "metadata": {},
   "outputs": [
    {
     "data": {
      "text/plain": [
       "(tensor([[[ 0.1123, -0.0310,  0.0959,  ..., -0.2152, -0.4108,  0.8417],\n",
       "          [ 0.2050, -0.1437, -0.1504,  ...,  0.1315, -0.1293,  0.5013],\n",
       "          [ 0.4236, -0.0943,  0.0495,  ...,  0.2208, -3.9058,  0.7927],\n",
       "          ...,\n",
       "          [ 0.3149, -0.0070,  0.1225,  ..., -0.0526, -4.6336,  0.5594],\n",
       "          [ 0.2749, -0.0162,  0.1489,  ..., -0.0352,  0.3777,  0.5698],\n",
       "          [ 0.3499,  0.2566,  0.2176,  ...,  0.1028, -3.0541,  0.3112]],\n",
       " \n",
       "         [[ 0.1123, -0.0310,  0.0959,  ..., -0.2152, -0.4108,  0.8417],\n",
       "          [ 0.2050, -0.1437, -0.1504,  ...,  0.1315, -0.1293,  0.5013],\n",
       "          [ 0.4236, -0.0943,  0.0495,  ...,  0.2208, -3.9058,  0.7927],\n",
       "          ...,\n",
       "          [ 0.3149, -0.0070,  0.1225,  ..., -0.0526, -4.6336,  0.5594],\n",
       "          [ 0.2749, -0.0162,  0.1489,  ..., -0.0352,  0.3777,  0.5698],\n",
       "          [ 0.3499,  0.2566,  0.2176,  ...,  0.1028, -3.0541,  0.3112]]]),\n",
       " torch.Size([2, 56, 128]))"
      ]
     },
     "execution_count": 11,
     "metadata": {},
     "output_type": "execute_result"
    }
   ],
   "source": [
    "from sequence_models.pretrained import load_model_and_alphabet\n",
    "\n",
    "model, collater = load_model_and_alphabet('carp_600k')\n",
    "\n",
    "x = collater(seqs)[0]  # (n, max_len)\n",
    "# rep = model(x)  # (n, max_len, d_model)\n",
    "\n",
    "activation = {}\n",
    "def get_activation(name):\n",
    "    def hook(model, input, output):\n",
    "        activation[name] = output.detach()\n",
    "    return hook\n",
    "\n",
    "model.model.embedder.layers[0].register_forward_hook(get_activation(\"layer0\"))\n",
    "\n",
    "rep = model(x)\n",
    "\n",
    "activation[\"layer0\"], activation[\"layer0\"].shape"
   ]
  },
  {
   "cell_type": "code",
   "execution_count": 12,
   "metadata": {},
   "outputs": [
    {
     "data": {
      "text/plain": [
       "(dict_keys(['representations', 0]),\n",
       " dict_keys([1, 2]),\n",
       " tensor([[[ 0.1829,  0.1422,  0.0960,  ...,  0.1757, -0.4901,  0.1721],\n",
       "          [ 0.1508,  0.1438, -0.0511,  ...,  0.2018,  0.7165,  0.2890],\n",
       "          [ 0.0963,  0.2517,  0.1105,  ...,  0.2192, -2.5209,  0.4881],\n",
       "          ...,\n",
       "          [ 0.0797,  0.0780,  0.0807,  ...,  0.1697, -3.6828,  0.1462],\n",
       "          [ 0.1263,  0.1968,  0.2430,  ...,  0.0919,  1.3361,  0.5400],\n",
       "          [ 0.1361,  0.2477,  0.1058,  ...,  0.0659, -1.3406,  0.3698]],\n",
       " \n",
       "         [[ 0.1829,  0.1422,  0.0960,  ...,  0.1757, -0.4901,  0.1721],\n",
       "          [ 0.1508,  0.1438, -0.0511,  ...,  0.2018,  0.7165,  0.2890],\n",
       "          [ 0.0963,  0.2517,  0.1105,  ...,  0.2192, -2.5209,  0.4881],\n",
       "          ...,\n",
       "          [ 0.0797,  0.0780,  0.0807,  ...,  0.1697, -3.6828,  0.1462],\n",
       "          [ 0.1263,  0.1968,  0.2430,  ...,  0.0919,  1.3361,  0.5400],\n",
       "          [ 0.1361,  0.2477,  0.1058,  ...,  0.0659, -1.3406,  0.3698]]],\n",
       "        grad_fn=<TransposeBackward0>),\n",
       " tensor([[[ 0.1123, -0.0310,  0.0959,  ..., -0.2152, -0.4108,  0.8417],\n",
       "          [ 0.2050, -0.1437, -0.1504,  ...,  0.1315, -0.1293,  0.5013],\n",
       "          [ 0.4236, -0.0943,  0.0495,  ...,  0.2208, -3.9058,  0.7927],\n",
       "          ...,\n",
       "          [ 0.3149, -0.0070,  0.1225,  ..., -0.0526, -4.6336,  0.5594],\n",
       "          [ 0.2749, -0.0162,  0.1489,  ..., -0.0352,  0.3777,  0.5698],\n",
       "          [ 0.3499,  0.2566,  0.2176,  ...,  0.1028, -3.0541,  0.3112]],\n",
       " \n",
       "         [[ 0.1123, -0.0310,  0.0959,  ..., -0.2152, -0.4108,  0.8417],\n",
       "          [ 0.2050, -0.1437, -0.1504,  ...,  0.1315, -0.1293,  0.5013],\n",
       "          [ 0.4236, -0.0943,  0.0495,  ...,  0.2208, -3.9058,  0.7927],\n",
       "          ...,\n",
       "          [ 0.3149, -0.0070,  0.1225,  ..., -0.0526, -4.6336,  0.5594],\n",
       "          [ 0.2749, -0.0162,  0.1489,  ..., -0.0352,  0.3777,  0.5698],\n",
       "          [ 0.3499,  0.2566,  0.2176,  ...,  0.1028, -3.0541,  0.3112]]],\n",
       "        grad_fn=<AddBackward0>))"
      ]
     },
     "execution_count": 12,
     "metadata": {},
     "output_type": "execute_result"
    }
   ],
   "source": [
    "rep = model(x, repr_layers=[0, 1, 2])\n",
    "# rep = model(x, repr_layers=[0, 2, 32], logits=True)\n",
    "rep.keys(), rep[\"representations\"].keys(), rep[0], rep[\"representations\"][1]"
   ]
  },
  {
   "cell_type": "code",
   "execution_count": 13,
   "metadata": {},
   "outputs": [],
   "source": [
    "seqs = [['MDREQ'], ['MGTRXXLP']]\n",
    "x = collater(seqs)[0]  # (n, max_len)\n",
    "rep = model(x)  # (n, max_len, d_model)"
   ]
  },
  {
   "cell_type": "code",
   "execution_count": 14,
   "metadata": {},
   "outputs": [
    {
     "data": {
      "text/plain": [
       "(dict_keys(['representations']), dict_keys([16]))"
      ]
     },
     "execution_count": 14,
     "metadata": {},
     "output_type": "execute_result"
    }
   ],
   "source": [
    "rep.keys(), rep[\"representations\"].keys()"
   ]
  },
  {
   "cell_type": "code",
   "execution_count": null,
   "metadata": {},
   "outputs": [],
   "source": []
  }
 ],
 "metadata": {
  "kernelspec": {
   "display_name": "Python 3.9.13 ('protran')",
   "language": "python",
   "name": "python3"
  },
  "language_info": {
   "codemirror_mode": {
    "name": "ipython",
    "version": 3
   },
   "file_extension": ".py",
   "mimetype": "text/x-python",
   "name": "python",
   "nbconvert_exporter": "python",
   "pygments_lexer": "ipython3",
   "version": "3.9.2"
  },
  "orig_nbformat": 4,
  "vscode": {
   "interpreter": {
    "hash": "019692f042c79b6731ff84413c6b50d6174007f2b51f86eed1fb032dbd4a337e"
   }
  }
 },
 "nbformat": 4,
 "nbformat_minor": 2
}
