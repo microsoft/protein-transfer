{
 "cells": [
  {
   "cell_type": "markdown",
   "metadata": {},
   "source": [
    "# CARP"
   ]
  },
  {
   "cell_type": "code",
   "execution_count": 1,
   "metadata": {},
   "outputs": [],
   "source": [
    "from sequence_models.pretrained import load_model_and_alphabet"
   ]
  },
  {
   "cell_type": "code",
   "execution_count": 22,
   "metadata": {},
   "outputs": [],
   "source": [
    "model, collater = load_model_and_alphabet('carp_640M')"
   ]
  },
  {
   "cell_type": "code",
   "execution_count": 23,
   "metadata": {},
   "outputs": [
    {
     "data": {
      "text/plain": [
       "tensor([[10,  2, 14,  3, 13, 27, 27, 27],\n",
       "        [10,  5, 16, 14, 14,  9,  9, 12]])"
      ]
     },
     "execution_count": 23,
     "metadata": {},
     "output_type": "execute_result"
    }
   ],
   "source": [
    "seqs = [['MDREQ'], ['MGTRRLLP']]\n",
    "x = collater(seqs)[0]  # (n, max_len)\n",
    "x\n",
    "# rep = model(x)  # (n, max_len, d_model)"
   ]
  },
  {
   "cell_type": "code",
   "execution_count": 12,
   "metadata": {},
   "outputs": [
    {
     "data": {
      "text/plain": [
       "(tensor([[10,  2, 14,  3, 13, 27, 27, 27],\n",
       "         [10,  5, 16, 14, 14,  9,  9, 12]]),)"
      ]
     },
     "execution_count": 12,
     "metadata": {},
     "output_type": "execute_result"
    }
   ],
   "source": [
    "collater(seqs)"
   ]
  },
  {
   "cell_type": "code",
   "execution_count": 24,
   "metadata": {},
   "outputs": [
    {
     "data": {
      "text/plain": [
       "tensor([[[ -1.0284,  -8.3767,   7.8792,  ...,   7.2597,  -1.1452,  -0.8462],\n",
       "         [  4.6713,  15.8570,   1.1478,  ...,   0.7353, -11.8218,   3.7328],\n",
       "         [  8.4552,  17.9306,   0.5176,  ...,   3.0368,  -8.7715,   0.5799],\n",
       "         ...,\n",
       "         [ 15.8914,  32.4650,   1.8229,  ...,  -1.0857,  -3.7955,   3.6075],\n",
       "         [ 22.5673,  29.2003,  -4.6042,  ...,  -1.7818,  -3.7571,   9.1396],\n",
       "         [ 15.0128,  30.3642,   0.1932,  ...,  -5.9510,   7.3621,   8.7913]],\n",
       "\n",
       "        [[ -0.3449, -18.9636,   1.3514,  ...,   3.3504,  -1.8757,   2.4882],\n",
       "         [ 10.1161,  24.4867,  20.2836,  ...,  18.4754,  -9.3882,   4.8050],\n",
       "         [ 18.6814,  -3.9989,  -4.1916,  ...,  -2.4737,  -3.2648,   4.1230],\n",
       "         ...,\n",
       "         [ 13.9370,  16.6294,  10.2726,  ...,  -6.0374, -15.9087,  -4.9570],\n",
       "         [ 12.7606,  14.4539,   7.7045,  ...,  -7.9381, -13.7480,  -6.9303],\n",
       "         [  9.8845,  -6.2927,   0.5083,  ...,   1.9903,  -7.2040,   3.5530]]],\n",
       "       grad_fn=<AddBackward0>)"
      ]
     },
     "execution_count": 24,
     "metadata": {},
     "output_type": "execute_result"
    }
   ],
   "source": [
    "model(x)"
   ]
  },
  {
   "cell_type": "code",
   "execution_count": 16,
   "metadata": {},
   "outputs": [
    {
     "data": {
      "text/plain": [
       "<generator object Module.parameters at 0x7f9d86a28c80>"
      ]
     },
     "execution_count": 16,
     "metadata": {},
     "output_type": "execute_result"
    }
   ],
   "source": [
    "model.model.embedder.layers[0].parameters()"
   ]
  },
  {
   "cell_type": "code",
   "execution_count": 25,
   "metadata": {},
   "outputs": [
    {
     "data": {
      "text/plain": [
       "<torch.utils.hooks.RemovableHandle at 0x7f9d869a44c0>"
      ]
     },
     "execution_count": 25,
     "metadata": {},
     "output_type": "execute_result"
    }
   ],
   "source": [
    "model.model.embedder.layers[0].register_forward_hook(lambda m, input, output: print(output))"
   ]
  },
  {
   "cell_type": "code",
   "execution_count": 26,
   "metadata": {},
   "outputs": [
    {
     "name": "stdout",
     "output_type": "stream",
     "text": [
      "tensor([[[-0.5807, -3.8715,  0.3539,  ...,  0.5167,  0.7709,  0.3575],\n",
      "         [ 0.2141,  0.5058, -0.6233,  ...,  0.1069,  0.3125,  0.1335],\n",
      "         [-0.4885,  1.5820, -0.7261,  ...,  0.6289, -0.1414,  0.0143],\n",
      "         ...,\n",
      "         [-0.1115,  1.1351, -0.5492,  ...,  0.9252, -0.5605, -0.8744],\n",
      "         [-0.5841,  0.9891, -0.4321,  ...,  0.6899, -0.4982, -0.8168],\n",
      "         [ 0.3778,  1.1565, -0.6100,  ...,  0.1163, -0.5558,  0.1095]],\n",
      "\n",
      "        [[ 0.0379, -4.0834, -0.4890,  ...,  0.3069,  0.8966,  0.5201],\n",
      "         [ 0.0405,  0.7682,  0.2539,  ...,  0.1911, -0.5259,  0.1394],\n",
      "         [ 0.2669, -3.0594, -0.4116,  ...,  0.1007,  0.1165,  0.1414],\n",
      "         ...,\n",
      "         [-0.0587,  0.2477,  0.8138,  ...,  0.4770, -0.2852,  0.0514],\n",
      "         [-0.3768,  0.9766, -0.2094,  ...,  0.1544,  0.0924, -0.0869],\n",
      "         [-0.5286, -2.1833, -1.1581,  ..., -0.2358, -0.1124,  0.3132]]],\n",
      "       grad_fn=<AddBackward0>)\n"
     ]
    },
    {
     "data": {
      "text/plain": [
       "tensor([[[ -1.0284,  -8.3767,   7.8792,  ...,   7.2597,  -1.1452,  -0.8462],\n",
       "         [  4.6713,  15.8570,   1.1478,  ...,   0.7353, -11.8218,   3.7328],\n",
       "         [  8.4552,  17.9306,   0.5176,  ...,   3.0368,  -8.7715,   0.5799],\n",
       "         ...,\n",
       "         [ 15.8914,  32.4650,   1.8229,  ...,  -1.0857,  -3.7955,   3.6075],\n",
       "         [ 22.5673,  29.2003,  -4.6042,  ...,  -1.7818,  -3.7571,   9.1396],\n",
       "         [ 15.0128,  30.3642,   0.1932,  ...,  -5.9510,   7.3621,   8.7913]],\n",
       "\n",
       "        [[ -0.3449, -18.9636,   1.3514,  ...,   3.3504,  -1.8757,   2.4882],\n",
       "         [ 10.1161,  24.4867,  20.2836,  ...,  18.4754,  -9.3882,   4.8050],\n",
       "         [ 18.6814,  -3.9989,  -4.1916,  ...,  -2.4737,  -3.2648,   4.1230],\n",
       "         ...,\n",
       "         [ 13.9370,  16.6294,  10.2726,  ...,  -6.0374, -15.9087,  -4.9570],\n",
       "         [ 12.7606,  14.4539,   7.7045,  ...,  -7.9381, -13.7480,  -6.9303],\n",
       "         [  9.8845,  -6.2927,   0.5083,  ...,   1.9903,  -7.2040,   3.5530]]],\n",
       "       grad_fn=<AddBackward0>)"
      ]
     },
     "execution_count": 26,
     "metadata": {},
     "output_type": "execute_result"
    }
   ],
   "source": [
    "model(x)"
   ]
  },
  {
   "cell_type": "code",
   "execution_count": null,
   "metadata": {},
   "outputs": [],
   "source": []
  }
 ],
 "metadata": {
  "kernelspec": {
   "display_name": "Python 3.9.13 ('protran')",
   "language": "python",
   "name": "python3"
  },
  "language_info": {
   "codemirror_mode": {
    "name": "ipython",
    "version": 3
   },
   "file_extension": ".py",
   "mimetype": "text/x-python",
   "name": "python",
   "nbconvert_exporter": "python",
   "pygments_lexer": "ipython3",
   "version": "3.9.2"
  },
  "orig_nbformat": 4,
  "vscode": {
   "interpreter": {
    "hash": "019692f042c79b6731ff84413c6b50d6174007f2b51f86eed1fb032dbd4a337e"
   }
  }
 },
 "nbformat": 4,
 "nbformat_minor": 2
}
