{
 "cells": [
  {
   "cell_type": "markdown",
   "metadata": {},
   "source": [
    "# CARP"
   ]
  },
  {
   "cell_type": "code",
   "execution_count": 1,
   "metadata": {},
   "outputs": [
    {
     "name": "stdout",
     "output_type": "stream",
     "text": [
      "/home/t-fli/repo/protein-transfer\n"
     ]
    }
   ],
   "source": [
    "%cd ~/repo/protein-transfer"
   ]
  },
  {
   "cell_type": "code",
   "execution_count": 2,
   "metadata": {},
   "outputs": [],
   "source": [
    "%load_ext blackcellmagic"
   ]
  },
  {
   "cell_type": "code",
   "execution_count": 18,
   "metadata": {},
   "outputs": [
    {
     "name": "stdout",
     "output_type": "stream",
     "text": [
      "Requirement already satisfied: sequence-models in /anaconda/envs/protran/lib/python3.9/site-packages (1.3.0)\n"
     ]
    }
   ],
   "source": [
    "!pip install sequence-models"
   ]
  },
  {
   "cell_type": "code",
   "execution_count": 3,
   "metadata": {},
   "outputs": [],
   "source": [
    "from scr.encoding.encoding_classes import CARPEncoder"
   ]
  },
  {
   "cell_type": "code",
   "execution_count": 4,
   "metadata": {},
   "outputs": [],
   "source": [
    "from scr.utils import pickle_load"
   ]
  },
  {
   "cell_type": "code",
   "execution_count": 5,
   "metadata": {},
   "outputs": [],
   "source": [
    "df = pickle_load(\"data/proeng/gb1/two_vs_rest.pkl\")"
   ]
  },
  {
   "cell_type": "code",
   "execution_count": 6,
   "metadata": {},
   "outputs": [
    {
     "data": {
      "text/plain": [
       "(381, 43, 8309, 8733)"
      ]
     },
     "execution_count": 6,
     "metadata": {},
     "output_type": "execute_result"
    }
   ],
   "source": [
    "df_train = df.loc[(df[\"set\"] == \"train\") & (df[\"validation\"] != True)]\n",
    "df_val = df.loc[(df[\"set\"] == \"train\") & (df[\"validation\"] == True)]\n",
    "df_test = df.loc[(df[\"set\"] == \"test\")]\n",
    "\n",
    "len(df_train), len(df_val), len(df_test), len(df)"
   ]
  },
  {
   "cell_type": "code",
   "execution_count": 7,
   "metadata": {},
   "outputs": [
    {
     "data": {
      "text/plain": [
       "[['MQYKLILNGKTLKGETTTEAVDAATAEKVFKQYANDNGVNGEWTYDDATKTFTVTE'],\n",
       " ['MQYKLILNGKTLKGETTTEAVDAATAEKVFKQYANDNGEYGEWTYDDATKTFTVTE']]"
      ]
     },
     "execution_count": 7,
     "metadata": {},
     "output_type": "execute_result"
    }
   ],
   "source": [
    "\n",
    "seqs = [[seq] for seq in df_val.sequence.astype(str).str[0 : 56].values[0:2]]\n",
    "seqs"
   ]
  },
  {
   "cell_type": "code",
   "execution_count": 8,
   "metadata": {},
   "outputs": [
    {
     "data": {
      "text/plain": [
       "['MQYKLILNGKTLKGETTTEAVDAATAEKVFKQYANDNGVNGEWTYDDATKTFTVTE',\n",
       " 'MQYKLILNGKTLKGETTTEAVDAATAEKVFKQYANDNGEYGEWTYDDATKTFTVTE']"
      ]
     },
     "execution_count": 8,
     "metadata": {},
     "output_type": "execute_result"
    }
   ],
   "source": [
    "list(df_val.sequence.astype(str).str[0 : 56].values[0:2])"
   ]
  },
  {
   "cell_type": "code",
   "execution_count": 12,
   "metadata": {},
   "outputs": [
    {
     "name": "stdout",
     "output_type": "stream",
     "text": [
      "Generating carp_600k upto 16 layer embedding ...\n",
      "No embedding flattening\n",
      "No embedding flattening\n",
      "No embedding flattening\n",
      "No embedding flattening\n",
      "No embedding flattening\n",
      "No embedding flattening\n",
      "No embedding flattening\n",
      "No embedding flattening\n",
      "No embedding flattening\n",
      "No embedding flattening\n",
      "No embedding flattening\n",
      "No embedding flattening\n",
      "No embedding flattening\n",
      "No embedding flattening\n",
      "No embedding flattening\n",
      "No embedding flattening\n"
     ]
    },
    {
     "data": {
      "text/plain": [
       "(array([[[ 0.11233799, -0.0309646 ,  0.09588872, ..., -0.21515834,\n",
       "          -0.41078556,  0.841719  ],\n",
       "         [ 0.2050094 , -0.14373398, -0.15035415, ...,  0.13152511,\n",
       "          -0.129341  ,  0.5012831 ],\n",
       "         [ 0.4236133 , -0.09426638,  0.04951385, ...,  0.22084066,\n",
       "          -3.9057858 ,  0.7927067 ],\n",
       "         ...,\n",
       "         [ 0.31486928, -0.00696394,  0.12247564, ..., -0.05261476,\n",
       "          -4.633561  ,  0.5593643 ],\n",
       "         [ 0.27489308, -0.01615848,  0.14888932, ..., -0.03519903,\n",
       "           0.3777457 ,  0.5697537 ],\n",
       "         [ 0.34990993,  0.25660816,  0.21758933, ...,  0.10277103,\n",
       "          -3.0541046 ,  0.3111604 ]],\n",
       " \n",
       "        [[ 0.11233799, -0.0309646 ,  0.09588872, ..., -0.21515834,\n",
       "          -0.41078556,  0.841719  ],\n",
       "         [ 0.2050094 , -0.14373398, -0.15035415, ...,  0.13152511,\n",
       "          -0.129341  ,  0.5012831 ],\n",
       "         [ 0.4236133 , -0.09426638,  0.04951385, ...,  0.22084066,\n",
       "          -3.9057858 ,  0.7927067 ],\n",
       "         ...,\n",
       "         [ 0.31486928, -0.00696394,  0.12247564, ..., -0.05261476,\n",
       "          -4.633561  ,  0.5593643 ],\n",
       "         [ 0.27489308, -0.01615848,  0.14888932, ..., -0.03519903,\n",
       "           0.3777457 ,  0.5697537 ],\n",
       "         [ 0.34990993,  0.25660816,  0.21758933, ...,  0.10277103,\n",
       "          -3.0541046 ,  0.3111604 ]]], dtype=float32),\n",
       " (2, 56, 128))"
      ]
     },
     "execution_count": 12,
     "metadata": {},
     "output_type": "execute_result"
    }
   ],
   "source": [
    "no_flat_encoder = CARPEncoder(\n",
    "    encoder_name=\"carp_600k\",\n",
    ").encode(mut_seqs=list(df_val.sequence.astype(str).str[0 : 56].values[0:2]))\n",
    "one_emb = next(no_flat_encoder)\n",
    "one_emb[0], one_emb[0].shape"
   ]
  },
  {
   "cell_type": "code",
   "execution_count": 15,
   "metadata": {},
   "outputs": [
    {
     "name": "stdout",
     "output_type": "stream",
     "text": [
      "Generating carp_600k upto 16 layer embedding ...\n"
     ]
    },
    {
     "data": {
      "text/plain": [
       "(2, 128)"
      ]
     },
     "execution_count": 15,
     "metadata": {},
     "output_type": "execute_result"
    }
   ],
   "source": [
    "mean_flat_encoder = CARPEncoder(\n",
    "    encoder_name=\"carp_600k\",\n",
    ").encode(mut_seqs=list(df_val.sequence.astype(str).str[0 : 56].values[0:2]),flatten_emb=\"mean\")\n",
    "one_mean_emb = next(mean_flat_encoder)\n",
    "one_mean_emb[0].shape"
   ]
  },
  {
   "cell_type": "code",
   "execution_count": 10,
   "metadata": {},
   "outputs": [
    {
     "data": {
      "text/plain": [
       "(tensor([[[ 0.1123, -0.0310,  0.0959,  ..., -0.2152, -0.4108,  0.8417],\n",
       "          [ 0.2050, -0.1437, -0.1504,  ...,  0.1315, -0.1293,  0.5013],\n",
       "          [ 0.4236, -0.0943,  0.0495,  ...,  0.2208, -3.9058,  0.7927],\n",
       "          ...,\n",
       "          [ 0.3149, -0.0070,  0.1225,  ..., -0.0526, -4.6336,  0.5594],\n",
       "          [ 0.2749, -0.0162,  0.1489,  ..., -0.0352,  0.3777,  0.5698],\n",
       "          [ 0.3499,  0.2566,  0.2176,  ...,  0.1028, -3.0541,  0.3112]],\n",
       " \n",
       "         [[ 0.1123, -0.0310,  0.0959,  ..., -0.2152, -0.4108,  0.8417],\n",
       "          [ 0.2050, -0.1437, -0.1504,  ...,  0.1315, -0.1293,  0.5013],\n",
       "          [ 0.4236, -0.0943,  0.0495,  ...,  0.2208, -3.9058,  0.7927],\n",
       "          ...,\n",
       "          [ 0.3149, -0.0070,  0.1225,  ..., -0.0526, -4.6336,  0.5594],\n",
       "          [ 0.2749, -0.0162,  0.1489,  ..., -0.0352,  0.3777,  0.5698],\n",
       "          [ 0.3499,  0.2566,  0.2176,  ...,  0.1028, -3.0541,  0.3112]]]),\n",
       " torch.Size([2, 56, 128]))"
      ]
     },
     "execution_count": 10,
     "metadata": {},
     "output_type": "execute_result"
    }
   ],
   "source": [
    "from sequence_models.pretrained import load_model_and_alphabet\n",
    "\n",
    "model, collater = load_model_and_alphabet('carp_600k')\n",
    "\n",
    "x = collater(seqs)[0]  # (n, max_len)\n",
    "# rep = model(x)  # (n, max_len, d_model)\n",
    "\n",
    "activation = {}\n",
    "def get_activation(name):\n",
    "    def hook(model, input, output):\n",
    "        activation[name] = output.detach()\n",
    "    return hook\n",
    "\n",
    "model.model.embedder.layers[0].register_forward_hook(get_activation(\"layer0\"))\n",
    "\n",
    "rep = model(x)\n",
    "\n",
    "activation[\"layer0\"], activation[\"layer0\"].shape"
   ]
  },
  {
   "cell_type": "code",
   "execution_count": 19,
   "metadata": {},
   "outputs": [
    {
     "ename": "TypeError",
     "evalue": "forward() got an unexpected keyword argument 'repr_layers'",
     "output_type": "error",
     "traceback": [
      "\u001b[0;31m---------------------------------------------------------------------------\u001b[0m",
      "\u001b[0;31mTypeError\u001b[0m                                 Traceback (most recent call last)",
      "\u001b[1;32m/home/t-fli/repo/protein-transfer/sandbox/seq_model.ipynb Cell 14'\u001b[0m in \u001b[0;36m<cell line: 1>\u001b[0;34m()\u001b[0m\n\u001b[0;32m----> <a href='vscode-notebook-cell://ssh-remote%2Bgcrazgdl2369/home/t-fli/repo/protein-transfer/sandbox/seq_model.ipynb#ch0000017vscode-remote?line=0'>1</a>\u001b[0m model(x, repr_layers\u001b[39m=\u001b[39;49m[\u001b[39m0\u001b[39;49m])[\u001b[39m0\u001b[39m]\n",
      "File \u001b[0;32m/anaconda/envs/protran/lib/python3.9/site-packages/torch/nn/modules/module.py:889\u001b[0m, in \u001b[0;36mModule._call_impl\u001b[0;34m(self, *input, **kwargs)\u001b[0m\n\u001b[1;32m    887\u001b[0m     result \u001b[39m=\u001b[39m \u001b[39mself\u001b[39m\u001b[39m.\u001b[39m_slow_forward(\u001b[39m*\u001b[39m\u001b[39minput\u001b[39m, \u001b[39m*\u001b[39m\u001b[39m*\u001b[39mkwargs)\n\u001b[1;32m    888\u001b[0m \u001b[39melse\u001b[39;00m:\n\u001b[0;32m--> 889\u001b[0m     result \u001b[39m=\u001b[39m \u001b[39mself\u001b[39;49m\u001b[39m.\u001b[39;49mforward(\u001b[39m*\u001b[39;49m\u001b[39minput\u001b[39;49m, \u001b[39m*\u001b[39;49m\u001b[39m*\u001b[39;49mkwargs)\n\u001b[1;32m    890\u001b[0m \u001b[39mfor\u001b[39;00m hook \u001b[39min\u001b[39;00m itertools\u001b[39m.\u001b[39mchain(\n\u001b[1;32m    891\u001b[0m         _global_forward_hooks\u001b[39m.\u001b[39mvalues(),\n\u001b[1;32m    892\u001b[0m         \u001b[39mself\u001b[39m\u001b[39m.\u001b[39m_forward_hooks\u001b[39m.\u001b[39mvalues()):\n\u001b[1;32m    893\u001b[0m     hook_result \u001b[39m=\u001b[39m hook(\u001b[39mself\u001b[39m, \u001b[39minput\u001b[39m, result)\n",
      "\u001b[0;31mTypeError\u001b[0m: forward() got an unexpected keyword argument 'repr_layers'"
     ]
    }
   ],
   "source": [
    "model(x, repr_layers=[0])[0]"
   ]
  },
  {
   "cell_type": "code",
   "execution_count": null,
   "metadata": {},
   "outputs": [],
   "source": []
  }
 ],
 "metadata": {
  "kernelspec": {
   "display_name": "Python 3.9.13 ('protran')",
   "language": "python",
   "name": "python3"
  },
  "language_info": {
   "codemirror_mode": {
    "name": "ipython",
    "version": 3
   },
   "file_extension": ".py",
   "mimetype": "text/x-python",
   "name": "python",
   "nbconvert_exporter": "python",
   "pygments_lexer": "ipython3",
   "version": "3.9.2"
  },
  "orig_nbformat": 4,
  "vscode": {
   "interpreter": {
    "hash": "019692f042c79b6731ff84413c6b50d6174007f2b51f86eed1fb032dbd4a337e"
   }
  }
 },
 "nbformat": 4,
 "nbformat_minor": 2
}
