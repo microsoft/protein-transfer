{
 "cells": [
  {
   "cell_type": "code",
   "execution_count": 1,
   "metadata": {},
   "outputs": [
    {
     "name": "stdout",
     "output_type": "stream",
     "text": [
      "/home/t-fli/repo/protein-transfer\n"
     ]
    }
   ],
   "source": [
    "%cd ~/repo/protein-transfer"
   ]
  },
  {
   "cell_type": "code",
   "execution_count": 2,
   "metadata": {},
   "outputs": [],
   "source": [
    "%load_ext blackcellmagic"
   ]
  },
  {
   "cell_type": "code",
   "execution_count": 2,
   "metadata": {},
   "outputs": [],
   "source": [
    "from scr.encoding.encoding_classes import AbstractEncoder, ESMEncoder\n",
    "from scr.model.run_pytorch_model import run_pytorch\n",
    "from scr.params.sys import RAND_SEED, DEVICE\n",
    "from scr.params.emb import TRANSFORMER_INFO"
   ]
  },
  {
   "cell_type": "code",
   "execution_count": 3,
   "metadata": {},
   "outputs": [],
   "source": [
    "dataset_path=\"data/proeng/gb1/two_vs_rest.pkl\"\n",
    "encoder_name=\"esm1b_t33_650M_UR50S\"\n",
    "embed_layer=33\n",
    "flatten_emb=\"mean\"\n",
    "seq_end_idx=56\n",
    "learning_rate = 0.001\n",
    "loader_batch_size = 64\n",
    "epochs = 100\n",
    "device = DEVICE\n",
    "all_result_folder = \"results/train_val_test\""
   ]
  },
  {
   "cell_type": "code",
   "execution_count": null,
   "metadata": {},
   "outputs": [],
   "source": [
    "result_dict = run_pytorch(\n",
    "    dataset_path=dataset_path,\n",
    "    encoder_name=encoder_name,\n",
    "    embed_layer=embed_layer,\n",
    "    flatten_emb=flatten_emb,\n",
    "    seq_end_idx=seq_end_idx,\n",
    "    learning_rate=learning_rate,\n",
    "    epochs=epochs,\n",
    "    device=DEVICE,\n",
    "    loader_batch_size=loader_batch_size,\n",
    "    all_result_folder=\"results/train_val_test\")"
   ]
  }
 ],
 "metadata": {
  "kernelspec": {
   "display_name": "Python 3.9.2 ('protran')",
   "language": "python",
   "name": "python3"
  },
  "language_info": {
   "codemirror_mode": {
    "name": "ipython",
    "version": 3
   },
   "file_extension": ".py",
   "mimetype": "text/x-python",
   "name": "python",
   "nbconvert_exporter": "python",
   "pygments_lexer": "ipython3",
   "version": "3.9.2"
  },
  "orig_nbformat": 4,
  "vscode": {
   "interpreter": {
    "hash": "019692f042c79b6731ff84413c6b50d6174007f2b51f86eed1fb032dbd4a337e"
   }
  }
 },
 "nbformat": 4,
 "nbformat_minor": 2
}
