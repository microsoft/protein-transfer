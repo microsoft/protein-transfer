{
 "cells": [
  {
   "cell_type": "code",
   "execution_count": 1,
   "metadata": {},
   "outputs": [
    {
     "name": "stdout",
     "output_type": "stream",
     "text": [
      "/home/francesca/protein-transfer\n"
     ]
    }
   ],
   "source": [
    "%cd ~/protein-transfer"
   ]
  },
  {
   "cell_type": "code",
   "execution_count": 2,
   "metadata": {},
   "outputs": [],
   "source": [
    "%load_ext blackcellmagic\n",
    "%load_ext autoreload\n",
    "%autoreload 2"
   ]
  },
  {
   "cell_type": "code",
   "execution_count": 11,
   "metadata": {},
   "outputs": [],
   "source": [
    "from __future__ import annotations\n",
    "\n",
    "import ast\n",
    "\n",
    "import numpy as np\n",
    "import pandas as pd\n"
   ]
  },
  {
   "cell_type": "code",
   "execution_count": 9,
   "metadata": {},
   "outputs": [
    {
     "data": {
      "text/html": [
       "<div>\n",
       "<style scoped>\n",
       "    .dataframe tbody tr th:only-of-type {\n",
       "        vertical-align: middle;\n",
       "    }\n",
       "\n",
       "    .dataframe tbody tr th {\n",
       "        vertical-align: top;\n",
       "    }\n",
       "\n",
       "    .dataframe thead th {\n",
       "        text-align: right;\n",
       "    }\n",
       "</style>\n",
       "<table border=\"1\" class=\"dataframe\">\n",
       "  <thead>\n",
       "    <tr style=\"text-align: right;\">\n",
       "      <th></th>\n",
       "      <th>arch</th>\n",
       "      <th>task</th>\n",
       "      <th>model</th>\n",
       "      <th>ablation</th>\n",
       "      <th>metric</th>\n",
       "      <th>value</th>\n",
       "    </tr>\n",
       "  </thead>\n",
       "  <tbody>\n",
       "    <tr>\n",
       "      <th>0</th>\n",
       "      <td>carp</td>\n",
       "      <td>proeng_aav_one_vs_many_mean</td>\n",
       "      <td>carp_640M</td>\n",
       "      <td>emb</td>\n",
       "      <td>train_loss</td>\n",
       "      <td>[9.59526940116963, 6.894266263718891, 6.377686...</td>\n",
       "    </tr>\n",
       "    <tr>\n",
       "      <th>1</th>\n",
       "      <td>carp</td>\n",
       "      <td>proeng_aav_one_vs_many_mean</td>\n",
       "      <td>carp_640M</td>\n",
       "      <td>emb</td>\n",
       "      <td>val_loss</td>\n",
       "      <td>[11.18654191999164, 8.622644328345816, 8.33617...</td>\n",
       "    </tr>\n",
       "    <tr>\n",
       "      <th>2</th>\n",
       "      <td>carp</td>\n",
       "      <td>proeng_aav_one_vs_many_mean</td>\n",
       "      <td>carp_640M</td>\n",
       "      <td>emb</td>\n",
       "      <td>test_loss</td>\n",
       "      <td>[13.582533778622887, 53.712009437112215, 74.04...</td>\n",
       "    </tr>\n",
       "    <tr>\n",
       "      <th>3</th>\n",
       "      <td>carp</td>\n",
       "      <td>proeng_aav_one_vs_many_mean</td>\n",
       "      <td>carp_640M</td>\n",
       "      <td>emb</td>\n",
       "      <td>test_performance_1</td>\n",
       "      <td>[0.9704321391244177, 0.9629028051372428, 0.962...</td>\n",
       "    </tr>\n",
       "    <tr>\n",
       "      <th>4</th>\n",
       "      <td>carp</td>\n",
       "      <td>proeng_aav_one_vs_many_mean</td>\n",
       "      <td>carp_640M</td>\n",
       "      <td>emb</td>\n",
       "      <td>test_performance_2</td>\n",
       "      <td>[0.19544242309285326, 0.3282696048440418, 0.31...</td>\n",
       "    </tr>\n",
       "    <tr>\n",
       "      <th>...</th>\n",
       "      <td>...</td>\n",
       "      <td>...</td>\n",
       "      <td>...</td>\n",
       "      <td>...</td>\n",
       "      <td>...</td>\n",
       "      <td>...</td>\n",
       "    </tr>\n",
       "    <tr>\n",
       "      <th>1629</th>\n",
       "      <td>esm</td>\n",
       "      <td>annotation_scl_balanced</td>\n",
       "      <td>onehot</td>\n",
       "      <td>onehot</td>\n",
       "      <td>train_loss</td>\n",
       "      <td>[0.3524752729817441]</td>\n",
       "    </tr>\n",
       "    <tr>\n",
       "      <th>1630</th>\n",
       "      <td>esm</td>\n",
       "      <td>annotation_scl_balanced</td>\n",
       "      <td>onehot</td>\n",
       "      <td>onehot</td>\n",
       "      <td>val_loss</td>\n",
       "      <td>[1.373852210385459]</td>\n",
       "    </tr>\n",
       "    <tr>\n",
       "      <th>1631</th>\n",
       "      <td>esm</td>\n",
       "      <td>annotation_scl_balanced</td>\n",
       "      <td>onehot</td>\n",
       "      <td>onehot</td>\n",
       "      <td>test_loss</td>\n",
       "      <td>[2.0159953236579895]</td>\n",
       "    </tr>\n",
       "    <tr>\n",
       "      <th>1632</th>\n",
       "      <td>esm</td>\n",
       "      <td>annotation_scl_balanced</td>\n",
       "      <td>onehot</td>\n",
       "      <td>onehot</td>\n",
       "      <td>test_performance_2</td>\n",
       "      <td>[0.37402597402597404]</td>\n",
       "    </tr>\n",
       "    <tr>\n",
       "      <th>1633</th>\n",
       "      <td>esm</td>\n",
       "      <td>annotation_scl_balanced</td>\n",
       "      <td>onehot</td>\n",
       "      <td>onehot</td>\n",
       "      <td>test_performance_1</td>\n",
       "      <td>[0.6619061060529179]</td>\n",
       "    </tr>\n",
       "  </tbody>\n",
       "</table>\n",
       "<p>1634 rows × 6 columns</p>\n",
       "</div>"
      ],
      "text/plain": [
       "      arch                         task      model ablation  \\\n",
       "0     carp  proeng_aav_one_vs_many_mean  carp_640M      emb   \n",
       "1     carp  proeng_aav_one_vs_many_mean  carp_640M      emb   \n",
       "2     carp  proeng_aav_one_vs_many_mean  carp_640M      emb   \n",
       "3     carp  proeng_aav_one_vs_many_mean  carp_640M      emb   \n",
       "4     carp  proeng_aav_one_vs_many_mean  carp_640M      emb   \n",
       "...    ...                          ...        ...      ...   \n",
       "1629   esm      annotation_scl_balanced     onehot   onehot   \n",
       "1630   esm      annotation_scl_balanced     onehot   onehot   \n",
       "1631   esm      annotation_scl_balanced     onehot   onehot   \n",
       "1632   esm      annotation_scl_balanced     onehot   onehot   \n",
       "1633   esm      annotation_scl_balanced     onehot   onehot   \n",
       "\n",
       "                  metric                                              value  \n",
       "0             train_loss  [9.59526940116963, 6.894266263718891, 6.377686...  \n",
       "1               val_loss  [11.18654191999164, 8.622644328345816, 8.33617...  \n",
       "2              test_loss  [13.582533778622887, 53.712009437112215, 74.04...  \n",
       "3     test_performance_1  [0.9704321391244177, 0.9629028051372428, 0.962...  \n",
       "4     test_performance_2  [0.19544242309285326, 0.3282696048440418, 0.31...  \n",
       "...                  ...                                                ...  \n",
       "1629          train_loss                               [0.3524752729817441]  \n",
       "1630            val_loss                                [1.373852210385459]  \n",
       "1631           test_loss                               [2.0159953236579895]  \n",
       "1632  test_performance_2                              [0.37402597402597404]  \n",
       "1633  test_performance_1                               [0.6619061060529179]  \n",
       "\n",
       "[1634 rows x 6 columns]"
      ]
     },
     "execution_count": 9,
     "metadata": {},
     "output_type": "execute_result"
    }
   ],
   "source": [
    "result_df = pd.read_csv(\"results/summary/all_results.csv\")\n",
    "\n",
    "# Convert the string of lists to NumPy arrays\n",
    "result_df[\"value\"] = result_df[\"value\"].apply(ast.literal_eval).apply(np.array)\n",
    "\n",
    "result_df"
   ]
  },
  {
   "cell_type": "code",
   "execution_count": 14,
   "metadata": {},
   "outputs": [
    {
     "data": {
      "text/plain": [
       "(9.59526940116963, 6.238232287532919, 6.520748210024759)"
      ]
     },
     "execution_count": 14,
     "metadata": {},
     "output_type": "execute_result"
    }
   ],
   "source": [
    "# goal to create a plot with x performance for diff btw layer 0 to x\n",
    "# y axis with performance for layer x to end\n",
    "\n",
    "layer_cut = 4\n",
    "\n",
    "result_df.iloc[0][\"value\"][0], result_df.iloc[0][\"value\"][layer_cut], result_df.iloc[0][\"value\"][-1]"
   ]
  },
  {
   "cell_type": "code",
   "execution_count": 16,
   "metadata": {},
   "outputs": [],
   "source": [
    "def delta_layer(layer_cut: int, value_array: np.array) -> np.array:\n",
    "    \"\"\"\n",
    "    A function return the difference between a given layer performance\n",
    "    to 0th and the last layer\n",
    "\n",
    "    Args:\n",
    "    - layer_cut: int, the layer whose performance will be compared\n",
    "    - value_array: np.array, the array of all layer performances\n",
    "\n",
    "    Returns:\n",
    "    - np.arrary, the performance difference between\n",
    "        [layer_cut - layer0, final_layer - layer_cut]\n",
    "    \"\"\"\n",
    "\n",
    "    last_layer_numb = len(value_array)\n",
    "\n",
    "    assert (\n",
    "        0 < layer_cut < last_layer_numb\n",
    "    ), f\"{layer_cut} not in between 0 and {last_layer_numb}\"\n",
    "\n",
    "    layer_perf = value_array[layer_cut]\n",
    "\n",
    "    return np.array([layer_perf - value_array[0], value_array[-1] - layer_perf])"
   ]
  },
  {
   "cell_type": "code",
   "execution_count": 18,
   "metadata": {},
   "outputs": [
    {
     "data": {
      "text/plain": [
       "array([-3.35703711,  0.28251592])"
      ]
     },
     "execution_count": 18,
     "metadata": {},
     "output_type": "execute_result"
    }
   ],
   "source": [
    "delta_layer(layer_cut=4, value_array=result_df.iloc[0][\"value\"])"
   ]
  },
  {
   "cell_type": "code",
   "execution_count": null,
   "metadata": {},
   "outputs": [],
   "source": []
  }
 ],
 "metadata": {
  "kernelspec": {
   "display_name": "protran",
   "language": "python",
   "name": "python3"
  },
  "language_info": {
   "codemirror_mode": {
    "name": "ipython",
    "version": 3
   },
   "file_extension": ".py",
   "mimetype": "text/x-python",
   "name": "python",
   "nbconvert_exporter": "python",
   "pygments_lexer": "ipython3",
   "version": "3.9.10"
  },
  "orig_nbformat": 4
 },
 "nbformat": 4,
 "nbformat_minor": 2
}
