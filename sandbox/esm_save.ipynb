{
 "cells": [
  {
   "cell_type": "code",
   "execution_count": 3,
   "metadata": {},
   "outputs": [
    {
     "name": "stdout",
     "output_type": "stream",
     "text": [
      "/home/t-fli/repo/protein-transfer\n"
     ]
    }
   ],
   "source": [
    "%cd ~/repo/protein-transfer"
   ]
  },
  {
   "cell_type": "code",
   "execution_count": 4,
   "metadata": {},
   "outputs": [],
   "source": [
    "%load_ext blackcellmagic"
   ]
  },
  {
   "cell_type": "code",
   "execution_count": 3,
   "metadata": {},
   "outputs": [],
   "source": [
    "from scr.encoding.gen_encoding import GenerateEmbeddings"
   ]
  },
  {
   "cell_type": "code",
   "execution_count": 4,
   "metadata": {},
   "outputs": [
    {
     "name": "stdout",
     "output_type": "stream",
     "text": [
      "Generating esm1_t34_670M_UR50S upto 34 layer embedding ...\n"
     ]
    },
    {
     "name": "stderr",
     "output_type": "stream",
     "text": [
      "Using cache found in /home/t-fli/.cache/torch/hub/facebookresearch_esm_main\n",
      "  0%|          | 0/75 [00:00<?, ?it/s]"
     ]
    },
    {
     "name": "stdout",
     "output_type": "stream",
     "text": [
      "Overwritting embeddings/annotation/scl/balanced/esm1_t34_670M_UR50S/mean/train/embedding.h5\n"
     ]
    },
    {
     "ename": "",
     "evalue": "",
     "output_type": "error",
     "traceback": [
      "\u001b[1;31mCanceled future for execute_request message before replies were done"
     ]
    },
    {
     "ename": "",
     "evalue": "",
     "output_type": "error",
     "traceback": [
      "\u001b[1;31mThe Kernel crashed while executing code in the the current cell or a previous cell. Please review the code in the cell(s) to identify a possible cause of the failure. Click <a href='https://aka.ms/vscodeJupyterKernelCrash'>here</a> for more info. View Jupyter <a href='command:jupyter.viewOutput'>log</a> for further details."
     ]
    }
   ],
   "source": [
    "GenerateEmbeddings( dataset_path=\"data/annotation/scl/balanced.csv\",\n",
    "                    encoder_name=\"esm1_t34_670M_UR50S\",\n",
    "                    reset_param = False,\n",
    "                    resample_param = False,\n",
    "                    embed_batch_size = 128,\n",
    "                    flatten_emb = \"mean\",\n",
    "                    seq_start_idx = False,\n",
    "                    seq_end_idx= False,\n",
    "                    embed_folder = \"embeddings\",\n",
    "                    # **encoder_params,\n",
    "                    )"
   ]
  },
  {
   "cell_type": "code",
   "execution_count": 12,
   "metadata": {},
   "outputs": [],
   "source": [
    "GenerateEmbeddings( dataset_path=\"data/proeng/thermo/mixed_split.csv\",\n",
    "                    encoder_name=\"esm1_t34_670M_UR50S\",\n",
    "                    reset_param = False,\n",
    "                    resample_param = False,\n",
    "                    embed_batch_size = 128,\n",
    "                    flatten_emb = \"mean\",\n",
    "                    seq_start_idx = False,\n",
    "                    seq_end_idx= False,\n",
    "                    embed_folder = \"embeddings\",\n",
    "                    # **encoder_params,\n",
    "                    )"
   ]
  },
  {
   "cell_type": "code",
   "execution_count": 1,
   "metadata": {},
   "outputs": [],
   "source": [
    "# try load saved emb\n",
    "import tables"
   ]
  },
  {
   "cell_type": "code",
   "execution_count": 4,
   "metadata": {},
   "outputs": [],
   "source": [
    "gb1_emb = tables.open_file(\"embeddings/proeng/gb1/low_vs_high/esm1_t6_43M_UR50S/mean/test/embedding.h5\")"
   ]
  },
  {
   "cell_type": "code",
   "execution_count": 5,
   "metadata": {},
   "outputs": [
    {
     "data": {
      "text/plain": [
       "File(filename=embeddings/proeng/gb1/low_vs_high/esm1_t6_43M_UR50S/mean/test/embedding.h5, title='', mode='r', root_uep='/', filters=Filters(complevel=0, shuffle=False, bitshuffle=False, fletcher32=False, least_significant_digit=None))\n",
       "/ (RootGroup) ''\n",
       "/layer0 (EArray(3390, 768)) ''\n",
       "  atom := Float32Atom(shape=(), dflt=0.0)\n",
       "  maindim := 0\n",
       "  flavor := 'numpy'\n",
       "  byteorder := 'little'\n",
       "  chunkshape := (21, 768)\n",
       "/layer1 (EArray(3390, 768)) ''\n",
       "  atom := Float32Atom(shape=(), dflt=0.0)\n",
       "  maindim := 0\n",
       "  flavor := 'numpy'\n",
       "  byteorder := 'little'\n",
       "  chunkshape := (21, 768)\n",
       "/layer2 (EArray(3390, 768)) ''\n",
       "  atom := Float32Atom(shape=(), dflt=0.0)\n",
       "  maindim := 0\n",
       "  flavor := 'numpy'\n",
       "  byteorder := 'little'\n",
       "  chunkshape := (21, 768)\n",
       "/layer3 (EArray(3390, 768)) ''\n",
       "  atom := Float32Atom(shape=(), dflt=0.0)\n",
       "  maindim := 0\n",
       "  flavor := 'numpy'\n",
       "  byteorder := 'little'\n",
       "  chunkshape := (21, 768)\n",
       "/layer4 (EArray(3390, 768)) ''\n",
       "  atom := Float32Atom(shape=(), dflt=0.0)\n",
       "  maindim := 0\n",
       "  flavor := 'numpy'\n",
       "  byteorder := 'little'\n",
       "  chunkshape := (21, 768)\n",
       "/layer5 (EArray(3390, 768)) ''\n",
       "  atom := Float32Atom(shape=(), dflt=0.0)\n",
       "  maindim := 0\n",
       "  flavor := 'numpy'\n",
       "  byteorder := 'little'\n",
       "  chunkshape := (21, 768)\n",
       "/layer6 (EArray(3390, 768)) ''\n",
       "  atom := Float32Atom(shape=(), dflt=0.0)\n",
       "  maindim := 0\n",
       "  flavor := 'numpy'\n",
       "  byteorder := 'little'\n",
       "  chunkshape := (21, 768)"
      ]
     },
     "execution_count": 5,
     "metadata": {},
     "output_type": "execute_result"
    }
   ],
   "source": [
    "gb1_emb"
   ]
  },
  {
   "cell_type": "code",
   "execution_count": 5,
   "metadata": {},
   "outputs": [
    {
     "data": {
      "text/plain": [
       "File(filename=embeddings/proeng/gb1/low_vs_high/esm1_t6_43M_UR50S/mean/test/embedding.h5, title='', mode='r', root_uep='/', filters=Filters(complevel=0, shuffle=False, bitshuffle=False, fletcher32=False, least_significant_digit=None))\n",
       "/ (RootGroup) ''\n",
       "/layer0 (EArray(3390, 768)) ''\n",
       "  atom := Float32Atom(shape=(), dflt=0.0)\n",
       "  maindim := 0\n",
       "  flavor := 'numpy'\n",
       "  byteorder := 'little'\n",
       "  chunkshape := (21, 768)\n",
       "/layer1 (EArray(3390, 768)) ''\n",
       "  atom := Float32Atom(shape=(), dflt=0.0)\n",
       "  maindim := 0\n",
       "  flavor := 'numpy'\n",
       "  byteorder := 'little'\n",
       "  chunkshape := (21, 768)\n",
       "/layer2 (EArray(3390, 768)) ''\n",
       "  atom := Float32Atom(shape=(), dflt=0.0)\n",
       "  maindim := 0\n",
       "  flavor := 'numpy'\n",
       "  byteorder := 'little'\n",
       "  chunkshape := (21, 768)\n",
       "/layer3 (EArray(3390, 768)) ''\n",
       "  atom := Float32Atom(shape=(), dflt=0.0)\n",
       "  maindim := 0\n",
       "  flavor := 'numpy'\n",
       "  byteorder := 'little'\n",
       "  chunkshape := (21, 768)\n",
       "/layer4 (EArray(3390, 768)) ''\n",
       "  atom := Float32Atom(shape=(), dflt=0.0)\n",
       "  maindim := 0\n",
       "  flavor := 'numpy'\n",
       "  byteorder := 'little'\n",
       "  chunkshape := (21, 768)\n",
       "/layer5 (EArray(3390, 768)) ''\n",
       "  atom := Float32Atom(shape=(), dflt=0.0)\n",
       "  maindim := 0\n",
       "  flavor := 'numpy'\n",
       "  byteorder := 'little'\n",
       "  chunkshape := (21, 768)\n",
       "/layer6 (EArray(3390, 768)) ''\n",
       "  atom := Float32Atom(shape=(), dflt=0.0)\n",
       "  maindim := 0\n",
       "  flavor := 'numpy'\n",
       "  byteorder := 'little'\n",
       "  chunkshape := (21, 768)"
      ]
     },
     "execution_count": 5,
     "metadata": {},
     "output_type": "execute_result"
    }
   ],
   "source": [
    "gb1_emb.flush()\n",
    "gb1_emb"
   ]
  },
  {
   "cell_type": "code",
   "execution_count": 6,
   "metadata": {},
   "outputs": [
    {
     "data": {
      "text/plain": [
       "(3390, 768)"
      ]
     },
     "execution_count": 6,
     "metadata": {},
     "output_type": "execute_result"
    }
   ],
   "source": [
    "gb1_emb.root.layer0[:].shape"
   ]
  },
  {
   "cell_type": "code",
   "execution_count": 6,
   "metadata": {},
   "outputs": [
    {
     "name": "stdout",
     "output_type": "stream",
     "text": [
      "/home/t-fli/amlt/genemb/thermo-genemb/embeddings/proeng/thermo/mixed_split/esm1_t6_43M_UR50S/mean/train/embedding.h5 (File) ''\n",
      "Last modif.: '2022-08-11T17:27:22+00:00'\n",
      "Object Tree: \n",
      "/ (RootGroup) ''\n",
      "/layer0 (EArray(22335, 768)) ''\n",
      "/layer1 (EArray(22335, 768)) ''\n",
      "/layer2 (EArray(22335, 768)) ''\n",
      "/layer3 (EArray(22335, 768)) ''\n",
      "/layer4 (EArray(22335, 768)) ''\n",
      "/layer5 (EArray(22335, 768)) ''\n",
      "/layer6 (EArray(22335, 768)) ''\n",
      "\n"
     ]
    }
   ],
   "source": [
    "thermo_emb = tables.open_file(\"/home/t-fli/amlt/genemb/thermo-genemb/embeddings/proeng/thermo/mixed_split/esm1_t6_43M_UR50S/mean/train/embedding.h5\")\n",
    "print(thermo_emb)"
   ]
  },
  {
   "cell_type": "code",
   "execution_count": 7,
   "metadata": {},
   "outputs": [
    {
     "name": "stdout",
     "output_type": "stream",
     "text": [
      "embeddings/proeng/thermo/mixed_split/esm1_t6_43M_UR50S/mean/train/embedding.h5 (File) ''\n",
      "Last modif.: '2022-08-23T04:08:07+00:00'\n",
      "Object Tree: \n",
      "/ (RootGroup) ''\n",
      "/layer0 (EArray(22335, 768)) ''\n",
      "/layer1 (EArray(22335, 768)) ''\n",
      "/layer2 (EArray(22335, 768)) ''\n",
      "/layer3 (EArray(22335, 768)) ''\n",
      "/layer4 (EArray(22335, 768)) ''\n",
      "/layer5 (EArray(22335, 768)) ''\n",
      "/layer6 (EArray(22335, 768)) ''\n",
      "\n"
     ]
    }
   ],
   "source": [
    "thermo_emb = tables.open_file(\"embeddings/proeng/thermo/mixed_split/esm1_t6_43M_UR50S/mean/train/embedding.h5\")\n",
    "print(thermo_emb)"
   ]
  },
  {
   "cell_type": "code",
   "execution_count": 9,
   "metadata": {},
   "outputs": [
    {
     "data": {
      "text/plain": [
       "(5, 768)"
      ]
     },
     "execution_count": 9,
     "metadata": {},
     "output_type": "execute_result"
    }
   ],
   "source": [
    "thermo_emb.flush()\n",
    "thermo_emb.root.layer0[0:5].shape"
   ]
  },
  {
   "cell_type": "code",
   "execution_count": 14,
   "metadata": {},
   "outputs": [
    {
     "name": "stdout",
     "output_type": "stream",
     "text": [
      "/layer0 (EArray(22335, 768)) ''\n"
     ]
    }
   ],
   "source": [
    "print(getattr(thermo_emb.root, \"layer\" + str(0)))"
   ]
  },
  {
   "cell_type": "code",
   "execution_count": 10,
   "metadata": {},
   "outputs": [
    {
     "data": {
      "text/plain": [
       "array([[ 0.32000896,  0.46987757, -0.7816121 , ...,  0.36655867,\n",
       "         0.5346939 ,  0.31921914],\n",
       "       [ 0.32123268,  0.47243893, -0.78664154, ...,  0.3566952 ,\n",
       "         0.53319633,  0.31478468],\n",
       "       [ 0.09837907,  0.21582071, -0.15087608, ...,  1.2078526 ,\n",
       "         0.63844085,  0.73613894],\n",
       "       [ 0.2636474 ,  0.40688583, -0.62659514, ...,  0.58638877,\n",
       "         0.56449556,  0.41377553],\n",
       "       [ 0.11050986,  0.22642726, -0.1947    , ...,  1.1883163 ,\n",
       "         0.6107538 ,  0.7079699 ]], dtype=float32)"
      ]
     },
     "execution_count": 10,
     "metadata": {},
     "output_type": "execute_result"
    }
   ],
   "source": [
    "thermo_emb.root.layer0[0:5]"
   ]
  },
  {
   "cell_type": "code",
   "execution_count": null,
   "metadata": {},
   "outputs": [],
   "source": []
  }
 ],
 "metadata": {
  "kernelspec": {
   "display_name": "Python 3.9.2 ('protran')",
   "language": "python",
   "name": "python3"
  },
  "language_info": {
   "codemirror_mode": {
    "name": "ipython",
    "version": 3
   },
   "file_extension": ".py",
   "mimetype": "text/x-python",
   "name": "python",
   "nbconvert_exporter": "python",
   "pygments_lexer": "ipython3",
   "version": "3.9.2"
  },
  "orig_nbformat": 4,
  "vscode": {
   "interpreter": {
    "hash": "019692f042c79b6731ff84413c6b50d6174007f2b51f86eed1fb032dbd4a337e"
   }
  }
 },
 "nbformat": 4,
 "nbformat_minor": 2
}
