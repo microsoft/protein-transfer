{
 "cells": [
  {
   "cell_type": "code",
   "execution_count": 1,
   "metadata": {},
   "outputs": [
    {
     "name": "stdout",
     "output_type": "stream",
     "text": [
      "/home/t-fli/repo/protein-transfer\n"
     ]
    }
   ],
   "source": [
    "%cd ~/repo/protein-transfer"
   ]
  },
  {
   "cell_type": "code",
   "execution_count": 2,
   "metadata": {},
   "outputs": [],
   "source": [
    "%load_ext blackcellmagic"
   ]
  },
  {
   "cell_type": "code",
   "execution_count": 3,
   "metadata": {},
   "outputs": [],
   "source": [
    "from scr.model.run_sklearn import RunRidge\n",
    "from scr.params.sys import RAND_SEED, SKLEARN_ALPHAS"
   ]
  },
  {
   "cell_type": "code",
   "execution_count": 4,
   "metadata": {},
   "outputs": [
    {
     "name": "stdout",
     "output_type": "stream",
     "text": [
      "Loading esm1_t6_43M_UR50S upto 6 layer embedding\n"
     ]
    },
    {
     "name": "stderr",
     "output_type": "stream",
     "text": [
      "Using cache found in /home/t-fli/.cache/torch/hub/facebookresearch_esm_main\n",
      "100%|██████████| 3/3 [00:06<00:00,  2.26s/it]\n",
      "Using cache found in /home/t-fli/.cache/torch/hub/facebookresearch_esm_main\n"
     ]
    },
    {
     "name": "stdout",
     "output_type": "stream",
     "text": [
      "Loading esm1_t6_43M_UR50S upto 6 layer embedding\n"
     ]
    },
    {
     "name": "stderr",
     "output_type": "stream",
     "text": [
      "100%|██████████| 1/1 [00:00<00:00,  1.52it/s]\n",
      "Using cache found in /home/t-fli/.cache/torch/hub/facebookresearch_esm_main\n"
     ]
    },
    {
     "name": "stdout",
     "output_type": "stream",
     "text": [
      "Loading esm1_t6_43M_UR50S upto 6 layer embedding\n"
     ]
    },
    {
     "name": "stderr",
     "output_type": "stream",
     "text": [
      "100%|██████████| 65/65 [01:58<00:00,  1.83s/it]\n",
      "Using cache found in /home/t-fli/.cache/torch/hub/facebookresearch_esm_main\n"
     ]
    },
    {
     "name": "stdout",
     "output_type": "stream",
     "text": [
      "Loading esm1_t6_43M_UR50S upto 6 layer embedding\n",
      "best model is Ridge(alpha=0.001, random_state=42)\n",
      "Making results/sklearn-test-rand ...\n",
      "Making results/sklearn-test-rand/proeng ...\n",
      "Making results/sklearn-test-rand/proeng/gb1 ...\n",
      "Making results/sklearn-test-rand/proeng/gb1/two_vs_rest ...\n",
      "Making results/sklearn-test-rand/proeng/gb1/two_vs_rest/esm1_t6_43M_UR50S ...\n",
      "Making results/sklearn-test-rand/proeng/gb1/two_vs_rest/esm1_t6_43M_UR50S/mean ...\n",
      "Saving results for esm1_t6_43M_UR50S-mean-layer_0 to: results/sklearn-test-rand/proeng/gb1/two_vs_rest/esm1_t6_43M_UR50S/mean...\n",
      "best model is Ridge(alpha=0.001, random_state=42)\n",
      "Saving results for esm1_t6_43M_UR50S-mean-layer_1 to: results/sklearn-test-rand/proeng/gb1/two_vs_rest/esm1_t6_43M_UR50S/mean...\n",
      "best model is Ridge(alpha=0.001, random_state=42)\n",
      "Saving results for esm1_t6_43M_UR50S-mean-layer_2 to: results/sklearn-test-rand/proeng/gb1/two_vs_rest/esm1_t6_43M_UR50S/mean...\n",
      "best model is Ridge(alpha=0.001, random_state=42)\n",
      "Saving results for esm1_t6_43M_UR50S-mean-layer_3 to: results/sklearn-test-rand/proeng/gb1/two_vs_rest/esm1_t6_43M_UR50S/mean...\n",
      "best model is Ridge(alpha=0.001, random_state=42)\n",
      "Saving results for esm1_t6_43M_UR50S-mean-layer_4 to: results/sklearn-test-rand/proeng/gb1/two_vs_rest/esm1_t6_43M_UR50S/mean...\n",
      "best model is Ridge(alpha=0.001, random_state=42)\n",
      "Saving results for esm1_t6_43M_UR50S-mean-layer_5 to: results/sklearn-test-rand/proeng/gb1/two_vs_rest/esm1_t6_43M_UR50S/mean...\n",
      "best model is Ridge(alpha=0.001, random_state=42)\n",
      "Saving results for esm1_t6_43M_UR50S-mean-layer_6 to: results/sklearn-test-rand/proeng/gb1/two_vs_rest/esm1_t6_43M_UR50S/mean...\n"
     ]
    }
   ],
   "source": [
    "all_ridge_results = RunRidge(\n",
    "    dataset_path=\"data/proeng/gb1/two_vs_rest.pkl\",\n",
    "    encoder_name=\"esm1_t6_43M_UR50S\",\n",
    "    reset_param=True,\n",
    "    embed_batch_size=128,\n",
    "    flatten_emb=\"mean\",\n",
    "    embed_path=None,\n",
    "    seq_start_idx=0,\n",
    "    seq_end_idx=56,\n",
    "    loader_batch_size=64,\n",
    "    worker_seed=RAND_SEED,\n",
    "    alphas=SKLEARN_ALPHAS,\n",
    "    ridge_state=RAND_SEED,\n",
    "    ridge_params=None,\n",
    "    all_result_folder=\"results/sklearn-test\",\n",
    "     #**encoder_params,\n",
    ").all_ridge_results"
   ]
  },
  {
   "cell_type": "code",
   "execution_count": null,
   "metadata": {},
   "outputs": [],
   "source": []
  },
  {
   "cell_type": "code",
   "execution_count": null,
   "metadata": {},
   "outputs": [],
   "source": []
  }
 ],
 "metadata": {
  "kernelspec": {
   "display_name": "Python 3.9.2 ('protran')",
   "language": "python",
   "name": "python3"
  },
  "language_info": {
   "codemirror_mode": {
    "name": "ipython",
    "version": 3
   },
   "file_extension": ".py",
   "mimetype": "text/x-python",
   "name": "python",
   "nbconvert_exporter": "python",
   "pygments_lexer": "ipython3",
   "version": "3.9.2"
  },
  "orig_nbformat": 4,
  "vscode": {
   "interpreter": {
    "hash": "019692f042c79b6731ff84413c6b50d6174007f2b51f86eed1fb032dbd4a337e"
   }
  }
 },
 "nbformat": 4,
 "nbformat_minor": 2
}
