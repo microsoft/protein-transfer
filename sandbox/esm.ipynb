{
 "cells": [
  {
   "cell_type": "markdown",
   "metadata": {},
   "source": [
    "# ESM"
   ]
  },
  {
   "cell_type": "code",
   "execution_count": 1,
   "metadata": {},
   "outputs": [
    {
     "name": "stdout",
     "output_type": "stream",
     "text": [
      "/home/t-fli/repo/protein-transfer\n"
     ]
    }
   ],
   "source": [
    "%cd ~/repo/protein-transfer"
   ]
  },
  {
   "cell_type": "code",
   "execution_count": 2,
   "metadata": {},
   "outputs": [],
   "source": [
    "%load_ext blackcellmagic"
   ]
  },
  {
   "cell_type": "code",
   "execution_count": 3,
   "metadata": {},
   "outputs": [],
   "source": [
    "from scr.utils import pickle_load"
   ]
  },
  {
   "cell_type": "code",
   "execution_count": 4,
   "metadata": {},
   "outputs": [],
   "source": [
    "df = pickle_load(\"data/proeng/gb1/two_vs_rest.pkl\")"
   ]
  },
  {
   "cell_type": "code",
   "execution_count": 5,
   "metadata": {},
   "outputs": [
    {
     "data": {
      "text/html": [
       "<div>\n",
       "<style scoped>\n",
       "    .dataframe tbody tr th:only-of-type {\n",
       "        vertical-align: middle;\n",
       "    }\n",
       "\n",
       "    .dataframe tbody tr th {\n",
       "        vertical-align: top;\n",
       "    }\n",
       "\n",
       "    .dataframe thead th {\n",
       "        text-align: right;\n",
       "    }\n",
       "</style>\n",
       "<table border=\"1\" class=\"dataframe\">\n",
       "  <thead>\n",
       "    <tr style=\"text-align: right;\">\n",
       "      <th></th>\n",
       "      <th>sequence</th>\n",
       "      <th>target</th>\n",
       "      <th>set</th>\n",
       "      <th>validation</th>\n",
       "      <th>mut_name</th>\n",
       "      <th>mut_numb</th>\n",
       "    </tr>\n",
       "  </thead>\n",
       "  <tbody>\n",
       "    <tr>\n",
       "      <th>0</th>\n",
       "      <td>MQYKLILNGKTLKGETTTEAVDAATAEKVFKQYANDNGVDGEWTYD...</td>\n",
       "      <td>1.000000</td>\n",
       "      <td>train</td>\n",
       "      <td>NaN</td>\n",
       "      <td>parent</td>\n",
       "      <td>1</td>\n",
       "    </tr>\n",
       "    <tr>\n",
       "      <th>1</th>\n",
       "      <td>MQYKLILNGKTLKGETTTEAVDAATAEKVFKQYANDNGIDGEWTYD...</td>\n",
       "      <td>1.445905</td>\n",
       "      <td>train</td>\n",
       "      <td>NaN</td>\n",
       "      <td>V39I</td>\n",
       "      <td>1</td>\n",
       "    </tr>\n",
       "    <tr>\n",
       "      <th>2</th>\n",
       "      <td>MQYKLILNGKTLKGETTTEAVDAATAEKVFKQYANDNGLDGEWTYD...</td>\n",
       "      <td>1.690164</td>\n",
       "      <td>train</td>\n",
       "      <td>NaN</td>\n",
       "      <td>V39L</td>\n",
       "      <td>1</td>\n",
       "    </tr>\n",
       "    <tr>\n",
       "      <th>3</th>\n",
       "      <td>MQYKLILNGKTLKGETTTEAVDAATAEKVFKQYANDNGMDGEWTYD...</td>\n",
       "      <td>1.170550</td>\n",
       "      <td>train</td>\n",
       "      <td>NaN</td>\n",
       "      <td>V39M</td>\n",
       "      <td>1</td>\n",
       "    </tr>\n",
       "    <tr>\n",
       "      <th>4</th>\n",
       "      <td>MQYKLILNGKTLKGETTTEAVDAATAEKVFKQYANDNGVAGEWTYD...</td>\n",
       "      <td>2.401243</td>\n",
       "      <td>train</td>\n",
       "      <td>NaN</td>\n",
       "      <td>D40A</td>\n",
       "      <td>1</td>\n",
       "    </tr>\n",
       "  </tbody>\n",
       "</table>\n",
       "</div>"
      ],
      "text/plain": [
       "                                            sequence    target    set  \\\n",
       "0  MQYKLILNGKTLKGETTTEAVDAATAEKVFKQYANDNGVDGEWTYD...  1.000000  train   \n",
       "1  MQYKLILNGKTLKGETTTEAVDAATAEKVFKQYANDNGIDGEWTYD...  1.445905  train   \n",
       "2  MQYKLILNGKTLKGETTTEAVDAATAEKVFKQYANDNGLDGEWTYD...  1.690164  train   \n",
       "3  MQYKLILNGKTLKGETTTEAVDAATAEKVFKQYANDNGMDGEWTYD...  1.170550  train   \n",
       "4  MQYKLILNGKTLKGETTTEAVDAATAEKVFKQYANDNGVAGEWTYD...  2.401243  train   \n",
       "\n",
       "  validation mut_name  mut_numb  \n",
       "0        NaN   parent         1  \n",
       "1        NaN     V39I         1  \n",
       "2        NaN     V39L         1  \n",
       "3        NaN     V39M         1  \n",
       "4        NaN     D40A         1  "
      ]
     },
     "execution_count": 5,
     "metadata": {},
     "output_type": "execute_result"
    }
   ],
   "source": [
    "df.head()"
   ]
  },
  {
   "cell_type": "code",
   "execution_count": 6,
   "metadata": {},
   "outputs": [
    {
     "data": {
      "text/plain": [
       "(381, 43, 8309, 8733)"
      ]
     },
     "execution_count": 6,
     "metadata": {},
     "output_type": "execute_result"
    }
   ],
   "source": [
    "df_train = df.loc[(df[\"set\"] == \"train\") & (df[\"validation\"] != True)]\n",
    "df_val = df.loc[(df[\"set\"] == \"train\") & (df[\"validation\"] == True)]\n",
    "df_test = df.loc[(df[\"set\"] == \"test\")]\n",
    "\n",
    "len(df_train), len(df_val), len(df_test), len(df)"
   ]
  },
  {
   "cell_type": "code",
   "execution_count": 7,
   "metadata": {},
   "outputs": [],
   "source": [
    "from scr.encoding.encoding_classes import ESMEncoder"
   ]
  },
  {
   "cell_type": "code",
   "execution_count": 9,
   "metadata": {},
   "outputs": [
    {
     "name": "stdout",
     "output_type": "stream",
     "text": [
      "Loading esm1b_t33_650M_UR50S using 0 layer embedding\n"
     ]
    },
    {
     "name": "stderr",
     "output_type": "stream",
     "text": [
      "Using cache found in /home/t-fli/.cache/torch/hub/facebookresearch_esm_main\n"
     ]
    },
    {
     "name": "stdout",
     "output_type": "stream",
     "text": [
      "No embedding flattening\n"
     ]
    },
    {
     "data": {
      "text/plain": [
       "(43, 265, 1280)"
      ]
     },
     "execution_count": 9,
     "metadata": {},
     "output_type": "execute_result"
    }
   ],
   "source": [
    "no_flat_encoder = ESMEncoder(\n",
    "    encoder_name=\"esm1b_t33_650M_UR50S\",\n",
    "    embed_layer=0,\n",
    ").encode(mut_seqs=list(df_val.sequence), mut_names=list(df_val.mut_name))\n",
    "one_emb = next(no_flat_encoder)\n",
    "one_emb[0].shape"
   ]
  },
  {
   "cell_type": "code",
   "execution_count": 10,
   "metadata": {},
   "outputs": [
    {
     "data": {
      "text/plain": [
       "(array([[[ 0.27928993, -0.00919111,  0.05307703, ...,  0.0052783 ,\n",
       "          -0.08536895,  0.2144556 ],\n",
       "         [ 0.86820096,  0.01390768, -0.03625386, ..., -0.07747608,\n",
       "          -0.06879894,  0.10098855],\n",
       "         [ 0.9904541 ,  0.02066673,  0.04346693, ..., -0.04951385,\n",
       "           0.04328922, -0.09477672],\n",
       "         ...,\n",
       "         [ 0.01445957,  0.15244195,  0.13133049, ...,  0.00364488,\n",
       "           0.50209504,  0.2052859 ],\n",
       "         [ 0.1433187 ,  0.08901688,  0.06859887, ..., -0.04608465,\n",
       "           0.14192118,  0.12139929],\n",
       "         [-0.07774346,  0.03318178,  0.14130217, ..., -0.08603121,\n",
       "           0.30741137,  0.01056057]],\n",
       " \n",
       "        [[ 0.27928993, -0.00919111,  0.05307703, ...,  0.0052783 ,\n",
       "          -0.08536895,  0.2144556 ],\n",
       "         [ 0.86820096,  0.01390768, -0.03625386, ..., -0.07747608,\n",
       "          -0.06879894,  0.10098855],\n",
       "         [ 0.9904541 ,  0.02066673,  0.04346693, ..., -0.04951385,\n",
       "           0.04328922, -0.09477672],\n",
       "         ...,\n",
       "         [ 0.01445957,  0.15244195,  0.13133049, ...,  0.00364488,\n",
       "           0.50209504,  0.2052859 ],\n",
       "         [ 0.1433187 ,  0.08901688,  0.06859887, ..., -0.04608465,\n",
       "           0.14192118,  0.12139929],\n",
       "         [-0.07774346,  0.03318178,  0.14130217, ..., -0.08603121,\n",
       "           0.30741137,  0.01056057]],\n",
       " \n",
       "        [[ 0.27928993, -0.00919111,  0.05307703, ...,  0.0052783 ,\n",
       "          -0.08536895,  0.2144556 ],\n",
       "         [ 0.86820096,  0.01390768, -0.03625386, ..., -0.07747608,\n",
       "          -0.06879894,  0.10098855],\n",
       "         [ 0.9904541 ,  0.02066673,  0.04346693, ..., -0.04951385,\n",
       "           0.04328922, -0.09477672],\n",
       "         ...,\n",
       "         [ 0.01445957,  0.15244195,  0.13133049, ...,  0.00364488,\n",
       "           0.50209504,  0.2052859 ],\n",
       "         [ 0.1433187 ,  0.08901688,  0.06859887, ..., -0.04608465,\n",
       "           0.14192118,  0.12139929],\n",
       "         [-0.07774346,  0.03318178,  0.14130217, ..., -0.08603121,\n",
       "           0.30741137,  0.01056057]],\n",
       " \n",
       "        ...,\n",
       " \n",
       "        [[ 0.27928993, -0.00919111,  0.05307703, ...,  0.0052783 ,\n",
       "          -0.08536895,  0.2144556 ],\n",
       "         [ 0.86820096,  0.01390768, -0.03625386, ..., -0.07747608,\n",
       "          -0.06879894,  0.10098855],\n",
       "         [ 0.9904541 ,  0.02066673,  0.04346693, ..., -0.04951385,\n",
       "           0.04328922, -0.09477672],\n",
       "         ...,\n",
       "         [ 0.01445957,  0.15244195,  0.13133049, ...,  0.00364488,\n",
       "           0.50209504,  0.2052859 ],\n",
       "         [ 0.1433187 ,  0.08901688,  0.06859887, ..., -0.04608465,\n",
       "           0.14192118,  0.12139929],\n",
       "         [-0.07774346,  0.03318178,  0.14130217, ..., -0.08603121,\n",
       "           0.30741137,  0.01056057]],\n",
       " \n",
       "        [[ 0.27928993, -0.00919111,  0.05307703, ...,  0.0052783 ,\n",
       "          -0.08536895,  0.2144556 ],\n",
       "         [ 0.86820096,  0.01390768, -0.03625386, ..., -0.07747608,\n",
       "          -0.06879894,  0.10098855],\n",
       "         [ 0.9904541 ,  0.02066673,  0.04346693, ..., -0.04951385,\n",
       "           0.04328922, -0.09477672],\n",
       "         ...,\n",
       "         [ 0.01445957,  0.15244195,  0.13133049, ...,  0.00364488,\n",
       "           0.50209504,  0.2052859 ],\n",
       "         [ 0.1433187 ,  0.08901688,  0.06859887, ..., -0.04608465,\n",
       "           0.14192118,  0.12139929],\n",
       "         [-0.07774346,  0.03318178,  0.14130217, ..., -0.08603121,\n",
       "           0.30741137,  0.01056057]],\n",
       " \n",
       "        [[ 0.27928993, -0.00919111,  0.05307703, ...,  0.0052783 ,\n",
       "          -0.08536895,  0.2144556 ],\n",
       "         [ 0.86820096,  0.01390768, -0.03625386, ..., -0.07747608,\n",
       "          -0.06879894,  0.10098855],\n",
       "         [ 0.9904541 ,  0.02066673,  0.04346693, ..., -0.04951385,\n",
       "           0.04328922, -0.09477672],\n",
       "         ...,\n",
       "         [ 0.01445957,  0.15244195,  0.13133049, ...,  0.00364488,\n",
       "           0.50209504,  0.2052859 ],\n",
       "         [ 0.1433187 ,  0.08901688,  0.06859887, ..., -0.04608465,\n",
       "           0.14192118,  0.12139929],\n",
       "         [-0.07774346,  0.03318178,  0.14130217, ..., -0.08603121,\n",
       "           0.30741137,  0.01056057]]], dtype=float32),\n",
       " ['D40N',\n",
       "  'V39E:D40Y',\n",
       "  'V39F:V54G',\n",
       "  'V39K:D40I',\n",
       "  'V39L:D40A',\n",
       "  'V39L:D40I',\n",
       "  'V39L:D40R',\n",
       "  'V39L:D40S',\n",
       "  'V39L:D40V',\n",
       "  'V39M:V54L',\n",
       "  'V39M:D40Q',\n",
       "  'V39M:D40T',\n",
       "  'V39Q:D40H',\n",
       "  'V39Q:D40S',\n",
       "  'V39R:D40R',\n",
       "  'V39R:D40Y',\n",
       "  'V39T:G41K',\n",
       "  'V39T:D40K',\n",
       "  'V39T:D40T',\n",
       "  'D40A:V54N',\n",
       "  'D40A:V54T',\n",
       "  'D40A:V54W',\n",
       "  'G41A:V54A',\n",
       "  'G41A:V54L',\n",
       "  'D40E:V54F',\n",
       "  'D40E:V54M',\n",
       "  'D40F:V54A',\n",
       "  'D40F:V54N',\n",
       "  'D40F:G41T',\n",
       "  'D40G:G41R',\n",
       "  'D40I:V54A',\n",
       "  'D40I:V54C',\n",
       "  'D40I:V54G',\n",
       "  'D40L:V54M',\n",
       "  'D40M:V54C',\n",
       "  'D40S:G41C',\n",
       "  'D40S:V54F',\n",
       "  'D40S:V54L',\n",
       "  'D40S:V54S',\n",
       "  'D40V:V54F',\n",
       "  'D40W:V54A',\n",
       "  'D40Y:V54C',\n",
       "  'D40Y:V54S'])"
      ]
     },
     "execution_count": 10,
     "metadata": {},
     "output_type": "execute_result"
    }
   ],
   "source": [
    "one_emb"
   ]
  },
  {
   "cell_type": "code",
   "execution_count": 11,
   "metadata": {},
   "outputs": [
    {
     "name": "stdout",
     "output_type": "stream",
     "text": [
      "Loading esm1b_t33_650M_UR50S using 0 layer embedding\n"
     ]
    },
    {
     "name": "stderr",
     "output_type": "stream",
     "text": [
      "Using cache found in /home/t-fli/.cache/torch/hub/facebookresearch_esm_main\n"
     ]
    },
    {
     "data": {
      "text/plain": [
       "(43, 1280)"
      ]
     },
     "execution_count": 11,
     "metadata": {},
     "output_type": "execute_result"
    }
   ],
   "source": [
    "mean_flat_encoder = ESMEncoder(\n",
    "    encoder_name=\"esm1b_t33_650M_UR50S\",\n",
    "    embed_layer=0,\n",
    ").encode(mut_seqs=list(df_val.sequence), mut_names=list(df_val.mut_name),flatten_emb=\"mean\")\n",
    "one_mean_emb = next(mean_flat_encoder)\n",
    "one_mean_emb[0].shape"
   ]
  },
  {
   "cell_type": "code",
   "execution_count": 12,
   "metadata": {},
   "outputs": [
    {
     "data": {
      "text/plain": [
       "(array([[-0.17739098, -0.00067187,  0.01667726, ...,  0.00655907,\n",
       "          0.03614971,  0.09654725],\n",
       "        [-0.1747657 , -0.00065019,  0.01660449, ...,  0.00632377,\n",
       "          0.03780067,  0.09638622],\n",
       "        [-0.1749173 , -0.00061091,  0.01679106, ...,  0.00663596,\n",
       "          0.03946506,  0.09655192],\n",
       "        ...,\n",
       "        [-0.177018  , -0.00064966,  0.0166867 , ...,  0.00618463,\n",
       "          0.03673364,  0.09675171],\n",
       "        [-0.1757744 ,  0.00030468,  0.01655487, ...,  0.00629132,\n",
       "          0.03641494,  0.09631334],\n",
       "        [-0.17786627, -0.00057332,  0.01687178, ...,  0.00618563,\n",
       "          0.03663646,  0.09616786]], dtype=float32),\n",
       " ['D40N',\n",
       "  'V39E:D40Y',\n",
       "  'V39F:V54G',\n",
       "  'V39K:D40I',\n",
       "  'V39L:D40A',\n",
       "  'V39L:D40I',\n",
       "  'V39L:D40R',\n",
       "  'V39L:D40S',\n",
       "  'V39L:D40V',\n",
       "  'V39M:V54L',\n",
       "  'V39M:D40Q',\n",
       "  'V39M:D40T',\n",
       "  'V39Q:D40H',\n",
       "  'V39Q:D40S',\n",
       "  'V39R:D40R',\n",
       "  'V39R:D40Y',\n",
       "  'V39T:G41K',\n",
       "  'V39T:D40K',\n",
       "  'V39T:D40T',\n",
       "  'D40A:V54N',\n",
       "  'D40A:V54T',\n",
       "  'D40A:V54W',\n",
       "  'G41A:V54A',\n",
       "  'G41A:V54L',\n",
       "  'D40E:V54F',\n",
       "  'D40E:V54M',\n",
       "  'D40F:V54A',\n",
       "  'D40F:V54N',\n",
       "  'D40F:G41T',\n",
       "  'D40G:G41R',\n",
       "  'D40I:V54A',\n",
       "  'D40I:V54C',\n",
       "  'D40I:V54G',\n",
       "  'D40L:V54M',\n",
       "  'D40M:V54C',\n",
       "  'D40S:G41C',\n",
       "  'D40S:V54F',\n",
       "  'D40S:V54L',\n",
       "  'D40S:V54S',\n",
       "  'D40V:V54F',\n",
       "  'D40W:V54A',\n",
       "  'D40Y:V54C',\n",
       "  'D40Y:V54S'])"
      ]
     },
     "execution_count": 12,
     "metadata": {},
     "output_type": "execute_result"
    }
   ],
   "source": [
    "one_mean_emb"
   ]
  },
  {
   "cell_type": "code",
   "execution_count": 10,
   "metadata": {},
   "outputs": [
    {
     "name": "stdout",
     "output_type": "stream",
     "text": [
      "Loading esm1b_t33_650M_UR50S using 0 layer embedding\n"
     ]
    },
    {
     "name": "stderr",
     "output_type": "stream",
     "text": [
      "Using cache found in /home/t-fli/.cache/torch/hub/facebookresearch_esm_main\n",
      "  0%|          | 0/11 [00:00<?, ?it/s]"
     ]
    }
   ],
   "source": [
    "mean_batch_encoder = ESMEncoder(\n",
    "    encoder_name=\"esm1b_t33_650M_UR50S\",\n",
    "    embed_layer=0,\n",
    ").encode(mut_seqs=list(df_val.sequence), mut_names=list(df_val.mut_name), batch_size=4, flatten_emb=\"mean\")\n",
    "one_mean_emb = next(mean_batch_encoder)"
   ]
  },
  {
   "cell_type": "code",
   "execution_count": 11,
   "metadata": {},
   "outputs": [
    {
     "data": {
      "text/plain": [
       "((4, 1280), 4)"
      ]
     },
     "execution_count": 11,
     "metadata": {},
     "output_type": "execute_result"
    }
   ],
   "source": [
    "one_mean_emb[0].shape, len(one_mean_emb[1])"
   ]
  },
  {
   "cell_type": "code",
   "execution_count": 14,
   "metadata": {},
   "outputs": [
    {
     "data": {
      "text/plain": [
       "(['D40N', 'V39E:D40Y', 'V39F:V54G', 'V39K:D40I'],\n",
       " 20          D40N\n",
       " 56     V39E:D40Y\n",
       " 60     V39F:V54G\n",
       " 117    V39K:D40I\n",
       " Name: mut_name, dtype: object)"
      ]
     },
     "execution_count": 14,
     "metadata": {},
     "output_type": "execute_result"
    }
   ],
   "source": [
    "one_mean_emb[1], df_val.mut_name[:4]"
   ]
  },
  {
   "cell_type": "code",
   "execution_count": 11,
   "metadata": {},
   "outputs": [
    {
     "name": "stderr",
     "output_type": "stream",
     "text": [
      "Using cache found in /home/t-fli/.cache/torch/hub/facebookresearch_esm_main\n"
     ]
    }
   ],
   "source": [
    "import torch\n",
    "\n",
    "# Load ESM-1b model\n",
    "original_model, alphabet = torch.hub.load(\n",
    "            \"facebookresearch/esm:main\", model=\"esm1_t6_43M_UR50S\"\n",
    "        )\n",
    "batch_converter = alphabet.get_batch_converter()\n",
    "data = [\n",
    "    (\"protein1\", \"MSGEEEKAADFYVRYYVGHKGKFGHEFLEFEFRPNGSLRYANNSNYKNDTMIRKEATVSESVLSELKRIIEDSEIMQEDDDNWPEPDKIGRQELEILYKNEHISFTTGKIGALADVNNSKDPDGLRSFYYLVQDLKCLVFSLIGLHFKIKPI\"),\n",
    "    (\"2\", \"VSDGMTGSNPVSPASSSSPDSSGAGGISPQHIAQDSSLDGPPGPQDGTTVPLEGFSLSHAADLVNRGQKWEKSHAEIAEQAKHEAEIETRIAELRKEGFWSLKRLPKVPEPPRPKGHWDYLCEEMQWLSADFAQERRWKRGVARKVVRMVIRHHEEQRQKEERARREEQAKLRRIASTMAKDVRQFWSNVEKVVQFKQQSRLEEKRKKALDLHLDFIVGQTEKYSDLLSQSLNQPPASSKAGSSPCLGSSSAASSPPPPVSRLDDEDGDFQPQEEEEEDDEETIEVEEQQEGNDAETQRREIELLRHEGELPLEELLRSLPPQLLGGPFSPSQTPSHDSDTQDGPEENIEEEPSQDLEVHPPSSAVTQCNKQRWHPDEDDEEFTANEDEAEDEEDTIAAEEQLEGEVDHAMELSELAREGELSMEELLQQYAGAYACDASAPASGDSEDEDEVEANSSDGELEETVEEAAQEDSSSQSDSAEECSEDEEDEHSEEEMSGSSQSEESESDESEDAQSQSQADEEQDDEGEDDDVDDDDDDGFGVEYLLARDDERSEVDGGSGPPTPGPTTTLGPKKEITDIAAAAESLQPKGYTLATTQVKTPIPLLLRGQLREYQHIGLDWLVTMYEKKLNGILADEMGLGKTIQTISLLAHLACEKGNWGPHLIIVPTSVMLNWEMELKRWCPSFKILTYYGAQKERKLKRQGWTKPNAFHVCITSYKLVLQDHQAFRRKNWRYLILDEAQNIKNFKSQRWQSLLNFNSQRRLLLTGTPLQNSLMELWSLMHFLMPHVFQSHREFKEWFSNPLTGMIEGSQEYNEGLVKRLHKVLRPFLLRRVKVDVEKQMPKKYEHVIRCRLSKRQRCLYDDFMAQTTTKETLATGHFMSVINILMQLRKVCNHPNLFDPRPVTSPFITPGICFSTASLVLRATEVHPLQRIDMGRFDLIGLEGRVSRYEADTFLPRHRLSHRILLEIATAPDPPPRPKPVKMKVNRMLQPVPKQEGRTVVVVNSPRPPLGPVPVRPPPGPEVSAQPALGPVPPVLPAPLMVSASPAGTPVVPASRPPGPVLLSPLQPNTGPLPQAGEVVSIGQLASLAQRPVTSAGGSKPLTFQIQGNKLTLTGAQVRQLAVGQPRPLQMPPSMVNNTGVVKIVVRQAPRDGLTPVPPLAPAPRPSSSGLPAVLTSRPTLTPSRLSSPTLGTTRTPIPTPTLVRPLLKLVHSPSPEVSASAPGAAPMTISSSLHMPSSLPGPASSPMTIHNSSPLSSPVSSTVSVPVSSSLPISVPTTLPVPTSAPLPIPITAPLPVSDLGPALLTSVTPALAVVSAASGPPLASAGVSPSMSALALGLATTPALSPPQTSGHSLLLATTSSHVPGLNSAVAPACSPVLVSASALTSPFPVSPSSAPAQASLLAAAPSTSQALATSLAPMAASQTAILGPSPTPPLAPLPVLAASQTPLPAMTPPSMSGTPLPSSSLVSAPTSVLAPSSTQTLVSTPVSSPLSSLASTQTLTLAPTLAPTLGGLSPSQTHSLGTGSPQGPFPIQTLSLTPASSLVPTPAQTLSLAPGGPVGPTQTLSLAPVPPLPPSSPVGPAPGHTLTLAPAASSASLLVPTSVQTLTLSPAPVPVPTLDLSATQTLALAPALTQAPASQASSLVSASGAASLPVTMVNRLPVPKDEPETLTLRSGPPSPLPTATSFSGPRPRRQPPPPPRSPFYLDSLEEKRKQQRSERLDRIFQLSEAHGALAPVYGTEVLDFCTLPQPVASPIGPRSPGPSHPIFWTYTEAARRAVLFPQQRLEQLSEIIERFIFVMPPVEAPPPSLHACHPPPWLAPHQAAFQEQLACELWPRARPLHRIVCNMRTQFPDLRLIQYDCGKLQTLAVLLRQLKAEGHRVLIFTQMTRMLDVLEQFLTYHGHLYLRLDGSTRVEQRQALMERFNADKRIFCFILSTRSGGVGVNLTGADTVVFYDSDWNPTMDAQAQDRCHRIGQTRDVHIYRLISERTVEENILKKANQKRMLGDMAIEGGNFTTAYFKQQTIRELFDMPLEEPPGSSVSSVPEDEEEAVASKQTHILEQALCRAEDEEDIRAATQAKAEQVAELAEFNENDGFPAGEGEEANRPGPGAEDEEMSRAEQEIAALVEQLTPIERYAMKFLEASLEEVSREELKQAEEQVEAARKDLDQAKEEVFRLPHEEEEGPGAGDEMSCGSSGASHRRSKKIRAPERLGTRVSERLRGARAETQGANHTPVTSSHHTCNTFVPPQCSPVRERIPRPVPRPRPPPPPPAPPPPPAPPASPSPAPPPPPAPASPAPPAPPASPPAASPSPAPLPPAASVASAITSALATAPIPISAPNPVTILPVHILPTPPLLQLPPSSSPASTPPSACTPLPTCTPLQAQTSVLTSSSPAPLDSLSVPISPGVTNLPLDSGEVGLCAQELAPVESLELPGMTNSEASLASLVSPKDLLPVAVDILPESEKTLPCIPAPSSTLEAESIPNGQQQEVPGPVEGTNTTLLPGSEELTMSLNESNGLELPPSAASAEPLDELLETHRNSGETREVQIPISNSEKPQELVRAEVTAPSTSSSATSSPEGPLPARPPRRRTSADVEIRGQGSGRTGQLPGPKVLRKLPGRLVTVVEEKELVKRRRHRAPASTLVPGVSEVSASPRSPSIHSMSGPESSPPSSGPCEAAPTSSLSTPTQSTFIACRHNELGTTTGGSPENGEGTELAITPPAVKRRRGRPPKKNRSPADAGRGVDEVPSSISKGKTNGVDPVPGPETVTVAEPDLRPQFVPGPQPPGPQPVHRPEPTILSPVEKRRRGRPPKARDLPIPGTISSPGGGNLESRTQSLPFPAPLTPLLACPTAVTNTVTTVTISTSPPKRKRGRPPKNPPSPRPSQHPVLDPDSSSILESCGLGVQRQPLGQAESEGSSSDEDGSRPLTRLARLRLEAEGMRGRKSEGSMVMAVIQDDLDLADSGPSGLELTPPVVSLTPKFRSTRLRPGSLVPPLETEKMPRKRSGAPVGSSGMAKRGRLQPPSPLGPEGSVEESEVEASGDEEEGDGTPRRRTGPRRLVGTTNQGDQRILRSSAPPHLCIPTISHRGRKAKT\")\n",
    "]\n",
    "batch_labels, batch_strs, batch_tokens = batch_converter(data)\n",
    "\n",
    "original_model.eval()\n",
    "with torch.no_grad():\n",
    "    original_results = original_model(batch_tokens, repr_layers=[6], return_contacts=False)\n",
    "original_reps = original_results[\"representations\"][6].numpy().mean(axis=1).flatten()"
   ]
  },
  {
   "cell_type": "code",
   "execution_count": 12,
   "metadata": {},
   "outputs": [
    {
     "data": {
      "text/plain": [
       "torch.Size([2, 3096])"
      ]
     },
     "execution_count": 12,
     "metadata": {},
     "output_type": "execute_result"
    }
   ],
   "source": [
    "batch_tokens.shape"
   ]
  },
  {
   "cell_type": "code",
   "execution_count": null,
   "metadata": {},
   "outputs": [],
   "source": []
  }
 ],
 "metadata": {
  "kernelspec": {
   "display_name": "Python 3.9.13 ('protran')",
   "language": "python",
   "name": "python3"
  },
  "language_info": {
   "codemirror_mode": {
    "name": "ipython",
    "version": 3
   },
   "file_extension": ".py",
   "mimetype": "text/x-python",
   "name": "python",
   "nbconvert_exporter": "python",
   "pygments_lexer": "ipython3",
   "version": "3.9.2"
  },
  "orig_nbformat": 4,
  "vscode": {
   "interpreter": {
    "hash": "019692f042c79b6731ff84413c6b50d6174007f2b51f86eed1fb032dbd4a337e"
   }
  }
 },
 "nbformat": 4,
 "nbformat_minor": 2
}
