{
 "cells": [
  {
   "cell_type": "markdown",
   "metadata": {},
   "source": [
    "# ESM"
   ]
  },
  {
   "cell_type": "code",
   "execution_count": 1,
   "metadata": {},
   "outputs": [
    {
     "name": "stdout",
     "output_type": "stream",
     "text": [
      "/home/t-fli/repo/protein-transfer\n"
     ]
    }
   ],
   "source": [
    "%cd ~/repo/protein-transfer"
   ]
  },
  {
   "cell_type": "code",
   "execution_count": 2,
   "metadata": {},
   "outputs": [],
   "source": [
    "%load_ext blackcellmagic"
   ]
  },
  {
   "cell_type": "code",
   "execution_count": 3,
   "metadata": {},
   "outputs": [],
   "source": [
    "from scr.preprocess.data_process import TaskProcess"
   ]
  },
  {
   "cell_type": "code",
   "execution_count": 4,
   "metadata": {},
   "outputs": [
    {
     "data": {
      "text/html": [
       "<div>\n",
       "<style scoped>\n",
       "    .dataframe tbody tr th:only-of-type {\n",
       "        vertical-align: middle;\n",
       "    }\n",
       "\n",
       "    .dataframe tbody tr th {\n",
       "        vertical-align: top;\n",
       "    }\n",
       "\n",
       "    .dataframe thead th {\n",
       "        text-align: right;\n",
       "    }\n",
       "</style>\n",
       "<table border=\"1\" class=\"dataframe\">\n",
       "  <thead>\n",
       "    <tr style=\"text-align: right;\">\n",
       "      <th></th>\n",
       "      <th>task</th>\n",
       "      <th>dataset</th>\n",
       "      <th>split</th>\n",
       "      <th>csv_path</th>\n",
       "      <th>fasta_path</th>\n",
       "      <th>pkl_path</th>\n",
       "    </tr>\n",
       "  </thead>\n",
       "  <tbody>\n",
       "    <tr>\n",
       "      <th>0</th>\n",
       "      <td>annotation</td>\n",
       "      <td>scl</td>\n",
       "      <td>balanced</td>\n",
       "      <td>data/annotation/scl/balanced.csv</td>\n",
       "      <td></td>\n",
       "      <td></td>\n",
       "    </tr>\n",
       "    <tr>\n",
       "      <th>1</th>\n",
       "      <td>structure</td>\n",
       "      <td>secondary_structure</td>\n",
       "      <td>cb513</td>\n",
       "      <td>[data/structure/secondary_structure/secondary_...</td>\n",
       "      <td></td>\n",
       "      <td></td>\n",
       "    </tr>\n",
       "    <tr>\n",
       "      <th>2</th>\n",
       "      <td>proeng</td>\n",
       "      <td>gb1</td>\n",
       "      <td>two_vs_rest</td>\n",
       "      <td>data/proeng/gb1/two_vs_rest.csv</td>\n",
       "      <td>data/proeng/gb1/5LDE_1.fasta</td>\n",
       "      <td>data/proeng/gb1/two_vs_rest.pkl</td>\n",
       "    </tr>\n",
       "    <tr>\n",
       "      <th>3</th>\n",
       "      <td>proeng</td>\n",
       "      <td>gb1</td>\n",
       "      <td>low_vs_high</td>\n",
       "      <td>data/proeng/gb1/low_vs_high.csv</td>\n",
       "      <td>data/proeng/gb1/5LDE_1.fasta</td>\n",
       "      <td>data/proeng/gb1/low_vs_high.pkl</td>\n",
       "    </tr>\n",
       "    <tr>\n",
       "      <th>4</th>\n",
       "      <td>proeng</td>\n",
       "      <td>aav</td>\n",
       "      <td>one_vs_many</td>\n",
       "      <td>data/proeng/aav/one_vs_many.csv</td>\n",
       "      <td>data/proeng/aav/P03135.fasta</td>\n",
       "      <td>data/proeng/aav/one_vs_many.pkl</td>\n",
       "    </tr>\n",
       "    <tr>\n",
       "      <th>5</th>\n",
       "      <td>proeng</td>\n",
       "      <td>aav</td>\n",
       "      <td>two_vs_many</td>\n",
       "      <td>data/proeng/aav/two_vs_many.csv</td>\n",
       "      <td>data/proeng/aav/P03135.fasta</td>\n",
       "      <td>data/proeng/aav/two_vs_many.pkl</td>\n",
       "    </tr>\n",
       "    <tr>\n",
       "      <th>6</th>\n",
       "      <td>proeng</td>\n",
       "      <td>thermo</td>\n",
       "      <td>mixed</td>\n",
       "      <td>data/proeng/thermo/mixed.csv</td>\n",
       "      <td></td>\n",
       "      <td></td>\n",
       "    </tr>\n",
       "  </tbody>\n",
       "</table>\n",
       "</div>"
      ],
      "text/plain": [
       "         task              dataset        split  \\\n",
       "0  annotation                  scl     balanced   \n",
       "1   structure  secondary_structure        cb513   \n",
       "2      proeng                  gb1  two_vs_rest   \n",
       "3      proeng                  gb1  low_vs_high   \n",
       "4      proeng                  aav  one_vs_many   \n",
       "5      proeng                  aav  two_vs_many   \n",
       "6      proeng               thermo        mixed   \n",
       "\n",
       "                                            csv_path  \\\n",
       "0                   data/annotation/scl/balanced.csv   \n",
       "1  [data/structure/secondary_structure/secondary_...   \n",
       "2                    data/proeng/gb1/two_vs_rest.csv   \n",
       "3                    data/proeng/gb1/low_vs_high.csv   \n",
       "4                    data/proeng/aav/one_vs_many.csv   \n",
       "5                    data/proeng/aav/two_vs_many.csv   \n",
       "6                       data/proeng/thermo/mixed.csv   \n",
       "\n",
       "                     fasta_path                         pkl_path  \n",
       "0                                                                 \n",
       "1                                                                 \n",
       "2  data/proeng/gb1/5LDE_1.fasta  data/proeng/gb1/two_vs_rest.pkl  \n",
       "3  data/proeng/gb1/5LDE_1.fasta  data/proeng/gb1/low_vs_high.pkl  \n",
       "4  data/proeng/aav/P03135.fasta  data/proeng/aav/one_vs_many.pkl  \n",
       "5  data/proeng/aav/P03135.fasta  data/proeng/aav/two_vs_many.pkl  \n",
       "6                                                                 "
      ]
     },
     "execution_count": 4,
     "metadata": {},
     "output_type": "execute_result"
    }
   ],
   "source": [
    "TaskProcess().sum_file_df"
   ]
  },
  {
   "cell_type": "code",
   "execution_count": 3,
   "metadata": {},
   "outputs": [],
   "source": [
    "from scr.utils import pickle_load"
   ]
  },
  {
   "cell_type": "code",
   "execution_count": 4,
   "metadata": {},
   "outputs": [],
   "source": [
    "df = pickle_load(\"data/proeng/gb1/two_vs_rest.pkl\")"
   ]
  },
  {
   "cell_type": "code",
   "execution_count": 5,
   "metadata": {},
   "outputs": [
    {
     "data": {
      "text/html": [
       "<div>\n",
       "<style scoped>\n",
       "    .dataframe tbody tr th:only-of-type {\n",
       "        vertical-align: middle;\n",
       "    }\n",
       "\n",
       "    .dataframe tbody tr th {\n",
       "        vertical-align: top;\n",
       "    }\n",
       "\n",
       "    .dataframe thead th {\n",
       "        text-align: right;\n",
       "    }\n",
       "</style>\n",
       "<table border=\"1\" class=\"dataframe\">\n",
       "  <thead>\n",
       "    <tr style=\"text-align: right;\">\n",
       "      <th></th>\n",
       "      <th>sequence</th>\n",
       "      <th>target</th>\n",
       "      <th>set</th>\n",
       "      <th>validation</th>\n",
       "      <th>mut_name</th>\n",
       "      <th>mut_numb</th>\n",
       "    </tr>\n",
       "  </thead>\n",
       "  <tbody>\n",
       "    <tr>\n",
       "      <th>0</th>\n",
       "      <td>MQYKLILNGKTLKGETTTEAVDAATAEKVFKQYANDNGVDGEWTYD...</td>\n",
       "      <td>1.000000</td>\n",
       "      <td>train</td>\n",
       "      <td>NaN</td>\n",
       "      <td>parent</td>\n",
       "      <td>1</td>\n",
       "    </tr>\n",
       "    <tr>\n",
       "      <th>1</th>\n",
       "      <td>MQYKLILNGKTLKGETTTEAVDAATAEKVFKQYANDNGIDGEWTYD...</td>\n",
       "      <td>1.445905</td>\n",
       "      <td>train</td>\n",
       "      <td>NaN</td>\n",
       "      <td>V39I</td>\n",
       "      <td>1</td>\n",
       "    </tr>\n",
       "    <tr>\n",
       "      <th>2</th>\n",
       "      <td>MQYKLILNGKTLKGETTTEAVDAATAEKVFKQYANDNGLDGEWTYD...</td>\n",
       "      <td>1.690164</td>\n",
       "      <td>train</td>\n",
       "      <td>NaN</td>\n",
       "      <td>V39L</td>\n",
       "      <td>1</td>\n",
       "    </tr>\n",
       "    <tr>\n",
       "      <th>3</th>\n",
       "      <td>MQYKLILNGKTLKGETTTEAVDAATAEKVFKQYANDNGMDGEWTYD...</td>\n",
       "      <td>1.170550</td>\n",
       "      <td>train</td>\n",
       "      <td>NaN</td>\n",
       "      <td>V39M</td>\n",
       "      <td>1</td>\n",
       "    </tr>\n",
       "    <tr>\n",
       "      <th>4</th>\n",
       "      <td>MQYKLILNGKTLKGETTTEAVDAATAEKVFKQYANDNGVAGEWTYD...</td>\n",
       "      <td>2.401243</td>\n",
       "      <td>train</td>\n",
       "      <td>NaN</td>\n",
       "      <td>D40A</td>\n",
       "      <td>1</td>\n",
       "    </tr>\n",
       "  </tbody>\n",
       "</table>\n",
       "</div>"
      ],
      "text/plain": [
       "                                            sequence    target    set  \\\n",
       "0  MQYKLILNGKTLKGETTTEAVDAATAEKVFKQYANDNGVDGEWTYD...  1.000000  train   \n",
       "1  MQYKLILNGKTLKGETTTEAVDAATAEKVFKQYANDNGIDGEWTYD...  1.445905  train   \n",
       "2  MQYKLILNGKTLKGETTTEAVDAATAEKVFKQYANDNGLDGEWTYD...  1.690164  train   \n",
       "3  MQYKLILNGKTLKGETTTEAVDAATAEKVFKQYANDNGMDGEWTYD...  1.170550  train   \n",
       "4  MQYKLILNGKTLKGETTTEAVDAATAEKVFKQYANDNGVAGEWTYD...  2.401243  train   \n",
       "\n",
       "  validation mut_name  mut_numb  \n",
       "0        NaN   parent         1  \n",
       "1        NaN     V39I         1  \n",
       "2        NaN     V39L         1  \n",
       "3        NaN     V39M         1  \n",
       "4        NaN     D40A         1  "
      ]
     },
     "execution_count": 5,
     "metadata": {},
     "output_type": "execute_result"
    }
   ],
   "source": [
    "df.head()"
   ]
  },
  {
   "cell_type": "code",
   "execution_count": 6,
   "metadata": {},
   "outputs": [
    {
     "data": {
      "text/plain": [
       "(381, 43, 8309, 8733)"
      ]
     },
     "execution_count": 6,
     "metadata": {},
     "output_type": "execute_result"
    }
   ],
   "source": [
    "df_train = df.loc[(df[\"set\"] == \"train\") & (df[\"validation\"] != True)]\n",
    "df_val = df.loc[(df[\"set\"] == \"train\") & (df[\"validation\"] == True)]\n",
    "df_test = df.loc[(df[\"set\"] == \"test\")]\n",
    "\n",
    "len(df_train), len(df_val), len(df_test), len(df)"
   ]
  },
  {
   "cell_type": "code",
   "execution_count": 7,
   "metadata": {},
   "outputs": [],
   "source": [
    "from scr.encoding.encoding_classes import ESMEncoder"
   ]
  },
  {
   "cell_type": "code",
   "execution_count": 8,
   "metadata": {},
   "outputs": [
    {
     "name": "stdout",
     "output_type": "stream",
     "text": [
      "Loading esm1b_t33_650M_UR50S using 0 layer embedding\n"
     ]
    },
    {
     "name": "stderr",
     "output_type": "stream",
     "text": [
      "Using cache found in /home/t-fli/.cache/torch/hub/facebookresearch_esm_main\n"
     ]
    },
    {
     "name": "stdout",
     "output_type": "stream",
     "text": [
      "No embedding flattening\n"
     ]
    },
    {
     "data": {
      "text/plain": [
       "(43, 265, 1280)"
      ]
     },
     "execution_count": 8,
     "metadata": {},
     "output_type": "execute_result"
    }
   ],
   "source": [
    "no_flat_encoder = ESMEncoder(\n",
    "    encoder_name=\"esm1b_t33_650M_UR50S\",\n",
    "    embed_layer=0,\n",
    ").encode(mut_seqs=list(df_val.sequence), mut_names=list(df_val.mut_name))\n",
    "one_emb = next(no_flat_encoder)\n",
    "one_emb.shape"
   ]
  },
  {
   "cell_type": "code",
   "execution_count": 9,
   "metadata": {},
   "outputs": [
    {
     "name": "stdout",
     "output_type": "stream",
     "text": [
      "Loading esm1b_t33_650M_UR50S using 0 layer embedding\n"
     ]
    },
    {
     "name": "stderr",
     "output_type": "stream",
     "text": [
      "Using cache found in /home/t-fli/.cache/torch/hub/facebookresearch_esm_main\n"
     ]
    },
    {
     "data": {
      "text/plain": [
       "(43, 1280)"
      ]
     },
     "execution_count": 9,
     "metadata": {},
     "output_type": "execute_result"
    }
   ],
   "source": [
    "mean_flat_encoder = ESMEncoder(\n",
    "    encoder_name=\"esm1b_t33_650M_UR50S\",\n",
    "    embed_layer=0,\n",
    ").encode(mut_seqs=list(df_val.sequence), mut_names=list(df_val.mut_name),flatten_emb=\"mean\")\n",
    "one_mean_emb = next(mean_flat_encoder)\n",
    "one_mean_emb.shape"
   ]
  },
  {
   "cell_type": "code",
   "execution_count": 10,
   "metadata": {},
   "outputs": [
    {
     "name": "stdout",
     "output_type": "stream",
     "text": [
      "Loading esm1b_t33_650M_UR50S using 0 layer embedding\n"
     ]
    },
    {
     "name": "stderr",
     "output_type": "stream",
     "text": [
      "Using cache found in /home/t-fli/.cache/torch/hub/facebookresearch_esm_main\n",
      "  0%|          | 0/11 [00:00<?, ?it/s]"
     ]
    }
   ],
   "source": [
    "mean_batch_encoder = ESMEncoder(\n",
    "    encoder_name=\"esm1b_t33_650M_UR50S\",\n",
    "    embed_layer=0,\n",
    ").encode(mut_seqs=list(df_val.sequence), mut_names=list(df_val.mut_name), batch_size=4, flatten_emb=\"mean\")\n",
    "one_mean_emb = next(mean_batch_encoder)"
   ]
  },
  {
   "cell_type": "code",
   "execution_count": 11,
   "metadata": {},
   "outputs": [
    {
     "data": {
      "text/plain": [
       "((4, 1280), 4)"
      ]
     },
     "execution_count": 11,
     "metadata": {},
     "output_type": "execute_result"
    }
   ],
   "source": [
    "one_mean_emb[0].shape, len(one_mean_emb[1])"
   ]
  },
  {
   "cell_type": "code",
   "execution_count": null,
   "metadata": {},
   "outputs": [],
   "source": []
  }
 ],
 "metadata": {
  "kernelspec": {
   "display_name": "Python 3.9.13 ('protran')",
   "language": "python",
   "name": "python3"
  },
  "language_info": {
   "codemirror_mode": {
    "name": "ipython",
    "version": 3
   },
   "file_extension": ".py",
   "mimetype": "text/x-python",
   "name": "python",
   "nbconvert_exporter": "python",
   "pygments_lexer": "ipython3",
   "version": "3.9.2"
  },
  "orig_nbformat": 4,
  "vscode": {
   "interpreter": {
    "hash": "019692f042c79b6731ff84413c6b50d6174007f2b51f86eed1fb032dbd4a337e"
   }
  }
 },
 "nbformat": 4,
 "nbformat_minor": 2
}
