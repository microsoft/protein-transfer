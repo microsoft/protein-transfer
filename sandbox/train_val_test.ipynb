{
 "cells": [
  {
   "cell_type": "code",
   "execution_count": 1,
   "metadata": {},
   "outputs": [
    {
     "name": "stdout",
     "output_type": "stream",
     "text": [
      "/home/t-fli/repo/protein-transfer\n"
     ]
    }
   ],
   "source": [
    "%cd ~/repo/protein-transfer"
   ]
  },
  {
   "cell_type": "code",
   "execution_count": 2,
   "metadata": {},
   "outputs": [],
   "source": [
    "%load_ext blackcellmagic"
   ]
  },
  {
   "cell_type": "code",
   "execution_count": 7,
   "metadata": {},
   "outputs": [],
   "source": [
    "\"\"\"Script for running pytorch models\"\"\"\n",
    "\n",
    "from __future__ import annotations\n",
    "\n",
    "import os\n",
    "\n",
    "import torch\n",
    "import torch.nn as nn\n",
    "\n",
    "from sklearn.metrics import ndcg_score\n",
    "from scipy.stats import spearmanr\n",
    "\n",
    "from scr.params.sys import RAND_SEED, DEVICE\n",
    "from scr.params.emb import TRANSFORMER_INFO\n",
    "\n",
    "from scr.preprocess.data_process import split_protrain_loader\n",
    "from scr.model.pytorch_model import LinearRegression\n",
    "from scr.model.train_test import train, test\n",
    "from scr.encoding.encoding_classes import AbstractEncoder, ESMEncoder\n",
    "from scr.vis.learning_vis import plot_lc\n",
    "from scr.utils import get_folder_file_names, pickle_save\n",
    "\n",
    "def run_pytorch(\n",
    "    dataset_path: str,\n",
    "    encoder_class: AbstractEncoder,\n",
    "    encoder_name: str,\n",
    "    embed_layer: int,\n",
    "    embed_batch_size: int = 128,\n",
    "    flatten_emb: bool | str = False,\n",
    "    embed_path: str | None = None,\n",
    "    seq_start_idx: bool | int = False,\n",
    "    seq_end_idx: bool | int = False,\n",
    "    loader_batch_size: int = 64,\n",
    "    worker_seed: int = RAND_SEED,\n",
    "    learning_rate: float = 1e-4,\n",
    "    lr_decay: float = 0.1,\n",
    "    epochs: int = 100,\n",
    "    device: torch.device | str = DEVICE,\n",
    "    all_result_folder: str = \"results/train_val_test\",\n",
    "    **encoder_params,\n",
    ") -> dict:\n",
    "\n",
    "    \"\"\"\n",
    "    A function for running pytorch model\n",
    "\n",
    "    Args:\n",
    "    - dataset_path: str, full path to the dataset, in pkl or panda readable format\n",
    "        columns include: sequence, target, set, validation, mut_name (optional), mut_numb (optional)\n",
    "    - encoder_class: AbstractEncoder, the encoder class\n",
    "    - encoder_name: str, the name of the encoder\n",
    "    - embed_layer: int, the layer number of the embedding\n",
    "    - embed_batch_size: int, set to 0 to encode all in a single batch\n",
    "    - flatten_emb: bool or str, if and how (one of [\"max\", \"mean\"]) to flatten the embedding\n",
    "    - embed_path: str = None, path to presaved embedding\n",
    "    - seq_start_idx: bool | int = False, the index for the start of the sequence\n",
    "    - seq_end_idx: bool | int = False, the index for the end of the sequence\n",
    "    - loader_batch_size: int, the batch size for train, val, and test dataloader\n",
    "    - worker_seed: int, the seed for dataloader\n",
    "    - learning_rate: float\n",
    "    - lr_decay: float, factor by which to decay LR on plateau\n",
    "    - epochs: int, number of epochs to train for\n",
    "    - device: torch.device or str\n",
    "    - all_result_folder: str = \"results/train_val_test\", the parent folder for all results\n",
    "    - encoder_params: kwarg, additional parameters for encoding\n",
    "\n",
    "    Returns:\n",
    "    - result_dict: dict, with the keys and dict values\n",
    "        \"losses\": {\"train_losses\": np.ndarray, \"val_losses\": np.ndarray}\n",
    "        \"train\": {\"mse\": float, \n",
    "                  \"pred\": np.ndarray,\n",
    "                  \"true\": np.ndarray,\n",
    "                  \"ndcg\": float,\n",
    "                  \"rho\": SpearmanrResults(correlation=float, pvalue=float)}\n",
    "        \"val\":   {\"mse\": float, \n",
    "                  \"pred\": np.ndarray,\n",
    "                  \"true\": np.ndarray,\n",
    "                  \"ndcg\": float,\n",
    "                  \"rho\": SpearmanrResults(correlation=float, pvalue=float)}\n",
    "        \"test\":  {\"mse\": float, \n",
    "                  \"pred\": np.ndarray,\n",
    "                  \"true\": np.ndarray,\n",
    "                  \"ndcg\": float,\n",
    "                  \"rho\": SpearmanrResults(correlation=float, pvalue=float)}\n",
    "\n",
    "    \"\"\"\n",
    "\n",
    "    train_loader, val_loader, test_loader = split_protrain_loader(\n",
    "        dataset_path=dataset_path,\n",
    "        encoder_class=encoder_class,\n",
    "        encoder_name=encoder_name,\n",
    "        embed_layer=embed_layer,\n",
    "        embed_batch_size=embed_batch_size,\n",
    "        flatten_emb=flatten_emb,\n",
    "        embed_path=embed_path,\n",
    "        seq_start_idx=seq_start_idx,\n",
    "        seq_end_idx=seq_end_idx,\n",
    "        subset_list=[\"train\", \"val\", \"test\"],\n",
    "        loader_batch_size=loader_batch_size,\n",
    "        worker_seed=worker_seed,\n",
    "        **encoder_params,\n",
    "    )\n",
    "\n",
    "    model = LinearRegression(input_dim=TRANSFORMER_INFO[encoder_name][0], output_dim=1)\n",
    "    model.to(device, non_blocking=True)\n",
    "    \n",
    "    criterion = nn.MSELoss()\n",
    "    criterion.to(device, non_blocking=True)\n",
    "\n",
    "    train_losses, val_losses = train(\n",
    "        model=model,\n",
    "        train_loader=train_loader,\n",
    "        val_loader=val_loader,\n",
    "        device=device,\n",
    "        criterion=criterion,\n",
    "        learning_rate=learning_rate,\n",
    "        lr_decay=lr_decay,\n",
    "        epochs=epochs,\n",
    "    )\n",
    "\n",
    "    # record the losses\n",
    "    result_dict = {\"losses\": {\"train_losses\": train_losses, \"val_losses\": val_losses}}\n",
    "\n",
    "    plot_lc(\n",
    "        train_losses=train_losses,\n",
    "        val_losses=val_losses,\n",
    "        dataset_path=dataset_path,\n",
    "        encoder_name=encoder_name,\n",
    "        embed_layer=embed_layer,\n",
    "        flatten_emb=flatten_emb,\n",
    "    )\n",
    "\n",
    "    # now test the model with the test data\n",
    "    for subset, loader in zip(\n",
    "        [\"train\", \"val\", \"test\"], [train_loader, val_loader, test_loader]\n",
    "    ):\n",
    "        mse, pred, true = test(\n",
    "            model=model, loader=loader, device=device, criterion=criterion\n",
    "        )\n",
    "\n",
    "        result_dict[subset] = {\n",
    "            \"mse\": mse,\n",
    "            \"pred\": pred,\n",
    "            \"true\": true,\n",
    "            \"ndcg\": ndcg_score(true[None, :], pred[None, :]),\n",
    "            \"rho\": spearmanr(true, pred),\n",
    "        }\n",
    "\n",
    "    dataset_subfolder, file_name = get_folder_file_names(\n",
    "        parent_folder=all_result_folder,\n",
    "        dataset_path=dataset_path,\n",
    "        encoder_name=encoder_name,\n",
    "        embed_layer=embed_layer,\n",
    "        flatten_emb=flatten_emb,\n",
    "    )\n",
    "\n",
    "    print(f\"Saving results for {file_name} to: {dataset_subfolder}...\")\n",
    "    pickle_save(\n",
    "        what2save=result_dict,\n",
    "        where2save=os.path.join(dataset_subfolder, file_name + \".pkl\"),\n",
    "    )\n",
    "\n",
    "    return result_dict"
   ]
  },
  {
   "cell_type": "code",
   "execution_count": 10,
   "metadata": {},
   "outputs": [],
   "source": [
    "dataset_path=\"data/proeng/gb1/two_vs_rest.pkl\"\n",
    "encoder_class=ESMEncoder\n",
    "encoder_name=\"esm1b_t33_650M_UR50S\"\n",
    "embed_layer=33\n",
    "flatten_emb=\"mean\"\n",
    "seq_end_idx=56\n",
    "learning_rate = 0.001\n",
    "loader_batch_size = 1024\n",
    "epochs = 100\n",
    "device = DEVICE\n",
    "all_result_folder = \"results/train_val_test\""
   ]
  },
  {
   "cell_type": "code",
   "execution_count": 11,
   "metadata": {},
   "outputs": [
    {
     "name": "stdout",
     "output_type": "stream",
     "text": [
      "Loading esm1b_t33_650M_UR50S using 33 layer embedding\n"
     ]
    },
    {
     "name": "stderr",
     "output_type": "stream",
     "text": [
      "Using cache found in /home/t-fli/.cache/torch/hub/facebookresearch_esm_main\n",
      "100%|██████████| 3/3 [00:52<00:00, 17.58s/it]\n",
      "Using cache found in /home/t-fli/.cache/torch/hub/facebookresearch_esm_main\n"
     ]
    },
    {
     "name": "stdout",
     "output_type": "stream",
     "text": [
      "Loading esm1b_t33_650M_UR50S using 33 layer embedding\n"
     ]
    },
    {
     "name": "stderr",
     "output_type": "stream",
     "text": [
      "100%|██████████| 1/1 [00:05<00:00,  5.28s/it]\n",
      "Using cache found in /home/t-fli/.cache/torch/hub/facebookresearch_esm_main\n"
     ]
    },
    {
     "name": "stdout",
     "output_type": "stream",
     "text": [
      "Loading esm1b_t33_650M_UR50S using 33 layer embedding\n"
     ]
    },
    {
     "name": "stderr",
     "output_type": "stream",
     "text": [
      "100%|██████████| 65/65 [19:23<00:00, 17.89s/it]\n",
      "100%|██████████| 100/100 [00:00<00:00, 251.92it/s]\n",
      "100%|██████████| 1/1 [00:00<00:00, 214.28it/s]\n",
      "100%|██████████| 1/1 [00:00<00:00, 454.08it/s]\n",
      "100%|██████████| 9/9 [00:00<00:00, 174.54it/s]\n"
     ]
    },
    {
     "name": "stdout",
     "output_type": "stream",
     "text": [
      "[    1] loss: 1.117\n",
      "[    1] loss: 1.035\n",
      "[    9] loss: 1.909\n",
      "Saving results for esm1b_t33_650M_UR50S-layer_33-mean to: results/train_val_test/proeng/gb1/two_vs_rest...\n"
     ]
    },
    {
     "data": {
      "image/png": "[encoded data removed]",
      "text/plain": [
       "<Figure size 432x288 with 1 Axes>"
      ]
     },
     "metadata": {
      "needs_background": "light"
     },
     "output_type": "display_data"
    }
   ],
   "source": [
    "result_dict = run_pytorch(\n",
    "    dataset_path=dataset_path,\n",
    "    encoder_class=ESMEncoder,\n",
    "    encoder_name=encoder_name,\n",
    "    embed_layer=embed_layer,\n",
    "    flatten_emb=flatten_emb,\n",
    "    seq_end_idx=seq_end_idx,\n",
    "    learning_rate=learning_rate,\n",
    "    epochs=epochs,\n",
    "    device=DEVICE,\n",
    "    loader_batch_size=loader_batch_size,\n",
    "    all_result_folder=\"results/train_val_test\")"
   ]
  },
  {
   "cell_type": "code",
   "execution_count": null,
   "metadata": {},
   "outputs": [],
   "source": []
  }
 ],
 "metadata": {
  "kernelspec": {
   "display_name": "Python 3.9.2 ('protran')",
   "language": "python",
   "name": "python3"
  },
  "language_info": {
   "codemirror_mode": {
    "name": "ipython",
    "version": 3
   },
   "file_extension": ".py",
   "mimetype": "text/x-python",
   "name": "python",
   "nbconvert_exporter": "python",
   "pygments_lexer": "ipython3",
   "version": "3.9.2"
  },
  "orig_nbformat": 4,
  "vscode": {
   "interpreter": {
    "hash": "019692f042c79b6731ff84413c6b50d6174007f2b51f86eed1fb032dbd4a337e"
   }
  }
 },
 "nbformat": 4,
 "nbformat_minor": 2
}
