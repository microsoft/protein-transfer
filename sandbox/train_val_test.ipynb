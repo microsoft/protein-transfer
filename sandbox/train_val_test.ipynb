{
 "cells": [
  {
   "cell_type": "code",
   "execution_count": 1,
   "metadata": {},
   "outputs": [
    {
     "name": "stdout",
     "output_type": "stream",
     "text": [
      "/home/t-fli/repo/protein-transfer\n"
     ]
    }
   ],
   "source": [
    "%cd ~/repo/protein-transfer"
   ]
  },
  {
   "cell_type": "code",
   "execution_count": 2,
   "metadata": {},
   "outputs": [],
   "source": [
    "%load_ext blackcellmagic"
   ]
  },
  {
   "cell_type": "code",
   "execution_count": 3,
   "metadata": {},
   "outputs": [],
   "source": [
    "import torch\n",
    "import torch.nn as nn\n",
    "from torch.utils.data import DataLoader"
   ]
  },
  {
   "cell_type": "code",
   "execution_count": 9,
   "metadata": {},
   "outputs": [],
   "source": [
    "from scr.params.sys import RAND_SEED, DEVICE"
   ]
  },
  {
   "cell_type": "code",
   "execution_count": 5,
   "metadata": {},
   "outputs": [],
   "source": [
    "from scr.preprocess.data_process import split_protrain_loader\n",
    "from scr.model.pytorch_model import LinearRegression\n",
    "from scr.model.train_test import train, test\n",
    "from scr.encoding.encoding_classes import ESMEncoder"
   ]
  },
  {
   "cell_type": "code",
   "execution_count": 6,
   "metadata": {},
   "outputs": [],
   "source": [
    "dataset_path=\"data/proeng/gb1/two_vs_rest.pkl\""
   ]
  },
  {
   "cell_type": "code",
   "execution_count": 16,
   "metadata": {},
   "outputs": [
    {
     "name": "stdout",
     "output_type": "stream",
     "text": [
      "Loading esm1b_t33_650M_UR50S using 33 layer embedding\n"
     ]
    },
    {
     "name": "stderr",
     "output_type": "stream",
     "text": [
      "Using cache found in /home/t-fli/.cache/torch/hub/facebookresearch_esm_main\n",
      "100%|██████████| 3/3 [03:58<00:00, 79.43s/it]\n",
      "Using cache found in /home/t-fli/.cache/torch/hub/facebookresearch_esm_main\n"
     ]
    },
    {
     "name": "stdout",
     "output_type": "stream",
     "text": [
      "Loading esm1b_t33_650M_UR50S using 33 layer embedding\n"
     ]
    },
    {
     "name": "stderr",
     "output_type": "stream",
     "text": [
      "100%|██████████| 1/1 [00:27<00:00, 27.71s/it]\n"
     ]
    }
   ],
   "source": [
    "train_loader, val_loader = split_protrain_loader(\n",
    "    dataset_path=dataset_path,\n",
    "    encoder_class=ESMEncoder,\n",
    "    encoder_name=\"esm1b_t33_650M_UR50S\",\n",
    "    embed_layer=33,\n",
    "    flatten_emb=\"mean\",\n",
    "    subset_list=[\"train\", \"val\"],\n",
    ")"
   ]
  },
  {
   "cell_type": "code",
   "execution_count": 21,
   "metadata": {},
   "outputs": [
    {
     "data": {
      "text/plain": [
       "<torch.utils.data.dataloader.DataLoader at 0x7f1c0d8f6250>"
      ]
     },
     "execution_count": 21,
     "metadata": {},
     "output_type": "execute_result"
    }
   ],
   "source": [
    "train_loader"
   ]
  },
  {
   "cell_type": "code",
   "execution_count": 11,
   "metadata": {},
   "outputs": [],
   "source": [
    "encoder = ESMEncoder"
   ]
  },
  {
   "cell_type": "code",
   "execution_count": 29,
   "metadata": {},
   "outputs": [
    {
     "data": {
      "text/plain": [
       "MSELoss()"
      ]
     },
     "execution_count": 29,
     "metadata": {},
     "output_type": "execute_result"
    }
   ],
   "source": [
    "model = LinearRegression(input_dim=1280, output_dim=1)\n",
    "model.to(DEVICE)\n",
    "learning_rate = 0.001\n",
    "optimizer = torch.optim.Adam(model.parameters(), lr=learning_rate)\n",
    "criterion = nn.MSELoss()\n",
    "criterion.to(DEVICE, non_blocking=True)"
   ]
  },
  {
   "cell_type": "code",
   "execution_count": 30,
   "metadata": {},
   "outputs": [
    {
     "name": "stderr",
     "output_type": "stream",
     "text": [
      "100%|██████████| 100/100 [00:00<00:00, 333.65it/s]\n",
      "100%|██████████| 2/2 [00:00<00:00, 546.95it/s]"
     ]
    },
    {
     "name": "stdout",
     "output_type": "stream",
     "text": [
      "[    2] loss: 1.001\n"
     ]
    },
    {
     "name": "stderr",
     "output_type": "stream",
     "text": [
      "\n"
     ]
    }
   ],
   "source": [
    "epochs = 100\n",
    "\n",
    "train_losses, val_losses = train(\n",
    "    model=model, train_loader=train_loader, val_loader=val_loader,\n",
    "    device=DEVICE, criterion=criterion, learning_rate=learning_rate,\n",
    "    epochs=epochs)\n",
    "\n",
    "train_mse = test(\n",
    "    model=model, loader=train_loader, device=DEVICE,\n",
    "    criterion=criterion)"
   ]
  },
  {
   "cell_type": "code",
   "execution_count": 31,
   "metadata": {},
   "outputs": [],
   "source": [
    "import matplotlib.pyplot as plt"
   ]
  },
  {
   "cell_type": "code",
   "execution_count": 46,
   "metadata": {},
   "outputs": [],
   "source": [
    "import numpy as np\n",
    "import os"
   ]
  },
  {
   "cell_type": "code",
   "execution_count": 48,
   "metadata": {},
   "outputs": [
    {
     "data": {
      "text/plain": [
       "'two_vs_rest.svg'"
      ]
     },
     "execution_count": 48,
     "metadata": {},
     "output_type": "execute_result"
    }
   ],
   "source": [
    "replace_ext(os.path.basename(dataset_path), \"svg\")"
   ]
  },
  {
   "cell_type": "code",
   "execution_count": 45,
   "metadata": {},
   "outputs": [
    {
     "data": {
      "text/plain": [
       "'results/learning_curves/proeng/gb1'"
      ]
     },
     "execution_count": 45,
     "metadata": {},
     "output_type": "execute_result"
    }
   ],
   "source": [
    "os.path.join(\"results/learning_curves\", \"/\".join(os.path.dirname(dataset_path).split(\"/\")[1:]))"
   ]
  },
  {
   "cell_type": "code",
   "execution_count": 47,
   "metadata": {},
   "outputs": [],
   "source": [
    "from scr.utils import checkNgen_folder, replace_ext"
   ]
  },
  {
   "cell_type": "code",
   "execution_count": 79,
   "metadata": {},
   "outputs": [],
   "source": [
    "import os\n",
    "def checkNgen_folder(folder_path: str) -> None:\n",
    "    \"\"\"\n",
    "    Check if the folder or the subfolder exists\n",
    "    to create a new directory if not\n",
    "    \n",
    "    Args:\n",
    "    - folder_path: str, the folder path\n",
    "    \"\"\"\n",
    "\n",
    "    split_list = folder_path.split(\"/\")\n",
    "\n",
    "    for p in range(len(split_list)):\n",
    "        subfolder_path = \"/\".join(split_list[:p+1])\n",
    "        if not os.path.exists(subfolder_path):\n",
    "            print(f\"Making {subfolder_path}...\")\n",
    "            os.mkdir(subfolder_path)"
   ]
  },
  {
   "cell_type": "code",
   "execution_count": 94,
   "metadata": {},
   "outputs": [],
   "source": [
    "def get_folder_file_names(\n",
    "    parent_folder: str,\n",
    "    dataset_path: str,\n",
    "    encoder_name: str,\n",
    "    embed_layer: int,\n",
    "    flatten_emb: bool | str,\n",
    ") -> list[str]:\n",
    "    \"\"\"\n",
    "    A function for specify folder and file names for the output given input dataset\n",
    "\n",
    "    Args:\n",
    "    - parent_folder: str, the parent result folder, such as results/train_val_test\n",
    "    - dataset_path: str, full path to the input dataset, in pkl or panda readable format\n",
    "        columns include: sequence, target, set, validation, mut_name (optional), mut_numb (optional)\n",
    "    - encoder_name: str, the name of the encoder\n",
    "    - embed_layer: int, the layer number of the embedding\n",
    "    - flatten_emb: bool or str, if and how (one of [\"max\", \"mean\"]) to flatten the embedding\n",
    "\n",
    "    Returns:\n",
    "    - dataset_subfolder: str, the full path for the dataset based subfolder\n",
    "    - file_name: str, the name of the file with embedding details without file extension\n",
    "    \"\"\"\n",
    "    # path for the subfolder\n",
    "    dataset_subfolder = os.path.join(\n",
    "        parent_folder, \"/\".join(os.path.splitext(dataset_path)[0].split(\"/\")[1:])\n",
    "    )\n",
    "\n",
    "    # check and generate the folder\n",
    "    checkNgen_folder(dataset_subfolder)\n",
    "\n",
    "    file_name = f\"{encoder_name}-layer_{embed_layer}-{flatten_emb}\"\n",
    "\n",
    "    return dataset_subfolder, file_name"
   ]
  },
  {
   "cell_type": "code",
   "execution_count": 98,
   "metadata": {},
   "outputs": [],
   "source": [
    "\"\"\"Script for visulizing the learning related process\"\"\"\n",
    "\n",
    "from __future__ import annotations\n",
    "\n",
    "import os\n",
    "import numpy as np\n",
    "import matplotlib.pyplot as plt\n",
    "\n",
    "from scr.utils import checkNgen_folder, get_folder_file_names\n",
    "\n",
    "\n",
    "def plot_lc(\n",
    "    train_losses: np.ndarray,\n",
    "    val_losses: np.ndarray,\n",
    "    dataset_path: str,\n",
    "    encoder_name: str,\n",
    "    embed_layer: int,\n",
    "    flatten_emb: bool | str,\n",
    "    all_plot_folder: str = \"results/learning_curves\",\n",
    ") -> None:\n",
    "    \"\"\"\n",
    "    Plot and save learning curves\n",
    "\n",
    "    Args:\n",
    "    - train_losses: np.ndarry, an array of training loss\n",
    "    - val_losses: np.ndarry, an array of validation loss\n",
    "    - dataset_path: str, full path to the dataset, in pkl or panda readable format\n",
    "        columns include: sequence, target, set, validation, mut_name (optional), mut_numb (optional)\n",
    "    - encoder_name: str, the name of the encoder\n",
    "    - embed_layer: int, the layer number of the embedding\n",
    "    - flatten_emb: bool or str, if and how (one of [\"max\", \"mean\"]) to flatten the embedding\n",
    "    - all_plot_folder: str, the parent folder path for saving all the learning curves\n",
    "    \"\"\"\n",
    "\n",
    "    epochs = len(train_losses)\n",
    "\n",
    "    plot_dataset_folder, plotname = get_folder_file_names(\n",
    "        parent_folder=all_plot_folder,\n",
    "        dataset_path=dataset_path,\n",
    "        encoder_name=encoder_name,\n",
    "        embed_layer=embed_layer,\n",
    "        flatten_emb=flatten_emb,\n",
    "    )\n",
    "\n",
    "    plt.plot(range(epochs), train_losses, label=\"train\")\n",
    "    plt.plot(range(epochs), val_losses, label=\"val\")\n",
    "    plt.title(plotname)\n",
    "    plt.xlabel(\"epochs\")\n",
    "    plt.ylabel(\"loss\")\n",
    "    plt.legend(loc=\"upper right\")\n",
    "\n",
    "    plt.savefig(\n",
    "        os.path.join(plot_dataset_folder, plotname + \".svg\"), bbox_inches=\"tight\"\n",
    "    )"
   ]
  },
  {
   "cell_type": "code",
   "execution_count": 99,
   "metadata": {},
   "outputs": [
    {
     "data": {
      "image/png": "[encoded data removed]",
      "text/plain": [
       "<Figure size 432x288 with 1 Axes>"
      ]
     },
     "metadata": {
      "needs_background": "light"
     },
     "output_type": "display_data"
    }
   ],
   "source": [
    "plot_lc(\n",
    "    train_losses,\n",
    "    val_losses,\n",
    "    dataset_path,\n",
    "    encoder_name=\"esm1b_t33_650M_UR50S\",\n",
    "    embed_layer=33,\n",
    "    flatten_emb=\"mean\",\n",
    ")"
   ]
  },
  {
   "cell_type": "code",
   "execution_count": 53,
   "metadata": {},
   "outputs": [
    {
     "name": "stdout",
     "output_type": "stream",
     "text": [
      "Loading esm1b_t33_650M_UR50S using 33 layer embedding\n"
     ]
    },
    {
     "name": "stderr",
     "output_type": "stream",
     "text": [
      "Using cache found in /home/t-fli/.cache/torch/hub/facebookresearch_esm_main\n",
      "100%|██████████| 12/12 [04:22<00:00, 21.89s/it]\n",
      "Using cache found in /home/t-fli/.cache/torch/hub/facebookresearch_esm_main\n"
     ]
    },
    {
     "name": "stdout",
     "output_type": "stream",
     "text": [
      "Loading esm1b_t33_650M_UR50S using 33 layer embedding\n"
     ]
    },
    {
     "name": "stderr",
     "output_type": "stream",
     "text": [
      "100%|██████████| 2/2 [00:29<00:00, 14.68s/it]\n"
     ]
    }
   ],
   "source": [
    "model = LinearRegression(input_dim=1280, output_dim=1)\n",
    "model.to(DEVICE)\n",
    "learning_rate = 0.001\n",
    "optimizer = torch.optim.Adam(model.parameters(), lr=learning_rate)\n",
    "criterion = nn.MSELoss()\n",
    "criterion.to(DEVICE, non_blocking=True)"
   ]
  },
  {
   "cell_type": "code",
   "execution_count": 54,
   "metadata": {},
   "outputs": [
    {
     "data": {
      "application/vnd.jupyter.widget-view+json": {
       "model_id": "36428f8f2440467fa37a8fdd5dd8e3bb",
       "version_major": 2,
       "version_minor": 0
      },
      "text/plain": [
       "HBox(children=(HTML(value=''), FloatProgress(value=0.0), HTML(value='')))"
      ]
     },
     "metadata": {},
     "output_type": "display_data"
    },
    {
     "name": "stdout",
     "output_type": "stream",
     "text": [
      "\n"
     ]
    },
    {
     "data": {
      "application/vnd.jupyter.widget-view+json": {
       "model_id": "d5eb464343444979a1c9401909cb6086",
       "version_major": 2,
       "version_minor": 0
      },
      "text/plain": [
       "HBox(children=(HTML(value=''), FloatProgress(value=0.0, max=12.0), HTML(value='')))"
      ]
     },
     "metadata": {},
     "output_type": "display_data"
    },
    {
     "name": "stdout",
     "output_type": "stream",
     "text": [
      "[   12] loss: 0.914\n",
      "\n"
     ]
    }
   ],
   "source": [
    "epochs = 100\n",
    "\n",
    "train_losses, val_losses = train(\n",
    "    model=model, train_loader=train_loader, val_loader=val_loader,\n",
    "    device=DEVICE, criterion=criterion, learning_rate=learning_rate,\n",
    "    epochs=epochs)\n",
    "\n",
    "train_mse = test(\n",
    "    model=model, loader=train_loader, device=DEVICE,\n",
    "    criterion=criterion)"
   ]
  },
  {
   "cell_type": "code",
   "execution_count": 55,
   "metadata": {},
   "outputs": [
    {
     "data": {
      "text/plain": [
       "[<matplotlib.lines.Line2D at 0x7f55966f0670>,\n",
       " <matplotlib.lines.Line2D at 0x7f55966f06d0>]"
      ]
     },
     "execution_count": 55,
     "metadata": {},
     "output_type": "execute_result"
    },
    {
     "data": {
      "image/png": "[encoded data removed]",
      "text/plain": [
       "<Figure size 432x288 with 1 Axes>"
      ]
     },
     "metadata": {
      "needs_background": "light"
     },
     "output_type": "display_data"
    }
   ],
   "source": [
    "plt.plot(range(epochs), train_losses, range(epochs), val_losses)"
   ]
  },
  {
   "cell_type": "code",
   "execution_count": null,
   "metadata": {},
   "outputs": [],
   "source": []
  }
 ],
 "metadata": {
  "kernelspec": {
   "display_name": "Python 3.9.2 ('protran')",
   "language": "python",
   "name": "python3"
  },
  "language_info": {
   "codemirror_mode": {
    "name": "ipython",
    "version": 3
   },
   "file_extension": ".py",
   "mimetype": "text/x-python",
   "name": "python",
   "nbconvert_exporter": "python",
   "pygments_lexer": "ipython3",
   "version": "3.9.2"
  },
  "orig_nbformat": 4,
  "vscode": {
   "interpreter": {
    "hash": "019692f042c79b6731ff84413c6b50d6174007f2b51f86eed1fb032dbd4a337e"
   }
  }
 },
 "nbformat": 4,
 "nbformat_minor": 2
}
