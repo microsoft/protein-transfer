{
 "cells": [
  {
   "cell_type": "code",
   "execution_count": 1,
   "metadata": {},
   "outputs": [
    {
     "name": "stdout",
     "output_type": "stream",
     "text": [
      "/home/t-fli/repo/protein-transfer\n"
     ]
    }
   ],
   "source": [
    "%cd ~/repo/protein-transfer"
   ]
  },
  {
   "cell_type": "code",
   "execution_count": 2,
   "metadata": {},
   "outputs": [],
   "source": [
    "%load_ext blackcellmagic"
   ]
  },
  {
   "cell_type": "code",
   "execution_count": 17,
   "metadata": {},
   "outputs": [
    {
     "name": "stderr",
     "output_type": "stream",
     "text": [
      "Using cache found in /home/t-fli/.cache/torch/hub/facebookresearch_esm_main\n"
     ]
    },
    {
     "data": {
      "text/plain": [
       "'\\ndata = [\\n    (\"protein1\", \"MKTVRQERLKSIVRILERSKEPVSGAQLAEELSVSRQVIVQDIAYLRSLGYNIVATPRGYVLAGG\"),\\n    (\"protein2\", \"KALTARQQEVFDLIRDHISQTGMPPTRAEIAQRLGFRSPNAAEEHLKALARKGVIEIVSGASRGIRLLQEE\"),\\n    (\"protein2 with mask\",\"KALTARQQEVFDLIRD<mask>ISQTGMPPTRAEIAQRLGFRSPNAAEEHLKALARKGVIEIVSGASRGIRLLQEE\"),\\n    (\"protein3\",  \"K A <mask> I S Q\"),\\n]\\nbatch_labels, batch_strs, batch_tokens = batch_converter(data)\\n\\n# Extract per-residue representations (on CPU)\\nwith torch.no_grad():\\n    results = model(batch_tokens, repr_layers=[6], return_contacts=True)\\ntoken_representations = results[\"representations\"][6]\\n\\n# Generate per-sequence representations via averaging\\n# NOTE: token 0 is always a beginning-of-sequence token, so the first residue is token 1.\\nsequence_representations = []\\nfor i, (_, seq) in enumerate(data):\\n    sequence_representations.append(token_representations[i, 1 : len(seq) + 1].mean(0))\\n    '"
      ]
     },
     "execution_count": 17,
     "metadata": {},
     "output_type": "execute_result"
    }
   ],
   "source": [
    "import torch\n",
    "\n",
    "# Load ESM-1b model\n",
    "model, alphabet = torch.hub.load(\n",
    "            \"facebookresearch/esm:main\", model=\"esm1_t6_43M_UR50S\"\n",
    "        )\n",
    "batch_converter = alphabet.get_batch_converter()\n",
    "# model.eval()  # disables dropout for deterministic results\n",
    "\n",
    "# Prepare data (first 2 sequences from ESMStructuralSplitDataset superfamily / 4)\n",
    "\"\"\"\n",
    "data = [\n",
    "    (\"protein1\", \"MKTVRQERLKSIVRILERSKEPVSGAQLAEELSVSRQVIVQDIAYLRSLGYNIVATPRGYVLAGG\"),\n",
    "    (\"protein2\", \"KALTARQQEVFDLIRDHISQTGMPPTRAEIAQRLGFRSPNAAEEHLKALARKGVIEIVSGASRGIRLLQEE\"),\n",
    "    (\"protein2 with mask\",\"KALTARQQEVFDLIRD<mask>ISQTGMPPTRAEIAQRLGFRSPNAAEEHLKALARKGVIEIVSGASRGIRLLQEE\"),\n",
    "    (\"protein3\",  \"K A <mask> I S Q\"),\n",
    "]\n",
    "batch_labels, batch_strs, batch_tokens = batch_converter(data)\n",
    "\n",
    "# Extract per-residue representations (on CPU)\n",
    "with torch.no_grad():\n",
    "    results = model(batch_tokens, repr_layers=[6], return_contacts=True)\n",
    "token_representations = results[\"representations\"][6]\n",
    "\n",
    "# Generate per-sequence representations via averaging\n",
    "# NOTE: token 0 is always a beginning-of-sequence token, so the first residue is token 1.\n",
    "sequence_representations = []\n",
    "for i, (_, seq) in enumerate(data):\n",
    "    sequence_representations.append(token_representations[i, 1 : len(seq) + 1].mean(0))\n",
    "    \"\"\""
   ]
  },
  {
   "cell_type": "code",
   "execution_count": 4,
   "metadata": {},
   "outputs": [],
   "source": [
    "# https://github.com/ChrisMats/feature-reuse/blob/main/ablations/layer_importance/trainer.py\n",
    "import torch.nn as nn\n",
    "import math\n",
    "\n",
    "def rand_weights_init(m, sampling_fn=None):  \n",
    "    if sampling_fn is None:\n",
    "        if isinstance(m, nn.Conv2d):\n",
    "            torch.nn.init.kaiming_uniform_(m.weight, a=math.sqrt(5)) \n",
    "            if m.bias is not None:\n",
    "                fan_in, _ = torch.nn.init._calculate_fan_in_and_fan_out(m.weight)\n",
    "                bound = 1 / math.sqrt(fan_in)\n",
    "                torch.nn.init.uniform_(m.bias, -bound, bound)        \n",
    "        if isinstance(m, nn.Linear):\n",
    "            torch.nn.init.kaiming_uniform_(m.weight, a=math.sqrt(5)) \n",
    "            if m.bias is not None:\n",
    "                fan_in, _ = torch.nn.init._calculate_fan_in_and_fan_out(m.weight)\n",
    "                bound = 1 / math.sqrt(fan_in) if fan_in > 0 else 0\n",
    "                torch.nn.init.uniform_(m.bias, -bound, bound)        \n",
    "    else:\n",
    "        tmp_state = m.state_dict()\n",
    "        for name_, module_ in m.named_modules():\n",
    "            if isinstance(module_, (nn.Linear,nn.Conv2d)):\n",
    "                weight_name = f\"{name_}{'.' if name_ else ''}weight\"\n",
    "                bias_name = f\"{name_}{'.' if name_ else ''}bias\"\n",
    "                tmp_state[weight_name] = sampling_fn(tmp_state[weight_name])\n",
    "                if bias_name in tmp_state:\n",
    "                    tmp_state[bias_name] = sampling_fn(tmp_state[bias_name])        \n",
    "        m.load_state_dict(tmp_state)"
   ]
  },
  {
   "cell_type": "code",
   "execution_count": 62,
   "metadata": {},
   "outputs": [],
   "source": [
    "import copy\n",
    "loaded_model = copy.deepcopy(model)"
   ]
  },
  {
   "cell_type": "code",
   "execution_count": 18,
   "metadata": {},
   "outputs": [
    {
     "name": "stdout",
     "output_type": "stream",
     "text": [
      "changing layers.0\n"
     ]
    }
   ],
   "source": [
    "for name, layer in model.named_modules():\n",
    "    if name in [\"layers.0\", ]:\n",
    "        print(f\"changing {name}\")\n",
    "        pre_rand_weight = layer.state_dict()['final_layer_norm.weight']\n",
    "        pre_rand_bias = layer.state_dict()['final_layer_norm.bias']\n",
    "        layer.apply(lambda m: rand_weights_init(m=m, sampling_fn = nn.init.uniform_))\n",
    "        post_rand_weight = layer.state_dict()['final_layer_norm.weight']\n",
    "        post_rand_bias = layer.state_dict()['final_layer_norm.bias']"
   ]
  },
  {
   "cell_type": "code",
   "execution_count": 6,
   "metadata": {},
   "outputs": [],
   "source": [
    "import matplotlib.pyplot as plt"
   ]
  },
  {
   "cell_type": "code",
   "execution_count": 19,
   "metadata": {},
   "outputs": [
    {
     "data": {
      "text/plain": [
       "[<matplotlib.lines.Line2D at 0x7f9a8efe3b80>]"
      ]
     },
     "execution_count": 19,
     "metadata": {},
     "output_type": "execute_result"
    },
    {
     "data": {
      "image/png": "[encoded data removed]",
      "text/plain": [
       "<Figure size 432x288 with 1 Axes>"
      ]
     },
     "metadata": {
      "needs_background": "light"
     },
     "output_type": "display_data"
    },
    {
     "data": {
      "image/png": "[encoded data removed]",
      "text/plain": [
       "<Figure size 432x288 with 1 Axes>"
      ]
     },
     "metadata": {
      "needs_background": "light"
     },
     "output_type": "display_data"
    }
   ],
   "source": [
    "plt.plot(pre_rand_weight)\n",
    "plt.figure()\n",
    "plt.plot(post_rand_weight)"
   ]
  },
  {
   "cell_type": "code",
   "execution_count": 20,
   "metadata": {},
   "outputs": [
    {
     "data": {
      "text/plain": [
       "(array([ 18., 105., 265., 104.,  77.,  85.,  56.,  43.,  11.,   4.]),\n",
       " array([0.4033203 , 0.48916015, 0.575     , 0.66083986, 0.74667966,\n",
       "        0.83251953, 0.9183594 , 1.0041993 , 1.090039  , 1.1758789 ,\n",
       "        1.2617188 ], dtype=float32),\n",
       " <BarContainer object of 10 artists>)"
      ]
     },
     "execution_count": 20,
     "metadata": {},
     "output_type": "execute_result"
    },
    {
     "data": {
      "image/png": "[encoded data removed]",
      "text/plain": [
       "<Figure size 432x288 with 1 Axes>"
      ]
     },
     "metadata": {
      "needs_background": "light"
     },
     "output_type": "display_data"
    },
    {
     "data": {
      "image/png": "[encoded data removed]",
      "text/plain": [
       "<Figure size 432x288 with 1 Axes>"
      ]
     },
     "metadata": {
      "needs_background": "light"
     },
     "output_type": "display_data"
    }
   ],
   "source": [
    "plt.hist(pre_rand_weight)\n",
    "plt.figure()\n",
    "plt.hist(post_rand_weight)"
   ]
  },
  {
   "cell_type": "code",
   "execution_count": null,
   "metadata": {},
   "outputs": [],
   "source": [
    "for l in model.children():\n",
    "  try:\n",
    "    init.kaiming_normal_(l.weight)\n",
    "    l.bias.data.zero_()\n",
    "  except:\n",
    "    pass\n",
    "\n",
    "def stats(x): return x.mean(),x.std()\n",
    "\n",
    "\n",
    "for i,e in enumerate(model.children()):\n",
    "  print(i,e)\n",
    "  print('-----Layer Mean and std',stats(e.weight))"
   ]
  },
  {
   "cell_type": "code",
   "execution_count": null,
   "metadata": {},
   "outputs": [],
   "source": [
    "\"\"\"\n",
    "layer.weight.data.fill_(random_weight)\n",
    "layer.bias.data.fill_(random_bias)\n",
    "\"\"\""
   ]
  },
  {
   "cell_type": "code",
   "execution_count": 28,
   "metadata": {},
   "outputs": [
    {
     "data": {
      "text/plain": [
       "TransformerLayer(\n",
       "  (self_attn): MultiheadAttention(\n",
       "    (k_proj): Linear(in_features=768, out_features=768, bias=True)\n",
       "    (v_proj): Linear(in_features=768, out_features=768, bias=True)\n",
       "    (q_proj): Linear(in_features=768, out_features=768, bias=True)\n",
       "    (out_proj): Linear(in_features=768, out_features=768, bias=True)\n",
       "  )\n",
       "  (self_attn_layer_norm): ESM1LayerNorm()\n",
       "  (fc1): Linear(in_features=768, out_features=3072, bias=True)\n",
       "  (fc2): Linear(in_features=3072, out_features=768, bias=True)\n",
       "  (final_layer_norm): ESM1LayerNorm()\n",
       ")"
      ]
     },
     "execution_count": 28,
     "metadata": {},
     "output_type": "execute_result"
    }
   ],
   "source": [
    "model.layers[0]"
   ]
  },
  {
   "cell_type": "code",
   "execution_count": 27,
   "metadata": {},
   "outputs": [
    {
     "data": {
      "text/plain": [
       "[torch.Size([1, 1, 768]),\n",
       " torch.Size([1, 1, 768]),\n",
       " torch.Size([768, 768]),\n",
       " torch.Size([768]),\n",
       " torch.Size([768, 768]),\n",
       " torch.Size([768]),\n",
       " torch.Size([768, 768]),\n",
       " torch.Size([768]),\n",
       " torch.Size([768, 768]),\n",
       " torch.Size([768]),\n",
       " torch.Size([768]),\n",
       " torch.Size([768]),\n",
       " torch.Size([3072, 768]),\n",
       " torch.Size([3072]),\n",
       " torch.Size([768, 3072]),\n",
       " torch.Size([768]),\n",
       " torch.Size([768]),\n",
       " torch.Size([768])]"
      ]
     },
     "execution_count": 27,
     "metadata": {},
     "output_type": "execute_result"
    }
   ],
   "source": [
    "[p.shape for p in model.layers[0].parameters()]"
   ]
  },
  {
   "cell_type": "code",
   "execution_count": null,
   "metadata": {},
   "outputs": [],
   "source": [
    "# https://discuss.pytorch.org/t/how-to-change-the-weights-of-a-pytorch-model/41279/3\n",
    "\n",
    "\"\"\"\n",
    "model.eval()  \n",
    "    with torch.no_grad():\n",
    "        for data, target  in test_loader:\n",
    "            data, target = data.to(device), target.to(device)\n",
    "            model.fc.weight = model.fc.weight * attention_matrix\n",
    "            output = model(data)\n",
    "            loss = criterion(output, target)\n",
    "            total_loss += loss.item()\n",
    "\"\"\"\n",
    "\n",
    "# model.fc.weight = torch.nn.parameter.Parameter( model.fc.weight * attention_matrix )"
   ]
  }
 ],
 "metadata": {
  "kernelspec": {
   "display_name": "Python 3.9.2 ('protran')",
   "language": "python",
   "name": "python3"
  },
  "language_info": {
   "codemirror_mode": {
    "name": "ipython",
    "version": 3
   },
   "file_extension": ".py",
   "mimetype": "text/x-python",
   "name": "python",
   "nbconvert_exporter": "python",
   "pygments_lexer": "ipython3",
   "version": "3.9.2"
  },
  "orig_nbformat": 4,
  "vscode": {
   "interpreter": {
    "hash": "019692f042c79b6731ff84413c6b50d6174007f2b51f86eed1fb032dbd4a337e"
   }
  }
 },
 "nbformat": 4,
 "nbformat_minor": 2
}
