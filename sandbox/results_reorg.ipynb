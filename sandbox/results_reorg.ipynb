{
 "cells": [
  {
   "cell_type": "code",
   "execution_count": 2,
   "metadata": {},
   "outputs": [
    {
     "name": "stdout",
     "output_type": "stream",
     "text": [
      "/home/francesca/protein-transfer\n"
     ]
    }
   ],
   "source": [
    "%cd ~/protein-transfer"
   ]
  },
  {
   "cell_type": "code",
   "execution_count": 3,
   "metadata": {},
   "outputs": [],
   "source": [
    "%load_ext blackcellmagic\n",
    "%load_ext autoreload\n",
    "%autoreload 2"
   ]
  },
  {
   "cell_type": "code",
   "execution_count": 4,
   "metadata": {},
   "outputs": [],
   "source": [
    "from scr.utils import pickle_load\n",
    "from scr.analysis.utils import METRIC_DICT, metric_simplifier\n",
    "from scr.analysis.perlayer import LayerLoss"
   ]
  },
  {
   "cell_type": "code",
   "execution_count": 42,
   "metadata": {},
   "outputs": [
    {
     "name": "stdout",
     "output_type": "stream",
     "text": [
      "Plotting collage_name proeng_aav_one_vs_many_mean...\n",
      "Plotting collage_name proeng_aav_two_vs_many_mean...\n",
      "Plotting collage_name proeng_gb1_low_vs_high_mean...\n",
      "Plotting collage_name proeng_gb1_two_vs_rest_mean...\n",
      "Plotting collage_name proeng_gb1_sampled_mean...\n",
      "Plotting collage_name proeng_thermo_mixed_split_mean...\n"
     ]
    }
   ],
   "source": [
    "sklearn_carp = LayerLoss(\n",
    "    input_path=\"results/sklearn-carp\",\n",
    "    output_path=\"results/sklearn-carp_layer\"\n",
    ")"
   ]
  },
  {
   "cell_type": "code",
   "execution_count": null,
   "metadata": {},
   "outputs": [
    {
     "name": "stdout",
     "output_type": "stream",
     "text": [
      "Plotting collage_name annotation_scl_balanced_mean...\n",
      "Plotting collage_name structure_ss3_tape_processed_noflatten...\n"
     ]
    }
   ],
   "source": [
    "pytorch_carp = LayerLoss(\n",
    "    input_path=\"results/pytorch-carp\",\n",
    "    output_path=\"results/pytorch-carp_layer\"\n",
    ")"
   ]
  },
  {
   "cell_type": "code",
   "execution_count": 5,
   "metadata": {},
   "outputs": [],
   "source": [
    "import pandas as pd"
   ]
  },
  {
   "cell_type": "code",
   "execution_count": 7,
   "metadata": {},
   "outputs": [
    {
     "data": {
      "text/plain": [
       "(dict_keys(['annotation_scl_balanced_mean', 'structure_ss3_tape_processed_noflatten']),\n",
       " dict_keys(['proeng_aav_one_vs_many_mean', 'proeng_aav_two_vs_many_mean', 'proeng_gb1_low_vs_high_mean', 'proeng_gb1_two_vs_rest_mean', 'proeng_gb1_sampled_mean', 'proeng_thermo_mixed_split_mean']))"
      ]
     },
     "execution_count": 7,
     "metadata": {},
     "output_type": "execute_result"
    }
   ],
   "source": [
    "pytorch_carp.layer_analysis_dict.keys(), sklearn_carp.layer_analysis_dict.keys()"
   ]
  },
  {
   "cell_type": "code",
   "execution_count": 8,
   "metadata": {},
   "outputs": [
    {
     "data": {
      "text/plain": [
       "(dict_keys(['carp_600k', 'carp_76M', 'carp_38M', 'carp_640M']),\n",
       " dict_keys(['carp_640M', 'carp_76M', 'carp_600k', 'carp_38M']))"
      ]
     },
     "execution_count": 8,
     "metadata": {},
     "output_type": "execute_result"
    }
   ],
   "source": [
    "pytorch_carp.layer_analysis_dict[\n",
    "    \"annotation_scl_balanced_mean\"\n",
    "].keys(), sklearn_carp.layer_analysis_dict[\"proeng_aav_one_vs_many_mean\"].keys()"
   ]
  },
  {
   "cell_type": "code",
   "execution_count": 9,
   "metadata": {},
   "outputs": [
    {
     "data": {
      "text/plain": [
       "(dict_keys(['train_cross-entropy', 'val_cross-entropy', 'test_cross-entropy', 'test_acc', 'test_rocauc']),\n",
       " dict_keys(['train_mse', 'val_mse', 'test_mse', 'test_ndcg', 'test_rho']))"
      ]
     },
     "execution_count": 9,
     "metadata": {},
     "output_type": "execute_result"
    }
   ],
   "source": [
    "pytorch_carp.layer_analysis_dict[\"annotation_scl_balanced_mean\"][\n",
    "    \"carp_600k\"\n",
    "].keys(), sklearn_carp.layer_analysis_dict[\"proeng_aav_one_vs_many_mean\"][\n",
    "    \"carp_600k\"\n",
    "].keys()"
   ]
  },
  {
   "cell_type": "code",
   "execution_count": 10,
   "metadata": {},
   "outputs": [
    {
     "data": {
      "text/plain": [
       "['train_loss',\n",
       " 'val_loss',\n",
       " 'test_loss',\n",
       " 'test_performance_2',\n",
       " 'test_performance_1']"
      ]
     },
     "execution_count": 10,
     "metadata": {},
     "output_type": "execute_result"
    }
   ],
   "source": [
    "[\n",
    "    metric_simplifier(m)\n",
    "    for m in pytorch_carp.layer_analysis_dict[\"annotation_scl_balanced_mean\"][\n",
    "        \"carp_600k\"\n",
    "    ].keys()\n",
    "]"
   ]
  },
  {
   "cell_type": "code",
   "execution_count": 11,
   "metadata": {},
   "outputs": [
    {
     "data": {
      "text/plain": [
       "['train_loss',\n",
       " 'val_loss',\n",
       " 'test_loss',\n",
       " 'test_performance_1',\n",
       " 'test_performance_2']"
      ]
     },
     "execution_count": 11,
     "metadata": {},
     "output_type": "execute_result"
    }
   ],
   "source": [
    "[\n",
    "    metric_simplifier(m)\n",
    "    for m in sklearn_carp.layer_analysis_dict[\"proeng_aav_one_vs_many_mean\"][\n",
    "        \"carp_600k\"\n",
    "    ].keys()\n",
    "]"
   ]
  },
  {
   "cell_type": "code",
   "execution_count": 30,
   "metadata": {},
   "outputs": [
    {
     "data": {
      "text/html": [
       "<div>\n",
       "<style scoped>\n",
       "    .dataframe tbody tr th:only-of-type {\n",
       "        vertical-align: middle;\n",
       "    }\n",
       "\n",
       "    .dataframe tbody tr th {\n",
       "        vertical-align: top;\n",
       "    }\n",
       "\n",
       "    .dataframe thead th {\n",
       "        text-align: right;\n",
       "    }\n",
       "</style>\n",
       "<table border=\"1\" class=\"dataframe\">\n",
       "  <thead>\n",
       "    <tr style=\"text-align: right;\">\n",
       "      <th></th>\n",
       "      <th>arch</th>\n",
       "      <th>task</th>\n",
       "      <th>model</th>\n",
       "      <th>ablation</th>\n",
       "      <th>metric</th>\n",
       "    </tr>\n",
       "  </thead>\n",
       "  <tbody>\n",
       "  </tbody>\n",
       "</table>\n",
       "</div>"
      ],
      "text/plain": [
       "Empty DataFrame\n",
       "Columns: [arch, task, model, ablation, metric]\n",
       "Index: []"
      ]
     },
     "execution_count": 30,
     "metadata": {},
     "output_type": "execute_result"
    }
   ],
   "source": [
    "master_results = pd.DataFrame(columns=[\"arch\", \"task\", \"model\", \"ablation\", \"metric\", ])\n",
    "master_results"
   ]
  },
  {
   "cell_type": "code",
   "execution_count": 52,
   "metadata": {},
   "outputs": [],
   "source": [
    "layerloss = sklearn_carp\n",
    "\n",
    "ablation_list = [\"emb\", \"rand\", \"stat\", \"onehot\"]\n",
    "ablation_dict_list = [\n",
    "    layerloss.layer_analysis_dict,\n",
    "    layerloss.rand_layer_analysis_dict,\n",
    "    layerloss.stat_layer_analysis_dict,\n",
    "    layerloss.onehot_baseline_dict,\n",
    "]"
   ]
  },
  {
   "cell_type": "code",
   "execution_count": 54,
   "metadata": {},
   "outputs": [],
   "source": [
    "arch = \"carp\"\n",
    "\n",
    "# add checkpoints\n",
    "if arch == \"carp\":\n",
    "    cp_list = list(layerloss.checkpoint_analysis_dict.keys())\n",
    "    ablation_list += [f\"{arch}-{str(cp)}\" for cp in cp_list]\n",
    "    ablation_dict_list += [layerloss.checkpoint_analysis_dict[cp] for cp in cp_list]\n",
    "\n",
    "for (ablation, ablation_dict) in zip(ablation_list, ablation_dict_list):\n",
    "    for task in ablation_dict.keys():\n",
    "        for model in ablation_dict[task].keys():\n",
    "            for metric in ablation_dict[task][model].keys():\n",
    "                master_results = pd.concat(\n",
    "                    [\n",
    "                        master_results,\n",
    "                        pd.DataFrame(\n",
    "                            {\n",
    "                                \"arch\": arch,\n",
    "                                \"task\": task,\n",
    "                                \"model\": model,\n",
    "                                \"ablation\": ablation,\n",
    "                                \"metric\": metric_simplifier(metric),\n",
    "                                \"value\": [\n",
    "                                    ablation_dict[task][model][metric]\n",
    "                                ],\n",
    "                            }\n",
    "                        ),\n",
    "                    ],\n",
    "                    ignore_index=True,\n",
    "                )"
   ]
  },
  {
   "cell_type": "code",
   "execution_count": 56,
   "metadata": {},
   "outputs": [],
   "source": []
  },
  {
   "cell_type": "code",
   "execution_count": 55,
   "metadata": {},
   "outputs": [
    {
     "data": {
      "text/html": [
       "<div>\n",
       "<style scoped>\n",
       "    .dataframe tbody tr th:only-of-type {\n",
       "        vertical-align: middle;\n",
       "    }\n",
       "\n",
       "    .dataframe tbody tr th {\n",
       "        vertical-align: top;\n",
       "    }\n",
       "\n",
       "    .dataframe thead th {\n",
       "        text-align: right;\n",
       "    }\n",
       "</style>\n",
       "<table border=\"1\" class=\"dataframe\">\n",
       "  <thead>\n",
       "    <tr style=\"text-align: right;\">\n",
       "      <th></th>\n",
       "      <th>arch</th>\n",
       "      <th>task</th>\n",
       "      <th>model</th>\n",
       "      <th>ablation</th>\n",
       "      <th>metric</th>\n",
       "      <th>value</th>\n",
       "    </tr>\n",
       "  </thead>\n",
       "  <tbody>\n",
       "    <tr>\n",
       "      <th>0</th>\n",
       "      <td>carp</td>\n",
       "      <td>proeng_aav_one_vs_many_mean</td>\n",
       "      <td>carp_640M</td>\n",
       "      <td>emb</td>\n",
       "      <td>train_loss</td>\n",
       "      <td>[9.59526940116963, 6.894266263718891, 6.377686...</td>\n",
       "    </tr>\n",
       "    <tr>\n",
       "      <th>1</th>\n",
       "      <td>carp</td>\n",
       "      <td>proeng_aav_one_vs_many_mean</td>\n",
       "      <td>carp_640M</td>\n",
       "      <td>emb</td>\n",
       "      <td>val_loss</td>\n",
       "      <td>[11.18654191999164, 8.622644328345816, 8.33617...</td>\n",
       "    </tr>\n",
       "    <tr>\n",
       "      <th>2</th>\n",
       "      <td>carp</td>\n",
       "      <td>proeng_aav_one_vs_many_mean</td>\n",
       "      <td>carp_640M</td>\n",
       "      <td>emb</td>\n",
       "      <td>test_loss</td>\n",
       "      <td>[13.582533778622887, 53.712009437112215, 74.04...</td>\n",
       "    </tr>\n",
       "    <tr>\n",
       "      <th>3</th>\n",
       "      <td>carp</td>\n",
       "      <td>proeng_aav_one_vs_many_mean</td>\n",
       "      <td>carp_640M</td>\n",
       "      <td>emb</td>\n",
       "      <td>test_performance_1</td>\n",
       "      <td>[0.9704321391244177, 0.9629028051372428, 0.962...</td>\n",
       "    </tr>\n",
       "    <tr>\n",
       "      <th>4</th>\n",
       "      <td>carp</td>\n",
       "      <td>proeng_aav_one_vs_many_mean</td>\n",
       "      <td>carp_640M</td>\n",
       "      <td>emb</td>\n",
       "      <td>test_performance_2</td>\n",
       "      <td>[0.19544242309285326, 0.3282696048440418, 0.31...</td>\n",
       "    </tr>\n",
       "    <tr>\n",
       "      <th>...</th>\n",
       "      <td>...</td>\n",
       "      <td>...</td>\n",
       "      <td>...</td>\n",
       "      <td>...</td>\n",
       "      <td>...</td>\n",
       "      <td>...</td>\n",
       "    </tr>\n",
       "    <tr>\n",
       "      <th>2335</th>\n",
       "      <td>carp</td>\n",
       "      <td>proeng_thermo_mixed_split_mean</td>\n",
       "      <td>carp_600k</td>\n",
       "      <td>carp-0.125</td>\n",
       "      <td>train_loss</td>\n",
       "      <td>[2772.63146923264, 2770.5755982554224, 2769.87...</td>\n",
       "    </tr>\n",
       "    <tr>\n",
       "      <th>2336</th>\n",
       "      <td>carp</td>\n",
       "      <td>proeng_thermo_mixed_split_mean</td>\n",
       "      <td>carp_600k</td>\n",
       "      <td>carp-0.125</td>\n",
       "      <td>val_loss</td>\n",
       "      <td>[2784.692149993736, 2783.717326581634, 2784.13...</td>\n",
       "    </tr>\n",
       "    <tr>\n",
       "      <th>2337</th>\n",
       "      <td>carp</td>\n",
       "      <td>proeng_thermo_mixed_split_mean</td>\n",
       "      <td>carp_600k</td>\n",
       "      <td>carp-0.125</td>\n",
       "      <td>test_loss</td>\n",
       "      <td>[2830.026468153979, 2825.216248772877, 2823.48...</td>\n",
       "    </tr>\n",
       "    <tr>\n",
       "      <th>2338</th>\n",
       "      <td>carp</td>\n",
       "      <td>proeng_thermo_mixed_split_mean</td>\n",
       "      <td>carp_600k</td>\n",
       "      <td>carp-0.125</td>\n",
       "      <td>test_performance_1</td>\n",
       "      <td>[0.9820406873350307, 0.9852848539428993, 0.985...</td>\n",
       "    </tr>\n",
       "    <tr>\n",
       "      <th>2339</th>\n",
       "      <td>carp</td>\n",
       "      <td>proeng_thermo_mixed_split_mean</td>\n",
       "      <td>carp_600k</td>\n",
       "      <td>carp-0.125</td>\n",
       "      <td>test_performance_2</td>\n",
       "      <td>[0.2581860193113978, 0.32672984496371804, 0.36...</td>\n",
       "    </tr>\n",
       "  </tbody>\n",
       "</table>\n",
       "<p>2340 rows × 6 columns</p>\n",
       "</div>"
      ],
      "text/plain": [
       "      arch                            task      model    ablation  \\\n",
       "0     carp     proeng_aav_one_vs_many_mean  carp_640M         emb   \n",
       "1     carp     proeng_aav_one_vs_many_mean  carp_640M         emb   \n",
       "2     carp     proeng_aav_one_vs_many_mean  carp_640M         emb   \n",
       "3     carp     proeng_aav_one_vs_many_mean  carp_640M         emb   \n",
       "4     carp     proeng_aav_one_vs_many_mean  carp_640M         emb   \n",
       "...    ...                             ...        ...         ...   \n",
       "2335  carp  proeng_thermo_mixed_split_mean  carp_600k  carp-0.125   \n",
       "2336  carp  proeng_thermo_mixed_split_mean  carp_600k  carp-0.125   \n",
       "2337  carp  proeng_thermo_mixed_split_mean  carp_600k  carp-0.125   \n",
       "2338  carp  proeng_thermo_mixed_split_mean  carp_600k  carp-0.125   \n",
       "2339  carp  proeng_thermo_mixed_split_mean  carp_600k  carp-0.125   \n",
       "\n",
       "                  metric                                              value  \n",
       "0             train_loss  [9.59526940116963, 6.894266263718891, 6.377686...  \n",
       "1               val_loss  [11.18654191999164, 8.622644328345816, 8.33617...  \n",
       "2              test_loss  [13.582533778622887, 53.712009437112215, 74.04...  \n",
       "3     test_performance_1  [0.9704321391244177, 0.9629028051372428, 0.962...  \n",
       "4     test_performance_2  [0.19544242309285326, 0.3282696048440418, 0.31...  \n",
       "...                  ...                                                ...  \n",
       "2335          train_loss  [2772.63146923264, 2770.5755982554224, 2769.87...  \n",
       "2336            val_loss  [2784.692149993736, 2783.717326581634, 2784.13...  \n",
       "2337           test_loss  [2830.026468153979, 2825.216248772877, 2823.48...  \n",
       "2338  test_performance_1  [0.9820406873350307, 0.9852848539428993, 0.985...  \n",
       "2339  test_performance_2  [0.2581860193113978, 0.32672984496371804, 0.36...  \n",
       "\n",
       "[2340 rows x 6 columns]"
      ]
     },
     "execution_count": 55,
     "metadata": {},
     "output_type": "execute_result"
    }
   ],
   "source": [
    "master_results"
   ]
  },
  {
   "cell_type": "code",
   "execution_count": 29,
   "metadata": {},
   "outputs": [],
   "source": [
    "# pd.json_normalize(pytorch_carp.layer_analysis_dict)"
   ]
  },
  {
   "cell_type": "code",
   "execution_count": 8,
   "metadata": {},
   "outputs": [
    {
     "data": {
      "text/plain": [
       "array([1.87699079, 1.75273726, 1.69514218, 1.60551146, 1.53652087,\n",
       "       1.46996107, 1.40448275, 1.33026753, 1.30898465, 1.26282578,\n",
       "       1.26654993, 1.21502749, 1.19079669, 1.183124  , 1.19900847,\n",
       "       1.17011334, 1.18096242])"
      ]
     },
     "execution_count": 8,
     "metadata": {},
     "output_type": "execute_result"
    }
   ],
   "source": [
    "pytorch_carp.layer_analysis_dict[\"annotation_scl_balanced_mean\"][\"carp_600k\"][\"train_cross-entropy\"]"
   ]
  },
  {
   "cell_type": "code",
   "execution_count": 53,
   "metadata": {},
   "outputs": [
    {
     "data": {
      "text/html": [
       "<div>\n",
       "<style scoped>\n",
       "    .dataframe tbody tr th:only-of-type {\n",
       "        vertical-align: middle;\n",
       "    }\n",
       "\n",
       "    .dataframe tbody tr th {\n",
       "        vertical-align: top;\n",
       "    }\n",
       "\n",
       "    .dataframe thead th {\n",
       "        text-align: right;\n",
       "    }\n",
       "</style>\n",
       "<table border=\"1\" class=\"dataframe\">\n",
       "  <thead>\n",
       "    <tr style=\"text-align: right;\">\n",
       "      <th></th>\n",
       "      <th>annotation_scl_balanced_mean</th>\n",
       "      <th>structure_ss3_tape_processed_noflatten</th>\n",
       "    </tr>\n",
       "  </thead>\n",
       "  <tbody>\n",
       "    <tr>\n",
       "      <th>0.500</th>\n",
       "      <td>{'carp_600k': {'train_cross-entropy': [1.86432...</td>\n",
       "      <td>{'carp_76M': {'train_cross-entropy': [1.039851...</td>\n",
       "    </tr>\n",
       "    <tr>\n",
       "      <th>0.250</th>\n",
       "      <td>{'carp_600k': {'train_cross-entropy': [1.85454...</td>\n",
       "      <td>{'carp_76M': {'train_cross-entropy': [1.040206...</td>\n",
       "    </tr>\n",
       "    <tr>\n",
       "      <th>0.125</th>\n",
       "      <td>{'carp_600k': {'train_cross-entropy': [1.84984...</td>\n",
       "      <td>{'carp_76M': {'train_cross-entropy': [1.040783...</td>\n",
       "    </tr>\n",
       "  </tbody>\n",
       "</table>\n",
       "</div>"
      ],
      "text/plain": [
       "                            annotation_scl_balanced_mean  \\\n",
       "0.500  {'carp_600k': {'train_cross-entropy': [1.86432...   \n",
       "0.250  {'carp_600k': {'train_cross-entropy': [1.85454...   \n",
       "0.125  {'carp_600k': {'train_cross-entropy': [1.84984...   \n",
       "\n",
       "                  structure_ss3_tape_processed_noflatten  \n",
       "0.500  {'carp_76M': {'train_cross-entropy': [1.039851...  \n",
       "0.250  {'carp_76M': {'train_cross-entropy': [1.040206...  \n",
       "0.125  {'carp_76M': {'train_cross-entropy': [1.040783...  "
      ]
     },
     "execution_count": 53,
     "metadata": {},
     "output_type": "execute_result"
    }
   ],
   "source": [
    "pd.DataFrame.from_dict(pytorch_carp.checkpoint_analysis_dict).T"
   ]
  },
  {
   "cell_type": "code",
   "execution_count": 41,
   "metadata": {},
   "outputs": [
    {
     "data": {
      "text/html": [
       "<div>\n",
       "<style scoped>\n",
       "    .dataframe tbody tr th:only-of-type {\n",
       "        vertical-align: middle;\n",
       "    }\n",
       "\n",
       "    .dataframe tbody tr th {\n",
       "        vertical-align: top;\n",
       "    }\n",
       "\n",
       "    .dataframe thead th {\n",
       "        text-align: right;\n",
       "    }\n",
       "</style>\n",
       "<table border=\"1\" class=\"dataframe\">\n",
       "  <thead>\n",
       "    <tr style=\"text-align: right;\">\n",
       "      <th></th>\n",
       "      <th>annotation_scl_balanced</th>\n",
       "      <th>structure_ss3_tape_processed</th>\n",
       "    </tr>\n",
       "  </thead>\n",
       "  <tbody>\n",
       "    <tr>\n",
       "      <th>train_cross-entropy</th>\n",
       "      <td>[0.3524752729817441]</td>\n",
       "      <td>[1.0096537658613023]</td>\n",
       "    </tr>\n",
       "    <tr>\n",
       "      <th>val_cross-entropy</th>\n",
       "      <td>[1.373852210385459]</td>\n",
       "      <td>[1.0060921719199734]</td>\n",
       "    </tr>\n",
       "    <tr>\n",
       "      <th>test_cross-entropy</th>\n",
       "      <td>[2.0159953236579895]</td>\n",
       "      <td>NaN</td>\n",
       "    </tr>\n",
       "    <tr>\n",
       "      <th>test_acc</th>\n",
       "      <td>[0.37402597402597404]</td>\n",
       "      <td>NaN</td>\n",
       "    </tr>\n",
       "    <tr>\n",
       "      <th>test_rocauc</th>\n",
       "      <td>[0.6619061060529179]</td>\n",
       "      <td>NaN</td>\n",
       "    </tr>\n",
       "    <tr>\n",
       "      <th>casp12_acc</th>\n",
       "      <td>NaN</td>\n",
       "      <td>[0.48194597574421166]</td>\n",
       "    </tr>\n",
       "    <tr>\n",
       "      <th>casp12_rocauc</th>\n",
       "      <td>NaN</td>\n",
       "      <td>[0.6202125329637339]</td>\n",
       "    </tr>\n",
       "    <tr>\n",
       "      <th>cb513_acc</th>\n",
       "      <td>NaN</td>\n",
       "      <td>[0.48816846771958994]</td>\n",
       "    </tr>\n",
       "    <tr>\n",
       "      <th>cb513_rocauc</th>\n",
       "      <td>NaN</td>\n",
       "      <td>[0.6405190154371231]</td>\n",
       "    </tr>\n",
       "    <tr>\n",
       "      <th>ts115_acc</th>\n",
       "      <td>NaN</td>\n",
       "      <td>[0.5085510368973876]</td>\n",
       "    </tr>\n",
       "    <tr>\n",
       "      <th>ts115_rocauc</th>\n",
       "      <td>NaN</td>\n",
       "      <td>[0.6419719552524553]</td>\n",
       "    </tr>\n",
       "  </tbody>\n",
       "</table>\n",
       "</div>"
      ],
      "text/plain": [
       "                    annotation_scl_balanced structure_ss3_tape_processed\n",
       "train_cross-entropy    [0.3524752729817441]         [1.0096537658613023]\n",
       "val_cross-entropy       [1.373852210385459]         [1.0060921719199734]\n",
       "test_cross-entropy     [2.0159953236579895]                          NaN\n",
       "test_acc              [0.37402597402597404]                          NaN\n",
       "test_rocauc            [0.6619061060529179]                          NaN\n",
       "casp12_acc                              NaN        [0.48194597574421166]\n",
       "casp12_rocauc                           NaN         [0.6202125329637339]\n",
       "cb513_acc                               NaN        [0.48816846771958994]\n",
       "cb513_rocauc                            NaN         [0.6405190154371231]\n",
       "ts115_acc                               NaN         [0.5085510368973876]\n",
       "ts115_rocauc                            NaN         [0.6419719552524553]"
      ]
     },
     "execution_count": 41,
     "metadata": {},
     "output_type": "execute_result"
    }
   ],
   "source": [
    "pd.DataFrame.from_dict(pytorch_carp.onehot_baseline_dict)"
   ]
  },
  {
   "cell_type": "code",
   "execution_count": 47,
   "metadata": {},
   "outputs": [
    {
     "data": {
      "text/html": [
       "<div>\n",
       "<style scoped>\n",
       "    .dataframe tbody tr th:only-of-type {\n",
       "        vertical-align: middle;\n",
       "    }\n",
       "\n",
       "    .dataframe tbody tr th {\n",
       "        vertical-align: top;\n",
       "    }\n",
       "\n",
       "    .dataframe thead th {\n",
       "        text-align: right;\n",
       "    }\n",
       "</style>\n",
       "<table border=\"1\" class=\"dataframe\">\n",
       "  <thead>\n",
       "    <tr style=\"text-align: right;\">\n",
       "      <th></th>\n",
       "      <th>proeng_aav_one_vs_many</th>\n",
       "      <th>proeng_aav_two_vs_many</th>\n",
       "      <th>proeng_gb1_low_vs_high</th>\n",
       "      <th>proeng_gb1_two_vs_rest</th>\n",
       "      <th>proeng_gb1_sampled</th>\n",
       "      <th>proeng_thermo_mixed_split</th>\n",
       "    </tr>\n",
       "  </thead>\n",
       "  <tbody>\n",
       "    <tr>\n",
       "      <th>train_mse</th>\n",
       "      <td>[6.606138986229867]</td>\n",
       "      <td>[16.67168599756062]</td>\n",
       "      <td>[0.1770679055989013]</td>\n",
       "      <td>[2.090415559759884]</td>\n",
       "      <td>[2.0079257240201596]</td>\n",
       "      <td>[2760.1282354723244]</td>\n",
       "    </tr>\n",
       "    <tr>\n",
       "      <th>val_mse</th>\n",
       "      <td>[8.361448368900476]</td>\n",
       "      <td>[16.951583715058266]</td>\n",
       "      <td>[0.17003734650743707]</td>\n",
       "      <td>[2.0447116896087842]</td>\n",
       "      <td>[1.9726564028720246]</td>\n",
       "      <td>[2778.184268114801]</td>\n",
       "    </tr>\n",
       "    <tr>\n",
       "      <th>test_mse</th>\n",
       "      <td>[66.71775739461496]</td>\n",
       "      <td>[24.814891839771693]</td>\n",
       "      <td>[4.028476326030474]</td>\n",
       "      <td>[5.335454660039244]</td>\n",
       "      <td>[2.025209681370326]</td>\n",
       "      <td>[2838.811461721218]</td>\n",
       "    </tr>\n",
       "    <tr>\n",
       "      <th>test_ndcg</th>\n",
       "      <td>[0.960145115831988]</td>\n",
       "      <td>[0.9629290404042454]</td>\n",
       "      <td>[0.9178409557926928]</td>\n",
       "      <td>[0.8905737288756033]</td>\n",
       "      <td>[0.9342600571731149]</td>\n",
       "      <td>[0.9554623184824335]</td>\n",
       "    </tr>\n",
       "    <tr>\n",
       "      <th>test_rho</th>\n",
       "      <td>[0.1903477426748507]</td>\n",
       "      <td>[-0.0015626678198874598]</td>\n",
       "      <td>[0.32173083298452543]</td>\n",
       "      <td>[0.5428396414906184]</td>\n",
       "      <td>[0.7885047525700145]</td>\n",
       "      <td>[0.1226657473529901]</td>\n",
       "    </tr>\n",
       "  </tbody>\n",
       "</table>\n",
       "</div>"
      ],
      "text/plain": [
       "          proeng_aav_one_vs_many    proeng_aav_two_vs_many  \\\n",
       "train_mse    [6.606138986229867]       [16.67168599756062]   \n",
       "val_mse      [8.361448368900476]      [16.951583715058266]   \n",
       "test_mse     [66.71775739461496]      [24.814891839771693]   \n",
       "test_ndcg    [0.960145115831988]      [0.9629290404042454]   \n",
       "test_rho    [0.1903477426748507]  [-0.0015626678198874598]   \n",
       "\n",
       "          proeng_gb1_low_vs_high proeng_gb1_two_vs_rest    proeng_gb1_sampled  \\\n",
       "train_mse   [0.1770679055989013]    [2.090415559759884]  [2.0079257240201596]   \n",
       "val_mse    [0.17003734650743707]   [2.0447116896087842]  [1.9726564028720246]   \n",
       "test_mse     [4.028476326030474]    [5.335454660039244]   [2.025209681370326]   \n",
       "test_ndcg   [0.9178409557926928]   [0.8905737288756033]  [0.9342600571731149]   \n",
       "test_rho   [0.32173083298452543]   [0.5428396414906184]  [0.7885047525700145]   \n",
       "\n",
       "          proeng_thermo_mixed_split  \n",
       "train_mse      [2760.1282354723244]  \n",
       "val_mse         [2778.184268114801]  \n",
       "test_mse        [2838.811461721218]  \n",
       "test_ndcg      [0.9554623184824335]  \n",
       "test_rho       [0.1226657473529901]  "
      ]
     },
     "execution_count": 47,
     "metadata": {},
     "output_type": "execute_result"
    }
   ],
   "source": [
    "pd.DataFrame.from_dict(sklearn_carp.onehot_baseline_dict)"
   ]
  },
  {
   "cell_type": "code",
   "execution_count": 8,
   "metadata": {},
   "outputs": [
    {
     "data": {
      "text/html": [
       "<div>\n",
       "<style scoped>\n",
       "    .dataframe tbody tr th:only-of-type {\n",
       "        vertical-align: middle;\n",
       "    }\n",
       "\n",
       "    .dataframe tbody tr th {\n",
       "        vertical-align: top;\n",
       "    }\n",
       "\n",
       "    .dataframe thead th {\n",
       "        text-align: right;\n",
       "    }\n",
       "</style>\n",
       "<table border=\"1\" class=\"dataframe\">\n",
       "  <thead>\n",
       "    <tr style=\"text-align: right;\">\n",
       "      <th></th>\n",
       "      <th>annotation_scl_balanced_mean</th>\n",
       "      <th>structure_ss3_tape_processed_noflatten</th>\n",
       "    </tr>\n",
       "  </thead>\n",
       "  <tbody>\n",
       "    <tr>\n",
       "      <th>carp_600k</th>\n",
       "      <td>{'train_cross-entropy': [1.8769907888613249, 1...</td>\n",
       "      <td>{'train_cross-entropy': [1.0358617109795139, 0...</td>\n",
       "    </tr>\n",
       "    <tr>\n",
       "      <th>carp_76M</th>\n",
       "      <td>{'train_cross-entropy': [1.71919468202089, 1.4...</td>\n",
       "      <td>{'train_cross-entropy': [1.0396245995612994, 0...</td>\n",
       "    </tr>\n",
       "    <tr>\n",
       "      <th>carp_38M</th>\n",
       "      <td>{'train_cross-entropy': [1.7385239789360447, 1...</td>\n",
       "      <td>{'train_cross-entropy': [1.0429124097301536, 0...</td>\n",
       "    </tr>\n",
       "    <tr>\n",
       "      <th>carp_640M</th>\n",
       "      <td>{'train_cross-entropy': [1.7193063999477185, 1...</td>\n",
       "      <td>{'train_cross-entropy': [1.0420560608171436, 0...</td>\n",
       "    </tr>\n",
       "  </tbody>\n",
       "</table>\n",
       "</div>"
      ],
      "text/plain": [
       "                                annotation_scl_balanced_mean  \\\n",
       "carp_600k  {'train_cross-entropy': [1.8769907888613249, 1...   \n",
       "carp_76M   {'train_cross-entropy': [1.71919468202089, 1.4...   \n",
       "carp_38M   {'train_cross-entropy': [1.7385239789360447, 1...   \n",
       "carp_640M  {'train_cross-entropy': [1.7193063999477185, 1...   \n",
       "\n",
       "                      structure_ss3_tape_processed_noflatten  \n",
       "carp_600k  {'train_cross-entropy': [1.0358617109795139, 0...  \n",
       "carp_76M   {'train_cross-entropy': [1.0396245995612994, 0...  \n",
       "carp_38M   {'train_cross-entropy': [1.0429124097301536, 0...  \n",
       "carp_640M  {'train_cross-entropy': [1.0420560608171436, 0...  "
      ]
     },
     "execution_count": 8,
     "metadata": {},
     "output_type": "execute_result"
    }
   ],
   "source": [
    "pd.DataFrame.from_dict(pytorch_carp.layer_analysis_dict)"
   ]
  },
  {
   "cell_type": "code",
   "execution_count": 20,
   "metadata": {},
   "outputs": [
    {
     "data": {
      "text/html": [
       "<div>\n",
       "<style scoped>\n",
       "    .dataframe tbody tr th:only-of-type {\n",
       "        vertical-align: middle;\n",
       "    }\n",
       "\n",
       "    .dataframe tbody tr th {\n",
       "        vertical-align: top;\n",
       "    }\n",
       "\n",
       "    .dataframe thead th {\n",
       "        text-align: right;\n",
       "    }\n",
       "</style>\n",
       "<table border=\"1\" class=\"dataframe\">\n",
       "  <thead>\n",
       "    <tr style=\"text-align: right;\">\n",
       "      <th></th>\n",
       "      <th>train_cross-entropy</th>\n",
       "      <th>val_cross-entropy</th>\n",
       "      <th>test_cross-entropy</th>\n",
       "      <th>test_acc</th>\n",
       "      <th>test_rocauc</th>\n",
       "    </tr>\n",
       "  </thead>\n",
       "  <tbody>\n",
       "    <tr>\n",
       "      <th>0</th>\n",
       "      <td>[1.8769907888613249, 1.7527372648841457, 1.695...</td>\n",
       "      <td>[1.9061075278690882, 1.7826685564858573, 1.727...</td>\n",
       "      <td>[1.9521732330322266, 1.9269767999649048, 1.910...</td>\n",
       "      <td>[0.2623376623376623, 0.2753246753246753, 0.316...</td>\n",
       "      <td>[0.6495972923926321, 0.6703754074198381, 0.673...</td>\n",
       "    </tr>\n",
       "    <tr>\n",
       "      <th>1</th>\n",
       "      <td>[1.71919468202089, 1.4959022904697217, 1.44056...</td>\n",
       "      <td>[1.7575252737317766, 1.534557512828282, 1.4600...</td>\n",
       "      <td>[2.0076744556427, 2.0575806498527527, 1.995046...</td>\n",
       "      <td>[0.3038961038961039, 0.35324675324675325, 0.35...</td>\n",
       "      <td>[0.6315851180553764, 0.7013079524965977, 0.710...</td>\n",
       "    </tr>\n",
       "    <tr>\n",
       "      <th>2</th>\n",
       "      <td>[1.7385239789360447, 1.4665500490288985, 1.395...</td>\n",
       "      <td>[1.7737009525299072, 1.5041547673089164, 1.417...</td>\n",
       "      <td>[2.035592496395111, 2.0621028542518616, 2.0096...</td>\n",
       "      <td>[0.2857142857142857, 0.36883116883116884, 0.37...</td>\n",
       "      <td>[0.6189812048918136, 0.7025105662414319, 0.713...</td>\n",
       "    </tr>\n",
       "    <tr>\n",
       "      <th>3</th>\n",
       "      <td>[1.7193063999477185, 1.5111642197558754, 1.437...</td>\n",
       "      <td>[1.7644925117492676, 1.5379446830068315, 1.462...</td>\n",
       "      <td>[2.0392618775367737, 2.05305552482605, 2.01585...</td>\n",
       "      <td>[0.2961038961038961, 0.34805194805194806, 0.36...</td>\n",
       "      <td>[0.6273352139525914, 0.7005424935091661, 0.706...</td>\n",
       "    </tr>\n",
       "  </tbody>\n",
       "</table>\n",
       "</div>"
      ],
      "text/plain": [
       "                                 train_cross-entropy  \\\n",
       "0  [1.8769907888613249, 1.7527372648841457, 1.695...   \n",
       "1  [1.71919468202089, 1.4959022904697217, 1.44056...   \n",
       "2  [1.7385239789360447, 1.4665500490288985, 1.395...   \n",
       "3  [1.7193063999477185, 1.5111642197558754, 1.437...   \n",
       "\n",
       "                                   val_cross-entropy  \\\n",
       "0  [1.9061075278690882, 1.7826685564858573, 1.727...   \n",
       "1  [1.7575252737317766, 1.534557512828282, 1.4600...   \n",
       "2  [1.7737009525299072, 1.5041547673089164, 1.417...   \n",
       "3  [1.7644925117492676, 1.5379446830068315, 1.462...   \n",
       "\n",
       "                                  test_cross-entropy  \\\n",
       "0  [1.9521732330322266, 1.9269767999649048, 1.910...   \n",
       "1  [2.0076744556427, 2.0575806498527527, 1.995046...   \n",
       "2  [2.035592496395111, 2.0621028542518616, 2.0096...   \n",
       "3  [2.0392618775367737, 2.05305552482605, 2.01585...   \n",
       "\n",
       "                                            test_acc  \\\n",
       "0  [0.2623376623376623, 0.2753246753246753, 0.316...   \n",
       "1  [0.3038961038961039, 0.35324675324675325, 0.35...   \n",
       "2  [0.2857142857142857, 0.36883116883116884, 0.37...   \n",
       "3  [0.2961038961038961, 0.34805194805194806, 0.36...   \n",
       "\n",
       "                                         test_rocauc  \n",
       "0  [0.6495972923926321, 0.6703754074198381, 0.673...  \n",
       "1  [0.6315851180553764, 0.7013079524965977, 0.710...  \n",
       "2  [0.6189812048918136, 0.7025105662414319, 0.713...  \n",
       "3  [0.6273352139525914, 0.7005424935091661, 0.706...  "
      ]
     },
     "execution_count": 20,
     "metadata": {},
     "output_type": "execute_result"
    }
   ],
   "source": [
    "pd.json_normalize(pd.DataFrame.from_dict(pytorch_carp.layer_analysis_dict)['annotation_scl_balanced_mean'])"
   ]
  },
  {
   "cell_type": "code",
   "execution_count": null,
   "metadata": {},
   "outputs": [],
   "source": [
    "pd.json_normalize(pd.DataFrame.from_dict(pytorch_carp.layer_analysis_dict)['annotation_scl_balanced_mean'])"
   ]
  },
  {
   "cell_type": "code",
   "execution_count": 21,
   "metadata": {},
   "outputs": [
    {
     "data": {
      "text/html": [
       "<div>\n",
       "<style scoped>\n",
       "    .dataframe tbody tr th:only-of-type {\n",
       "        vertical-align: middle;\n",
       "    }\n",
       "\n",
       "    .dataframe tbody tr th {\n",
       "        vertical-align: top;\n",
       "    }\n",
       "\n",
       "    .dataframe thead th {\n",
       "        text-align: right;\n",
       "    }\n",
       "</style>\n",
       "<table border=\"1\" class=\"dataframe\">\n",
       "  <thead>\n",
       "    <tr style=\"text-align: right;\">\n",
       "      <th></th>\n",
       "      <th>train_mse</th>\n",
       "      <th>val_mse</th>\n",
       "      <th>test_mse</th>\n",
       "      <th>test_ndcg</th>\n",
       "      <th>test_rho</th>\n",
       "    </tr>\n",
       "  </thead>\n",
       "  <tbody>\n",
       "    <tr>\n",
       "      <th>0</th>\n",
       "      <td>[9.59526940116963, 6.894266263718891, 6.377686...</td>\n",
       "      <td>[11.18654191999164, 8.622644328345816, 8.33617...</td>\n",
       "      <td>[13.582533778622887, 53.712009437112215, 74.04...</td>\n",
       "      <td>[0.9704321391244177, 0.9629028051372428, 0.962...</td>\n",
       "      <td>[0.19544242309285326, 0.3282696048440418, 0.31...</td>\n",
       "    </tr>\n",
       "    <tr>\n",
       "      <th>1</th>\n",
       "      <td>[9.582026132905252, 6.934608975116892, 6.40550...</td>\n",
       "      <td>[11.20643614220332, 8.899376014238195, 8.20574...</td>\n",
       "      <td>[13.697288684643041, 48.961780681241656, 69.96...</td>\n",
       "      <td>[0.9703413636783854, 0.9633589617754629, 0.962...</td>\n",
       "      <td>[0.2116112794657769, 0.3396909252934983, 0.320...</td>\n",
       "    </tr>\n",
       "    <tr>\n",
       "      <th>2</th>\n",
       "      <td>[9.468360495727067, 8.190111410830674, 7.61644...</td>\n",
       "      <td>[10.9554842436175, 9.782055506244191, 9.209345...</td>\n",
       "      <td>[14.20679802985108, 24.53599377907496, 23.3161...</td>\n",
       "      <td>[0.9698271299324172, 0.96692411292824, 0.96943...</td>\n",
       "      <td>[0.23682032708767906, 0.3808350241317865, 0.43...</td>\n",
       "    </tr>\n",
       "    <tr>\n",
       "      <th>3</th>\n",
       "      <td>[9.574777226192223, 6.690699098364959, 6.35389...</td>\n",
       "      <td>[11.175331793579538, 8.655740728556914, 8.5822...</td>\n",
       "      <td>[13.968634660845268, 65.68949789195031, 78.864...</td>\n",
       "      <td>[0.969236054842432, 0.9626272649406287, 0.9625...</td>\n",
       "      <td>[0.18915018144628126, 0.3242017861013232, 0.31...</td>\n",
       "    </tr>\n",
       "  </tbody>\n",
       "</table>\n",
       "</div>"
      ],
      "text/plain": [
       "                                           train_mse  \\\n",
       "0  [9.59526940116963, 6.894266263718891, 6.377686...   \n",
       "1  [9.582026132905252, 6.934608975116892, 6.40550...   \n",
       "2  [9.468360495727067, 8.190111410830674, 7.61644...   \n",
       "3  [9.574777226192223, 6.690699098364959, 6.35389...   \n",
       "\n",
       "                                             val_mse  \\\n",
       "0  [11.18654191999164, 8.622644328345816, 8.33617...   \n",
       "1  [11.20643614220332, 8.899376014238195, 8.20574...   \n",
       "2  [10.9554842436175, 9.782055506244191, 9.209345...   \n",
       "3  [11.175331793579538, 8.655740728556914, 8.5822...   \n",
       "\n",
       "                                            test_mse  \\\n",
       "0  [13.582533778622887, 53.712009437112215, 74.04...   \n",
       "1  [13.697288684643041, 48.961780681241656, 69.96...   \n",
       "2  [14.20679802985108, 24.53599377907496, 23.3161...   \n",
       "3  [13.968634660845268, 65.68949789195031, 78.864...   \n",
       "\n",
       "                                           test_ndcg  \\\n",
       "0  [0.9704321391244177, 0.9629028051372428, 0.962...   \n",
       "1  [0.9703413636783854, 0.9633589617754629, 0.962...   \n",
       "2  [0.9698271299324172, 0.96692411292824, 0.96943...   \n",
       "3  [0.969236054842432, 0.9626272649406287, 0.9625...   \n",
       "\n",
       "                                            test_rho  \n",
       "0  [0.19544242309285326, 0.3282696048440418, 0.31...  \n",
       "1  [0.2116112794657769, 0.3396909252934983, 0.320...  \n",
       "2  [0.23682032708767906, 0.3808350241317865, 0.43...  \n",
       "3  [0.18915018144628126, 0.3242017861013232, 0.31...  "
      ]
     },
     "execution_count": 21,
     "metadata": {},
     "output_type": "execute_result"
    }
   ],
   "source": [
    "pd.json_normalize(pd.DataFrame.from_dict(sklearn_carp.layer_analysis_dict)['proeng_aav_one_vs_many_mean'])"
   ]
  },
  {
   "cell_type": "code",
   "execution_count": 18,
   "metadata": {},
   "outputs": [
    {
     "data": {
      "text/html": [
       "<div>\n",
       "<style scoped>\n",
       "    .dataframe tbody tr th:only-of-type {\n",
       "        vertical-align: middle;\n",
       "    }\n",
       "\n",
       "    .dataframe tbody tr th {\n",
       "        vertical-align: top;\n",
       "    }\n",
       "\n",
       "    .dataframe thead th {\n",
       "        text-align: right;\n",
       "    }\n",
       "</style>\n",
       "<table border=\"1\" class=\"dataframe\">\n",
       "  <thead>\n",
       "    <tr style=\"text-align: right;\">\n",
       "      <th></th>\n",
       "      <th>proeng_aav_one_vs_many_mean</th>\n",
       "      <th>proeng_aav_two_vs_many_mean</th>\n",
       "      <th>proeng_gb1_low_vs_high_mean</th>\n",
       "      <th>proeng_gb1_two_vs_rest_mean</th>\n",
       "      <th>proeng_gb1_sampled_mean</th>\n",
       "      <th>proeng_thermo_mixed_split_mean</th>\n",
       "    </tr>\n",
       "  </thead>\n",
       "  <tbody>\n",
       "    <tr>\n",
       "      <th>carp_640M</th>\n",
       "      <td>{'train_mse': [9.59526940116963, 6.89426626371...</td>\n",
       "      <td>{'train_mse': [20.068343175878088, 16.92011420...</td>\n",
       "      <td>{'train_mse': [0.2772588428285639, 0.408520416...</td>\n",
       "      <td>{'train_mse': [2.725838148323684, 1.9707604225...</td>\n",
       "      <td>{'train_mse': [2.5043217133381526, 1.876857337...</td>\n",
       "      <td>{'train_mse': [2772.749931574079, 2768.7387720...</td>\n",
       "    </tr>\n",
       "    <tr>\n",
       "      <th>carp_76M</th>\n",
       "      <td>{'train_mse': [9.582026132905252, 6.9346089751...</td>\n",
       "      <td>{'train_mse': [19.986434661076075, 16.91308441...</td>\n",
       "      <td>{'train_mse': [0.2853286156211369, 0.411029697...</td>\n",
       "      <td>{'train_mse': [2.7027404465889115, 1.969533968...</td>\n",
       "      <td>{'train_mse': [2.4793497727220144, 1.871709821...</td>\n",
       "      <td>{'train_mse': [2772.772707139839, 2768.7354513...</td>\n",
       "    </tr>\n",
       "    <tr>\n",
       "      <th>carp_600k</th>\n",
       "      <td>{'train_mse': [9.468360495727067, 8.1901114108...</td>\n",
       "      <td>{'train_mse': [19.808120463435134, 17.93898064...</td>\n",
       "      <td>{'train_mse': [0.280335127217654, 0.3869098418...</td>\n",
       "      <td>{'train_mse': [2.674702299445244, 2.1214922598...</td>\n",
       "      <td>{'train_mse': [2.4329909760979573, 2.039620513...</td>\n",
       "      <td>{'train_mse': [2772.624627474502, 2770.3332577...</td>\n",
       "    </tr>\n",
       "    <tr>\n",
       "      <th>carp_38M</th>\n",
       "      <td>{'train_mse': [9.574777226192223, 6.6906990983...</td>\n",
       "      <td>{'train_mse': [20.04262815315973, 16.802693836...</td>\n",
       "      <td>{'train_mse': [0.27452013074623355, 0.40600096...</td>\n",
       "      <td>{'train_mse': [2.7247057205531227, 1.959347953...</td>\n",
       "      <td>{'train_mse': [2.507311420931766, 1.8454394133...</td>\n",
       "      <td>{'train_mse': [2772.7840732976197, 2768.293532...</td>\n",
       "    </tr>\n",
       "  </tbody>\n",
       "</table>\n",
       "</div>"
      ],
      "text/plain": [
       "                                 proeng_aav_one_vs_many_mean  \\\n",
       "carp_640M  {'train_mse': [9.59526940116963, 6.89426626371...   \n",
       "carp_76M   {'train_mse': [9.582026132905252, 6.9346089751...   \n",
       "carp_600k  {'train_mse': [9.468360495727067, 8.1901114108...   \n",
       "carp_38M   {'train_mse': [9.574777226192223, 6.6906990983...   \n",
       "\n",
       "                                 proeng_aav_two_vs_many_mean  \\\n",
       "carp_640M  {'train_mse': [20.068343175878088, 16.92011420...   \n",
       "carp_76M   {'train_mse': [19.986434661076075, 16.91308441...   \n",
       "carp_600k  {'train_mse': [19.808120463435134, 17.93898064...   \n",
       "carp_38M   {'train_mse': [20.04262815315973, 16.802693836...   \n",
       "\n",
       "                                 proeng_gb1_low_vs_high_mean  \\\n",
       "carp_640M  {'train_mse': [0.2772588428285639, 0.408520416...   \n",
       "carp_76M   {'train_mse': [0.2853286156211369, 0.411029697...   \n",
       "carp_600k  {'train_mse': [0.280335127217654, 0.3869098418...   \n",
       "carp_38M   {'train_mse': [0.27452013074623355, 0.40600096...   \n",
       "\n",
       "                                 proeng_gb1_two_vs_rest_mean  \\\n",
       "carp_640M  {'train_mse': [2.725838148323684, 1.9707604225...   \n",
       "carp_76M   {'train_mse': [2.7027404465889115, 1.969533968...   \n",
       "carp_600k  {'train_mse': [2.674702299445244, 2.1214922598...   \n",
       "carp_38M   {'train_mse': [2.7247057205531227, 1.959347953...   \n",
       "\n",
       "                                     proeng_gb1_sampled_mean  \\\n",
       "carp_640M  {'train_mse': [2.5043217133381526, 1.876857337...   \n",
       "carp_76M   {'train_mse': [2.4793497727220144, 1.871709821...   \n",
       "carp_600k  {'train_mse': [2.4329909760979573, 2.039620513...   \n",
       "carp_38M   {'train_mse': [2.507311420931766, 1.8454394133...   \n",
       "\n",
       "                              proeng_thermo_mixed_split_mean  \n",
       "carp_640M  {'train_mse': [2772.749931574079, 2768.7387720...  \n",
       "carp_76M   {'train_mse': [2772.772707139839, 2768.7354513...  \n",
       "carp_600k  {'train_mse': [2772.624627474502, 2770.3332577...  \n",
       "carp_38M   {'train_mse': [2772.7840732976197, 2768.293532...  "
      ]
     },
     "execution_count": 18,
     "metadata": {},
     "output_type": "execute_result"
    }
   ],
   "source": [
    "pd.DataFrame.from_dict(sklearn_carp.layer_analysis_dict)"
   ]
  },
  {
   "cell_type": "code",
   "execution_count": 28,
   "metadata": {},
   "outputs": [],
   "source": [
    "pd.merge(\n",
    "    pd.DataFrame.from_dict(sklearn_carp.layer_analysis_dict),\n",
    "    pd.DataFrame.from_dict(pytorch_carp.layer_analysis_dict),\n",
    "    left_index=True,\n",
    "    right_index=True,\n",
    ").to_csv(\"results/summary/all_carp.csv\")"
   ]
  },
  {
   "cell_type": "code",
   "execution_count": 29,
   "metadata": {},
   "outputs": [],
   "source": [
    "pd.merge(\n",
    "    pd.DataFrame.from_dict(sklearn_carp.rand_layer_analysis_dict),\n",
    "    pd.DataFrame.from_dict(pytorch_carp.rand_layer_analysis_dict),\n",
    "    left_index=True,\n",
    "    right_index=True,\n",
    ").to_csv(\"results/summary/all_carp_rand.csv\")"
   ]
  },
  {
   "cell_type": "code",
   "execution_count": 30,
   "metadata": {},
   "outputs": [],
   "source": [
    "pd.merge(\n",
    "    pd.DataFrame.from_dict(sklearn_carp.stat_layer_analysis_dict),\n",
    "    pd.DataFrame.from_dict(pytorch_carp.stat_layer_analysis_dict),\n",
    "    left_index=True,\n",
    "    right_index=True,\n",
    ").to_csv(\"results/summary/all_carp_stat.csv\")"
   ]
  },
  {
   "cell_type": "code",
   "execution_count": 42,
   "metadata": {},
   "outputs": [],
   "source": [
    "pd.merge(\n",
    "    pd.DataFrame.from_dict(sklearn_carp.onehot_baseline_dict),\n",
    "    pd.DataFrame.from_dict(pytorch_carp.onehot_baseline_dict),\n",
    "    left_index=True,\n",
    "    right_index=True,\n",
    ").to_csv(\"results/summary/all_carp_oh.csv\")"
   ]
  },
  {
   "cell_type": "code",
   "execution_count": 50,
   "metadata": {},
   "outputs": [],
   "source": [
    "pd.DataFrame.from_dict(sklearn_carp.onehot_baseline_dict).merge(\n",
    "    pd.DataFrame.from_dict(pytorch_carp.onehot_baseline_dict),\n",
    "    how=\"outer\",\n",
    "    left_index=True,\n",
    "    right_index=True,\n",
    ").fillna(False).to_csv(\"results/summary/all_carp_oh.csv\")"
   ]
  },
  {
   "cell_type": "code",
   "execution_count": 54,
   "metadata": {},
   "outputs": [],
   "source": [
    "pd.merge(\n",
    "    pd.DataFrame.from_dict(sklearn_carp.checkpoint_analysis_dict).T,\n",
    "    pd.DataFrame.from_dict(pytorch_carp.checkpoint_analysis_dict).T,\n",
    "    left_index=True,\n",
    "    right_index=True,\n",
    ").to_csv(\"results/summary/all_carp_cp.csv\")"
   ]
  },
  {
   "cell_type": "code",
   "execution_count": 34,
   "metadata": {},
   "outputs": [
    {
     "name": "stdout",
     "output_type": "stream",
     "text": [
      "Plotting collage_name structure_ss3_tape_processed_noflatten...\n",
      "Plotting collage_name annotation_scl_balanced_mean...\n"
     ]
    }
   ],
   "source": [
    "pytorch_esm = LayerLoss(\n",
    "    input_path=\"results/pytorch-esm\",\n",
    "    output_path=\"results/pytorch-esm_layer\",\n",
    "    add_checkpoint=False\n",
    ")"
   ]
  },
  {
   "cell_type": "code",
   "execution_count": 35,
   "metadata": {},
   "outputs": [
    {
     "name": "stdout",
     "output_type": "stream",
     "text": [
      "Plotting collage_name proeng_thermo_mixed_split_mean...\n",
      "Plotting collage_name proeng_gb1_two_vs_rest_mean...\n",
      "Plotting collage_name proeng_gb1_low_vs_high_mean...\n",
      "Plotting collage_name proeng_gb1_sampled_mean...\n",
      "Plotting collage_name proeng_aav_one_vs_many_mean...\n",
      "Plotting collage_name proeng_aav_two_vs_many_mean...\n"
     ]
    }
   ],
   "source": [
    "sklearn_esm = LayerLoss(\n",
    "    input_path=\"results/sklearn-esm\",\n",
    "    output_path=\"results/sklearn-esm_layer\",\n",
    "    add_checkpoint=False\n",
    ")"
   ]
  },
  {
   "cell_type": "code",
   "execution_count": 36,
   "metadata": {},
   "outputs": [],
   "source": [
    "pd.merge(\n",
    "    pd.DataFrame.from_dict(sklearn_esm.layer_analysis_dict),\n",
    "    pd.DataFrame.from_dict(pytorch_esm.layer_analysis_dict),\n",
    "    left_index=True,\n",
    "    right_index=True,\n",
    ").to_csv(\"results/summary/all_esm.csv\")"
   ]
  },
  {
   "cell_type": "code",
   "execution_count": 37,
   "metadata": {},
   "outputs": [],
   "source": [
    "pd.merge(\n",
    "    pd.DataFrame.from_dict(sklearn_esm.rand_layer_analysis_dict),\n",
    "    pd.DataFrame.from_dict(pytorch_esm.rand_layer_analysis_dict),\n",
    "    left_index=True,\n",
    "    right_index=True,\n",
    ").to_csv(\"results/summary/all_esm_rand.csv\")"
   ]
  },
  {
   "cell_type": "code",
   "execution_count": 38,
   "metadata": {},
   "outputs": [],
   "source": [
    "pd.merge(\n",
    "    pd.DataFrame.from_dict(sklearn_esm.stat_layer_analysis_dict),\n",
    "    pd.DataFrame.from_dict(pytorch_esm.stat_layer_analysis_dict),\n",
    "    left_index=True,\n",
    "    right_index=True,\n",
    ").to_csv(\"results/summary/all_esm_stat.csv\")"
   ]
  },
  {
   "cell_type": "code",
   "execution_count": 51,
   "metadata": {},
   "outputs": [],
   "source": [
    "pd.DataFrame.from_dict(sklearn_esm.onehot_baseline_dict).merge(\n",
    "    pd.DataFrame.from_dict(pytorch_esm.onehot_baseline_dict),\n",
    "    how=\"outer\",\n",
    "    left_index=True,\n",
    "    right_index=True,\n",
    ").fillna(False).to_csv(\"results/summary/all_esm_oh.csv\")"
   ]
  },
  {
   "cell_type": "code",
   "execution_count": null,
   "metadata": {},
   "outputs": [],
   "source": [
    "class LayerLoss2CSV(LayerLoss):\n",
    "    \"\"\"A class for reorganizing layer by layer results into one csv\"\"\"\n",
    "\n",
    "    def __init__(\n",
    "        self,\n",
    "        add_checkpoint: bool = True,\n",
    "        checkpoint_list: list = [0.5, 0.25, 0.125],\n",
    "        input_path: str = \"results/sklearn\",\n",
    "        output_path: str = \"results/sklearn_layer\",\n",
    "        metric_dict: dict[list[str]] = {\n",
    "            \"proeng\": [\"train_mse\", \"val_mse\", \"test_mse\", \"test_ndcg\", \"test_rho\"],\n",
    "            \"annotation\": [\n",
    "                \"train_cross-entropy\",\n",
    "                \"val_cross-entropy\",\n",
    "                \"test_cross-entropy\",\n",
    "                \"test_acc\",\n",
    "                \"test_rocauc\",\n",
    "            ],\n",
    "            \"structure\": [\n",
    "                \"train_cross-entropy\",\n",
    "                \"val_cross-entropy\",\n",
    "                \"casp12_acc\",\n",
    "                \"casp12_rocauc\",\n",
    "                \"cb513_acc\",\n",
    "                \"cb513_rocauc\",\n",
    "                \"ts115_acc\",\n",
    "                \"ts115_rocauc\",\n",
    "            ],\n",
    "        },\n",
    "    ):\n",
    "        \"\"\"\n",
    "        Args:\n",
    "        - add_checkpoint: bool = True, if add checkpoint for carp\n",
    "        - checkpoint_list: list = [0.5, 0.25, 0.125],\n",
    "        - input_path: str = \"results/sklearn\",\n",
    "        - output_path: str = \"results/sklearn_layer\"\n",
    "        - metric_dict: list[str] = [\"train_mse\", \"test_ndcg\", \"test_rho\"]\n",
    "        \"\"\"\n"
   ]
  },
  {
   "cell_type": "code",
   "execution_count": 11,
   "metadata": {},
   "outputs": [],
   "source": [
    "all_results_df = pd.read_csv(\"results/summary/all_results.csv\")"
   ]
  },
  {
   "cell_type": "code",
   "execution_count": 12,
   "metadata": {},
   "outputs": [
    {
     "data": {
      "text/plain": [
       "0       [9.59526940116963, 6.894266263718891, 6.377686...\n",
       "1       [11.18654191999164, 8.622644328345816, 8.33617...\n",
       "2       [13.582533778622887, 53.712009437112215, 74.04...\n",
       "3       [0.9704321391244177, 0.9629028051372428, 0.962...\n",
       "4       [0.19544242309285326, 0.3282696048440418, 0.31...\n",
       "                              ...                        \n",
       "1629                                 [0.3524752729817441]\n",
       "1630                                  [1.373852210385459]\n",
       "1631                                 [2.0159953236579895]\n",
       "1632                                [0.37402597402597404]\n",
       "1633                                 [0.6619061060529179]\n",
       "Name: value, Length: 1634, dtype: object"
      ]
     },
     "execution_count": 12,
     "metadata": {},
     "output_type": "execute_result"
    }
   ],
   "source": [
    "all_results_df[\"value\"]"
   ]
  },
  {
   "cell_type": "code",
   "execution_count": null,
   "metadata": {},
   "outputs": [],
   "source": []
  }
 ],
 "metadata": {
  "kernelspec": {
   "display_name": "protran",
   "language": "python",
   "name": "python3"
  },
  "language_info": {
   "codemirror_mode": {
    "name": "ipython",
    "version": 3
   },
   "file_extension": ".py",
   "mimetype": "text/x-python",
   "name": "python",
   "nbconvert_exporter": "python",
   "pygments_lexer": "ipython3",
   "version": "3.9.10"
  },
  "orig_nbformat": 4
 },
 "nbformat": 4,
 "nbformat_minor": 2
}
