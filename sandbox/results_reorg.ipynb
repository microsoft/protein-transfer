{
 "cells": [
  {
   "cell_type": "code",
   "execution_count": 1,
   "metadata": {},
   "outputs": [
    {
     "name": "stdout",
     "output_type": "stream",
     "text": [
      "/home/francesca/protein-transfer\n"
     ]
    }
   ],
   "source": [
    "%cd ~/protein-transfer"
   ]
  },
  {
   "cell_type": "code",
   "execution_count": 2,
   "metadata": {},
   "outputs": [],
   "source": [
    "%load_ext blackcellmagic"
   ]
  },
  {
   "cell_type": "code",
   "execution_count": 3,
   "metadata": {},
   "outputs": [],
   "source": [
    "from scr.utils import pickle_load\n",
    "from scr.analysis.utils import METRIC_DICT, metric_simplifier\n",
    "from scr.analysis.perlayer import LayerLoss"
   ]
  },
  {
   "cell_type": "code",
   "execution_count": null,
   "metadata": {},
   "outputs": [],
   "source": []
  },
  {
   "cell_type": "code",
   "execution_count": 5,
   "metadata": {},
   "outputs": [
    {
     "name": "stdout",
     "output_type": "stream",
     "text": [
      "Plotting collage_name annotation_scl_balanced_mean...\n",
      "Plotting collage_name structure_ss3_tape_processed_noflatten...\n"
     ]
    }
   ],
   "source": [
    "pytorch_carp = LayerLoss(\n",
    "    input_path=\"results/pytorch-carp\",\n",
    "    output_path=\"results/pytorch-carp_layer\"\n",
    ")"
   ]
  },
  {
   "cell_type": "code",
   "execution_count": 6,
   "metadata": {},
   "outputs": [],
   "source": [
    "import pandas as pd"
   ]
  },
  {
   "cell_type": "code",
   "execution_count": 40,
   "metadata": {},
   "outputs": [
    {
     "data": {
      "text/plain": [
       "defaultdict(dict,\n",
       "            {'annotation_scl_balanced': {'train_cross-entropy': array([0.35247527]),\n",
       "              'val_cross-entropy': array([1.37385221]),\n",
       "              'test_cross-entropy': array([2.01599532]),\n",
       "              'test_acc': array([0.37402597]),\n",
       "              'test_rocauc': array([0.66190611])},\n",
       "             'structure_ss3_tape_processed': {'train_cross-entropy': array([1.00965377]),\n",
       "              'val_cross-entropy': array([1.00609217]),\n",
       "              'casp12_acc': array([0.48194598]),\n",
       "              'casp12_rocauc': array([0.62021253]),\n",
       "              'cb513_acc': array([0.48816847]),\n",
       "              'cb513_rocauc': array([0.64051902]),\n",
       "              'ts115_acc': array([0.50855104]),\n",
       "              'ts115_rocauc': array([0.64197196])}})"
      ]
     },
     "execution_count": 40,
     "metadata": {},
     "output_type": "execute_result"
    }
   ],
   "source": [
    "pytorch_carp.onehot_baseline_dict"
   ]
  },
  {
   "cell_type": "code",
   "execution_count": 7,
   "metadata": {},
   "outputs": [
    {
     "data": {
      "text/html": [
       "<div>\n",
       "<style scoped>\n",
       "    .dataframe tbody tr th:only-of-type {\n",
       "        vertical-align: middle;\n",
       "    }\n",
       "\n",
       "    .dataframe tbody tr th {\n",
       "        vertical-align: top;\n",
       "    }\n",
       "\n",
       "    .dataframe thead th {\n",
       "        text-align: right;\n",
       "    }\n",
       "</style>\n",
       "<table border=\"1\" class=\"dataframe\">\n",
       "  <thead>\n",
       "    <tr style=\"text-align: right;\">\n",
       "      <th></th>\n",
       "      <th>annotation_scl_balanced_mean.carp_600k.train_cross-entropy</th>\n",
       "      <th>annotation_scl_balanced_mean.carp_600k.val_cross-entropy</th>\n",
       "      <th>annotation_scl_balanced_mean.carp_600k.test_cross-entropy</th>\n",
       "      <th>annotation_scl_balanced_mean.carp_600k.test_acc</th>\n",
       "      <th>annotation_scl_balanced_mean.carp_600k.test_rocauc</th>\n",
       "      <th>annotation_scl_balanced_mean.carp_76M.train_cross-entropy</th>\n",
       "      <th>annotation_scl_balanced_mean.carp_76M.val_cross-entropy</th>\n",
       "      <th>annotation_scl_balanced_mean.carp_76M.test_cross-entropy</th>\n",
       "      <th>annotation_scl_balanced_mean.carp_76M.test_acc</th>\n",
       "      <th>annotation_scl_balanced_mean.carp_76M.test_rocauc</th>\n",
       "      <th>...</th>\n",
       "      <th>structure_ss3_tape_processed_noflatten.carp_38M.ts115_acc</th>\n",
       "      <th>structure_ss3_tape_processed_noflatten.carp_38M.ts115_rocauc</th>\n",
       "      <th>structure_ss3_tape_processed_noflatten.carp_600k.train_cross-entropy</th>\n",
       "      <th>structure_ss3_tape_processed_noflatten.carp_600k.val_cross-entropy</th>\n",
       "      <th>structure_ss3_tape_processed_noflatten.carp_600k.casp12_acc</th>\n",
       "      <th>structure_ss3_tape_processed_noflatten.carp_600k.casp12_rocauc</th>\n",
       "      <th>structure_ss3_tape_processed_noflatten.carp_600k.cb513_acc</th>\n",
       "      <th>structure_ss3_tape_processed_noflatten.carp_600k.cb513_rocauc</th>\n",
       "      <th>structure_ss3_tape_processed_noflatten.carp_600k.ts115_acc</th>\n",
       "      <th>structure_ss3_tape_processed_noflatten.carp_600k.ts115_rocauc</th>\n",
       "    </tr>\n",
       "  </thead>\n",
       "  <tbody>\n",
       "    <tr>\n",
       "      <th>0</th>\n",
       "      <td>[1.8769907888613249, 1.7527372648841457, 1.695...</td>\n",
       "      <td>[1.9061075278690882, 1.7826685564858573, 1.727...</td>\n",
       "      <td>[1.9521732330322266, 1.9269767999649048, 1.910...</td>\n",
       "      <td>[0.2623376623376623, 0.2753246753246753, 0.316...</td>\n",
       "      <td>[0.6495972923926321, 0.6703754074198381, 0.673...</td>\n",
       "      <td>[1.71919468202089, 1.4959022904697217, 1.44056...</td>\n",
       "      <td>[1.7575252737317766, 1.534557512828282, 1.4600...</td>\n",
       "      <td>[2.0076744556427, 2.0575806498527527, 1.995046...</td>\n",
       "      <td>[0.3038961038961039, 0.35324675324675325, 0.35...</td>\n",
       "      <td>[0.6315851180553764, 0.7013079524965977, 0.710...</td>\n",
       "      <td>...</td>\n",
       "      <td>[0.46471855642337734, 0.6232830595206033, 0.69...</td>\n",
       "      <td>[0.5852224245003864, 0.7806285091979067, 0.844...</td>\n",
       "      <td>[1.0358617109795139, 0.89385723659437, 0.81611...</td>\n",
       "      <td>[1.0326182277579057, 0.8892227097561485, 0.810...</td>\n",
       "      <td>[0.45355567805953695, 0.5525082690187431, 0.57...</td>\n",
       "      <td>[0.5753563391975582, 0.6990188518563044, 0.746...</td>\n",
       "      <td>[0.44878082571349404, 0.5898309781102798, 0.64...</td>\n",
       "      <td>[0.593458300550087, 0.7515188960364423, 0.8002...</td>\n",
       "      <td>[0.4690614058712631, 0.5999192028009696, 0.655...</td>\n",
       "      <td>[0.5998865729309671, 0.7559258255636626, 0.809...</td>\n",
       "    </tr>\n",
       "  </tbody>\n",
       "</table>\n",
       "<p>1 rows × 52 columns</p>\n",
       "</div>"
      ],
      "text/plain": [
       "  annotation_scl_balanced_mean.carp_600k.train_cross-entropy  \\\n",
       "0  [1.8769907888613249, 1.7527372648841457, 1.695...           \n",
       "\n",
       "  annotation_scl_balanced_mean.carp_600k.val_cross-entropy  \\\n",
       "0  [1.9061075278690882, 1.7826685564858573, 1.727...         \n",
       "\n",
       "  annotation_scl_balanced_mean.carp_600k.test_cross-entropy  \\\n",
       "0  [1.9521732330322266, 1.9269767999649048, 1.910...          \n",
       "\n",
       "     annotation_scl_balanced_mean.carp_600k.test_acc  \\\n",
       "0  [0.2623376623376623, 0.2753246753246753, 0.316...   \n",
       "\n",
       "  annotation_scl_balanced_mean.carp_600k.test_rocauc  \\\n",
       "0  [0.6495972923926321, 0.6703754074198381, 0.673...   \n",
       "\n",
       "  annotation_scl_balanced_mean.carp_76M.train_cross-entropy  \\\n",
       "0  [1.71919468202089, 1.4959022904697217, 1.44056...          \n",
       "\n",
       "  annotation_scl_balanced_mean.carp_76M.val_cross-entropy  \\\n",
       "0  [1.7575252737317766, 1.534557512828282, 1.4600...        \n",
       "\n",
       "  annotation_scl_balanced_mean.carp_76M.test_cross-entropy  \\\n",
       "0  [2.0076744556427, 2.0575806498527527, 1.995046...         \n",
       "\n",
       "      annotation_scl_balanced_mean.carp_76M.test_acc  \\\n",
       "0  [0.3038961038961039, 0.35324675324675325, 0.35...   \n",
       "\n",
       "   annotation_scl_balanced_mean.carp_76M.test_rocauc  ...  \\\n",
       "0  [0.6315851180553764, 0.7013079524965977, 0.710...  ...   \n",
       "\n",
       "  structure_ss3_tape_processed_noflatten.carp_38M.ts115_acc  \\\n",
       "0  [0.46471855642337734, 0.6232830595206033, 0.69...          \n",
       "\n",
       "  structure_ss3_tape_processed_noflatten.carp_38M.ts115_rocauc  \\\n",
       "0  [0.5852224245003864, 0.7806285091979067, 0.844...             \n",
       "\n",
       "  structure_ss3_tape_processed_noflatten.carp_600k.train_cross-entropy  \\\n",
       "0  [1.0358617109795139, 0.89385723659437, 0.81611...                     \n",
       "\n",
       "  structure_ss3_tape_processed_noflatten.carp_600k.val_cross-entropy  \\\n",
       "0  [1.0326182277579057, 0.8892227097561485, 0.810...                   \n",
       "\n",
       "  structure_ss3_tape_processed_noflatten.carp_600k.casp12_acc  \\\n",
       "0  [0.45355567805953695, 0.5525082690187431, 0.57...            \n",
       "\n",
       "  structure_ss3_tape_processed_noflatten.carp_600k.casp12_rocauc  \\\n",
       "0  [0.5753563391975582, 0.6990188518563044, 0.746...               \n",
       "\n",
       "  structure_ss3_tape_processed_noflatten.carp_600k.cb513_acc  \\\n",
       "0  [0.44878082571349404, 0.5898309781102798, 0.64...           \n",
       "\n",
       "  structure_ss3_tape_processed_noflatten.carp_600k.cb513_rocauc  \\\n",
       "0  [0.593458300550087, 0.7515188960364423, 0.8002...              \n",
       "\n",
       "  structure_ss3_tape_processed_noflatten.carp_600k.ts115_acc  \\\n",
       "0  [0.4690614058712631, 0.5999192028009696, 0.655...           \n",
       "\n",
       "  structure_ss3_tape_processed_noflatten.carp_600k.ts115_rocauc  \n",
       "0  [0.5998865729309671, 0.7559258255636626, 0.809...             \n",
       "\n",
       "[1 rows x 52 columns]"
      ]
     },
     "execution_count": 7,
     "metadata": {},
     "output_type": "execute_result"
    }
   ],
   "source": [
    "pd.json_normalize(pytorch_carp.layer_analysis_dict)"
   ]
  },
  {
   "cell_type": "code",
   "execution_count": 17,
   "metadata": {},
   "outputs": [
    {
     "data": {
      "text/plain": [
       "array([1.87699079, 1.75273726, 1.69514218, 1.60551146, 1.53652087,\n",
       "       1.46996107, 1.40448275, 1.33026753, 1.30898465, 1.26282578,\n",
       "       1.26654993, 1.21502749, 1.19079669, 1.183124  , 1.19900847,\n",
       "       1.17011334, 1.18096242])"
      ]
     },
     "execution_count": 17,
     "metadata": {},
     "output_type": "execute_result"
    }
   ],
   "source": [
    "pytorch_carp.layer_analysis_dict[\"annotation_scl_balanced_mean\"][\"carp_600k\"][\"train_cross-entropy\"]"
   ]
  },
  {
   "cell_type": "code",
   "execution_count": 53,
   "metadata": {},
   "outputs": [
    {
     "data": {
      "text/html": [
       "<div>\n",
       "<style scoped>\n",
       "    .dataframe tbody tr th:only-of-type {\n",
       "        vertical-align: middle;\n",
       "    }\n",
       "\n",
       "    .dataframe tbody tr th {\n",
       "        vertical-align: top;\n",
       "    }\n",
       "\n",
       "    .dataframe thead th {\n",
       "        text-align: right;\n",
       "    }\n",
       "</style>\n",
       "<table border=\"1\" class=\"dataframe\">\n",
       "  <thead>\n",
       "    <tr style=\"text-align: right;\">\n",
       "      <th></th>\n",
       "      <th>annotation_scl_balanced_mean</th>\n",
       "      <th>structure_ss3_tape_processed_noflatten</th>\n",
       "    </tr>\n",
       "  </thead>\n",
       "  <tbody>\n",
       "    <tr>\n",
       "      <th>0.500</th>\n",
       "      <td>{'carp_600k': {'train_cross-entropy': [1.86432...</td>\n",
       "      <td>{'carp_76M': {'train_cross-entropy': [1.039851...</td>\n",
       "    </tr>\n",
       "    <tr>\n",
       "      <th>0.250</th>\n",
       "      <td>{'carp_600k': {'train_cross-entropy': [1.85454...</td>\n",
       "      <td>{'carp_76M': {'train_cross-entropy': [1.040206...</td>\n",
       "    </tr>\n",
       "    <tr>\n",
       "      <th>0.125</th>\n",
       "      <td>{'carp_600k': {'train_cross-entropy': [1.84984...</td>\n",
       "      <td>{'carp_76M': {'train_cross-entropy': [1.040783...</td>\n",
       "    </tr>\n",
       "  </tbody>\n",
       "</table>\n",
       "</div>"
      ],
      "text/plain": [
       "                            annotation_scl_balanced_mean  \\\n",
       "0.500  {'carp_600k': {'train_cross-entropy': [1.86432...   \n",
       "0.250  {'carp_600k': {'train_cross-entropy': [1.85454...   \n",
       "0.125  {'carp_600k': {'train_cross-entropy': [1.84984...   \n",
       "\n",
       "                  structure_ss3_tape_processed_noflatten  \n",
       "0.500  {'carp_76M': {'train_cross-entropy': [1.039851...  \n",
       "0.250  {'carp_76M': {'train_cross-entropy': [1.040206...  \n",
       "0.125  {'carp_76M': {'train_cross-entropy': [1.040783...  "
      ]
     },
     "execution_count": 53,
     "metadata": {},
     "output_type": "execute_result"
    }
   ],
   "source": [
    "pd.DataFrame.from_dict(pytorch_carp.checkpoint_analysis_dict).T"
   ]
  },
  {
   "cell_type": "code",
   "execution_count": 41,
   "metadata": {},
   "outputs": [
    {
     "data": {
      "text/html": [
       "<div>\n",
       "<style scoped>\n",
       "    .dataframe tbody tr th:only-of-type {\n",
       "        vertical-align: middle;\n",
       "    }\n",
       "\n",
       "    .dataframe tbody tr th {\n",
       "        vertical-align: top;\n",
       "    }\n",
       "\n",
       "    .dataframe thead th {\n",
       "        text-align: right;\n",
       "    }\n",
       "</style>\n",
       "<table border=\"1\" class=\"dataframe\">\n",
       "  <thead>\n",
       "    <tr style=\"text-align: right;\">\n",
       "      <th></th>\n",
       "      <th>annotation_scl_balanced</th>\n",
       "      <th>structure_ss3_tape_processed</th>\n",
       "    </tr>\n",
       "  </thead>\n",
       "  <tbody>\n",
       "    <tr>\n",
       "      <th>train_cross-entropy</th>\n",
       "      <td>[0.3524752729817441]</td>\n",
       "      <td>[1.0096537658613023]</td>\n",
       "    </tr>\n",
       "    <tr>\n",
       "      <th>val_cross-entropy</th>\n",
       "      <td>[1.373852210385459]</td>\n",
       "      <td>[1.0060921719199734]</td>\n",
       "    </tr>\n",
       "    <tr>\n",
       "      <th>test_cross-entropy</th>\n",
       "      <td>[2.0159953236579895]</td>\n",
       "      <td>NaN</td>\n",
       "    </tr>\n",
       "    <tr>\n",
       "      <th>test_acc</th>\n",
       "      <td>[0.37402597402597404]</td>\n",
       "      <td>NaN</td>\n",
       "    </tr>\n",
       "    <tr>\n",
       "      <th>test_rocauc</th>\n",
       "      <td>[0.6619061060529179]</td>\n",
       "      <td>NaN</td>\n",
       "    </tr>\n",
       "    <tr>\n",
       "      <th>casp12_acc</th>\n",
       "      <td>NaN</td>\n",
       "      <td>[0.48194597574421166]</td>\n",
       "    </tr>\n",
       "    <tr>\n",
       "      <th>casp12_rocauc</th>\n",
       "      <td>NaN</td>\n",
       "      <td>[0.6202125329637339]</td>\n",
       "    </tr>\n",
       "    <tr>\n",
       "      <th>cb513_acc</th>\n",
       "      <td>NaN</td>\n",
       "      <td>[0.48816846771958994]</td>\n",
       "    </tr>\n",
       "    <tr>\n",
       "      <th>cb513_rocauc</th>\n",
       "      <td>NaN</td>\n",
       "      <td>[0.6405190154371231]</td>\n",
       "    </tr>\n",
       "    <tr>\n",
       "      <th>ts115_acc</th>\n",
       "      <td>NaN</td>\n",
       "      <td>[0.5085510368973876]</td>\n",
       "    </tr>\n",
       "    <tr>\n",
       "      <th>ts115_rocauc</th>\n",
       "      <td>NaN</td>\n",
       "      <td>[0.6419719552524553]</td>\n",
       "    </tr>\n",
       "  </tbody>\n",
       "</table>\n",
       "</div>"
      ],
      "text/plain": [
       "                    annotation_scl_balanced structure_ss3_tape_processed\n",
       "train_cross-entropy    [0.3524752729817441]         [1.0096537658613023]\n",
       "val_cross-entropy       [1.373852210385459]         [1.0060921719199734]\n",
       "test_cross-entropy     [2.0159953236579895]                          NaN\n",
       "test_acc              [0.37402597402597404]                          NaN\n",
       "test_rocauc            [0.6619061060529179]                          NaN\n",
       "casp12_acc                              NaN        [0.48194597574421166]\n",
       "casp12_rocauc                           NaN         [0.6202125329637339]\n",
       "cb513_acc                               NaN        [0.48816846771958994]\n",
       "cb513_rocauc                            NaN         [0.6405190154371231]\n",
       "ts115_acc                               NaN         [0.5085510368973876]\n",
       "ts115_rocauc                            NaN         [0.6419719552524553]"
      ]
     },
     "execution_count": 41,
     "metadata": {},
     "output_type": "execute_result"
    }
   ],
   "source": [
    "pd.DataFrame.from_dict(pytorch_carp.onehot_baseline_dict)"
   ]
  },
  {
   "cell_type": "code",
   "execution_count": 47,
   "metadata": {},
   "outputs": [
    {
     "data": {
      "text/html": [
       "<div>\n",
       "<style scoped>\n",
       "    .dataframe tbody tr th:only-of-type {\n",
       "        vertical-align: middle;\n",
       "    }\n",
       "\n",
       "    .dataframe tbody tr th {\n",
       "        vertical-align: top;\n",
       "    }\n",
       "\n",
       "    .dataframe thead th {\n",
       "        text-align: right;\n",
       "    }\n",
       "</style>\n",
       "<table border=\"1\" class=\"dataframe\">\n",
       "  <thead>\n",
       "    <tr style=\"text-align: right;\">\n",
       "      <th></th>\n",
       "      <th>proeng_aav_one_vs_many</th>\n",
       "      <th>proeng_aav_two_vs_many</th>\n",
       "      <th>proeng_gb1_low_vs_high</th>\n",
       "      <th>proeng_gb1_two_vs_rest</th>\n",
       "      <th>proeng_gb1_sampled</th>\n",
       "      <th>proeng_thermo_mixed_split</th>\n",
       "    </tr>\n",
       "  </thead>\n",
       "  <tbody>\n",
       "    <tr>\n",
       "      <th>train_mse</th>\n",
       "      <td>[6.606138986229867]</td>\n",
       "      <td>[16.67168599756062]</td>\n",
       "      <td>[0.1770679055989013]</td>\n",
       "      <td>[2.090415559759884]</td>\n",
       "      <td>[2.0079257240201596]</td>\n",
       "      <td>[2760.1282354723244]</td>\n",
       "    </tr>\n",
       "    <tr>\n",
       "      <th>val_mse</th>\n",
       "      <td>[8.361448368900476]</td>\n",
       "      <td>[16.951583715058266]</td>\n",
       "      <td>[0.17003734650743707]</td>\n",
       "      <td>[2.0447116896087842]</td>\n",
       "      <td>[1.9726564028720246]</td>\n",
       "      <td>[2778.184268114801]</td>\n",
       "    </tr>\n",
       "    <tr>\n",
       "      <th>test_mse</th>\n",
       "      <td>[66.71775739461496]</td>\n",
       "      <td>[24.814891839771693]</td>\n",
       "      <td>[4.028476326030474]</td>\n",
       "      <td>[5.335454660039244]</td>\n",
       "      <td>[2.025209681370326]</td>\n",
       "      <td>[2838.811461721218]</td>\n",
       "    </tr>\n",
       "    <tr>\n",
       "      <th>test_ndcg</th>\n",
       "      <td>[0.960145115831988]</td>\n",
       "      <td>[0.9629290404042454]</td>\n",
       "      <td>[0.9178409557926928]</td>\n",
       "      <td>[0.8905737288756033]</td>\n",
       "      <td>[0.9342600571731149]</td>\n",
       "      <td>[0.9554623184824335]</td>\n",
       "    </tr>\n",
       "    <tr>\n",
       "      <th>test_rho</th>\n",
       "      <td>[0.1903477426748507]</td>\n",
       "      <td>[-0.0015626678198874598]</td>\n",
       "      <td>[0.32173083298452543]</td>\n",
       "      <td>[0.5428396414906184]</td>\n",
       "      <td>[0.7885047525700145]</td>\n",
       "      <td>[0.1226657473529901]</td>\n",
       "    </tr>\n",
       "  </tbody>\n",
       "</table>\n",
       "</div>"
      ],
      "text/plain": [
       "          proeng_aav_one_vs_many    proeng_aav_two_vs_many  \\\n",
       "train_mse    [6.606138986229867]       [16.67168599756062]   \n",
       "val_mse      [8.361448368900476]      [16.951583715058266]   \n",
       "test_mse     [66.71775739461496]      [24.814891839771693]   \n",
       "test_ndcg    [0.960145115831988]      [0.9629290404042454]   \n",
       "test_rho    [0.1903477426748507]  [-0.0015626678198874598]   \n",
       "\n",
       "          proeng_gb1_low_vs_high proeng_gb1_two_vs_rest    proeng_gb1_sampled  \\\n",
       "train_mse   [0.1770679055989013]    [2.090415559759884]  [2.0079257240201596]   \n",
       "val_mse    [0.17003734650743707]   [2.0447116896087842]  [1.9726564028720246]   \n",
       "test_mse     [4.028476326030474]    [5.335454660039244]   [2.025209681370326]   \n",
       "test_ndcg   [0.9178409557926928]   [0.8905737288756033]  [0.9342600571731149]   \n",
       "test_rho   [0.32173083298452543]   [0.5428396414906184]  [0.7885047525700145]   \n",
       "\n",
       "          proeng_thermo_mixed_split  \n",
       "train_mse      [2760.1282354723244]  \n",
       "val_mse         [2778.184268114801]  \n",
       "test_mse        [2838.811461721218]  \n",
       "test_ndcg      [0.9554623184824335]  \n",
       "test_rho       [0.1226657473529901]  "
      ]
     },
     "execution_count": 47,
     "metadata": {},
     "output_type": "execute_result"
    }
   ],
   "source": [
    "pd.DataFrame.from_dict(sklearn_carp.onehot_baseline_dict)"
   ]
  },
  {
   "cell_type": "code",
   "execution_count": 8,
   "metadata": {},
   "outputs": [
    {
     "data": {
      "text/html": [
       "<div>\n",
       "<style scoped>\n",
       "    .dataframe tbody tr th:only-of-type {\n",
       "        vertical-align: middle;\n",
       "    }\n",
       "\n",
       "    .dataframe tbody tr th {\n",
       "        vertical-align: top;\n",
       "    }\n",
       "\n",
       "    .dataframe thead th {\n",
       "        text-align: right;\n",
       "    }\n",
       "</style>\n",
       "<table border=\"1\" class=\"dataframe\">\n",
       "  <thead>\n",
       "    <tr style=\"text-align: right;\">\n",
       "      <th></th>\n",
       "      <th>annotation_scl_balanced_mean</th>\n",
       "      <th>structure_ss3_tape_processed_noflatten</th>\n",
       "    </tr>\n",
       "  </thead>\n",
       "  <tbody>\n",
       "    <tr>\n",
       "      <th>carp_600k</th>\n",
       "      <td>{'train_cross-entropy': [1.8769907888613249, 1...</td>\n",
       "      <td>{'train_cross-entropy': [1.0358617109795139, 0...</td>\n",
       "    </tr>\n",
       "    <tr>\n",
       "      <th>carp_76M</th>\n",
       "      <td>{'train_cross-entropy': [1.71919468202089, 1.4...</td>\n",
       "      <td>{'train_cross-entropy': [1.0396245995612994, 0...</td>\n",
       "    </tr>\n",
       "    <tr>\n",
       "      <th>carp_38M</th>\n",
       "      <td>{'train_cross-entropy': [1.7385239789360447, 1...</td>\n",
       "      <td>{'train_cross-entropy': [1.0429124097301536, 0...</td>\n",
       "    </tr>\n",
       "    <tr>\n",
       "      <th>carp_640M</th>\n",
       "      <td>{'train_cross-entropy': [1.7193063999477185, 1...</td>\n",
       "      <td>{'train_cross-entropy': [1.0420560608171436, 0...</td>\n",
       "    </tr>\n",
       "  </tbody>\n",
       "</table>\n",
       "</div>"
      ],
      "text/plain": [
       "                                annotation_scl_balanced_mean  \\\n",
       "carp_600k  {'train_cross-entropy': [1.8769907888613249, 1...   \n",
       "carp_76M   {'train_cross-entropy': [1.71919468202089, 1.4...   \n",
       "carp_38M   {'train_cross-entropy': [1.7385239789360447, 1...   \n",
       "carp_640M  {'train_cross-entropy': [1.7193063999477185, 1...   \n",
       "\n",
       "                      structure_ss3_tape_processed_noflatten  \n",
       "carp_600k  {'train_cross-entropy': [1.0358617109795139, 0...  \n",
       "carp_76M   {'train_cross-entropy': [1.0396245995612994, 0...  \n",
       "carp_38M   {'train_cross-entropy': [1.0429124097301536, 0...  \n",
       "carp_640M  {'train_cross-entropy': [1.0420560608171436, 0...  "
      ]
     },
     "execution_count": 8,
     "metadata": {},
     "output_type": "execute_result"
    }
   ],
   "source": [
    "pd.DataFrame.from_dict(pytorch_carp.layer_analysis_dict)"
   ]
  },
  {
   "cell_type": "code",
   "execution_count": 20,
   "metadata": {},
   "outputs": [
    {
     "data": {
      "text/html": [
       "<div>\n",
       "<style scoped>\n",
       "    .dataframe tbody tr th:only-of-type {\n",
       "        vertical-align: middle;\n",
       "    }\n",
       "\n",
       "    .dataframe tbody tr th {\n",
       "        vertical-align: top;\n",
       "    }\n",
       "\n",
       "    .dataframe thead th {\n",
       "        text-align: right;\n",
       "    }\n",
       "</style>\n",
       "<table border=\"1\" class=\"dataframe\">\n",
       "  <thead>\n",
       "    <tr style=\"text-align: right;\">\n",
       "      <th></th>\n",
       "      <th>train_cross-entropy</th>\n",
       "      <th>val_cross-entropy</th>\n",
       "      <th>test_cross-entropy</th>\n",
       "      <th>test_acc</th>\n",
       "      <th>test_rocauc</th>\n",
       "    </tr>\n",
       "  </thead>\n",
       "  <tbody>\n",
       "    <tr>\n",
       "      <th>0</th>\n",
       "      <td>[1.8769907888613249, 1.7527372648841457, 1.695...</td>\n",
       "      <td>[1.9061075278690882, 1.7826685564858573, 1.727...</td>\n",
       "      <td>[1.9521732330322266, 1.9269767999649048, 1.910...</td>\n",
       "      <td>[0.2623376623376623, 0.2753246753246753, 0.316...</td>\n",
       "      <td>[0.6495972923926321, 0.6703754074198381, 0.673...</td>\n",
       "    </tr>\n",
       "    <tr>\n",
       "      <th>1</th>\n",
       "      <td>[1.71919468202089, 1.4959022904697217, 1.44056...</td>\n",
       "      <td>[1.7575252737317766, 1.534557512828282, 1.4600...</td>\n",
       "      <td>[2.0076744556427, 2.0575806498527527, 1.995046...</td>\n",
       "      <td>[0.3038961038961039, 0.35324675324675325, 0.35...</td>\n",
       "      <td>[0.6315851180553764, 0.7013079524965977, 0.710...</td>\n",
       "    </tr>\n",
       "    <tr>\n",
       "      <th>2</th>\n",
       "      <td>[1.7385239789360447, 1.4665500490288985, 1.395...</td>\n",
       "      <td>[1.7737009525299072, 1.5041547673089164, 1.417...</td>\n",
       "      <td>[2.035592496395111, 2.0621028542518616, 2.0096...</td>\n",
       "      <td>[0.2857142857142857, 0.36883116883116884, 0.37...</td>\n",
       "      <td>[0.6189812048918136, 0.7025105662414319, 0.713...</td>\n",
       "    </tr>\n",
       "    <tr>\n",
       "      <th>3</th>\n",
       "      <td>[1.7193063999477185, 1.5111642197558754, 1.437...</td>\n",
       "      <td>[1.7644925117492676, 1.5379446830068315, 1.462...</td>\n",
       "      <td>[2.0392618775367737, 2.05305552482605, 2.01585...</td>\n",
       "      <td>[0.2961038961038961, 0.34805194805194806, 0.36...</td>\n",
       "      <td>[0.6273352139525914, 0.7005424935091661, 0.706...</td>\n",
       "    </tr>\n",
       "  </tbody>\n",
       "</table>\n",
       "</div>"
      ],
      "text/plain": [
       "                                 train_cross-entropy  \\\n",
       "0  [1.8769907888613249, 1.7527372648841457, 1.695...   \n",
       "1  [1.71919468202089, 1.4959022904697217, 1.44056...   \n",
       "2  [1.7385239789360447, 1.4665500490288985, 1.395...   \n",
       "3  [1.7193063999477185, 1.5111642197558754, 1.437...   \n",
       "\n",
       "                                   val_cross-entropy  \\\n",
       "0  [1.9061075278690882, 1.7826685564858573, 1.727...   \n",
       "1  [1.7575252737317766, 1.534557512828282, 1.4600...   \n",
       "2  [1.7737009525299072, 1.5041547673089164, 1.417...   \n",
       "3  [1.7644925117492676, 1.5379446830068315, 1.462...   \n",
       "\n",
       "                                  test_cross-entropy  \\\n",
       "0  [1.9521732330322266, 1.9269767999649048, 1.910...   \n",
       "1  [2.0076744556427, 2.0575806498527527, 1.995046...   \n",
       "2  [2.035592496395111, 2.0621028542518616, 2.0096...   \n",
       "3  [2.0392618775367737, 2.05305552482605, 2.01585...   \n",
       "\n",
       "                                            test_acc  \\\n",
       "0  [0.2623376623376623, 0.2753246753246753, 0.316...   \n",
       "1  [0.3038961038961039, 0.35324675324675325, 0.35...   \n",
       "2  [0.2857142857142857, 0.36883116883116884, 0.37...   \n",
       "3  [0.2961038961038961, 0.34805194805194806, 0.36...   \n",
       "\n",
       "                                         test_rocauc  \n",
       "0  [0.6495972923926321, 0.6703754074198381, 0.673...  \n",
       "1  [0.6315851180553764, 0.7013079524965977, 0.710...  \n",
       "2  [0.6189812048918136, 0.7025105662414319, 0.713...  \n",
       "3  [0.6273352139525914, 0.7005424935091661, 0.706...  "
      ]
     },
     "execution_count": 20,
     "metadata": {},
     "output_type": "execute_result"
    }
   ],
   "source": [
    "pd.json_normalize(pd.DataFrame.from_dict(pytorch_carp.layer_analysis_dict)['annotation_scl_balanced_mean'])"
   ]
  },
  {
   "cell_type": "code",
   "execution_count": null,
   "metadata": {},
   "outputs": [],
   "source": [
    "pd.json_normalize(pd.DataFrame.from_dict(pytorch_carp.layer_analysis_dict)['annotation_scl_balanced_mean'])"
   ]
  },
  {
   "cell_type": "code",
   "execution_count": 9,
   "metadata": {},
   "outputs": [
    {
     "name": "stdout",
     "output_type": "stream",
     "text": [
      "Plotting collage_name proeng_aav_one_vs_many_mean...\n",
      "Plotting collage_name proeng_aav_two_vs_many_mean...\n",
      "Plotting collage_name proeng_gb1_low_vs_high_mean...\n",
      "Plotting collage_name proeng_gb1_two_vs_rest_mean...\n",
      "Plotting collage_name proeng_gb1_sampled_mean...\n",
      "Plotting collage_name proeng_thermo_mixed_split_mean...\n"
     ]
    }
   ],
   "source": [
    "sklearn_carp = LayerLoss(\n",
    "    input_path=\"results/sklearn-carp\",\n",
    "    output_path=\"results/sklearn-carp_layer\"\n",
    ")"
   ]
  },
  {
   "cell_type": "code",
   "execution_count": 21,
   "metadata": {},
   "outputs": [
    {
     "data": {
      "text/html": [
       "<div>\n",
       "<style scoped>\n",
       "    .dataframe tbody tr th:only-of-type {\n",
       "        vertical-align: middle;\n",
       "    }\n",
       "\n",
       "    .dataframe tbody tr th {\n",
       "        vertical-align: top;\n",
       "    }\n",
       "\n",
       "    .dataframe thead th {\n",
       "        text-align: right;\n",
       "    }\n",
       "</style>\n",
       "<table border=\"1\" class=\"dataframe\">\n",
       "  <thead>\n",
       "    <tr style=\"text-align: right;\">\n",
       "      <th></th>\n",
       "      <th>train_mse</th>\n",
       "      <th>val_mse</th>\n",
       "      <th>test_mse</th>\n",
       "      <th>test_ndcg</th>\n",
       "      <th>test_rho</th>\n",
       "    </tr>\n",
       "  </thead>\n",
       "  <tbody>\n",
       "    <tr>\n",
       "      <th>0</th>\n",
       "      <td>[9.59526940116963, 6.894266263718891, 6.377686...</td>\n",
       "      <td>[11.18654191999164, 8.622644328345816, 8.33617...</td>\n",
       "      <td>[13.582533778622887, 53.712009437112215, 74.04...</td>\n",
       "      <td>[0.9704321391244177, 0.9629028051372428, 0.962...</td>\n",
       "      <td>[0.19544242309285326, 0.3282696048440418, 0.31...</td>\n",
       "    </tr>\n",
       "    <tr>\n",
       "      <th>1</th>\n",
       "      <td>[9.582026132905252, 6.934608975116892, 6.40550...</td>\n",
       "      <td>[11.20643614220332, 8.899376014238195, 8.20574...</td>\n",
       "      <td>[13.697288684643041, 48.961780681241656, 69.96...</td>\n",
       "      <td>[0.9703413636783854, 0.9633589617754629, 0.962...</td>\n",
       "      <td>[0.2116112794657769, 0.3396909252934983, 0.320...</td>\n",
       "    </tr>\n",
       "    <tr>\n",
       "      <th>2</th>\n",
       "      <td>[9.468360495727067, 8.190111410830674, 7.61644...</td>\n",
       "      <td>[10.9554842436175, 9.782055506244191, 9.209345...</td>\n",
       "      <td>[14.20679802985108, 24.53599377907496, 23.3161...</td>\n",
       "      <td>[0.9698271299324172, 0.96692411292824, 0.96943...</td>\n",
       "      <td>[0.23682032708767906, 0.3808350241317865, 0.43...</td>\n",
       "    </tr>\n",
       "    <tr>\n",
       "      <th>3</th>\n",
       "      <td>[9.574777226192223, 6.690699098364959, 6.35389...</td>\n",
       "      <td>[11.175331793579538, 8.655740728556914, 8.5822...</td>\n",
       "      <td>[13.968634660845268, 65.68949789195031, 78.864...</td>\n",
       "      <td>[0.969236054842432, 0.9626272649406287, 0.9625...</td>\n",
       "      <td>[0.18915018144628126, 0.3242017861013232, 0.31...</td>\n",
       "    </tr>\n",
       "  </tbody>\n",
       "</table>\n",
       "</div>"
      ],
      "text/plain": [
       "                                           train_mse  \\\n",
       "0  [9.59526940116963, 6.894266263718891, 6.377686...   \n",
       "1  [9.582026132905252, 6.934608975116892, 6.40550...   \n",
       "2  [9.468360495727067, 8.190111410830674, 7.61644...   \n",
       "3  [9.574777226192223, 6.690699098364959, 6.35389...   \n",
       "\n",
       "                                             val_mse  \\\n",
       "0  [11.18654191999164, 8.622644328345816, 8.33617...   \n",
       "1  [11.20643614220332, 8.899376014238195, 8.20574...   \n",
       "2  [10.9554842436175, 9.782055506244191, 9.209345...   \n",
       "3  [11.175331793579538, 8.655740728556914, 8.5822...   \n",
       "\n",
       "                                            test_mse  \\\n",
       "0  [13.582533778622887, 53.712009437112215, 74.04...   \n",
       "1  [13.697288684643041, 48.961780681241656, 69.96...   \n",
       "2  [14.20679802985108, 24.53599377907496, 23.3161...   \n",
       "3  [13.968634660845268, 65.68949789195031, 78.864...   \n",
       "\n",
       "                                           test_ndcg  \\\n",
       "0  [0.9704321391244177, 0.9629028051372428, 0.962...   \n",
       "1  [0.9703413636783854, 0.9633589617754629, 0.962...   \n",
       "2  [0.9698271299324172, 0.96692411292824, 0.96943...   \n",
       "3  [0.969236054842432, 0.9626272649406287, 0.9625...   \n",
       "\n",
       "                                            test_rho  \n",
       "0  [0.19544242309285326, 0.3282696048440418, 0.31...  \n",
       "1  [0.2116112794657769, 0.3396909252934983, 0.320...  \n",
       "2  [0.23682032708767906, 0.3808350241317865, 0.43...  \n",
       "3  [0.18915018144628126, 0.3242017861013232, 0.31...  "
      ]
     },
     "execution_count": 21,
     "metadata": {},
     "output_type": "execute_result"
    }
   ],
   "source": [
    "pd.json_normalize(pd.DataFrame.from_dict(sklearn_carp.layer_analysis_dict)['proeng_aav_one_vs_many_mean'])"
   ]
  },
  {
   "cell_type": "code",
   "execution_count": 18,
   "metadata": {},
   "outputs": [
    {
     "data": {
      "text/html": [
       "<div>\n",
       "<style scoped>\n",
       "    .dataframe tbody tr th:only-of-type {\n",
       "        vertical-align: middle;\n",
       "    }\n",
       "\n",
       "    .dataframe tbody tr th {\n",
       "        vertical-align: top;\n",
       "    }\n",
       "\n",
       "    .dataframe thead th {\n",
       "        text-align: right;\n",
       "    }\n",
       "</style>\n",
       "<table border=\"1\" class=\"dataframe\">\n",
       "  <thead>\n",
       "    <tr style=\"text-align: right;\">\n",
       "      <th></th>\n",
       "      <th>proeng_aav_one_vs_many_mean</th>\n",
       "      <th>proeng_aav_two_vs_many_mean</th>\n",
       "      <th>proeng_gb1_low_vs_high_mean</th>\n",
       "      <th>proeng_gb1_two_vs_rest_mean</th>\n",
       "      <th>proeng_gb1_sampled_mean</th>\n",
       "      <th>proeng_thermo_mixed_split_mean</th>\n",
       "    </tr>\n",
       "  </thead>\n",
       "  <tbody>\n",
       "    <tr>\n",
       "      <th>carp_640M</th>\n",
       "      <td>{'train_mse': [9.59526940116963, 6.89426626371...</td>\n",
       "      <td>{'train_mse': [20.068343175878088, 16.92011420...</td>\n",
       "      <td>{'train_mse': [0.2772588428285639, 0.408520416...</td>\n",
       "      <td>{'train_mse': [2.725838148323684, 1.9707604225...</td>\n",
       "      <td>{'train_mse': [2.5043217133381526, 1.876857337...</td>\n",
       "      <td>{'train_mse': [2772.749931574079, 2768.7387720...</td>\n",
       "    </tr>\n",
       "    <tr>\n",
       "      <th>carp_76M</th>\n",
       "      <td>{'train_mse': [9.582026132905252, 6.9346089751...</td>\n",
       "      <td>{'train_mse': [19.986434661076075, 16.91308441...</td>\n",
       "      <td>{'train_mse': [0.2853286156211369, 0.411029697...</td>\n",
       "      <td>{'train_mse': [2.7027404465889115, 1.969533968...</td>\n",
       "      <td>{'train_mse': [2.4793497727220144, 1.871709821...</td>\n",
       "      <td>{'train_mse': [2772.772707139839, 2768.7354513...</td>\n",
       "    </tr>\n",
       "    <tr>\n",
       "      <th>carp_600k</th>\n",
       "      <td>{'train_mse': [9.468360495727067, 8.1901114108...</td>\n",
       "      <td>{'train_mse': [19.808120463435134, 17.93898064...</td>\n",
       "      <td>{'train_mse': [0.280335127217654, 0.3869098418...</td>\n",
       "      <td>{'train_mse': [2.674702299445244, 2.1214922598...</td>\n",
       "      <td>{'train_mse': [2.4329909760979573, 2.039620513...</td>\n",
       "      <td>{'train_mse': [2772.624627474502, 2770.3332577...</td>\n",
       "    </tr>\n",
       "    <tr>\n",
       "      <th>carp_38M</th>\n",
       "      <td>{'train_mse': [9.574777226192223, 6.6906990983...</td>\n",
       "      <td>{'train_mse': [20.04262815315973, 16.802693836...</td>\n",
       "      <td>{'train_mse': [0.27452013074623355, 0.40600096...</td>\n",
       "      <td>{'train_mse': [2.7247057205531227, 1.959347953...</td>\n",
       "      <td>{'train_mse': [2.507311420931766, 1.8454394133...</td>\n",
       "      <td>{'train_mse': [2772.7840732976197, 2768.293532...</td>\n",
       "    </tr>\n",
       "  </tbody>\n",
       "</table>\n",
       "</div>"
      ],
      "text/plain": [
       "                                 proeng_aav_one_vs_many_mean  \\\n",
       "carp_640M  {'train_mse': [9.59526940116963, 6.89426626371...   \n",
       "carp_76M   {'train_mse': [9.582026132905252, 6.9346089751...   \n",
       "carp_600k  {'train_mse': [9.468360495727067, 8.1901114108...   \n",
       "carp_38M   {'train_mse': [9.574777226192223, 6.6906990983...   \n",
       "\n",
       "                                 proeng_aav_two_vs_many_mean  \\\n",
       "carp_640M  {'train_mse': [20.068343175878088, 16.92011420...   \n",
       "carp_76M   {'train_mse': [19.986434661076075, 16.91308441...   \n",
       "carp_600k  {'train_mse': [19.808120463435134, 17.93898064...   \n",
       "carp_38M   {'train_mse': [20.04262815315973, 16.802693836...   \n",
       "\n",
       "                                 proeng_gb1_low_vs_high_mean  \\\n",
       "carp_640M  {'train_mse': [0.2772588428285639, 0.408520416...   \n",
       "carp_76M   {'train_mse': [0.2853286156211369, 0.411029697...   \n",
       "carp_600k  {'train_mse': [0.280335127217654, 0.3869098418...   \n",
       "carp_38M   {'train_mse': [0.27452013074623355, 0.40600096...   \n",
       "\n",
       "                                 proeng_gb1_two_vs_rest_mean  \\\n",
       "carp_640M  {'train_mse': [2.725838148323684, 1.9707604225...   \n",
       "carp_76M   {'train_mse': [2.7027404465889115, 1.969533968...   \n",
       "carp_600k  {'train_mse': [2.674702299445244, 2.1214922598...   \n",
       "carp_38M   {'train_mse': [2.7247057205531227, 1.959347953...   \n",
       "\n",
       "                                     proeng_gb1_sampled_mean  \\\n",
       "carp_640M  {'train_mse': [2.5043217133381526, 1.876857337...   \n",
       "carp_76M   {'train_mse': [2.4793497727220144, 1.871709821...   \n",
       "carp_600k  {'train_mse': [2.4329909760979573, 2.039620513...   \n",
       "carp_38M   {'train_mse': [2.507311420931766, 1.8454394133...   \n",
       "\n",
       "                              proeng_thermo_mixed_split_mean  \n",
       "carp_640M  {'train_mse': [2772.749931574079, 2768.7387720...  \n",
       "carp_76M   {'train_mse': [2772.772707139839, 2768.7354513...  \n",
       "carp_600k  {'train_mse': [2772.624627474502, 2770.3332577...  \n",
       "carp_38M   {'train_mse': [2772.7840732976197, 2768.293532...  "
      ]
     },
     "execution_count": 18,
     "metadata": {},
     "output_type": "execute_result"
    }
   ],
   "source": [
    "pd.DataFrame.from_dict(sklearn_carp.layer_analysis_dict)"
   ]
  },
  {
   "cell_type": "code",
   "execution_count": 28,
   "metadata": {},
   "outputs": [],
   "source": [
    "pd.merge(\n",
    "    pd.DataFrame.from_dict(sklearn_carp.layer_analysis_dict),\n",
    "    pd.DataFrame.from_dict(pytorch_carp.layer_analysis_dict),\n",
    "    left_index=True,\n",
    "    right_index=True,\n",
    ").to_csv(\"results/summary/all_carp.csv\")"
   ]
  },
  {
   "cell_type": "code",
   "execution_count": 29,
   "metadata": {},
   "outputs": [],
   "source": [
    "pd.merge(\n",
    "    pd.DataFrame.from_dict(sklearn_carp.rand_layer_analysis_dict),\n",
    "    pd.DataFrame.from_dict(pytorch_carp.rand_layer_analysis_dict),\n",
    "    left_index=True,\n",
    "    right_index=True,\n",
    ").to_csv(\"results/summary/all_carp_rand.csv\")"
   ]
  },
  {
   "cell_type": "code",
   "execution_count": 30,
   "metadata": {},
   "outputs": [],
   "source": [
    "pd.merge(\n",
    "    pd.DataFrame.from_dict(sklearn_carp.stat_layer_analysis_dict),\n",
    "    pd.DataFrame.from_dict(pytorch_carp.stat_layer_analysis_dict),\n",
    "    left_index=True,\n",
    "    right_index=True,\n",
    ").to_csv(\"results/summary/all_carp_stat.csv\")"
   ]
  },
  {
   "cell_type": "code",
   "execution_count": 42,
   "metadata": {},
   "outputs": [],
   "source": [
    "pd.merge(\n",
    "    pd.DataFrame.from_dict(sklearn_carp.onehot_baseline_dict),\n",
    "    pd.DataFrame.from_dict(pytorch_carp.onehot_baseline_dict),\n",
    "    left_index=True,\n",
    "    right_index=True,\n",
    ").to_csv(\"results/summary/all_carp_oh.csv\")"
   ]
  },
  {
   "cell_type": "code",
   "execution_count": 50,
   "metadata": {},
   "outputs": [],
   "source": [
    "pd.DataFrame.from_dict(sklearn_carp.onehot_baseline_dict).merge(\n",
    "    pd.DataFrame.from_dict(pytorch_carp.onehot_baseline_dict),\n",
    "    how=\"outer\",\n",
    "    left_index=True,\n",
    "    right_index=True,\n",
    ").fillna(False).to_csv(\"results/summary/all_carp_oh.csv\")"
   ]
  },
  {
   "cell_type": "code",
   "execution_count": 54,
   "metadata": {},
   "outputs": [],
   "source": [
    "pd.merge(\n",
    "    pd.DataFrame.from_dict(sklearn_carp.checkpoint_analysis_dict).T,\n",
    "    pd.DataFrame.from_dict(pytorch_carp.checkpoint_analysis_dict).T,\n",
    "    left_index=True,\n",
    "    right_index=True,\n",
    ").to_csv(\"results/summary/all_carp_cp.csv\")"
   ]
  },
  {
   "cell_type": "code",
   "execution_count": 34,
   "metadata": {},
   "outputs": [
    {
     "name": "stdout",
     "output_type": "stream",
     "text": [
      "Plotting collage_name structure_ss3_tape_processed_noflatten...\n",
      "Plotting collage_name annotation_scl_balanced_mean...\n"
     ]
    }
   ],
   "source": [
    "pytorch_esm = LayerLoss(\n",
    "    input_path=\"results/pytorch-esm\",\n",
    "    output_path=\"results/pytorch-esm_layer\",\n",
    "    add_checkpoint=False\n",
    ")"
   ]
  },
  {
   "cell_type": "code",
   "execution_count": 35,
   "metadata": {},
   "outputs": [
    {
     "name": "stdout",
     "output_type": "stream",
     "text": [
      "Plotting collage_name proeng_thermo_mixed_split_mean...\n",
      "Plotting collage_name proeng_gb1_two_vs_rest_mean...\n",
      "Plotting collage_name proeng_gb1_low_vs_high_mean...\n",
      "Plotting collage_name proeng_gb1_sampled_mean...\n",
      "Plotting collage_name proeng_aav_one_vs_many_mean...\n",
      "Plotting collage_name proeng_aav_two_vs_many_mean...\n"
     ]
    }
   ],
   "source": [
    "sklearn_esm = LayerLoss(\n",
    "    input_path=\"results/sklearn-esm\",\n",
    "    output_path=\"results/sklearn-esm_layer\",\n",
    "    add_checkpoint=False\n",
    ")"
   ]
  },
  {
   "cell_type": "code",
   "execution_count": 36,
   "metadata": {},
   "outputs": [],
   "source": [
    "pd.merge(\n",
    "    pd.DataFrame.from_dict(sklearn_esm.layer_analysis_dict),\n",
    "    pd.DataFrame.from_dict(pytorch_esm.layer_analysis_dict),\n",
    "    left_index=True,\n",
    "    right_index=True,\n",
    ").to_csv(\"results/summary/all_esm.csv\")"
   ]
  },
  {
   "cell_type": "code",
   "execution_count": 37,
   "metadata": {},
   "outputs": [],
   "source": [
    "pd.merge(\n",
    "    pd.DataFrame.from_dict(sklearn_esm.rand_layer_analysis_dict),\n",
    "    pd.DataFrame.from_dict(pytorch_esm.rand_layer_analysis_dict),\n",
    "    left_index=True,\n",
    "    right_index=True,\n",
    ").to_csv(\"results/summary/all_esm_rand.csv\")"
   ]
  },
  {
   "cell_type": "code",
   "execution_count": 38,
   "metadata": {},
   "outputs": [],
   "source": [
    "pd.merge(\n",
    "    pd.DataFrame.from_dict(sklearn_esm.stat_layer_analysis_dict),\n",
    "    pd.DataFrame.from_dict(pytorch_esm.stat_layer_analysis_dict),\n",
    "    left_index=True,\n",
    "    right_index=True,\n",
    ").to_csv(\"results/summary/all_esm_stat.csv\")"
   ]
  },
  {
   "cell_type": "code",
   "execution_count": 51,
   "metadata": {},
   "outputs": [],
   "source": [
    "pd.DataFrame.from_dict(sklearn_esm.onehot_baseline_dict).merge(\n",
    "    pd.DataFrame.from_dict(pytorch_esm.onehot_baseline_dict),\n",
    "    how=\"outer\",\n",
    "    left_index=True,\n",
    "    right_index=True,\n",
    ").fillna(False).to_csv(\"results/summary/all_esm_oh.csv\")"
   ]
  },
  {
   "cell_type": "code",
   "execution_count": null,
   "metadata": {},
   "outputs": [],
   "source": [
    "class LayerLoss2CSV(LayerLoss):\n",
    "    \"\"\"A class for reorganizing layer by layer results into one csv\"\"\"\n",
    "\n",
    "    def __init__(\n",
    "        self,\n",
    "        add_checkpoint: bool = True,\n",
    "        checkpoint_list: list = [0.5, 0.25, 0.125],\n",
    "        input_path: str = \"results/sklearn\",\n",
    "        output_path: str = \"results/sklearn_layer\",\n",
    "        metric_dict: dict[list[str]] = {\n",
    "            \"proeng\": [\"train_mse\", \"val_mse\", \"test_mse\", \"test_ndcg\", \"test_rho\"],\n",
    "            \"annotation\": [\n",
    "                \"train_cross-entropy\",\n",
    "                \"val_cross-entropy\",\n",
    "                \"test_cross-entropy\",\n",
    "                \"test_acc\",\n",
    "                \"test_rocauc\",\n",
    "            ],\n",
    "            \"structure\": [\n",
    "                \"train_cross-entropy\",\n",
    "                \"val_cross-entropy\",\n",
    "                \"casp12_acc\",\n",
    "                \"casp12_rocauc\",\n",
    "                \"cb513_acc\",\n",
    "                \"cb513_rocauc\",\n",
    "                \"ts115_acc\",\n",
    "                \"ts115_rocauc\",\n",
    "            ],\n",
    "        },\n",
    "    ):\n",
    "        \"\"\"\n",
    "        Args:\n",
    "        - add_checkpoint: bool = True, if add checkpoint for carp\n",
    "        - checkpoint_list: list = [0.5, 0.25, 0.125],\n",
    "        - input_path: str = \"results/sklearn\",\n",
    "        - output_path: str = \"results/sklearn_layer\"\n",
    "        - metric_dict: list[str] = [\"train_mse\", \"test_ndcg\", \"test_rho\"]\n",
    "        \"\"\"\n"
   ]
  }
 ],
 "metadata": {
  "kernelspec": {
   "display_name": "protran",
   "language": "python",
   "name": "python3"
  },
  "language_info": {
   "codemirror_mode": {
    "name": "ipython",
    "version": 3
   },
   "file_extension": ".py",
   "mimetype": "text/x-python",
   "name": "python",
   "nbconvert_exporter": "python",
   "pygments_lexer": "ipython3",
   "version": "3.9.10"
  },
  "orig_nbformat": 4
 },
 "nbformat": 4,
 "nbformat_minor": 2
}
